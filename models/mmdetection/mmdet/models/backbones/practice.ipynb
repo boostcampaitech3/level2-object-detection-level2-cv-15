{
 "cells": [
  {
   "cell_type": "code",
   "execution_count": 1,
   "id": "449aa28e-c7c7-4d12-a87b-04c269fd4c81",
   "metadata": {},
   "outputs": [],
   "source": [
    "from mmdet.models import Darknet\n",
    "from mmdet.models import HRNet\n",
    "from mmdet.models import PyramidVisionTransformer, PyramidVisionTransformerV2\n",
    "from mmdet.models import ResNet\n",
    "from mmdet.models import SwinTransformer\n",
    "from mmdet.models import EfficientNet\n",
    "import torch"
   ]
  },
  {
   "cell_type": "code",
   "execution_count": 2,
   "id": "0e1716c0-04ce-4215-be6f-6ae63bd35684",
   "metadata": {},
   "outputs": [
    {
     "name": "stdout",
     "output_type": "stream",
     "text": [
      "(1, 32, 416, 416)\n",
      "(1, 64, 208, 208)\n",
      "(1, 128, 104, 104)\n",
      "(1, 256, 52, 52)\n",
      "(1, 512, 26, 26)\n",
      "(1, 1024, 13, 13)\n"
     ]
    }
   ],
   "source": [
    "darknet = Darknet(depth = 53, out_indices = (0,1,2,3,4,5))\n",
    "darknet.eval()\n",
    "inputs = torch.rand(1,3,416,416)\n",
    "level_outputs = darknet.forward(inputs)\n",
    "for level_out in level_outputs:\n",
    "    print(tuple(level_out.shape))"
   ]
  },
  {
   "cell_type": "code",
   "execution_count": 3,
   "id": "ca21065b-42f1-48e6-84e2-8084e607ae2e",
   "metadata": {},
   "outputs": [
    {
     "name": "stdout",
     "output_type": "stream",
     "text": [
      "(1, 32, 8, 8)\n",
      "(1, 64, 4, 4)\n",
      "(1, 128, 2, 2)\n",
      "(1, 256, 1, 1)\n"
     ]
    }
   ],
   "source": [
    "extra = dict(\n",
    "             stage1=dict(\n",
    "                 num_modules=1,\n",
    "                 num_branches=1,\n",
    "                 block='BOTTLENECK',\n",
    "                 num_blocks=(4, ),\n",
    "                 num_channels=(64, )),\n",
    "             stage2=dict(\n",
    "                 num_modules=1,\n",
    "                 num_branches=2,\n",
    "                 block='BASIC',\n",
    "                 num_blocks=(4, 4),\n",
    "                 num_channels=(32, 64)),\n",
    "             stage3=dict(\n",
    "                 num_modules=4,\n",
    "                 num_branches=3,\n",
    "                 block='BASIC',\n",
    "                 num_blocks=(4, 4, 4),\n",
    "                 num_channels=(32, 64, 128)),\n",
    "             stage4=dict(\n",
    "                 num_modules=3,\n",
    "                 num_branches=4,\n",
    "                 block='BASIC',\n",
    "                 num_blocks=(4, 4, 4, 4),\n",
    "                 num_channels=(32, 64, 128, 256)))\n",
    "\n",
    "hrnet = HRNet(in_channels = 3, extra = extra)\n",
    "hrnet.eval()\n",
    "inputs = torch.rand(1,3,32,32)\n",
    "level_outputs = hrnet.forward(inputs)\n",
    "for level_out in level_outputs:\n",
    "    print(tuple(level_out.shape))"
   ]
  },
  {
   "cell_type": "code",
   "execution_count": 5,
   "id": "18648f65-98be-467b-8bcd-ab1971aa39ff",
   "metadata": {},
   "outputs": [
    {
     "name": "stdout",
     "output_type": "stream",
     "text": [
      "(1, 64, 104, 104)\n",
      "(1, 128, 52, 52)\n",
      "(1, 320, 26, 26)\n",
      "(1, 512, 13, 13)\n"
     ]
    }
   ],
   "source": [
    "pvt = PyramidVisionTransformer(out_indices = (0,1,2,3))\n",
    "pvt.eval()\n",
    "inputs = torch.rand(1,3,416,416)\n",
    "level_outputs = pvt.forward(inputs)\n",
    "for level_out in level_outputs:\n",
    "    print(tuple(level_out.shape))\n",
    "# max가 3까지 밖에"
   ]
  },
  {
   "cell_type": "code",
   "execution_count": 23,
   "id": "8545381c-9f11-478a-8452-4a634dc4b2b3",
   "metadata": {},
   "outputs": [
    {
     "name": "stdout",
     "output_type": "stream",
     "text": [
      "(1, 64, 104, 104)\n",
      "(1, 128, 52, 52)\n",
      "(1, 320, 26, 26)\n",
      "(1, 512, 13, 13)\n"
     ]
    }
   ],
   "source": [
    "pvt2 = PyramidVisionTransformerV2(out_indices = (0,1,2,3))\n",
    "pvt2.eval()\n",
    "inputs = torch.rand(1,3,416,416)\n",
    "level_outputs = pvt2.forward(inputs)\n",
    "for level_out in level_outputs:\n",
    "    print(tuple(level_out.shape))\n",
    "# max가 3까지 밖에"
   ]
  },
  {
   "cell_type": "code",
   "execution_count": 6,
   "id": "7ad1d754-1f3b-4bf9-a286-c3d5fbe66197",
   "metadata": {},
   "outputs": [
    {
     "name": "stdout",
     "output_type": "stream",
     "text": [
      "(1, 64, 8, 8)\n",
      "(1, 128, 4, 4)\n",
      "(1, 256, 2, 2)\n",
      "(1, 512, 1, 1)\n"
     ]
    }
   ],
   "source": [
    "resnet18 = ResNet(depth=18, out_indices = (0,1,2,3))\n",
    "resnet18.eval()\n",
    "inputs = torch.rand(1,3,32,32)\n",
    "level_outputs = resnet18.forward(inputs)\n",
    "for level_out in level_outputs:\n",
    "    print(tuple(level_out.shape))"
   ]
  },
  {
   "cell_type": "code",
   "execution_count": 7,
   "id": "ccf97fdb-fa61-45eb-8b23-f8a4d25089a2",
   "metadata": {},
   "outputs": [
    {
     "name": "stdout",
     "output_type": "stream",
     "text": [
      "(1, 256, 8, 8)\n",
      "(1, 512, 4, 4)\n",
      "(1, 1024, 2, 2)\n",
      "(1, 2048, 1, 1)\n"
     ]
    }
   ],
   "source": [
    "resnet50 = ResNet(depth=50, out_indices = (0,1,2,3))\n",
    "resnet50.eval()\n",
    "inputs = torch.rand(1,3,32,32)\n",
    "level_outputs = resnet50.forward(inputs)\n",
    "for level_out in level_outputs:\n",
    "    print(tuple(level_out.shape))"
   ]
  },
  {
   "cell_type": "code",
   "execution_count": 64,
   "id": "f2ecb89e-cb4a-4413-8c72-23abd553a696",
   "metadata": {},
   "outputs": [
    {
     "name": "stdout",
     "output_type": "stream",
     "text": [
      "(1, 256, 8, 8)\n",
      "(1, 512, 4, 4)\n",
      "(1, 1024, 2, 2)\n",
      "(1, 2048, 1, 1)\n"
     ]
    }
   ],
   "source": [
    "resnet101 = ResNet(depth=101, out_indices = (0,1,2,3))\n",
    "resnet101.eval()\n",
    "inputs = torch.rand(1,3,32,32)\n",
    "level_outputs = resnet101.forward(inputs)\n",
    "for level_out in level_outputs:\n",
    "    print(tuple(level_out.shape))"
   ]
  },
  {
   "cell_type": "code",
   "execution_count": 8,
   "id": "d3c6ed6b-9bee-445f-a124-f3d8f5017d52",
   "metadata": {},
   "outputs": [
    {
     "name": "stdout",
     "output_type": "stream",
     "text": [
      "(1, 96, 8, 8)\n",
      "(1, 192, 4, 4)\n",
      "(1, 384, 2, 2)\n",
      "(1, 768, 1, 1)\n"
     ]
    }
   ],
   "source": [
    "swin = SwinTransformer(out_indices = (0,1,2,3))\n",
    "swin.eval()\n",
    "inputs = torch.rand(1,3,32,32)\n",
    "level_outputs = swin.forward(inputs)\n",
    "for level_out in level_outputs:\n",
    "    print(tuple(level_out.shape))"
   ]
  },
  {
   "cell_type": "code",
   "execution_count": 9,
   "id": "d68bc9b3-52ce-4c70-9cd6-f3e96766768d",
   "metadata": {},
   "outputs": [
    {
     "name": "stdout",
     "output_type": "stream",
     "text": [
      "(1, 24, 8, 8)\n",
      "(1, 40, 4, 4)\n",
      "(1, 80, 2, 2)\n",
      "(1, 112, 2, 2)\n",
      "(1, 192, 1, 1)\n",
      "(1, 320, 1, 1)\n",
      "(1, 1280, 1, 1)\n"
     ]
    }
   ],
   "source": [
    "efficientnet_b0 = EfficientNet(\n",
    "    model_type = 'efficientnet-b0',\n",
    "    out_indices = (0,1,2,3,4,5,6))\n",
    "efficientnet_b0.eval()\n",
    "inputs = torch.rand(1,3,32,32)\n",
    "level_outputs = efficientnet_b0.forward(inputs)\n",
    "for level_out in level_outputs:\n",
    "    print(tuple(level_out.shape))         "
   ]
  },
  {
   "cell_type": "code",
   "execution_count": 12,
   "id": "c4282ca8-9aa9-413f-a8b1-91b1cdc6ced2",
   "metadata": {},
   "outputs": [
    {
     "name": "stdout",
     "output_type": "stream",
     "text": [
      "(1, 24, 168, 168)\n",
      "(1, 40, 84, 84)\n",
      "(1, 80, 42, 42)\n",
      "(1, 112, 42, 42)\n",
      "(1, 192, 21, 21)\n",
      "(1, 320, 21, 21)\n",
      "(1, 1280, 21, 21)\n"
     ]
    }
   ],
   "source": [
    "efficientnet_b1 = EfficientNet(\n",
    "    model_type = 'efficientnet-b1',\n",
    "    out_indices = (0,1,2,3,4,5,6))\n",
    "efficientnet_b0.eval()\n",
    "inputs = torch.rand(1,3,672,672)\n",
    "level_outputs = efficientnet_b1.forward(inputs)\n",
    "for level_out in level_outputs:\n",
    "    print(tuple(level_out.shape))   "
   ]
  },
  {
   "cell_type": "code",
   "execution_count": 14,
   "id": "13824a28-5bc1-4b89-b040-2bad1d363b4e",
   "metadata": {},
   "outputs": [
    {
     "name": "stdout",
     "output_type": "stream",
     "text": [
      "(1, 24, 180, 180)\n",
      "(1, 48, 90, 90)\n",
      "(1, 88, 45, 45)\n",
      "(1, 120, 45, 45)\n",
      "(1, 208, 22, 22)\n",
      "(1, 352, 22, 22)\n",
      "(1, 1408, 22, 22)\n"
     ]
    }
   ],
   "source": [
    "efficientnet_b2 = EfficientNet(\n",
    "    model_type = 'efficientnet-b2',\n",
    "    out_indices = (0,1,2,3,4,5,6))\n",
    "efficientnet_b0.eval()\n",
    "inputs = torch.rand(1,3,720,720)\n",
    "level_outputs = efficientnet_b2.forward(inputs)\n",
    "for level_out in level_outputs:\n",
    "    print(tuple(level_out.shape))  "
   ]
  },
  {
   "cell_type": "code",
   "execution_count": 15,
   "id": "d21e434d-a4ef-4a7e-be13-9879cabee416",
   "metadata": {},
   "outputs": [
    {
     "name": "stdout",
     "output_type": "stream",
     "text": [
      "(1, 32, 180, 180)\n",
      "(1, 48, 90, 90)\n",
      "(1, 96, 45, 45)\n",
      "(1, 136, 45, 45)\n",
      "(1, 232, 22, 22)\n",
      "(1, 384, 22, 22)\n",
      "(1, 1536, 22, 22)\n"
     ]
    }
   ],
   "source": [
    "efficientnet_b3 = EfficientNet(\n",
    "    model_type = 'efficientnet-b3',\n",
    "    out_indices = (0,1,2,3,4,5,6))\n",
    "efficientnet_b0.eval()\n",
    "inputs = torch.rand(1,3,720,720)\n",
    "level_outputs = efficientnet_b3.forward(inputs)\n",
    "for level_out in level_outputs:\n",
    "    print(tuple(level_out.shape)) "
   ]
  },
  {
   "cell_type": "code",
   "execution_count": 17,
   "id": "9ff89bee-ae05-4dc5-b36c-f2bbe3f3720d",
   "metadata": {},
   "outputs": [
    {
     "name": "stdout",
     "output_type": "stream",
     "text": [
      "(1, 32, 180, 180)\n",
      "(1, 56, 90, 90)\n",
      "(1, 112, 45, 45)\n",
      "(1, 160, 45, 45)\n",
      "(1, 272, 22, 22)\n",
      "(1, 448, 22, 22)\n",
      "(1, 1792, 22, 22)\n"
     ]
    }
   ],
   "source": [
    "efficientnet_b4 = EfficientNet(\n",
    "    model_type = 'efficientnet-b4',\n",
    "    out_indices = (0,1,2,3,4,5,6))\n",
    "efficientnet_b0.eval()\n",
    "inputs = torch.rand(1,3,720,720)\n",
    "level_outputs = efficientnet_b4.forward(inputs)\n",
    "for level_out in level_outputs:\n",
    "    print(tuple(level_out.shape)) "
   ]
  },
  {
   "cell_type": "code",
   "execution_count": 18,
   "id": "0b2efb8e-39cd-4f55-85d7-99096d3b6ebb",
   "metadata": {},
   "outputs": [
    {
     "name": "stdout",
     "output_type": "stream",
     "text": [
      "(1, 40, 180, 180)\n",
      "(1, 64, 90, 90)\n",
      "(1, 128, 45, 45)\n",
      "(1, 176, 45, 45)\n",
      "(1, 304, 22, 22)\n",
      "(1, 512, 22, 22)\n",
      "(1, 2048, 22, 22)\n"
     ]
    }
   ],
   "source": [
    "efficientnet_b5 = EfficientNet(\n",
    "    model_type = 'efficientnet-b5',\n",
    "    out_indices = (0,1,2,3,4,5,6))\n",
    "efficientnet_b0.eval()\n",
    "inputs = torch.rand(1,3,720,720)\n",
    "level_outputs = efficientnet_b5.forward(inputs)\n",
    "for level_out in level_outputs:\n",
    "    print(tuple(level_out.shape)) "
   ]
  },
  {
   "cell_type": "code",
   "execution_count": 19,
   "id": "e6d857f1-28a1-4ba4-b5f3-c0d93735c405",
   "metadata": {},
   "outputs": [
    {
     "name": "stdout",
     "output_type": "stream",
     "text": [
      "(1, 40, 180, 180)\n",
      "(1, 72, 90, 90)\n",
      "(1, 144, 45, 45)\n",
      "(1, 200, 45, 45)\n",
      "(1, 344, 22, 22)\n",
      "(1, 576, 22, 22)\n",
      "(1, 2304, 22, 22)\n"
     ]
    }
   ],
   "source": [
    "efficientnet_b6 = EfficientNet(\n",
    "    model_type = 'efficientnet-b6',\n",
    "    out_indices = (0,1,2,3,4,5,6))\n",
    "efficientnet_b0.eval()\n",
    "inputs = torch.rand(1,3,720,720)\n",
    "level_outputs = efficientnet_b6.forward(inputs)\n",
    "for level_out in level_outputs:\n",
    "    print(tuple(level_out.shape)) "
   ]
  },
  {
   "cell_type": "code",
   "execution_count": 20,
   "id": "63616dd9-09e8-4784-b893-eee6c96666bd",
   "metadata": {},
   "outputs": [
    {
     "name": "stdout",
     "output_type": "stream",
     "text": [
      "(1, 48, 180, 180)\n",
      "(1, 80, 90, 90)\n",
      "(1, 160, 45, 45)\n",
      "(1, 224, 45, 45)\n",
      "(1, 384, 22, 22)\n",
      "(1, 640, 22, 22)\n",
      "(1, 2560, 22, 22)\n"
     ]
    }
   ],
   "source": [
    "efficientnet_b7 = EfficientNet(\n",
    "    model_type = 'efficientnet-b7',\n",
    "    out_indices = (0,1,2,3,4,5,6))\n",
    "efficientnet_b0.eval()\n",
    "inputs = torch.rand(1,3,720,720)\n",
    "level_outputs = efficientnet_b7.forward(inputs)\n",
    "for level_out in level_outputs:\n",
    "    print(tuple(level_out.shape))"
   ]
  },
  {
   "cell_type": "code",
   "execution_count": null,
   "id": "883f6e7d-5ae1-494c-be67-abfb9ee044a4",
   "metadata": {},
   "outputs": [],
   "source": []
  }
 ],
 "metadata": {
  "kernelspec": {
   "display_name": "detection",
   "language": "python",
   "name": "detection"
  },
  "language_info": {
   "codemirror_mode": {
    "name": "ipython",
    "version": 3
   },
   "file_extension": ".py",
   "mimetype": "text/x-python",
   "name": "python",
   "nbconvert_exporter": "python",
   "pygments_lexer": "ipython3",
   "version": "3.7.11"
  }
 },
 "nbformat": 4,
 "nbformat_minor": 5
}
