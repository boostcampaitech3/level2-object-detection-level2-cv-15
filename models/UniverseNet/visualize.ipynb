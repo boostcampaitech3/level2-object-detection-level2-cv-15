{
 "cells": [
  {
   "cell_type": "code",
   "execution_count": 2,
   "id": "52b43a57-ab18-422e-aa41-04a41a7e8c7d",
   "metadata": {},
   "outputs": [],
   "source": [
    "import json\n",
    "import wandb\n",
    "import random\n",
    "import os\n",
    "import pandas as pd"
   ]
  },
  {
   "cell_type": "code",
   "execution_count": 5,
   "id": "8fb8cc45-b431-4b32-b571-7b5d45347eb6",
   "metadata": {},
   "outputs": [
    {
     "data": {
      "text/html": [
       "Finishing last run (ID:37y5rm4g) before initializing another..."
      ],
      "text/plain": [
       "<IPython.core.display.HTML object>"
      ]
     },
     "metadata": {},
     "output_type": "display_data"
    },
    {
     "name": "stdout",
     "output_type": "stream",
     "text": [
      "\n"
     ]
    },
    {
     "data": {
      "text/html": [
       "Waiting for W&B process to finish... <strong style=\"color:green\">(success).</strong>"
      ],
      "text/plain": [
       "<IPython.core.display.HTML object>"
      ]
     },
     "metadata": {},
     "output_type": "display_data"
    },
    {
     "data": {
      "application/vnd.jupyter.widget-view+json": {
       "model_id": "",
       "version_major": 2,
       "version_minor": 0
      },
      "text/plain": [
       "VBox(children=(Label(value='12.932 MB of 12.932 MB uploaded (0.000 MB deduped)\\r'), FloatProgress(value=1.0, m…"
      ]
     },
     "metadata": {},
     "output_type": "display_data"
    },
    {
     "data": {
      "text/html": [
       "Synced <strong style=\"color:#cdcd00\">univ_ens1</strong>: <a href=\"https://wandb.ai/boostcampaitech3/visualization/runs/37y5rm4g\" target=\"_blank\">https://wandb.ai/boostcampaitech3/visualization/runs/37y5rm4g</a><br/>Synced 5 W&B file(s), 100 media file(s), 0 artifact file(s) and 0 other file(s)"
      ],
      "text/plain": [
       "<IPython.core.display.HTML object>"
      ]
     },
     "metadata": {},
     "output_type": "display_data"
    },
    {
     "data": {
      "text/html": [
       "Find logs at: <code>./wandb/run-20220406_045720-37y5rm4g/logs</code>"
      ],
      "text/plain": [
       "<IPython.core.display.HTML object>"
      ]
     },
     "metadata": {},
     "output_type": "display_data"
    },
    {
     "data": {
      "text/html": [
       "Successfully finished last run (ID:37y5rm4g). Initializing new run:<br/>"
      ],
      "text/plain": [
       "<IPython.core.display.HTML object>"
      ]
     },
     "metadata": {},
     "output_type": "display_data"
    },
    {
     "data": {
      "text/html": [
       "wandb version 0.12.12 is available!  To upgrade, please run:\n",
       " $ pip install wandb --upgrade"
      ],
      "text/plain": [
       "<IPython.core.display.HTML object>"
      ]
     },
     "metadata": {},
     "output_type": "display_data"
    },
    {
     "data": {
      "text/html": [
       "Tracking run with wandb version 0.12.11"
      ],
      "text/plain": [
       "<IPython.core.display.HTML object>"
      ]
     },
     "metadata": {},
     "output_type": "display_data"
    },
    {
     "data": {
      "text/html": [
       "Run data is saved locally in <code>/opt/ml/detection/baseline/UniverseNet/wandb/run-20220406_050308-297t6l0v</code>"
      ],
      "text/plain": [
       "<IPython.core.display.HTML object>"
      ]
     },
     "metadata": {},
     "output_type": "display_data"
    },
    {
     "data": {
      "text/html": [
       "Syncing run <strong><a href=\"https://wandb.ai/boostcampaitech3/visualization/runs/297t6l0v\" target=\"_blank\">univ_ens2</a></strong> to <a href=\"https://wandb.ai/boostcampaitech3/visualization\" target=\"_blank\">Weights & Biases</a> (<a href=\"https://wandb.me/run\" target=\"_blank\">docs</a>)<br/>"
      ],
      "text/plain": [
       "<IPython.core.display.HTML object>"
      ]
     },
     "metadata": {},
     "output_type": "display_data"
    }
   ],
   "source": [
    "name = \"universenet2008d\"  #실험 이름\n",
    "inference_file = \"/opt/ml/detection/baseline/UniverseNet/ensemble/result/submission_ensemble2.csv\" #submission file 이름\n",
    "data_path = \"../../dataset/\" # dataset 폴더 경로\n",
    "n = 50 # 몇개의 이미지를 시각화 할지(4000장은 너무 오래 걸려요;;)\n",
    "\n",
    "wandb.init(project=\"visualization\", entity=\"boostcampaitech3\", name = \"univ_ens2\")\n",
    "categories = {0: 'General trash', 1: 'Paper', 2: 'Paper pack', 3: 'Metal', 4: 'Glass', 5: 'Plastic',\n",
    " 6: 'Styrofoam', 7: 'Plastic bag', 8: 'Battery', 9: 'Clothing'}\n",
    "labels_file =  pd.read_csv(inference_file)\n",
    "image_ids = list(labels_file[\"image_id\"])\n",
    "predictions = list(labels_file[\"PredictionString\"])\n",
    "imgs=[]\n",
    "\n",
    "def list_chunk(lst, n):\n",
    "    return [lst[i:i+n] for i in range(0, len(lst), n)]\n",
    "\n",
    "for image_id, prediction in zip(image_ids[:n], predictions[:n]):\n",
    "    wandb_boxes = {\"predictions\" : {\"box_data\" : [],\n",
    "                                    \"class_labels\" : categories}}\n",
    "    preds = list_chunk(prediction.split(),6)\n",
    "    for pred in preds:\n",
    "        curr_box = {}\n",
    "        curr_box[\"position\"] = {\"minX\" : float(pred[2]),\n",
    "                               \"minY\" : float(pred[3]),\n",
    "                               \"maxX\" : float(pred[4]),\n",
    "                               \"maxY\" : float(pred[5])}\n",
    "        curr_box[\"class_id\"] = int(pred[0])\n",
    "        curr_box[\"box_caption\"] = categories[int(pred[0])]\n",
    "        curr_box[\"scores\"] = {\"score\" : float(pred[1])}\n",
    "        curr_box[\"domain\"] = \"pixel\"\n",
    "        wandb_boxes[\"predictions\"][\"box_data\"].append(curr_box)\n",
    "\n",
    "    img_path = os.path.join(data_path, image_id)\n",
    "    img = wandb.Image(img_path, boxes=wandb_boxes)\n",
    "    imgs.append(img)\n",
    "    \n",
    "wandb.log({\"Inference\" : imgs})"
   ]
  }
 ],
 "metadata": {
  "kernelspec": {
   "display_name": "detection",
   "language": "python",
   "name": "detection"
  },
  "language_info": {
   "codemirror_mode": {
    "name": "ipython",
    "version": 3
   },
   "file_extension": ".py",
   "mimetype": "text/x-python",
   "name": "python",
   "nbconvert_exporter": "python",
   "pygments_lexer": "ipython3",
   "version": "3.7.11"
  }
 },
 "nbformat": 4,
 "nbformat_minor": 5
}
