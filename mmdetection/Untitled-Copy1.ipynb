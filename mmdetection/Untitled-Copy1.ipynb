{
 "cells": [
  {
   "cell_type": "code",
   "execution_count": 4,
   "id": "76f248aa-ecd6-4971-bfbb-d42e42191de0",
   "metadata": {},
   "outputs": [],
   "source": [
    "import matplotlib.pyplot as plt"
   ]
  },
  {
   "cell_type": "code",
   "execution_count": 6,
   "id": "0982c400-ee8f-4bc4-8d2a-adbbde0142ff",
   "metadata": {},
   "outputs": [],
   "source": [
    "import pandas as pd\n",
    "box_df = pd.read_csv('./box_df.csv')"
   ]
  },
  {
   "cell_type": "code",
   "execution_count": 9,
   "id": "560497e6-4baa-4bba-b2ec-b95e59f44142",
   "metadata": {},
   "outputs": [],
   "source": [
    "import cv2"
   ]
  },
  {
   "cell_type": "code",
   "execution_count": 11,
   "id": "ce11718b-cbf1-4ebf-9681-faa43d6dbdc7",
   "metadata": {},
   "outputs": [
    {
     "data": {
      "application/vnd.jupyter.widget-view+json": {
       "model_id": "54d49ca557d640bda1a9e6675a25d313",
       "version_major": 2,
       "version_minor": 0
      },
      "text/plain": [
       "interactive(children=(IntSlider(value=4399, description='image_id', max=4799, min=4000), Output()), _dom_class…"
      ]
     },
     "metadata": {},
     "output_type": "display_data"
    },
    {
     "data": {
      "text/plain": [
       "<function __main__.show_object(image_id)>"
      ]
     },
     "execution_count": 11,
     "metadata": {},
     "output_type": "execute_result"
    }
   ],
   "source": [
    "from ipywidgets import interact\n",
    "\n",
    "image_id = 4000\n",
    "def show_object(image_id):\n",
    "    img_root = f\"/opt/ml/detection/dataset/train/{str(image_id).zfill(4)}.jpg\"\n",
    "    img = plt.imread(img_root)\n",
    "    img_bboxes = box_df[box_df.image_id == image_id]\n",
    "    for i in img_bboxes.index:\n",
    "        x1 = int(img_bboxes['x_min'][i])\n",
    "        y1 = int(img_bboxes['y_min'][i])\n",
    "        x2 = int(img_bboxes['x_max'][i])\n",
    "        y2 = int(img_bboxes['y_max'][i])\n",
    "        cv2.rectangle(img, (x1, y1), (x2, y2), (0, 255, 0), 5)\n",
    "\n",
    "    plt.figure(figsize=(15,15))\n",
    "    plt.imshow(img)\n",
    "def show_image(image_id):\n",
    "    img_root = f\"/opt/ml/detection/dataset/train/{str(image_id).zfill(4)}.jpg\"\n",
    "    img = plt.imread(img_root)\n",
    "    plt.figure(figsize=(10,10))\n",
    "    plt.imshow(img)\n",
    "\n",
    "interact(\n",
    "    show_object,\n",
    "    image_id = (4000, 4799)\n",
    ")"
   ]
  },
  {
   "cell_type": "code",
   "execution_count": null,
   "id": "b46bd9ac-817a-4193-8a96-3d7bfce2e6e5",
   "metadata": {},
   "outputs": [],
   "source": []
  }
 ],
 "metadata": {
  "kernelspec": {
   "display_name": "detection",
   "language": "python",
   "name": "detection"
  },
  "language_info": {
   "codemirror_mode": {
    "name": "ipython",
    "version": 3
   },
   "file_extension": ".py",
   "mimetype": "text/x-python",
   "name": "python",
   "nbconvert_exporter": "python",
   "pygments_lexer": "ipython3",
   "version": "3.7.11"
  }
 },
 "nbformat": 4,
 "nbformat_minor": 5
}
