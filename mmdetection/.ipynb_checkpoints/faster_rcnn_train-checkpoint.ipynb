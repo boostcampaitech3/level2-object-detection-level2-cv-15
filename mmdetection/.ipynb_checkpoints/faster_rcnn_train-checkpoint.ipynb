{
 "cells": [
  {
   "cell_type": "code",
   "execution_count": 1,
   "metadata": {},
   "outputs": [],
   "source": [
    "# 모듈 import\n",
    "\n",
    "from mmcv import Config\n",
    "from mmdet.datasets import build_dataset\n",
    "from mmdet.models import build_detector\n",
    "from mmdet.apis import train_detector\n",
    "from mmdet.datasets import (build_dataloader, build_dataset,\n",
    "                            replace_ImageToTensor)\n",
    "import wandb\n",
    "import matplotlib.pyplot as plt\n",
    "import matplotlib.image as img"
   ]
  },
  {
   "cell_type": "code",
   "execution_count": 2,
   "metadata": {
    "collapsed": true,
    "jupyter": {
     "outputs_hidden": true
    },
    "tags": []
   },
   "outputs": [
    {
     "name": "stdout",
     "output_type": "stream",
     "text": [
      "loading annotations into memory...\n"
     ]
    },
    {
     "ename": "FileNotFoundError",
     "evalue": "CocoDataset: [Errno 2] No such file or directory: '../../../../../dataset/stratified_kfold/cv_train_1.json'",
     "output_type": "error",
     "traceback": [
      "\u001b[0;31m---------------------------------------------------------------------------\u001b[0m",
      "\u001b[0;31mFileNotFoundError\u001b[0m                         Traceback (most recent call last)",
      "\u001b[0;32m/opt/conda/envs/detection/lib/python3.7/site-packages/mmcv/utils/registry.py\u001b[0m in \u001b[0;36mbuild_from_cfg\u001b[0;34m(cfg, registry, default_args)\u001b[0m\n\u001b[1;32m     51\u001b[0m     \u001b[0;32mtry\u001b[0m\u001b[0;34m:\u001b[0m\u001b[0;34m\u001b[0m\u001b[0;34m\u001b[0m\u001b[0m\n\u001b[0;32m---> 52\u001b[0;31m         \u001b[0;32mreturn\u001b[0m \u001b[0mobj_cls\u001b[0m\u001b[0;34m(\u001b[0m\u001b[0;34m**\u001b[0m\u001b[0margs\u001b[0m\u001b[0;34m)\u001b[0m\u001b[0;34m\u001b[0m\u001b[0;34m\u001b[0m\u001b[0m\n\u001b[0m\u001b[1;32m     53\u001b[0m     \u001b[0;32mexcept\u001b[0m \u001b[0mException\u001b[0m \u001b[0;32mas\u001b[0m \u001b[0me\u001b[0m\u001b[0;34m:\u001b[0m\u001b[0;34m\u001b[0m\u001b[0;34m\u001b[0m\u001b[0m\n",
      "\u001b[0;32m~/detection/baseline/mmdetection/mmdet/datasets/custom.py\u001b[0m in \u001b[0;36m__init__\u001b[0;34m(self, ann_file, pipeline, classes, data_root, img_prefix, seg_prefix, proposal_file, test_mode, filter_empty_gt, file_client_args)\u001b[0m\n\u001b[1;32m     94\u001b[0m             \u001b[0;32mwith\u001b[0m \u001b[0mself\u001b[0m\u001b[0;34m.\u001b[0m\u001b[0mfile_client\u001b[0m\u001b[0;34m.\u001b[0m\u001b[0mget_local_path\u001b[0m\u001b[0;34m(\u001b[0m\u001b[0mself\u001b[0m\u001b[0;34m.\u001b[0m\u001b[0mann_file\u001b[0m\u001b[0;34m)\u001b[0m \u001b[0;32mas\u001b[0m \u001b[0mlocal_path\u001b[0m\u001b[0;34m:\u001b[0m\u001b[0;34m\u001b[0m\u001b[0;34m\u001b[0m\u001b[0m\n\u001b[0;32m---> 95\u001b[0;31m                 \u001b[0mself\u001b[0m\u001b[0;34m.\u001b[0m\u001b[0mdata_infos\u001b[0m \u001b[0;34m=\u001b[0m \u001b[0mself\u001b[0m\u001b[0;34m.\u001b[0m\u001b[0mload_annotations\u001b[0m\u001b[0;34m(\u001b[0m\u001b[0mlocal_path\u001b[0m\u001b[0;34m)\u001b[0m\u001b[0;34m\u001b[0m\u001b[0;34m\u001b[0m\u001b[0m\n\u001b[0m\u001b[1;32m     96\u001b[0m         \u001b[0;32melse\u001b[0m\u001b[0;34m:\u001b[0m\u001b[0;34m\u001b[0m\u001b[0;34m\u001b[0m\u001b[0m\n",
      "\u001b[0;32m~/detection/baseline/mmdetection/mmdet/datasets/coco.py\u001b[0m in \u001b[0;36mload_annotations\u001b[0;34m(self, ann_file)\u001b[0m\n\u001b[1;32m     71\u001b[0m \u001b[0;34m\u001b[0m\u001b[0m\n\u001b[0;32m---> 72\u001b[0;31m         \u001b[0mself\u001b[0m\u001b[0;34m.\u001b[0m\u001b[0mcoco\u001b[0m \u001b[0;34m=\u001b[0m \u001b[0mCOCO\u001b[0m\u001b[0;34m(\u001b[0m\u001b[0mann_file\u001b[0m\u001b[0;34m)\u001b[0m\u001b[0;34m\u001b[0m\u001b[0;34m\u001b[0m\u001b[0m\n\u001b[0m\u001b[1;32m     73\u001b[0m         \u001b[0;31m# The order of returned `cat_ids` will not\u001b[0m\u001b[0;34m\u001b[0m\u001b[0;34m\u001b[0m\u001b[0;34m\u001b[0m\u001b[0m\n",
      "\u001b[0;32m~/detection/baseline/mmdetection/mmdet/datasets/api_wrappers/coco_api.py\u001b[0m in \u001b[0;36m__init__\u001b[0;34m(self, annotation_file)\u001b[0m\n\u001b[1;32m     22\u001b[0m                 UserWarning)\n\u001b[0;32m---> 23\u001b[0;31m         \u001b[0msuper\u001b[0m\u001b[0;34m(\u001b[0m\u001b[0;34m)\u001b[0m\u001b[0;34m.\u001b[0m\u001b[0m__init__\u001b[0m\u001b[0;34m(\u001b[0m\u001b[0mannotation_file\u001b[0m\u001b[0;34m=\u001b[0m\u001b[0mannotation_file\u001b[0m\u001b[0;34m)\u001b[0m\u001b[0;34m\u001b[0m\u001b[0;34m\u001b[0m\u001b[0m\n\u001b[0m\u001b[1;32m     24\u001b[0m         \u001b[0mself\u001b[0m\u001b[0;34m.\u001b[0m\u001b[0mimg_ann_map\u001b[0m \u001b[0;34m=\u001b[0m \u001b[0mself\u001b[0m\u001b[0;34m.\u001b[0m\u001b[0mimgToAnns\u001b[0m\u001b[0;34m\u001b[0m\u001b[0;34m\u001b[0m\u001b[0m\n",
      "\u001b[0;32m/opt/conda/envs/detection/lib/python3.7/site-packages/pycocotools/coco.py\u001b[0m in \u001b[0;36m__init__\u001b[0;34m(self, annotation_file)\u001b[0m\n\u001b[1;32m     80\u001b[0m             \u001b[0mtic\u001b[0m \u001b[0;34m=\u001b[0m \u001b[0mtime\u001b[0m\u001b[0;34m.\u001b[0m\u001b[0mtime\u001b[0m\u001b[0;34m(\u001b[0m\u001b[0;34m)\u001b[0m\u001b[0;34m\u001b[0m\u001b[0;34m\u001b[0m\u001b[0m\n\u001b[0;32m---> 81\u001b[0;31m             \u001b[0;32mwith\u001b[0m \u001b[0mopen\u001b[0m\u001b[0;34m(\u001b[0m\u001b[0mannotation_file\u001b[0m\u001b[0;34m,\u001b[0m \u001b[0;34m'r'\u001b[0m\u001b[0;34m)\u001b[0m \u001b[0;32mas\u001b[0m \u001b[0mf\u001b[0m\u001b[0;34m:\u001b[0m\u001b[0;34m\u001b[0m\u001b[0;34m\u001b[0m\u001b[0m\n\u001b[0m\u001b[1;32m     82\u001b[0m                 \u001b[0mdataset\u001b[0m \u001b[0;34m=\u001b[0m \u001b[0mjson\u001b[0m\u001b[0;34m.\u001b[0m\u001b[0mload\u001b[0m\u001b[0;34m(\u001b[0m\u001b[0mf\u001b[0m\u001b[0;34m)\u001b[0m\u001b[0;34m\u001b[0m\u001b[0;34m\u001b[0m\u001b[0m\n",
      "\u001b[0;31mFileNotFoundError\u001b[0m: [Errno 2] No such file or directory: '../../../../../dataset/stratified_kfold/cv_train_1.json'",
      "\nDuring handling of the above exception, another exception occurred:\n",
      "\u001b[0;31mFileNotFoundError\u001b[0m                         Traceback (most recent call last)",
      "\u001b[0;32m/tmp/ipykernel_17553/2520764663.py\u001b[0m in \u001b[0;36m<module>\u001b[0;34m\u001b[0m\n\u001b[1;32m     45\u001b[0m \u001b[0;34m\u001b[0m\u001b[0m\n\u001b[1;32m     46\u001b[0m \u001b[0;31m# build_dataset\u001b[0m\u001b[0;34m\u001b[0m\u001b[0;34m\u001b[0m\u001b[0;34m\u001b[0m\u001b[0m\n\u001b[0;32m---> 47\u001b[0;31m \u001b[0mdatasets\u001b[0m \u001b[0;34m=\u001b[0m \u001b[0;34m[\u001b[0m\u001b[0mbuild_dataset\u001b[0m\u001b[0;34m(\u001b[0m\u001b[0mcfg\u001b[0m\u001b[0;34m.\u001b[0m\u001b[0mdata\u001b[0m\u001b[0;34m.\u001b[0m\u001b[0mtrain\u001b[0m\u001b[0;34m)\u001b[0m\u001b[0;34m]\u001b[0m\u001b[0;34m\u001b[0m\u001b[0;34m\u001b[0m\u001b[0m\n\u001b[0m",
      "\u001b[0;32m~/detection/baseline/mmdetection/mmdet/datasets/builder.py\u001b[0m in \u001b[0;36mbuild_dataset\u001b[0;34m(cfg, default_args)\u001b[0m\n\u001b[1;32m     79\u001b[0m         \u001b[0mdataset\u001b[0m \u001b[0;34m=\u001b[0m \u001b[0m_concat_dataset\u001b[0m\u001b[0;34m(\u001b[0m\u001b[0mcfg\u001b[0m\u001b[0;34m,\u001b[0m \u001b[0mdefault_args\u001b[0m\u001b[0;34m)\u001b[0m\u001b[0;34m\u001b[0m\u001b[0;34m\u001b[0m\u001b[0m\n\u001b[1;32m     80\u001b[0m     \u001b[0;32melse\u001b[0m\u001b[0;34m:\u001b[0m\u001b[0;34m\u001b[0m\u001b[0;34m\u001b[0m\u001b[0m\n\u001b[0;32m---> 81\u001b[0;31m         \u001b[0mdataset\u001b[0m \u001b[0;34m=\u001b[0m \u001b[0mbuild_from_cfg\u001b[0m\u001b[0;34m(\u001b[0m\u001b[0mcfg\u001b[0m\u001b[0;34m,\u001b[0m \u001b[0mDATASETS\u001b[0m\u001b[0;34m,\u001b[0m \u001b[0mdefault_args\u001b[0m\u001b[0;34m)\u001b[0m\u001b[0;34m\u001b[0m\u001b[0;34m\u001b[0m\u001b[0m\n\u001b[0m\u001b[1;32m     82\u001b[0m \u001b[0;34m\u001b[0m\u001b[0m\n\u001b[1;32m     83\u001b[0m     \u001b[0;32mreturn\u001b[0m \u001b[0mdataset\u001b[0m\u001b[0;34m\u001b[0m\u001b[0;34m\u001b[0m\u001b[0m\n",
      "\u001b[0;32m/opt/conda/envs/detection/lib/python3.7/site-packages/mmcv/utils/registry.py\u001b[0m in \u001b[0;36mbuild_from_cfg\u001b[0;34m(cfg, registry, default_args)\u001b[0m\n\u001b[1;32m     53\u001b[0m     \u001b[0;32mexcept\u001b[0m \u001b[0mException\u001b[0m \u001b[0;32mas\u001b[0m \u001b[0me\u001b[0m\u001b[0;34m:\u001b[0m\u001b[0;34m\u001b[0m\u001b[0;34m\u001b[0m\u001b[0m\n\u001b[1;32m     54\u001b[0m         \u001b[0;31m# Normal TypeError does not print class name.\u001b[0m\u001b[0;34m\u001b[0m\u001b[0;34m\u001b[0m\u001b[0;34m\u001b[0m\u001b[0m\n\u001b[0;32m---> 55\u001b[0;31m         \u001b[0;32mraise\u001b[0m \u001b[0mtype\u001b[0m\u001b[0;34m(\u001b[0m\u001b[0me\u001b[0m\u001b[0;34m)\u001b[0m\u001b[0;34m(\u001b[0m\u001b[0;34mf'{obj_cls.__name__}: {e}'\u001b[0m\u001b[0;34m)\u001b[0m\u001b[0;34m\u001b[0m\u001b[0;34m\u001b[0m\u001b[0m\n\u001b[0m\u001b[1;32m     56\u001b[0m \u001b[0;34m\u001b[0m\u001b[0m\n\u001b[1;32m     57\u001b[0m \u001b[0;34m\u001b[0m\u001b[0m\n",
      "\u001b[0;31mFileNotFoundError\u001b[0m: CocoDataset: [Errno 2] No such file or directory: '../../../../../dataset/stratified_kfold/cv_train_1.json'"
     ]
    }
   ],
   "source": [
    "name = \"MM_Faster_RCNN_Adam-0.00005_aug_768size\"\n",
    "\n",
    "classes = (\"General trash\", \"Paper\", \"Paper pack\", \"Metal\", \"Glass\", \n",
    "           \"Plastic\", \"Styrofoam\", \"Plastic bag\", \"Battery\", \"Clothing\")\n",
    "\n",
    "# config file 들고오기\n",
    "cfg = Config.fromfile('./configs/A_custom/cascade_swin_fpn_3x_ChangedIoU.py')\n",
    "\n",
    "root='../../dataset/'\n",
    "\n",
    "# dataset config 수정\n",
    "cfg.data.train.classes = classes\n",
    "cfg.data.train.img_prefix = root\n",
    "cfg.data.train.ann_file = root + 'stratified_kfold/cv_train_1.json' # train json 정보\n",
    "cfg.data.train.pipeline[2]['img_scale'] = (768,768) # Resize\n",
    "\n",
    "cfg.data.val.classes = classes\n",
    "cfg.data.val.img_prefix = root\n",
    "cfg.data.val.ann_file = root + 'stratified_kfold/cv_val_1.json'\n",
    "cfg.data.val.pipeline[1][\"img_scale\"] = (768,768)\n",
    "\n",
    "cfg.data.test.classes = classes\n",
    "cfg.data.test.img_prefix = root\n",
    "cfg.data.test.ann_file = root + 'test.json' # test json 정보\n",
    "cfg.data.test.pipeline[1]['img_scale'] = (768,768) # Resize\n",
    "\n",
    "cfg.data.samples_per_gpu = 4\n",
    "\n",
    "cfg.seed = 2022\n",
    "cfg.gpu_ids = [0]\n",
    "cfg.work_dir = f\"work_dirs/{name}\"\n",
    "\n",
    "cfg.model.roi_head.bbox_head.num_classes = 10\n",
    "\n",
    "cfg.optimizer_config.grad_clip = dict(max_norm=35, norm_type=2)\n",
    "cfg.checkpoint_config = dict(max_keep_ckpts=3, interval=1)\n",
    "\n",
    "cfg.evaluation = dict(interval=1, metric=\"bbox\", save_best=\"bbox_mAP_50\")\n",
    "\n",
    "\n",
    "#============================custom============================\n",
    "cfg.log_config.hooks[1][\"init_kwargs\"].name = name\n",
    "cfg.optimizer = dict(type='Adam', lr=0.00005, weight_decay=0.0001)\n",
    "cfg.runner.max_epochs=35\n",
    "\n",
    "# build_dataset\n",
    "datasets = [build_dataset(cfg.data.train)]"
   ]
  },
  {
   "cell_type": "code",
   "execution_count": 393,
   "metadata": {},
   "outputs": [
    {
     "name": "stderr",
     "output_type": "stream",
     "text": [
      "Clipping input data to the valid range for imshow with RGB data ([0..1] for floats or [0..255] for integers).\n"
     ]
    },
    {
     "data": {
      "text/plain": [
       "<matplotlib.image.AxesImage at 0x7fc548e4fd90>"
      ]
     },
     "execution_count": 393,
     "metadata": {},
     "output_type": "execute_result"
    },
    {
     "data": {
      "image/png": "[encoded data removed]",
      "text/plain": [
       "<Figure size 432x288 with 1 Axes>"
      ]
     },
     "metadata": {
      "needs_background": "light"
     },
     "output_type": "display_data"
    }
   ],
   "source": [
    "# dataset 시각화\n",
    "image = datasets[0][2389][\"img\"].data\n",
    "image = image.permute(2,1,0)\n",
    "plt.imshow(image)\n",
    "\n",
    "# image.shape"
   ]
  },
  {
   "cell_type": "code",
   "execution_count": 394,
   "metadata": {
    "collapsed": true,
    "jupyter": {
     "outputs_hidden": true
    },
    "tags": []
   },
   "outputs": [
    {
     "name": "stderr",
     "output_type": "stream",
     "text": [
      "2022-03-25 11:29:16,676 - mmcv - INFO - initialize ResNet with init_cfg {'type': 'Pretrained', 'checkpoint': 'torchvision://resnet50'}\n",
      "2022-03-25 11:29:16,677 - mmcv - INFO - load model from: torchvision://resnet50\n",
      "2022-03-25 11:29:16,677 - mmcv - INFO - load checkpoint from torchvision path: torchvision://resnet50\n",
      "2022-03-25 11:29:16,879 - mmcv - WARNING - The model and loaded state dict do not match exactly\n",
      "\n",
      "unexpected key in source state_dict: fc.weight, fc.bias\n",
      "\n",
      "2022-03-25 11:29:16,905 - mmcv - INFO - initialize FPN with init_cfg {'type': 'Xavier', 'layer': 'Conv2d', 'distribution': 'uniform'}\n",
      "2022-03-25 11:29:16,932 - mmcv - INFO - initialize RPNHead with init_cfg {'type': 'Normal', 'layer': 'Conv2d', 'std': 0.01}\n",
      "2022-03-25 11:29:16,940 - mmcv - INFO - initialize Shared2FCBBoxHead with init_cfg [{'type': 'Normal', 'std': 0.01, 'override': {'name': 'fc_cls'}}, {'type': 'Normal', 'std': 0.001, 'override': {'name': 'fc_reg'}}, {'type': 'Xavier', 'distribution': 'uniform', 'override': [{'name': 'shared_fcs'}, {'name': 'cls_fcs'}, {'name': 'reg_fcs'}]}]\n",
      "2022-03-25 11:29:17,047 - mmcv - INFO - \n",
      "backbone.conv1.weight - torch.Size([64, 3, 7, 7]): \n",
      "PretrainedInit: load from torchvision://resnet50 \n",
      " \n",
      "2022-03-25 11:29:17,047 - mmcv - INFO - \n",
      "backbone.bn1.weight - torch.Size([64]): \n",
      "PretrainedInit: load from torchvision://resnet50 \n",
      " \n",
      "2022-03-25 11:29:17,048 - mmcv - INFO - \n",
      "backbone.bn1.bias - torch.Size([64]): \n",
      "PretrainedInit: load from torchvision://resnet50 \n",
      " \n",
      "2022-03-25 11:29:17,051 - mmcv - INFO - \n",
      "backbone.layer1.0.conv1.weight - torch.Size([64, 64, 1, 1]): \n",
      "PretrainedInit: load from torchvision://resnet50 \n",
      " \n",
      "2022-03-25 11:29:17,052 - mmcv - INFO - \n",
      "backbone.layer1.0.bn1.weight - torch.Size([64]): \n",
      "PretrainedInit: load from torchvision://resnet50 \n",
      " \n",
      "2022-03-25 11:29:17,055 - mmcv - INFO - \n",
      "backbone.layer1.0.bn1.bias - torch.Size([64]): \n",
      "PretrainedInit: load from torchvision://resnet50 \n",
      " \n",
      "2022-03-25 11:29:17,057 - mmcv - INFO - \n",
      "backbone.layer1.0.conv2.weight - torch.Size([64, 64, 3, 3]): \n",
      "PretrainedInit: load from torchvision://resnet50 \n",
      " \n",
      "2022-03-25 11:29:17,057 - mmcv - INFO - \n",
      "backbone.layer1.0.bn2.weight - torch.Size([64]): \n",
      "PretrainedInit: load from torchvision://resnet50 \n",
      " \n",
      "2022-03-25 11:29:17,058 - mmcv - INFO - \n",
      "backbone.layer1.0.bn2.bias - torch.Size([64]): \n",
      "PretrainedInit: load from torchvision://resnet50 \n",
      " \n",
      "2022-03-25 11:29:17,060 - mmcv - INFO - \n",
      "backbone.layer1.0.conv3.weight - torch.Size([256, 64, 1, 1]): \n",
      "PretrainedInit: load from torchvision://resnet50 \n",
      " \n",
      "2022-03-25 11:29:17,060 - mmcv - INFO - \n",
      "backbone.layer1.0.bn3.weight - torch.Size([256]): \n",
      "PretrainedInit: load from torchvision://resnet50 \n",
      " \n",
      "2022-03-25 11:29:17,061 - mmcv - INFO - \n",
      "backbone.layer1.0.bn3.bias - torch.Size([256]): \n",
      "PretrainedInit: load from torchvision://resnet50 \n",
      " \n",
      "2022-03-25 11:29:17,062 - mmcv - INFO - \n",
      "backbone.layer1.0.downsample.0.weight - torch.Size([256, 64, 1, 1]): \n",
      "PretrainedInit: load from torchvision://resnet50 \n",
      " \n",
      "2022-03-25 11:29:17,062 - mmcv - INFO - \n",
      "backbone.layer1.0.downsample.1.weight - torch.Size([256]): \n",
      "PretrainedInit: load from torchvision://resnet50 \n",
      " \n",
      "2022-03-25 11:29:17,063 - mmcv - INFO - \n",
      "backbone.layer1.0.downsample.1.bias - torch.Size([256]): \n",
      "PretrainedInit: load from torchvision://resnet50 \n",
      " \n",
      "2022-03-25 11:29:17,064 - mmcv - INFO - \n",
      "backbone.layer1.1.conv1.weight - torch.Size([64, 256, 1, 1]): \n",
      "PretrainedInit: load from torchvision://resnet50 \n",
      " \n",
      "2022-03-25 11:29:17,064 - mmcv - INFO - \n",
      "backbone.layer1.1.bn1.weight - torch.Size([64]): \n",
      "PretrainedInit: load from torchvision://resnet50 \n",
      " \n",
      "2022-03-25 11:29:17,065 - mmcv - INFO - \n",
      "backbone.layer1.1.bn1.bias - torch.Size([64]): \n",
      "PretrainedInit: load from torchvision://resnet50 \n",
      " \n",
      "2022-03-25 11:29:17,066 - mmcv - INFO - \n",
      "backbone.layer1.1.conv2.weight - torch.Size([64, 64, 3, 3]): \n",
      "PretrainedInit: load from torchvision://resnet50 \n",
      " \n",
      "2022-03-25 11:29:17,066 - mmcv - INFO - \n",
      "backbone.layer1.1.bn2.weight - torch.Size([64]): \n",
      "PretrainedInit: load from torchvision://resnet50 \n",
      " \n",
      "2022-03-25 11:29:17,067 - mmcv - INFO - \n",
      "backbone.layer1.1.bn2.bias - torch.Size([64]): \n",
      "PretrainedInit: load from torchvision://resnet50 \n",
      " \n",
      "2022-03-25 11:29:17,067 - mmcv - INFO - \n",
      "backbone.layer1.1.conv3.weight - torch.Size([256, 64, 1, 1]): \n",
      "PretrainedInit: load from torchvision://resnet50 \n",
      " \n",
      "2022-03-25 11:29:17,068 - mmcv - INFO - \n",
      "backbone.layer1.1.bn3.weight - torch.Size([256]): \n",
      "PretrainedInit: load from torchvision://resnet50 \n",
      " \n",
      "2022-03-25 11:29:17,069 - mmcv - INFO - \n",
      "backbone.layer1.1.bn3.bias - torch.Size([256]): \n",
      "PretrainedInit: load from torchvision://resnet50 \n",
      " \n",
      "2022-03-25 11:29:17,069 - mmcv - INFO - \n",
      "backbone.layer1.2.conv1.weight - torch.Size([64, 256, 1, 1]): \n",
      "PretrainedInit: load from torchvision://resnet50 \n",
      " \n",
      "2022-03-25 11:29:17,070 - mmcv - INFO - \n",
      "backbone.layer1.2.bn1.weight - torch.Size([64]): \n",
      "PretrainedInit: load from torchvision://resnet50 \n",
      " \n",
      "2022-03-25 11:29:17,071 - mmcv - INFO - \n",
      "backbone.layer1.2.bn1.bias - torch.Size([64]): \n",
      "PretrainedInit: load from torchvision://resnet50 \n",
      " \n",
      "2022-03-25 11:29:17,071 - mmcv - INFO - \n",
      "backbone.layer1.2.conv2.weight - torch.Size([64, 64, 3, 3]): \n",
      "PretrainedInit: load from torchvision://resnet50 \n",
      " \n",
      "2022-03-25 11:29:17,072 - mmcv - INFO - \n",
      "backbone.layer1.2.bn2.weight - torch.Size([64]): \n",
      "PretrainedInit: load from torchvision://resnet50 \n",
      " \n",
      "2022-03-25 11:29:17,072 - mmcv - INFO - \n",
      "backbone.layer1.2.bn2.bias - torch.Size([64]): \n",
      "PretrainedInit: load from torchvision://resnet50 \n",
      " \n",
      "2022-03-25 11:29:17,073 - mmcv - INFO - \n",
      "backbone.layer1.2.conv3.weight - torch.Size([256, 64, 1, 1]): \n",
      "PretrainedInit: load from torchvision://resnet50 \n",
      " \n",
      "2022-03-25 11:29:17,074 - mmcv - INFO - \n",
      "backbone.layer1.2.bn3.weight - torch.Size([256]): \n",
      "PretrainedInit: load from torchvision://resnet50 \n",
      " \n",
      "2022-03-25 11:29:17,074 - mmcv - INFO - \n",
      "backbone.layer1.2.bn3.bias - torch.Size([256]): \n",
      "PretrainedInit: load from torchvision://resnet50 \n",
      " \n",
      "2022-03-25 11:29:17,075 - mmcv - INFO - \n",
      "backbone.layer2.0.conv1.weight - torch.Size([128, 256, 1, 1]): \n",
      "PretrainedInit: load from torchvision://resnet50 \n",
      " \n",
      "2022-03-25 11:29:17,075 - mmcv - INFO - \n",
      "backbone.layer2.0.bn1.weight - torch.Size([128]): \n",
      "PretrainedInit: load from torchvision://resnet50 \n",
      " \n",
      "2022-03-25 11:29:17,076 - mmcv - INFO - \n",
      "backbone.layer2.0.bn1.bias - torch.Size([128]): \n",
      "PretrainedInit: load from torchvision://resnet50 \n",
      " \n",
      "2022-03-25 11:29:17,077 - mmcv - INFO - \n",
      "backbone.layer2.0.conv2.weight - torch.Size([128, 128, 3, 3]): \n",
      "PretrainedInit: load from torchvision://resnet50 \n",
      " \n",
      "2022-03-25 11:29:17,077 - mmcv - INFO - \n",
      "backbone.layer2.0.bn2.weight - torch.Size([128]): \n",
      "PretrainedInit: load from torchvision://resnet50 \n",
      " \n",
      "2022-03-25 11:29:17,078 - mmcv - INFO - \n",
      "backbone.layer2.0.bn2.bias - torch.Size([128]): \n",
      "PretrainedInit: load from torchvision://resnet50 \n",
      " \n",
      "2022-03-25 11:29:17,078 - mmcv - INFO - \n",
      "backbone.layer2.0.conv3.weight - torch.Size([512, 128, 1, 1]): \n",
      "PretrainedInit: load from torchvision://resnet50 \n",
      " \n",
      "2022-03-25 11:29:17,079 - mmcv - INFO - \n",
      "backbone.layer2.0.bn3.weight - torch.Size([512]): \n",
      "PretrainedInit: load from torchvision://resnet50 \n",
      " \n",
      "2022-03-25 11:29:17,080 - mmcv - INFO - \n",
      "backbone.layer2.0.bn3.bias - torch.Size([512]): \n",
      "PretrainedInit: load from torchvision://resnet50 \n",
      " \n",
      "2022-03-25 11:29:17,080 - mmcv - INFO - \n",
      "backbone.layer2.0.downsample.0.weight - torch.Size([512, 256, 1, 1]): \n",
      "PretrainedInit: load from torchvision://resnet50 \n",
      " \n",
      "2022-03-25 11:29:17,081 - mmcv - INFO - \n",
      "backbone.layer2.0.downsample.1.weight - torch.Size([512]): \n",
      "PretrainedInit: load from torchvision://resnet50 \n",
      " \n",
      "2022-03-25 11:29:17,081 - mmcv - INFO - \n",
      "backbone.layer2.0.downsample.1.bias - torch.Size([512]): \n",
      "PretrainedInit: load from torchvision://resnet50 \n",
      " \n",
      "2022-03-25 11:29:17,082 - mmcv - INFO - \n",
      "backbone.layer2.1.conv1.weight - torch.Size([128, 512, 1, 1]): \n",
      "PretrainedInit: load from torchvision://resnet50 \n",
      " \n",
      "2022-03-25 11:29:17,082 - mmcv - INFO - \n",
      "backbone.layer2.1.bn1.weight - torch.Size([128]): \n",
      "PretrainedInit: load from torchvision://resnet50 \n",
      " \n",
      "2022-03-25 11:29:17,083 - mmcv - INFO - \n",
      "backbone.layer2.1.bn1.bias - torch.Size([128]): \n",
      "PretrainedInit: load from torchvision://resnet50 \n",
      " \n",
      "2022-03-25 11:29:17,083 - mmcv - INFO - \n",
      "backbone.layer2.1.conv2.weight - torch.Size([128, 128, 3, 3]): \n",
      "PretrainedInit: load from torchvision://resnet50 \n",
      " \n",
      "2022-03-25 11:29:17,084 - mmcv - INFO - \n",
      "backbone.layer2.1.bn2.weight - torch.Size([128]): \n",
      "PretrainedInit: load from torchvision://resnet50 \n",
      " \n",
      "2022-03-25 11:29:17,084 - mmcv - INFO - \n",
      "backbone.layer2.1.bn2.bias - torch.Size([128]): \n",
      "PretrainedInit: load from torchvision://resnet50 \n",
      " \n",
      "2022-03-25 11:29:17,085 - mmcv - INFO - \n",
      "backbone.layer2.1.conv3.weight - torch.Size([512, 128, 1, 1]): \n",
      "PretrainedInit: load from torchvision://resnet50 \n",
      " \n",
      "2022-03-25 11:29:17,085 - mmcv - INFO - \n",
      "backbone.layer2.1.bn3.weight - torch.Size([512]): \n",
      "PretrainedInit: load from torchvision://resnet50 \n",
      " \n",
      "2022-03-25 11:29:17,086 - mmcv - INFO - \n",
      "backbone.layer2.1.bn3.bias - torch.Size([512]): \n",
      "PretrainedInit: load from torchvision://resnet50 \n",
      " \n",
      "2022-03-25 11:29:17,086 - mmcv - INFO - \n",
      "backbone.layer2.2.conv1.weight - torch.Size([128, 512, 1, 1]): \n",
      "PretrainedInit: load from torchvision://resnet50 \n",
      " \n",
      "2022-03-25 11:29:17,087 - mmcv - INFO - \n",
      "backbone.layer2.2.bn1.weight - torch.Size([128]): \n",
      "PretrainedInit: load from torchvision://resnet50 \n",
      " \n",
      "2022-03-25 11:29:17,087 - mmcv - INFO - \n",
      "backbone.layer2.2.bn1.bias - torch.Size([128]): \n",
      "PretrainedInit: load from torchvision://resnet50 \n",
      " \n",
      "2022-03-25 11:29:17,088 - mmcv - INFO - \n",
      "backbone.layer2.2.conv2.weight - torch.Size([128, 128, 3, 3]): \n",
      "PretrainedInit: load from torchvision://resnet50 \n",
      " \n",
      "2022-03-25 11:29:17,088 - mmcv - INFO - \n",
      "backbone.layer2.2.bn2.weight - torch.Size([128]): \n",
      "PretrainedInit: load from torchvision://resnet50 \n",
      " \n",
      "2022-03-25 11:29:17,089 - mmcv - INFO - \n",
      "backbone.layer2.2.bn2.bias - torch.Size([128]): \n",
      "PretrainedInit: load from torchvision://resnet50 \n",
      " \n",
      "2022-03-25 11:29:17,089 - mmcv - INFO - \n",
      "backbone.layer2.2.conv3.weight - torch.Size([512, 128, 1, 1]): \n",
      "PretrainedInit: load from torchvision://resnet50 \n",
      " \n",
      "2022-03-25 11:29:17,090 - mmcv - INFO - \n",
      "backbone.layer2.2.bn3.weight - torch.Size([512]): \n",
      "PretrainedInit: load from torchvision://resnet50 \n",
      " \n",
      "2022-03-25 11:29:17,090 - mmcv - INFO - \n",
      "backbone.layer2.2.bn3.bias - torch.Size([512]): \n",
      "PretrainedInit: load from torchvision://resnet50 \n",
      " \n",
      "2022-03-25 11:29:17,091 - mmcv - INFO - \n",
      "backbone.layer2.3.conv1.weight - torch.Size([128, 512, 1, 1]): \n",
      "PretrainedInit: load from torchvision://resnet50 \n",
      " \n",
      "2022-03-25 11:29:17,091 - mmcv - INFO - \n",
      "backbone.layer2.3.bn1.weight - torch.Size([128]): \n",
      "PretrainedInit: load from torchvision://resnet50 \n",
      " \n",
      "2022-03-25 11:29:17,092 - mmcv - INFO - \n",
      "backbone.layer2.3.bn1.bias - torch.Size([128]): \n",
      "PretrainedInit: load from torchvision://resnet50 \n",
      " \n",
      "2022-03-25 11:29:17,092 - mmcv - INFO - \n",
      "backbone.layer2.3.conv2.weight - torch.Size([128, 128, 3, 3]): \n",
      "PretrainedInit: load from torchvision://resnet50 \n",
      " \n",
      "2022-03-25 11:29:17,093 - mmcv - INFO - \n",
      "backbone.layer2.3.bn2.weight - torch.Size([128]): \n",
      "PretrainedInit: load from torchvision://resnet50 \n",
      " \n",
      "2022-03-25 11:29:17,093 - mmcv - INFO - \n",
      "backbone.layer2.3.bn2.bias - torch.Size([128]): \n",
      "PretrainedInit: load from torchvision://resnet50 \n",
      " \n",
      "2022-03-25 11:29:17,094 - mmcv - INFO - \n",
      "backbone.layer2.3.conv3.weight - torch.Size([512, 128, 1, 1]): \n",
      "PretrainedInit: load from torchvision://resnet50 \n",
      " \n",
      "2022-03-25 11:29:17,094 - mmcv - INFO - \n",
      "backbone.layer2.3.bn3.weight - torch.Size([512]): \n",
      "PretrainedInit: load from torchvision://resnet50 \n",
      " \n",
      "2022-03-25 11:29:17,095 - mmcv - INFO - \n",
      "backbone.layer2.3.bn3.bias - torch.Size([512]): \n",
      "PretrainedInit: load from torchvision://resnet50 \n",
      " \n",
      "2022-03-25 11:29:17,095 - mmcv - INFO - \n",
      "backbone.layer3.0.conv1.weight - torch.Size([256, 512, 1, 1]): \n",
      "PretrainedInit: load from torchvision://resnet50 \n",
      " \n",
      "2022-03-25 11:29:17,096 - mmcv - INFO - \n",
      "backbone.layer3.0.bn1.weight - torch.Size([256]): \n",
      "PretrainedInit: load from torchvision://resnet50 \n",
      " \n",
      "2022-03-25 11:29:17,096 - mmcv - INFO - \n",
      "backbone.layer3.0.bn1.bias - torch.Size([256]): \n",
      "PretrainedInit: load from torchvision://resnet50 \n",
      " \n",
      "2022-03-25 11:29:17,097 - mmcv - INFO - \n",
      "backbone.layer3.0.conv2.weight - torch.Size([256, 256, 3, 3]): \n",
      "PretrainedInit: load from torchvision://resnet50 \n",
      " \n",
      "2022-03-25 11:29:17,097 - mmcv - INFO - \n",
      "backbone.layer3.0.bn2.weight - torch.Size([256]): \n",
      "PretrainedInit: load from torchvision://resnet50 \n",
      " \n",
      "2022-03-25 11:29:17,098 - mmcv - INFO - \n",
      "backbone.layer3.0.bn2.bias - torch.Size([256]): \n",
      "PretrainedInit: load from torchvision://resnet50 \n",
      " \n",
      "2022-03-25 11:29:17,098 - mmcv - INFO - \n",
      "backbone.layer3.0.conv3.weight - torch.Size([1024, 256, 1, 1]): \n",
      "PretrainedInit: load from torchvision://resnet50 \n",
      " \n",
      "2022-03-25 11:29:17,099 - mmcv - INFO - \n",
      "backbone.layer3.0.bn3.weight - torch.Size([1024]): \n",
      "PretrainedInit: load from torchvision://resnet50 \n",
      " \n",
      "2022-03-25 11:29:17,099 - mmcv - INFO - \n",
      "backbone.layer3.0.bn3.bias - torch.Size([1024]): \n",
      "PretrainedInit: load from torchvision://resnet50 \n",
      " \n",
      "2022-03-25 11:29:17,100 - mmcv - INFO - \n",
      "backbone.layer3.0.downsample.0.weight - torch.Size([1024, 512, 1, 1]): \n",
      "PretrainedInit: load from torchvision://resnet50 \n",
      " \n",
      "2022-03-25 11:29:17,100 - mmcv - INFO - \n",
      "backbone.layer3.0.downsample.1.weight - torch.Size([1024]): \n",
      "PretrainedInit: load from torchvision://resnet50 \n",
      " \n",
      "2022-03-25 11:29:17,100 - mmcv - INFO - \n",
      "backbone.layer3.0.downsample.1.bias - torch.Size([1024]): \n",
      "PretrainedInit: load from torchvision://resnet50 \n",
      " \n",
      "2022-03-25 11:29:17,101 - mmcv - INFO - \n",
      "backbone.layer3.1.conv1.weight - torch.Size([256, 1024, 1, 1]): \n",
      "PretrainedInit: load from torchvision://resnet50 \n",
      " \n",
      "2022-03-25 11:29:17,101 - mmcv - INFO - \n",
      "backbone.layer3.1.bn1.weight - torch.Size([256]): \n",
      "PretrainedInit: load from torchvision://resnet50 \n",
      " \n",
      "2022-03-25 11:29:17,102 - mmcv - INFO - \n",
      "backbone.layer3.1.bn1.bias - torch.Size([256]): \n",
      "PretrainedInit: load from torchvision://resnet50 \n",
      " \n",
      "2022-03-25 11:29:17,102 - mmcv - INFO - \n",
      "backbone.layer3.1.conv2.weight - torch.Size([256, 256, 3, 3]): \n",
      "PretrainedInit: load from torchvision://resnet50 \n",
      " \n",
      "2022-03-25 11:29:17,103 - mmcv - INFO - \n",
      "backbone.layer3.1.bn2.weight - torch.Size([256]): \n",
      "PretrainedInit: load from torchvision://resnet50 \n",
      " \n",
      "2022-03-25 11:29:17,103 - mmcv - INFO - \n",
      "backbone.layer3.1.bn2.bias - torch.Size([256]): \n",
      "PretrainedInit: load from torchvision://resnet50 \n",
      " \n",
      "2022-03-25 11:29:17,104 - mmcv - INFO - \n",
      "backbone.layer3.1.conv3.weight - torch.Size([1024, 256, 1, 1]): \n",
      "PretrainedInit: load from torchvision://resnet50 \n",
      " \n",
      "2022-03-25 11:29:17,104 - mmcv - INFO - \n",
      "backbone.layer3.1.bn3.weight - torch.Size([1024]): \n",
      "PretrainedInit: load from torchvision://resnet50 \n",
      " \n",
      "2022-03-25 11:29:17,105 - mmcv - INFO - \n",
      "backbone.layer3.1.bn3.bias - torch.Size([1024]): \n",
      "PretrainedInit: load from torchvision://resnet50 \n",
      " \n",
      "2022-03-25 11:29:17,105 - mmcv - INFO - \n",
      "backbone.layer3.2.conv1.weight - torch.Size([256, 1024, 1, 1]): \n",
      "PretrainedInit: load from torchvision://resnet50 \n",
      " \n",
      "2022-03-25 11:29:17,106 - mmcv - INFO - \n",
      "backbone.layer3.2.bn1.weight - torch.Size([256]): \n",
      "PretrainedInit: load from torchvision://resnet50 \n",
      " \n",
      "2022-03-25 11:29:17,106 - mmcv - INFO - \n",
      "backbone.layer3.2.bn1.bias - torch.Size([256]): \n",
      "PretrainedInit: load from torchvision://resnet50 \n",
      " \n",
      "2022-03-25 11:29:17,107 - mmcv - INFO - \n",
      "backbone.layer3.2.conv2.weight - torch.Size([256, 256, 3, 3]): \n",
      "PretrainedInit: load from torchvision://resnet50 \n",
      " \n",
      "2022-03-25 11:29:17,107 - mmcv - INFO - \n",
      "backbone.layer3.2.bn2.weight - torch.Size([256]): \n",
      "PretrainedInit: load from torchvision://resnet50 \n",
      " \n",
      "2022-03-25 11:29:17,108 - mmcv - INFO - \n",
      "backbone.layer3.2.bn2.bias - torch.Size([256]): \n",
      "PretrainedInit: load from torchvision://resnet50 \n",
      " \n",
      "2022-03-25 11:29:17,108 - mmcv - INFO - \n",
      "backbone.layer3.2.conv3.weight - torch.Size([1024, 256, 1, 1]): \n",
      "PretrainedInit: load from torchvision://resnet50 \n",
      " \n",
      "2022-03-25 11:29:17,109 - mmcv - INFO - \n",
      "backbone.layer3.2.bn3.weight - torch.Size([1024]): \n",
      "PretrainedInit: load from torchvision://resnet50 \n",
      " \n",
      "2022-03-25 11:29:17,109 - mmcv - INFO - \n",
      "backbone.layer3.2.bn3.bias - torch.Size([1024]): \n",
      "PretrainedInit: load from torchvision://resnet50 \n",
      " \n",
      "2022-03-25 11:29:17,109 - mmcv - INFO - \n",
      "backbone.layer3.3.conv1.weight - torch.Size([256, 1024, 1, 1]): \n",
      "PretrainedInit: load from torchvision://resnet50 \n",
      " \n",
      "2022-03-25 11:29:17,110 - mmcv - INFO - \n",
      "backbone.layer3.3.bn1.weight - torch.Size([256]): \n",
      "PretrainedInit: load from torchvision://resnet50 \n",
      " \n",
      "2022-03-25 11:29:17,110 - mmcv - INFO - \n",
      "backbone.layer3.3.bn1.bias - torch.Size([256]): \n",
      "PretrainedInit: load from torchvision://resnet50 \n",
      " \n",
      "2022-03-25 11:29:17,111 - mmcv - INFO - \n",
      "backbone.layer3.3.conv2.weight - torch.Size([256, 256, 3, 3]): \n",
      "PretrainedInit: load from torchvision://resnet50 \n",
      " \n",
      "2022-03-25 11:29:17,111 - mmcv - INFO - \n",
      "backbone.layer3.3.bn2.weight - torch.Size([256]): \n",
      "PretrainedInit: load from torchvision://resnet50 \n",
      " \n",
      "2022-03-25 11:29:17,112 - mmcv - INFO - \n",
      "backbone.layer3.3.bn2.bias - torch.Size([256]): \n",
      "PretrainedInit: load from torchvision://resnet50 \n",
      " \n",
      "2022-03-25 11:29:17,112 - mmcv - INFO - \n",
      "backbone.layer3.3.conv3.weight - torch.Size([1024, 256, 1, 1]): \n",
      "PretrainedInit: load from torchvision://resnet50 \n",
      " \n",
      "2022-03-25 11:29:17,113 - mmcv - INFO - \n",
      "backbone.layer3.3.bn3.weight - torch.Size([1024]): \n",
      "PretrainedInit: load from torchvision://resnet50 \n",
      " \n",
      "2022-03-25 11:29:17,113 - mmcv - INFO - \n",
      "backbone.layer3.3.bn3.bias - torch.Size([1024]): \n",
      "PretrainedInit: load from torchvision://resnet50 \n",
      " \n",
      "2022-03-25 11:29:17,114 - mmcv - INFO - \n",
      "backbone.layer3.4.conv1.weight - torch.Size([256, 1024, 1, 1]): \n",
      "PretrainedInit: load from torchvision://resnet50 \n",
      " \n",
      "2022-03-25 11:29:17,114 - mmcv - INFO - \n",
      "backbone.layer3.4.bn1.weight - torch.Size([256]): \n",
      "PretrainedInit: load from torchvision://resnet50 \n",
      " \n",
      "2022-03-25 11:29:17,115 - mmcv - INFO - \n",
      "backbone.layer3.4.bn1.bias - torch.Size([256]): \n",
      "PretrainedInit: load from torchvision://resnet50 \n",
      " \n",
      "2022-03-25 11:29:17,115 - mmcv - INFO - \n",
      "backbone.layer3.4.conv2.weight - torch.Size([256, 256, 3, 3]): \n",
      "PretrainedInit: load from torchvision://resnet50 \n",
      " \n",
      "2022-03-25 11:29:17,116 - mmcv - INFO - \n",
      "backbone.layer3.4.bn2.weight - torch.Size([256]): \n",
      "PretrainedInit: load from torchvision://resnet50 \n",
      " \n",
      "2022-03-25 11:29:17,116 - mmcv - INFO - \n",
      "backbone.layer3.4.bn2.bias - torch.Size([256]): \n",
      "PretrainedInit: load from torchvision://resnet50 \n",
      " \n",
      "2022-03-25 11:29:17,117 - mmcv - INFO - \n",
      "backbone.layer3.4.conv3.weight - torch.Size([1024, 256, 1, 1]): \n",
      "PretrainedInit: load from torchvision://resnet50 \n",
      " \n",
      "2022-03-25 11:29:17,117 - mmcv - INFO - \n",
      "backbone.layer3.4.bn3.weight - torch.Size([1024]): \n",
      "PretrainedInit: load from torchvision://resnet50 \n",
      " \n",
      "2022-03-25 11:29:17,118 - mmcv - INFO - \n",
      "backbone.layer3.4.bn3.bias - torch.Size([1024]): \n",
      "PretrainedInit: load from torchvision://resnet50 \n",
      " \n",
      "2022-03-25 11:29:17,118 - mmcv - INFO - \n",
      "backbone.layer3.5.conv1.weight - torch.Size([256, 1024, 1, 1]): \n",
      "PretrainedInit: load from torchvision://resnet50 \n",
      " \n",
      "2022-03-25 11:29:17,119 - mmcv - INFO - \n",
      "backbone.layer3.5.bn1.weight - torch.Size([256]): \n",
      "PretrainedInit: load from torchvision://resnet50 \n",
      " \n",
      "2022-03-25 11:29:17,119 - mmcv - INFO - \n",
      "backbone.layer3.5.bn1.bias - torch.Size([256]): \n",
      "PretrainedInit: load from torchvision://resnet50 \n",
      " \n",
      "2022-03-25 11:29:17,119 - mmcv - INFO - \n",
      "backbone.layer3.5.conv2.weight - torch.Size([256, 256, 3, 3]): \n",
      "PretrainedInit: load from torchvision://resnet50 \n",
      " \n",
      "2022-03-25 11:29:17,120 - mmcv - INFO - \n",
      "backbone.layer3.5.bn2.weight - torch.Size([256]): \n",
      "PretrainedInit: load from torchvision://resnet50 \n",
      " \n",
      "2022-03-25 11:29:17,120 - mmcv - INFO - \n",
      "backbone.layer3.5.bn2.bias - torch.Size([256]): \n",
      "PretrainedInit: load from torchvision://resnet50 \n",
      " \n",
      "2022-03-25 11:29:17,121 - mmcv - INFO - \n",
      "backbone.layer3.5.conv3.weight - torch.Size([1024, 256, 1, 1]): \n",
      "PretrainedInit: load from torchvision://resnet50 \n",
      " \n",
      "2022-03-25 11:29:17,121 - mmcv - INFO - \n",
      "backbone.layer3.5.bn3.weight - torch.Size([1024]): \n",
      "PretrainedInit: load from torchvision://resnet50 \n",
      " \n",
      "2022-03-25 11:29:17,122 - mmcv - INFO - \n",
      "backbone.layer3.5.bn3.bias - torch.Size([1024]): \n",
      "PretrainedInit: load from torchvision://resnet50 \n",
      " \n",
      "2022-03-25 11:29:17,122 - mmcv - INFO - \n",
      "backbone.layer4.0.conv1.weight - torch.Size([512, 1024, 1, 1]): \n",
      "PretrainedInit: load from torchvision://resnet50 \n",
      " \n",
      "2022-03-25 11:29:17,123 - mmcv - INFO - \n",
      "backbone.layer4.0.bn1.weight - torch.Size([512]): \n",
      "PretrainedInit: load from torchvision://resnet50 \n",
      " \n",
      "2022-03-25 11:29:17,123 - mmcv - INFO - \n",
      "backbone.layer4.0.bn1.bias - torch.Size([512]): \n",
      "PretrainedInit: load from torchvision://resnet50 \n",
      " \n",
      "2022-03-25 11:29:17,124 - mmcv - INFO - \n",
      "backbone.layer4.0.conv2.weight - torch.Size([512, 512, 3, 3]): \n",
      "PretrainedInit: load from torchvision://resnet50 \n",
      " \n",
      "2022-03-25 11:29:17,124 - mmcv - INFO - \n",
      "backbone.layer4.0.bn2.weight - torch.Size([512]): \n",
      "PretrainedInit: load from torchvision://resnet50 \n",
      " \n",
      "2022-03-25 11:29:17,125 - mmcv - INFO - \n",
      "backbone.layer4.0.bn2.bias - torch.Size([512]): \n",
      "PretrainedInit: load from torchvision://resnet50 \n",
      " \n",
      "2022-03-25 11:29:17,125 - mmcv - INFO - \n",
      "backbone.layer4.0.conv3.weight - torch.Size([2048, 512, 1, 1]): \n",
      "PretrainedInit: load from torchvision://resnet50 \n",
      " \n",
      "2022-03-25 11:29:17,126 - mmcv - INFO - \n",
      "backbone.layer4.0.bn3.weight - torch.Size([2048]): \n",
      "PretrainedInit: load from torchvision://resnet50 \n",
      " \n",
      "2022-03-25 11:29:17,126 - mmcv - INFO - \n",
      "backbone.layer4.0.bn3.bias - torch.Size([2048]): \n",
      "PretrainedInit: load from torchvision://resnet50 \n",
      " \n",
      "2022-03-25 11:29:17,127 - mmcv - INFO - \n",
      "backbone.layer4.0.downsample.0.weight - torch.Size([2048, 1024, 1, 1]): \n",
      "PretrainedInit: load from torchvision://resnet50 \n",
      " \n",
      "2022-03-25 11:29:17,127 - mmcv - INFO - \n",
      "backbone.layer4.0.downsample.1.weight - torch.Size([2048]): \n",
      "PretrainedInit: load from torchvision://resnet50 \n",
      " \n",
      "2022-03-25 11:29:17,128 - mmcv - INFO - \n",
      "backbone.layer4.0.downsample.1.bias - torch.Size([2048]): \n",
      "PretrainedInit: load from torchvision://resnet50 \n",
      " \n",
      "2022-03-25 11:29:17,128 - mmcv - INFO - \n",
      "backbone.layer4.1.conv1.weight - torch.Size([512, 2048, 1, 1]): \n",
      "PretrainedInit: load from torchvision://resnet50 \n",
      " \n",
      "2022-03-25 11:29:17,129 - mmcv - INFO - \n",
      "backbone.layer4.1.bn1.weight - torch.Size([512]): \n",
      "PretrainedInit: load from torchvision://resnet50 \n",
      " \n",
      "2022-03-25 11:29:17,129 - mmcv - INFO - \n",
      "backbone.layer4.1.bn1.bias - torch.Size([512]): \n",
      "PretrainedInit: load from torchvision://resnet50 \n",
      " \n",
      "2022-03-25 11:29:17,129 - mmcv - INFO - \n",
      "backbone.layer4.1.conv2.weight - torch.Size([512, 512, 3, 3]): \n",
      "PretrainedInit: load from torchvision://resnet50 \n",
      " \n",
      "2022-03-25 11:29:17,130 - mmcv - INFO - \n",
      "backbone.layer4.1.bn2.weight - torch.Size([512]): \n",
      "PretrainedInit: load from torchvision://resnet50 \n",
      " \n",
      "2022-03-25 11:29:17,130 - mmcv - INFO - \n",
      "backbone.layer4.1.bn2.bias - torch.Size([512]): \n",
      "PretrainedInit: load from torchvision://resnet50 \n",
      " \n",
      "2022-03-25 11:29:17,131 - mmcv - INFO - \n",
      "backbone.layer4.1.conv3.weight - torch.Size([2048, 512, 1, 1]): \n",
      "PretrainedInit: load from torchvision://resnet50 \n",
      " \n",
      "2022-03-25 11:29:17,131 - mmcv - INFO - \n",
      "backbone.layer4.1.bn3.weight - torch.Size([2048]): \n",
      "PretrainedInit: load from torchvision://resnet50 \n",
      " \n",
      "2022-03-25 11:29:17,132 - mmcv - INFO - \n",
      "backbone.layer4.1.bn3.bias - torch.Size([2048]): \n",
      "PretrainedInit: load from torchvision://resnet50 \n",
      " \n",
      "2022-03-25 11:29:17,132 - mmcv - INFO - \n",
      "backbone.layer4.2.conv1.weight - torch.Size([512, 2048, 1, 1]): \n",
      "PretrainedInit: load from torchvision://resnet50 \n",
      " \n",
      "2022-03-25 11:29:17,133 - mmcv - INFO - \n",
      "backbone.layer4.2.bn1.weight - torch.Size([512]): \n",
      "PretrainedInit: load from torchvision://resnet50 \n",
      " \n",
      "2022-03-25 11:29:17,133 - mmcv - INFO - \n",
      "backbone.layer4.2.bn1.bias - torch.Size([512]): \n",
      "PretrainedInit: load from torchvision://resnet50 \n",
      " \n",
      "2022-03-25 11:29:17,134 - mmcv - INFO - \n",
      "backbone.layer4.2.conv2.weight - torch.Size([512, 512, 3, 3]): \n",
      "PretrainedInit: load from torchvision://resnet50 \n",
      " \n",
      "2022-03-25 11:29:17,134 - mmcv - INFO - \n",
      "backbone.layer4.2.bn2.weight - torch.Size([512]): \n",
      "PretrainedInit: load from torchvision://resnet50 \n",
      " \n",
      "2022-03-25 11:29:17,135 - mmcv - INFO - \n",
      "backbone.layer4.2.bn2.bias - torch.Size([512]): \n",
      "PretrainedInit: load from torchvision://resnet50 \n",
      " \n",
      "2022-03-25 11:29:17,135 - mmcv - INFO - \n",
      "backbone.layer4.2.conv3.weight - torch.Size([2048, 512, 1, 1]): \n",
      "PretrainedInit: load from torchvision://resnet50 \n",
      " \n",
      "2022-03-25 11:29:17,136 - mmcv - INFO - \n",
      "backbone.layer4.2.bn3.weight - torch.Size([2048]): \n",
      "PretrainedInit: load from torchvision://resnet50 \n",
      " \n",
      "2022-03-25 11:29:17,136 - mmcv - INFO - \n",
      "backbone.layer4.2.bn3.bias - torch.Size([2048]): \n",
      "PretrainedInit: load from torchvision://resnet50 \n",
      " \n",
      "2022-03-25 11:29:17,137 - mmcv - INFO - \n",
      "neck.lateral_convs.0.conv.weight - torch.Size([256, 256, 1, 1]): \n",
      "XavierInit: gain=1, distribution=uniform, bias=0 \n",
      " \n",
      "2022-03-25 11:29:17,137 - mmcv - INFO - \n",
      "neck.lateral_convs.0.conv.bias - torch.Size([256]): \n",
      "The value is the same before and after calling `init_weights` of FasterRCNN  \n",
      " \n",
      "2022-03-25 11:29:17,138 - mmcv - INFO - \n",
      "neck.lateral_convs.1.conv.weight - torch.Size([256, 512, 1, 1]): \n",
      "XavierInit: gain=1, distribution=uniform, bias=0 \n",
      " \n",
      "2022-03-25 11:29:17,138 - mmcv - INFO - \n",
      "neck.lateral_convs.1.conv.bias - torch.Size([256]): \n",
      "The value is the same before and after calling `init_weights` of FasterRCNN  \n",
      " \n",
      "2022-03-25 11:29:17,139 - mmcv - INFO - \n",
      "neck.lateral_convs.2.conv.weight - torch.Size([256, 1024, 1, 1]): \n",
      "XavierInit: gain=1, distribution=uniform, bias=0 \n",
      " \n",
      "2022-03-25 11:29:17,139 - mmcv - INFO - \n",
      "neck.lateral_convs.2.conv.bias - torch.Size([256]): \n",
      "The value is the same before and after calling `init_weights` of FasterRCNN  \n",
      " \n",
      "2022-03-25 11:29:17,140 - mmcv - INFO - \n",
      "neck.lateral_convs.3.conv.weight - torch.Size([256, 2048, 1, 1]): \n",
      "XavierInit: gain=1, distribution=uniform, bias=0 \n",
      " \n",
      "2022-03-25 11:29:17,140 - mmcv - INFO - \n",
      "neck.lateral_convs.3.conv.bias - torch.Size([256]): \n",
      "The value is the same before and after calling `init_weights` of FasterRCNN  \n",
      " \n",
      "2022-03-25 11:29:17,140 - mmcv - INFO - \n",
      "neck.fpn_convs.0.conv.weight - torch.Size([256, 256, 3, 3]): \n",
      "XavierInit: gain=1, distribution=uniform, bias=0 \n",
      " \n",
      "2022-03-25 11:29:17,141 - mmcv - INFO - \n",
      "neck.fpn_convs.0.conv.bias - torch.Size([256]): \n",
      "The value is the same before and after calling `init_weights` of FasterRCNN  \n",
      " \n",
      "2022-03-25 11:29:17,141 - mmcv - INFO - \n",
      "neck.fpn_convs.1.conv.weight - torch.Size([256, 256, 3, 3]): \n",
      "XavierInit: gain=1, distribution=uniform, bias=0 \n",
      " \n",
      "2022-03-25 11:29:17,142 - mmcv - INFO - \n",
      "neck.fpn_convs.1.conv.bias - torch.Size([256]): \n",
      "The value is the same before and after calling `init_weights` of FasterRCNN  \n",
      " \n",
      "2022-03-25 11:29:17,142 - mmcv - INFO - \n",
      "neck.fpn_convs.2.conv.weight - torch.Size([256, 256, 3, 3]): \n",
      "XavierInit: gain=1, distribution=uniform, bias=0 \n",
      " \n",
      "2022-03-25 11:29:17,143 - mmcv - INFO - \n",
      "neck.fpn_convs.2.conv.bias - torch.Size([256]): \n",
      "The value is the same before and after calling `init_weights` of FasterRCNN  \n",
      " \n",
      "2022-03-25 11:29:17,143 - mmcv - INFO - \n",
      "neck.fpn_convs.3.conv.weight - torch.Size([256, 256, 3, 3]): \n",
      "XavierInit: gain=1, distribution=uniform, bias=0 \n",
      " \n",
      "2022-03-25 11:29:17,144 - mmcv - INFO - \n",
      "neck.fpn_convs.3.conv.bias - torch.Size([256]): \n",
      "The value is the same before and after calling `init_weights` of FasterRCNN  \n",
      " \n",
      "2022-03-25 11:29:17,144 - mmcv - INFO - \n",
      "rpn_head.rpn_conv.weight - torch.Size([256, 256, 3, 3]): \n",
      "NormalInit: mean=0, std=0.01, bias=0 \n",
      " \n",
      "2022-03-25 11:29:17,145 - mmcv - INFO - \n",
      "rpn_head.rpn_conv.bias - torch.Size([256]): \n",
      "NormalInit: mean=0, std=0.01, bias=0 \n",
      " \n",
      "2022-03-25 11:29:17,145 - mmcv - INFO - \n",
      "rpn_head.rpn_cls.weight - torch.Size([3, 256, 1, 1]): \n",
      "NormalInit: mean=0, std=0.01, bias=0 \n",
      " \n",
      "2022-03-25 11:29:17,146 - mmcv - INFO - \n",
      "rpn_head.rpn_cls.bias - torch.Size([3]): \n",
      "NormalInit: mean=0, std=0.01, bias=0 \n",
      " \n",
      "2022-03-25 11:29:17,146 - mmcv - INFO - \n",
      "rpn_head.rpn_reg.weight - torch.Size([12, 256, 1, 1]): \n",
      "NormalInit: mean=0, std=0.01, bias=0 \n",
      " \n",
      "2022-03-25 11:29:17,147 - mmcv - INFO - \n",
      "rpn_head.rpn_reg.bias - torch.Size([12]): \n",
      "NormalInit: mean=0, std=0.01, bias=0 \n",
      " \n",
      "2022-03-25 11:29:17,147 - mmcv - INFO - \n",
      "roi_head.bbox_head.fc_cls.weight - torch.Size([11, 1024]): \n",
      "NormalInit: mean=0, std=0.01, bias=0 \n",
      " \n",
      "2022-03-25 11:29:17,148 - mmcv - INFO - \n",
      "roi_head.bbox_head.fc_cls.bias - torch.Size([11]): \n",
      "NormalInit: mean=0, std=0.01, bias=0 \n",
      " \n",
      "2022-03-25 11:29:17,148 - mmcv - INFO - \n",
      "roi_head.bbox_head.fc_reg.weight - torch.Size([40, 1024]): \n",
      "NormalInit: mean=0, std=0.001, bias=0 \n",
      " \n",
      "2022-03-25 11:29:17,149 - mmcv - INFO - \n",
      "roi_head.bbox_head.fc_reg.bias - torch.Size([40]): \n",
      "NormalInit: mean=0, std=0.001, bias=0 \n",
      " \n",
      "2022-03-25 11:29:17,149 - mmcv - INFO - \n",
      "roi_head.bbox_head.shared_fcs.0.weight - torch.Size([1024, 12544]): \n",
      "XavierInit: gain=1, distribution=uniform, bias=0 \n",
      " \n",
      "2022-03-25 11:29:17,150 - mmcv - INFO - \n",
      "roi_head.bbox_head.shared_fcs.0.bias - torch.Size([1024]): \n",
      "XavierInit: gain=1, distribution=uniform, bias=0 \n",
      " \n",
      "2022-03-25 11:29:17,150 - mmcv - INFO - \n",
      "roi_head.bbox_head.shared_fcs.1.weight - torch.Size([1024, 1024]): \n",
      "XavierInit: gain=1, distribution=uniform, bias=0 \n",
      " \n",
      "2022-03-25 11:29:17,150 - mmcv - INFO - \n",
      "roi_head.bbox_head.shared_fcs.1.bias - torch.Size([1024]): \n",
      "XavierInit: gain=1, distribution=uniform, bias=0 \n",
      " \n"
     ]
    }
   ],
   "source": [
    "# 모델 build 및 pretrained network 불러오기\n",
    "model = build_detector(cfg.model)\n",
    "model.init_weights()"
   ]
  },
  {
   "cell_type": "code",
   "execution_count": 395,
   "metadata": {
    "tags": []
   },
   "outputs": [
    {
     "name": "stderr",
     "output_type": "stream",
     "text": [
      "2022-03-25 11:29:17,247 - mmdet - INFO - Start running, host: root@37aa03e6016b, work_dir: /opt/ml/detection/baseline/mmdetection/work_dirs/MM_Faster_RCNN_Adam-0.00005_aug_768size\n",
      "2022-03-25 11:29:17,248 - mmdet - INFO - Hooks will be executed in the following order:\n",
      "before_run:\n",
      "(VERY_HIGH   ) StepLrUpdaterHook                  \n",
      "(NORMAL      ) CheckpointHook                     \n",
      "(LOW         ) EvalHook                           \n",
      "(VERY_LOW    ) TextLoggerHook                     \n",
      "(VERY_LOW    ) WandbLoggerHook                    \n",
      " -------------------- \n",
      "before_train_epoch:\n",
      "(VERY_HIGH   ) StepLrUpdaterHook                  \n",
      "(NORMAL      ) NumClassCheckHook                  \n",
      "(LOW         ) IterTimerHook                      \n",
      "(LOW         ) EvalHook                           \n",
      "(VERY_LOW    ) TextLoggerHook                     \n",
      "(VERY_LOW    ) WandbLoggerHook                    \n",
      " -------------------- \n",
      "before_train_iter:\n",
      "(VERY_HIGH   ) StepLrUpdaterHook                  \n",
      "(LOW         ) IterTimerHook                      \n",
      "(LOW         ) EvalHook                           \n",
      " -------------------- \n",
      "after_train_iter:\n",
      "(ABOVE_NORMAL) OptimizerHook                      \n",
      "(NORMAL      ) CheckpointHook                     \n",
      "(LOW         ) IterTimerHook                      \n",
      "(LOW         ) EvalHook                           \n",
      "(VERY_LOW    ) TextLoggerHook                     \n",
      "(VERY_LOW    ) WandbLoggerHook                    \n",
      " -------------------- \n",
      "after_train_epoch:\n",
      "(NORMAL      ) CheckpointHook                     \n",
      "(LOW         ) EvalHook                           \n",
      "(VERY_LOW    ) TextLoggerHook                     \n",
      "(VERY_LOW    ) WandbLoggerHook                    \n",
      " -------------------- \n",
      "before_val_epoch:\n",
      "(NORMAL      ) NumClassCheckHook                  \n",
      "(LOW         ) IterTimerHook                      \n",
      "(VERY_LOW    ) TextLoggerHook                     \n",
      "(VERY_LOW    ) WandbLoggerHook                    \n",
      " -------------------- \n",
      "before_val_iter:\n",
      "(LOW         ) IterTimerHook                      \n",
      " -------------------- \n",
      "after_val_iter:\n",
      "(LOW         ) IterTimerHook                      \n",
      " -------------------- \n",
      "after_val_epoch:\n",
      "(VERY_LOW    ) TextLoggerHook                     \n",
      "(VERY_LOW    ) WandbLoggerHook                    \n",
      " -------------------- \n",
      "after_run:\n",
      "(VERY_LOW    ) TextLoggerHook                     \n",
      "(VERY_LOW    ) WandbLoggerHook                    \n",
      " -------------------- \n",
      "2022-03-25 11:29:17,249 - mmdet - INFO - workflow: [('train', 1)], max: 35 epochs\n",
      "2022-03-25 11:29:17,249 - mmdet - INFO - Checkpoints will be saved to /opt/ml/detection/baseline/mmdetection/work_dirs/MM_Faster_RCNN_Adam-0.00005_aug_768size by HardDiskBackend.\n",
      "/opt/conda/envs/detection/lib/python3.7/site-packages/mmcv/runner/hooks/evaluation.py:222: UserWarning: runner.meta is None. Creating an empty one.\n",
      "  warnings.warn('runner.meta is None. Creating an empty one.')\n"
     ]
    },
    {
     "name": "stdout",
     "output_type": "stream",
     "text": [
      "loading annotations into memory...\n",
      "Done (t=0.01s)\n",
      "creating index...\n",
      "index created!\n"
     ]
    },
    {
     "data": {
      "text/html": [
       "Tracking run with wandb version 0.12.11"
      ],
      "text/plain": [
       "<IPython.core.display.HTML object>"
      ]
     },
     "metadata": {},
     "output_type": "display_data"
    },
    {
     "data": {
      "text/html": [
       "Run data is saved locally in <code>/opt/ml/detection/baseline/mmdetection/wandb/run-20220325_112917-3azgawyf</code>"
      ],
      "text/plain": [
       "<IPython.core.display.HTML object>"
      ]
     },
     "metadata": {},
     "output_type": "display_data"
    },
    {
     "data": {
      "text/html": [
       "Syncing run <strong><a href=\"https://wandb.ai/winner/test-project/runs/3azgawyf\" target=\"_blank\">MM_Faster_RCNN_Adam-0.00005_aug_768size</a></strong> to <a href=\"https://wandb.ai/winner/test-project\" target=\"_blank\">Weights & Biases</a> (<a href=\"https://wandb.me/run\" target=\"_blank\">docs</a>)<br/>"
      ],
      "text/plain": [
       "<IPython.core.display.HTML object>"
      ]
     },
     "metadata": {},
     "output_type": "display_data"
    },
    {
     "name": "stderr",
     "output_type": "stream",
     "text": [
      "2022-03-25 11:29:43,906 - mmdet - INFO - Epoch [1][50/977]\tlr: 4.945e-06, eta: 3:59:22, time: 0.421, data_time: 0.058, memory: 6411, loss_rpn_cls: 0.6133, loss_rpn_bbox: 0.0663, loss_cls: 1.3009, acc: 74.8262, loss_bbox: 0.0762, loss: 2.0567, grad_norm: 20.2568\n",
      "2022-03-25 11:30:02,404 - mmdet - INFO - Epoch [1][100/977]\tlr: 9.940e-06, eta: 3:44:37, time: 0.370, data_time: 0.007, memory: 6411, loss_rpn_cls: 0.2530, loss_rpn_bbox: 0.0723, loss_cls: 0.3216, acc: 94.9746, loss_bbox: 0.1744, loss: 0.8213, grad_norm: 7.8936\n",
      "2022-03-25 11:30:21,217 - mmdet - INFO - Epoch [1][150/977]\tlr: 1.494e-05, eta: 3:40:41, time: 0.376, data_time: 0.007, memory: 6411, loss_rpn_cls: 0.1801, loss_rpn_bbox: 0.0632, loss_cls: 0.3283, acc: 93.8164, loss_bbox: 0.2293, loss: 0.8010, grad_norm: 7.4925\n",
      "2022-03-25 11:30:39,464 - mmdet - INFO - Epoch [1][200/977]\tlr: 1.993e-05, eta: 3:36:58, time: 0.365, data_time: 0.007, memory: 6411, loss_rpn_cls: 0.1324, loss_rpn_bbox: 0.0464, loss_cls: 0.2811, acc: 94.6885, loss_bbox: 0.2013, loss: 0.6613, grad_norm: 5.4993\n",
      "2022-03-25 11:30:57,648 - mmdet - INFO - Epoch [1][250/977]\tlr: 2.493e-05, eta: 3:34:28, time: 0.364, data_time: 0.007, memory: 6411, loss_rpn_cls: 0.1497, loss_rpn_bbox: 0.0522, loss_cls: 0.3228, acc: 94.1826, loss_bbox: 0.2174, loss: 0.7421, grad_norm: 6.8080\n",
      "2022-03-25 11:31:15,819 - mmdet - INFO - Epoch [1][300/977]\tlr: 2.992e-05, eta: 3:32:40, time: 0.363, data_time: 0.007, memory: 6411, loss_rpn_cls: 0.1171, loss_rpn_bbox: 0.0507, loss_cls: 0.3010, acc: 94.3535, loss_bbox: 0.2104, loss: 0.6791, grad_norm: 4.5881\n",
      "2022-03-25 11:31:33,989 - mmdet - INFO - Epoch [1][350/977]\tlr: 3.492e-05, eta: 3:31:18, time: 0.363, data_time: 0.007, memory: 6411, loss_rpn_cls: 0.1433, loss_rpn_bbox: 0.0531, loss_cls: 0.3359, acc: 93.4902, loss_bbox: 0.2378, loss: 0.7700, grad_norm: 5.2898\n",
      "2022-03-25 11:31:52,766 - mmdet - INFO - Epoch [1][400/977]\tlr: 3.991e-05, eta: 3:31:03, time: 0.376, data_time: 0.008, memory: 6411, loss_rpn_cls: 0.1172, loss_rpn_bbox: 0.0447, loss_cls: 0.3357, acc: 93.4727, loss_bbox: 0.2506, loss: 0.7480, grad_norm: 5.8735\n",
      "2022-03-25 11:32:11,504 - mmdet - INFO - Epoch [1][450/977]\tlr: 4.491e-05, eta: 3:30:45, time: 0.375, data_time: 0.007, memory: 6411, loss_rpn_cls: 0.1320, loss_rpn_bbox: 0.0553, loss_cls: 0.3477, acc: 92.9336, loss_bbox: 0.2609, loss: 0.7960, grad_norm: 4.4881\n",
      "2022-03-25 11:32:30,692 - mmdet - INFO - Epoch [1][500/977]\tlr: 4.990e-05, eta: 3:30:56, time: 0.384, data_time: 0.007, memory: 6411, loss_rpn_cls: 0.0907, loss_rpn_bbox: 0.0394, loss_cls: 0.3039, acc: 93.7529, loss_bbox: 0.2351, loss: 0.6690, grad_norm: 4.2668\n",
      "2022-03-25 11:32:49,163 - mmdet - INFO - Epoch [1][550/977]\tlr: 5.000e-05, eta: 3:30:18, time: 0.369, data_time: 0.007, memory: 6411, loss_rpn_cls: 0.1097, loss_rpn_bbox: 0.0461, loss_cls: 0.3462, acc: 92.7871, loss_bbox: 0.2632, loss: 0.7652, grad_norm: 4.8812\n",
      "2022-03-25 11:33:07,321 - mmdet - INFO - Epoch [1][600/977]\tlr: 5.000e-05, eta: 3:29:26, time: 0.363, data_time: 0.007, memory: 6411, loss_rpn_cls: 0.1054, loss_rpn_bbox: 0.0495, loss_cls: 0.3158, acc: 92.7568, loss_bbox: 0.2590, loss: 0.7298, grad_norm: 4.3105\n",
      "2022-03-25 11:33:26,021 - mmdet - INFO - Epoch [1][650/977]\tlr: 5.000e-05, eta: 3:29:07, time: 0.374, data_time: 0.007, memory: 6411, loss_rpn_cls: 0.1033, loss_rpn_bbox: 0.0448, loss_cls: 0.3569, acc: 92.2422, loss_bbox: 0.2776, loss: 0.7826, grad_norm: 4.5733\n",
      "2022-03-25 11:33:44,991 - mmdet - INFO - Epoch [1][700/977]\tlr: 5.000e-05, eta: 3:29:01, time: 0.379, data_time: 0.008, memory: 6411, loss_rpn_cls: 0.1192, loss_rpn_bbox: 0.0506, loss_cls: 0.3758, acc: 91.4932, loss_bbox: 0.2958, loss: 0.8414, grad_norm: 5.3014\n",
      "2022-03-25 11:34:02,844 - mmdet - INFO - Epoch [1][750/977]\tlr: 5.000e-05, eta: 3:28:04, time: 0.357, data_time: 0.007, memory: 6411, loss_rpn_cls: 0.1091, loss_rpn_bbox: 0.0464, loss_cls: 0.3481, acc: 92.6475, loss_bbox: 0.2469, loss: 0.7506, grad_norm: 4.3192\n",
      "2022-03-25 11:34:21,118 - mmdet - INFO - Epoch [1][800/977]\tlr: 5.000e-05, eta: 3:27:29, time: 0.365, data_time: 0.007, memory: 6411, loss_rpn_cls: 0.1114, loss_rpn_bbox: 0.0578, loss_cls: 0.3492, acc: 92.4102, loss_bbox: 0.2557, loss: 0.7741, grad_norm: 4.2734\n",
      "2022-03-25 11:34:39,404 - mmdet - INFO - Epoch [1][850/977]\tlr: 5.000e-05, eta: 3:26:56, time: 0.366, data_time: 0.007, memory: 6411, loss_rpn_cls: 0.0854, loss_rpn_bbox: 0.0424, loss_cls: 0.3211, acc: 92.6172, loss_bbox: 0.2487, loss: 0.6976, grad_norm: 3.8592\n",
      "2022-03-25 11:34:57,584 - mmdet - INFO - Epoch [1][900/977]\tlr: 5.000e-05, eta: 3:26:22, time: 0.364, data_time: 0.007, memory: 6411, loss_rpn_cls: 0.0990, loss_rpn_bbox: 0.0522, loss_cls: 0.3544, acc: 92.0693, loss_bbox: 0.2638, loss: 0.7693, grad_norm: 4.2781\n",
      "2022-03-25 11:35:15,506 - mmdet - INFO - Epoch [1][950/977]\tlr: 5.000e-05, eta: 3:25:39, time: 0.358, data_time: 0.007, memory: 6411, loss_rpn_cls: 0.1000, loss_rpn_bbox: 0.0455, loss_cls: 0.3447, acc: 92.1611, loss_bbox: 0.2552, loss: 0.7453, grad_norm: 3.9411\n",
      "2022-03-25 11:35:25,454 - mmdet - INFO - Saving checkpoint at 1 epochs\n"
     ]
    },
    {
     "name": "stdout",
     "output_type": "stream",
     "text": [
      "[>>>>>>>>>>>>>>>>>>>>>>>>>>>>>] 975/975, 24.6 task/s, elapsed: 40s, ETA:     0s"
     ]
    },
    {
     "name": "stderr",
     "output_type": "stream",
     "text": [
      "2022-03-25 11:36:07,048 - mmdet - INFO - Evaluating bbox...\n"
     ]
    },
    {
     "name": "stdout",
     "output_type": "stream",
     "text": [
      "Loading and preparing results...\n",
      "DONE (t=0.04s)\n",
      "creating index...\n",
      "index created!\n",
      "Running per image evaluation...\n",
      "Evaluate annotation type *bbox*\n",
      "DONE (t=3.85s).\n",
      "Accumulating evaluation results...\n"
     ]
    },
    {
     "name": "stderr",
     "output_type": "stream",
     "text": [
      "2022-03-25 11:36:13,116 - mmdet - INFO - \n",
      " Average Precision  (AP) @[ IoU=0.50:0.95 | area=   all | maxDets=100 ] = 0.037\n",
      " Average Precision  (AP) @[ IoU=0.50      | area=   all | maxDets=1000 ] = 0.093\n",
      " Average Precision  (AP) @[ IoU=0.75      | area=   all | maxDets=1000 ] = 0.019\n",
      " Average Precision  (AP) @[ IoU=0.50:0.95 | area= small | maxDets=1000 ] = 0.000\n",
      " Average Precision  (AP) @[ IoU=0.50:0.95 | area=medium | maxDets=1000 ] = 0.001\n",
      " Average Precision  (AP) @[ IoU=0.50:0.95 | area= large | maxDets=1000 ] = 0.046\n",
      " Average Recall     (AR) @[ IoU=0.50:0.95 | area=   all | maxDets=100 ] = 0.160\n",
      " Average Recall     (AR) @[ IoU=0.50:0.95 | area=   all | maxDets=300 ] = 0.160\n",
      " Average Recall     (AR) @[ IoU=0.50:0.95 | area=   all | maxDets=1000 ] = 0.160\n",
      " Average Recall     (AR) @[ IoU=0.50:0.95 | area= small | maxDets=1000 ] = 0.000\n",
      " Average Recall     (AR) @[ IoU=0.50:0.95 | area=medium | maxDets=1000 ] = 0.007\n",
      " Average Recall     (AR) @[ IoU=0.50:0.95 | area= large | maxDets=1000 ] = 0.207\n",
      "\n"
     ]
    },
    {
     "name": "stdout",
     "output_type": "stream",
     "text": [
      "DONE (t=1.19s).\n"
     ]
    },
    {
     "name": "stderr",
     "output_type": "stream",
     "text": [
      "2022-03-25 11:36:14,546 - mmdet - INFO - Now best checkpoint is saved as best_bbox_mAP_50_epoch_1.pth.\n",
      "2022-03-25 11:36:14,547 - mmdet - INFO - Best bbox_mAP_50 is 0.0930 at 1 epoch.\n",
      "2022-03-25 11:36:14,551 - mmdet - INFO - Epoch(val) [1][975]\tbbox_mAP: 0.0370, bbox_mAP_50: 0.0930, bbox_mAP_75: 0.0190, bbox_mAP_s: 0.0000, bbox_mAP_m: 0.0010, bbox_mAP_l: 0.0460, bbox_mAP_copypaste: 0.037 0.093 0.019 0.000 0.001 0.046\n",
      "2022-03-25 11:36:35,004 - mmdet - INFO - Epoch [2][50/977]\tlr: 5.000e-05, eta: 3:20:48, time: 0.409, data_time: 0.058, memory: 6411, loss_rpn_cls: 0.0868, loss_rpn_bbox: 0.0387, loss_cls: 0.3198, acc: 92.9141, loss_bbox: 0.2312, loss: 0.6765, grad_norm: 4.3220\n",
      "2022-03-25 11:36:53,665 - mmdet - INFO - Epoch [2][100/977]\tlr: 5.000e-05, eta: 3:20:45, time: 0.373, data_time: 0.007, memory: 6411, loss_rpn_cls: 0.0891, loss_rpn_bbox: 0.0418, loss_cls: 0.3365, acc: 92.4775, loss_bbox: 0.2403, loss: 0.7076, grad_norm: 3.9511\n",
      "2022-03-25 11:37:12,297 - mmdet - INFO - Epoch [2][150/977]\tlr: 5.000e-05, eta: 3:20:40, time: 0.373, data_time: 0.007, memory: 6411, loss_rpn_cls: 0.1028, loss_rpn_bbox: 0.0466, loss_cls: 0.3626, acc: 91.8301, loss_bbox: 0.2622, loss: 0.7741, grad_norm: 4.3361\n",
      "2022-03-25 11:37:31,137 - mmdet - INFO - Epoch [2][200/977]\tlr: 5.000e-05, eta: 3:20:40, time: 0.377, data_time: 0.008, memory: 6411, loss_rpn_cls: 0.0834, loss_rpn_bbox: 0.0418, loss_cls: 0.3464, acc: 91.7109, loss_bbox: 0.2626, loss: 0.7341, grad_norm: 3.9978\n",
      "2022-03-25 11:37:49,669 - mmdet - INFO - Epoch [2][250/977]\tlr: 5.000e-05, eta: 3:20:29, time: 0.371, data_time: 0.007, memory: 6411, loss_rpn_cls: 0.1000, loss_rpn_bbox: 0.0517, loss_cls: 0.3303, acc: 92.0723, loss_bbox: 0.2487, loss: 0.7307, grad_norm: 3.8494\n",
      "2022-03-25 11:38:08,471 - mmdet - INFO - Epoch [2][300/977]\tlr: 5.000e-05, eta: 3:20:26, time: 0.376, data_time: 0.007, memory: 6411, loss_rpn_cls: 0.0750, loss_rpn_bbox: 0.0397, loss_cls: 0.3186, acc: 92.3906, loss_bbox: 0.2387, loss: 0.6720, grad_norm: 3.7713\n",
      "2022-03-25 11:38:26,805 - mmdet - INFO - Epoch [2][350/977]\tlr: 5.000e-05, eta: 3:20:09, time: 0.367, data_time: 0.008, memory: 6411, loss_rpn_cls: 0.0859, loss_rpn_bbox: 0.0435, loss_cls: 0.3275, acc: 91.9082, loss_bbox: 0.2588, loss: 0.7156, grad_norm: 4.0693\n",
      "2022-03-25 11:38:45,558 - mmdet - INFO - Epoch [2][400/977]\tlr: 5.000e-05, eta: 3:20:02, time: 0.375, data_time: 0.008, memory: 6411, loss_rpn_cls: 0.0991, loss_rpn_bbox: 0.0452, loss_cls: 0.3243, acc: 92.3350, loss_bbox: 0.2316, loss: 0.7002, grad_norm: 3.9642\n",
      "2022-03-25 11:39:04,065 - mmdet - INFO - Epoch [2][450/977]\tlr: 5.000e-05, eta: 3:19:49, time: 0.370, data_time: 0.007, memory: 6411, loss_rpn_cls: 0.0899, loss_rpn_bbox: 0.0493, loss_cls: 0.3555, acc: 91.5195, loss_bbox: 0.2588, loss: 0.7536, grad_norm: 3.9580\n",
      "2022-03-25 11:39:22,623 - mmdet - INFO - Epoch [2][500/977]\tlr: 5.000e-05, eta: 3:19:37, time: 0.371, data_time: 0.008, memory: 6411, loss_rpn_cls: 0.0817, loss_rpn_bbox: 0.0406, loss_cls: 0.3149, acc: 92.5635, loss_bbox: 0.2311, loss: 0.6682, grad_norm: 3.8830\n",
      "2022-03-25 11:39:41,620 - mmdet - INFO - Epoch [2][550/977]\tlr: 5.000e-05, eta: 3:19:33, time: 0.380, data_time: 0.008, memory: 6411, loss_rpn_cls: 0.0961, loss_rpn_bbox: 0.0500, loss_cls: 0.3958, acc: 90.7783, loss_bbox: 0.2767, loss: 0.8186, grad_norm: 4.4042\n",
      "2022-03-25 11:39:59,341 - mmdet - INFO - Epoch [2][600/977]\tlr: 5.000e-05, eta: 3:19:02, time: 0.354, data_time: 0.008, memory: 6411, loss_rpn_cls: 0.0773, loss_rpn_bbox: 0.0397, loss_cls: 0.3498, acc: 91.5664, loss_bbox: 0.2585, loss: 0.7252, grad_norm: 3.9892\n",
      "2022-03-25 11:40:17,393 - mmdet - INFO - Epoch [2][650/977]\tlr: 5.000e-05, eta: 3:18:39, time: 0.361, data_time: 0.008, memory: 6411, loss_rpn_cls: 0.0835, loss_rpn_bbox: 0.0439, loss_cls: 0.3338, acc: 91.8574, loss_bbox: 0.2440, loss: 0.7051, grad_norm: 3.8360\n",
      "2022-03-25 11:40:35,918 - mmdet - INFO - Epoch [2][700/977]\tlr: 5.000e-05, eta: 3:18:25, time: 0.370, data_time: 0.008, memory: 6411, loss_rpn_cls: 0.0832, loss_rpn_bbox: 0.0437, loss_cls: 0.3347, acc: 91.9229, loss_bbox: 0.2410, loss: 0.7025, grad_norm: 3.8628\n",
      "2022-03-25 11:40:54,514 - mmdet - INFO - Epoch [2][750/977]\tlr: 5.000e-05, eta: 3:18:12, time: 0.372, data_time: 0.008, memory: 6411, loss_rpn_cls: 0.0946, loss_rpn_bbox: 0.0438, loss_cls: 0.3507, acc: 91.7617, loss_bbox: 0.2478, loss: 0.7369, grad_norm: 3.8158\n",
      "2022-03-25 11:41:13,127 - mmdet - INFO - Epoch [2][800/977]\tlr: 5.000e-05, eta: 3:17:59, time: 0.372, data_time: 0.008, memory: 6411, loss_rpn_cls: 0.0782, loss_rpn_bbox: 0.0398, loss_cls: 0.3261, acc: 92.0723, loss_bbox: 0.2450, loss: 0.6891, grad_norm: 3.7374\n",
      "2022-03-25 11:41:31,489 - mmdet - INFO - Epoch [2][850/977]\tlr: 5.000e-05, eta: 3:17:41, time: 0.367, data_time: 0.008, memory: 6411, loss_rpn_cls: 0.0837, loss_rpn_bbox: 0.0427, loss_cls: 0.3287, acc: 92.0205, loss_bbox: 0.2437, loss: 0.6988, grad_norm: 3.8576\n",
      "2022-03-25 11:41:49,324 - mmdet - INFO - Epoch [2][900/977]\tlr: 5.000e-05, eta: 3:17:15, time: 0.357, data_time: 0.008, memory: 6411, loss_rpn_cls: 0.0839, loss_rpn_bbox: 0.0467, loss_cls: 0.3536, acc: 91.2461, loss_bbox: 0.2621, loss: 0.7463, grad_norm: 3.8294\n",
      "2022-03-25 11:42:07,900 - mmdet - INFO - Epoch [2][950/977]\tlr: 5.000e-05, eta: 3:17:01, time: 0.372, data_time: 0.008, memory: 6411, loss_rpn_cls: 0.0787, loss_rpn_bbox: 0.0441, loss_cls: 0.3456, acc: 91.5137, loss_bbox: 0.2529, loss: 0.7213, grad_norm: 3.6602\n",
      "2022-03-25 11:42:17,852 - mmdet - INFO - Saving checkpoint at 2 epochs\n"
     ]
    },
    {
     "name": "stdout",
     "output_type": "stream",
     "text": [
      "[>>>>>>>>>>>>>>>>>>>>>>>>>>>>>] 975/975, 24.5 task/s, elapsed: 40s, ETA:     0s"
     ]
    },
    {
     "name": "stderr",
     "output_type": "stream",
     "text": [
      "2022-03-25 11:42:59,827 - mmdet - INFO - Evaluating bbox...\n"
     ]
    },
    {
     "name": "stdout",
     "output_type": "stream",
     "text": [
      "Loading and preparing results...\n",
      "DONE (t=0.90s)\n",
      "creating index...\n",
      "index created!\n",
      "Running per image evaluation...\n",
      "Evaluate annotation type *bbox*\n",
      "DONE (t=4.54s).\n",
      "Accumulating evaluation results...\n"
     ]
    },
    {
     "name": "stderr",
     "output_type": "stream",
     "text": [
      "2022-03-25 11:43:06,971 - mmdet - INFO - \n",
      " Average Precision  (AP) @[ IoU=0.50:0.95 | area=   all | maxDets=100 ] = 0.063\n",
      " Average Precision  (AP) @[ IoU=0.50      | area=   all | maxDets=1000 ] = 0.132\n",
      " Average Precision  (AP) @[ IoU=0.75      | area=   all | maxDets=1000 ] = 0.055\n",
      " Average Precision  (AP) @[ IoU=0.50:0.95 | area= small | maxDets=1000 ] = 0.000\n",
      " Average Precision  (AP) @[ IoU=0.50:0.95 | area=medium | maxDets=1000 ] = 0.006\n",
      " Average Precision  (AP) @[ IoU=0.50:0.95 | area= large | maxDets=1000 ] = 0.081\n",
      " Average Recall     (AR) @[ IoU=0.50:0.95 | area=   all | maxDets=100 ] = 0.239\n",
      " Average Recall     (AR) @[ IoU=0.50:0.95 | area=   all | maxDets=300 ] = 0.239\n",
      " Average Recall     (AR) @[ IoU=0.50:0.95 | area=   all | maxDets=1000 ] = 0.239\n",
      " Average Recall     (AR) @[ IoU=0.50:0.95 | area= small | maxDets=1000 ] = 0.001\n",
      " Average Recall     (AR) @[ IoU=0.50:0.95 | area=medium | maxDets=1000 ] = 0.053\n",
      " Average Recall     (AR) @[ IoU=0.50:0.95 | area= large | maxDets=1000 ] = 0.296\n",
      "\n",
      "2022-03-25 11:43:07,114 - mmdet - INFO - The previous best checkpoint /opt/ml/detection/baseline/mmdetection/work_dirs/MM_Faster_RCNN_Adam-0.00005_aug_768size/best_bbox_mAP_50_epoch_1.pth was removed\n"
     ]
    },
    {
     "name": "stdout",
     "output_type": "stream",
     "text": [
      "DONE (t=1.51s).\n"
     ]
    },
    {
     "name": "stderr",
     "output_type": "stream",
     "text": [
      "2022-03-25 11:43:08,459 - mmdet - INFO - Now best checkpoint is saved as best_bbox_mAP_50_epoch_2.pth.\n",
      "2022-03-25 11:43:08,460 - mmdet - INFO - Best bbox_mAP_50 is 0.1320 at 2 epoch.\n",
      "2022-03-25 11:43:08,464 - mmdet - INFO - Epoch(val) [2][975]\tbbox_mAP: 0.0630, bbox_mAP_50: 0.1320, bbox_mAP_75: 0.0550, bbox_mAP_s: 0.0000, bbox_mAP_m: 0.0060, bbox_mAP_l: 0.0810, bbox_mAP_copypaste: 0.063 0.132 0.055 0.000 0.006 0.081\n",
      "2022-03-25 11:43:29,409 - mmdet - INFO - Epoch [3][50/977]\tlr: 5.000e-05, eta: 3:14:36, time: 0.419, data_time: 0.059, memory: 6411, loss_rpn_cls: 0.0670, loss_rpn_bbox: 0.0375, loss_cls: 0.3175, acc: 92.3408, loss_bbox: 0.2229, loss: 0.6448, grad_norm: 3.5154\n",
      "2022-03-25 11:43:47,702 - mmdet - INFO - Epoch [3][100/977]\tlr: 5.000e-05, eta: 3:14:20, time: 0.366, data_time: 0.008, memory: 6411, loss_rpn_cls: 0.0684, loss_rpn_bbox: 0.0390, loss_cls: 0.3171, acc: 92.1182, loss_bbox: 0.2372, loss: 0.6617, grad_norm: 3.8145\n",
      "2022-03-25 11:44:06,401 - mmdet - INFO - Epoch [3][150/977]\tlr: 5.000e-05, eta: 3:14:11, time: 0.374, data_time: 0.007, memory: 6411, loss_rpn_cls: 0.0764, loss_rpn_bbox: 0.0445, loss_cls: 0.3684, acc: 90.9766, loss_bbox: 0.2665, loss: 0.7559, grad_norm: 3.8934\n",
      "2022-03-25 11:44:24,736 - mmdet - INFO - Epoch [3][200/977]\tlr: 5.000e-05, eta: 3:13:55, time: 0.367, data_time: 0.007, memory: 6411, loss_rpn_cls: 0.0755, loss_rpn_bbox: 0.0411, loss_cls: 0.3066, acc: 92.5928, loss_bbox: 0.2092, loss: 0.6324, grad_norm: 3.5735\n",
      "2022-03-25 11:44:42,288 - mmdet - INFO - Epoch [3][250/977]\tlr: 5.000e-05, eta: 3:13:28, time: 0.351, data_time: 0.007, memory: 6411, loss_rpn_cls: 0.0802, loss_rpn_bbox: 0.0425, loss_cls: 0.3354, acc: 91.6240, loss_bbox: 0.2374, loss: 0.6955, grad_norm: 3.7665\n",
      "2022-03-25 11:45:00,669 - mmdet - INFO - Epoch [3][300/977]\tlr: 5.000e-05, eta: 3:13:13, time: 0.368, data_time: 0.008, memory: 6411, loss_rpn_cls: 0.0661, loss_rpn_bbox: 0.0364, loss_cls: 0.3206, acc: 92.0469, loss_bbox: 0.2316, loss: 0.6548, grad_norm: 3.6146\n",
      "2022-03-25 11:45:19,115 - mmdet - INFO - Epoch [3][350/977]\tlr: 5.000e-05, eta: 3:12:59, time: 0.369, data_time: 0.007, memory: 6411, loss_rpn_cls: 0.0750, loss_rpn_bbox: 0.0389, loss_cls: 0.3423, acc: 91.4414, loss_bbox: 0.2463, loss: 0.7025, grad_norm: 3.8185\n",
      "2022-03-25 11:45:37,588 - mmdet - INFO - Epoch [3][400/977]\tlr: 5.000e-05, eta: 3:12:45, time: 0.369, data_time: 0.008, memory: 6411, loss_rpn_cls: 0.0756, loss_rpn_bbox: 0.0419, loss_cls: 0.3163, acc: 92.0186, loss_bbox: 0.2287, loss: 0.6625, grad_norm: 3.6582\n",
      "2022-03-25 11:45:55,968 - mmdet - INFO - Epoch [3][450/977]\tlr: 5.000e-05, eta: 3:12:30, time: 0.368, data_time: 0.007, memory: 6411, loss_rpn_cls: 0.0748, loss_rpn_bbox: 0.0368, loss_cls: 0.3018, acc: 92.2852, loss_bbox: 0.2259, loss: 0.6393, grad_norm: 3.3971\n",
      "2022-03-25 11:46:13,971 - mmdet - INFO - Epoch [3][500/977]\tlr: 5.000e-05, eta: 3:12:10, time: 0.360, data_time: 0.007, memory: 6411, loss_rpn_cls: 0.0806, loss_rpn_bbox: 0.0444, loss_cls: 0.3302, acc: 91.7725, loss_bbox: 0.2351, loss: 0.6903, grad_norm: 3.9862\n",
      "2022-03-25 11:46:31,708 - mmdet - INFO - Epoch [3][550/977]\tlr: 5.000e-05, eta: 3:11:46, time: 0.355, data_time: 0.007, memory: 6411, loss_rpn_cls: 0.0752, loss_rpn_bbox: 0.0434, loss_cls: 0.3324, acc: 91.7344, loss_bbox: 0.2401, loss: 0.6911, grad_norm: 3.5863\n",
      "2022-03-25 11:46:49,728 - mmdet - INFO - Epoch [3][600/977]\tlr: 5.000e-05, eta: 3:11:26, time: 0.360, data_time: 0.008, memory: 6411, loss_rpn_cls: 0.0739, loss_rpn_bbox: 0.0444, loss_cls: 0.3493, acc: 91.2158, loss_bbox: 0.2567, loss: 0.7244, grad_norm: 3.8108\n",
      "2022-03-25 11:47:08,166 - mmdet - INFO - Epoch [3][650/977]\tlr: 5.000e-05, eta: 3:11:12, time: 0.369, data_time: 0.008, memory: 6411, loss_rpn_cls: 0.0710, loss_rpn_bbox: 0.0372, loss_cls: 0.3139, acc: 91.9141, loss_bbox: 0.2358, loss: 0.6578, grad_norm: 3.5601\n",
      "2022-03-25 11:47:26,458 - mmdet - INFO - Epoch [3][700/977]\tlr: 5.000e-05, eta: 3:10:55, time: 0.366, data_time: 0.008, memory: 6411, loss_rpn_cls: 0.0649, loss_rpn_bbox: 0.0397, loss_cls: 0.3363, acc: 91.6953, loss_bbox: 0.2354, loss: 0.6764, grad_norm: 3.5307\n",
      "2022-03-25 11:47:45,024 - mmdet - INFO - Epoch [3][750/977]\tlr: 5.000e-05, eta: 3:10:42, time: 0.371, data_time: 0.008, memory: 6411, loss_rpn_cls: 0.0814, loss_rpn_bbox: 0.0392, loss_cls: 0.3336, acc: 91.6562, loss_bbox: 0.2345, loss: 0.6888, grad_norm: 3.7961\n",
      "2022-03-25 11:48:03,562 - mmdet - INFO - Epoch [3][800/977]\tlr: 5.000e-05, eta: 3:10:28, time: 0.371, data_time: 0.008, memory: 6411, loss_rpn_cls: 0.0748, loss_rpn_bbox: 0.0378, loss_cls: 0.3378, acc: 91.5830, loss_bbox: 0.2459, loss: 0.6962, grad_norm: 3.7771\n",
      "2022-03-25 11:48:22,080 - mmdet - INFO - Epoch [3][850/977]\tlr: 5.000e-05, eta: 3:10:14, time: 0.370, data_time: 0.008, memory: 6411, loss_rpn_cls: 0.0726, loss_rpn_bbox: 0.0426, loss_cls: 0.3314, acc: 91.4717, loss_bbox: 0.2481, loss: 0.6947, grad_norm: 3.5623\n",
      "2022-03-25 11:48:40,155 - mmdet - INFO - Epoch [3][900/977]\tlr: 5.000e-05, eta: 3:09:54, time: 0.361, data_time: 0.008, memory: 6411, loss_rpn_cls: 0.0728, loss_rpn_bbox: 0.0424, loss_cls: 0.3335, acc: 91.3447, loss_bbox: 0.2527, loss: 0.7013, grad_norm: 3.8139\n",
      "2022-03-25 11:48:58,101 - mmdet - INFO - Epoch [3][950/977]\tlr: 5.000e-05, eta: 3:09:33, time: 0.359, data_time: 0.008, memory: 6411, loss_rpn_cls: 0.0736, loss_rpn_bbox: 0.0474, loss_cls: 0.3633, acc: 90.7812, loss_bbox: 0.2683, loss: 0.7525, grad_norm: 3.9300\n",
      "2022-03-25 11:49:08,321 - mmdet - INFO - Saving checkpoint at 3 epochs\n"
     ]
    },
    {
     "name": "stdout",
     "output_type": "stream",
     "text": [
      "[>>>>>>>>>>>>>>>>>>>>>>>>>>>>>] 975/975, 24.9 task/s, elapsed: 39s, ETA:     0s"
     ]
    },
    {
     "name": "stderr",
     "output_type": "stream",
     "text": [
      "2022-03-25 11:49:49,301 - mmdet - INFO - Evaluating bbox...\n"
     ]
    },
    {
     "name": "stdout",
     "output_type": "stream",
     "text": [
      "Loading and preparing results...\n",
      "DONE (t=0.03s)\n",
      "creating index...\n",
      "index created!\n",
      "Running per image evaluation...\n",
      "Evaluate annotation type *bbox*\n",
      "DONE (t=3.60s).\n",
      "Accumulating evaluation results...\n"
     ]
    },
    {
     "name": "stderr",
     "output_type": "stream",
     "text": [
      "2022-03-25 11:49:53,896 - mmdet - INFO - \n",
      " Average Precision  (AP) @[ IoU=0.50:0.95 | area=   all | maxDets=100 ] = 0.094\n",
      " Average Precision  (AP) @[ IoU=0.50      | area=   all | maxDets=1000 ] = 0.181\n",
      " Average Precision  (AP) @[ IoU=0.75      | area=   all | maxDets=1000 ] = 0.090\n",
      " Average Precision  (AP) @[ IoU=0.50:0.95 | area= small | maxDets=1000 ] = 0.000\n",
      " Average Precision  (AP) @[ IoU=0.50:0.95 | area=medium | maxDets=1000 ] = 0.013\n",
      " Average Precision  (AP) @[ IoU=0.50:0.95 | area= large | maxDets=1000 ] = 0.116\n",
      " Average Recall     (AR) @[ IoU=0.50:0.95 | area=   all | maxDets=100 ] = 0.278\n",
      " Average Recall     (AR) @[ IoU=0.50:0.95 | area=   all | maxDets=300 ] = 0.278\n",
      " Average Recall     (AR) @[ IoU=0.50:0.95 | area=   all | maxDets=1000 ] = 0.278\n",
      " Average Recall     (AR) @[ IoU=0.50:0.95 | area= small | maxDets=1000 ] = 0.000\n",
      " Average Recall     (AR) @[ IoU=0.50:0.95 | area=medium | maxDets=1000 ] = 0.050\n",
      " Average Recall     (AR) @[ IoU=0.50:0.95 | area= large | maxDets=1000 ] = 0.345\n",
      "\n",
      "2022-03-25 11:49:54,015 - mmdet - INFO - The previous best checkpoint /opt/ml/detection/baseline/mmdetection/work_dirs/MM_Faster_RCNN_Adam-0.00005_aug_768size/best_bbox_mAP_50_epoch_2.pth was removed\n"
     ]
    },
    {
     "name": "stdout",
     "output_type": "stream",
     "text": [
      "DONE (t=0.88s).\n"
     ]
    },
    {
     "name": "stderr",
     "output_type": "stream",
     "text": [
      "2022-03-25 11:49:55,367 - mmdet - INFO - Now best checkpoint is saved as best_bbox_mAP_50_epoch_3.pth.\n",
      "2022-03-25 11:49:55,368 - mmdet - INFO - Best bbox_mAP_50 is 0.1810 at 3 epoch.\n",
      "2022-03-25 11:49:55,372 - mmdet - INFO - Epoch(val) [3][975]\tbbox_mAP: 0.0940, bbox_mAP_50: 0.1810, bbox_mAP_75: 0.0900, bbox_mAP_s: 0.0000, bbox_mAP_m: 0.0130, bbox_mAP_l: 0.1160, bbox_mAP_copypaste: 0.094 0.181 0.090 0.000 0.013 0.116\n",
      "2022-03-25 11:50:15,846 - mmdet - INFO - Epoch [4][50/977]\tlr: 5.000e-05, eta: 3:07:47, time: 0.409, data_time: 0.058, memory: 6411, loss_rpn_cls: 0.0839, loss_rpn_bbox: 0.0454, loss_cls: 0.3522, acc: 91.2510, loss_bbox: 0.2553, loss: 0.7369, grad_norm: 3.8230\n",
      "2022-03-25 11:50:34,343 - mmdet - INFO - Epoch [4][100/977]\tlr: 5.000e-05, eta: 3:07:33, time: 0.370, data_time: 0.008, memory: 6411, loss_rpn_cls: 0.0697, loss_rpn_bbox: 0.0414, loss_cls: 0.3326, acc: 91.1445, loss_bbox: 0.2578, loss: 0.7015, grad_norm: 3.9819\n",
      "2022-03-25 11:50:52,220 - mmdet - INFO - Epoch [4][150/977]\tlr: 5.000e-05, eta: 3:07:13, time: 0.358, data_time: 0.007, memory: 6411, loss_rpn_cls: 0.0626, loss_rpn_bbox: 0.0386, loss_cls: 0.3370, acc: 91.3115, loss_bbox: 0.2471, loss: 0.6853, grad_norm: 3.6751\n",
      "2022-03-25 11:51:10,051 - mmdet - INFO - Epoch [4][200/977]\tlr: 5.000e-05, eta: 3:06:53, time: 0.357, data_time: 0.007, memory: 6411, loss_rpn_cls: 0.0550, loss_rpn_bbox: 0.0357, loss_cls: 0.3082, acc: 91.8809, loss_bbox: 0.2372, loss: 0.6362, grad_norm: 3.3212\n",
      "2022-03-25 11:51:28,213 - mmdet - INFO - Epoch [4][250/977]\tlr: 5.000e-05, eta: 3:06:36, time: 0.363, data_time: 0.007, memory: 6411, loss_rpn_cls: 0.0729, loss_rpn_bbox: 0.0468, loss_cls: 0.3320, acc: 91.3896, loss_bbox: 0.2494, loss: 0.7011, grad_norm: 3.8274\n",
      "2022-03-25 11:51:46,551 - mmdet - INFO - Epoch [4][300/977]\tlr: 5.000e-05, eta: 3:06:21, time: 0.367, data_time: 0.008, memory: 6411, loss_rpn_cls: 0.0589, loss_rpn_bbox: 0.0328, loss_cls: 0.2960, acc: 92.4365, loss_bbox: 0.2153, loss: 0.6030, grad_norm: 3.3491\n",
      "2022-03-25 11:52:04,168 - mmdet - INFO - Epoch [4][350/977]\tlr: 5.000e-05, eta: 3:05:59, time: 0.352, data_time: 0.007, memory: 6411, loss_rpn_cls: 0.0694, loss_rpn_bbox: 0.0375, loss_cls: 0.3196, acc: 91.5068, loss_bbox: 0.2372, loss: 0.6638, grad_norm: 3.6999\n",
      "2022-03-25 11:52:22,529 - mmdet - INFO - Epoch [4][400/977]\tlr: 5.000e-05, eta: 3:05:44, time: 0.367, data_time: 0.007, memory: 6411, loss_rpn_cls: 0.0618, loss_rpn_bbox: 0.0352, loss_cls: 0.3231, acc: 91.7773, loss_bbox: 0.2228, loss: 0.6428, grad_norm: 3.5550\n",
      "2022-03-25 11:52:40,585 - mmdet - INFO - Epoch [4][450/977]\tlr: 5.000e-05, eta: 3:05:25, time: 0.361, data_time: 0.007, memory: 6411, loss_rpn_cls: 0.0677, loss_rpn_bbox: 0.0401, loss_cls: 0.3255, acc: 91.7236, loss_bbox: 0.2249, loss: 0.6582, grad_norm: 3.6245\n",
      "2022-03-25 11:52:59,082 - mmdet - INFO - Epoch [4][500/977]\tlr: 5.000e-05, eta: 3:05:11, time: 0.370, data_time: 0.007, memory: 6411, loss_rpn_cls: 0.0571, loss_rpn_bbox: 0.0317, loss_cls: 0.2797, acc: 92.7627, loss_bbox: 0.2014, loss: 0.5699, grad_norm: 3.2210\n",
      "2022-03-25 11:53:17,855 - mmdet - INFO - Epoch [4][550/977]\tlr: 5.000e-05, eta: 3:05:00, time: 0.375, data_time: 0.007, memory: 6411, loss_rpn_cls: 0.0771, loss_rpn_bbox: 0.0414, loss_cls: 0.3146, acc: 91.6748, loss_bbox: 0.2343, loss: 0.6675, grad_norm: 3.5358\n",
      "2022-03-25 11:53:36,267 - mmdet - INFO - Epoch [4][600/977]\tlr: 5.000e-05, eta: 3:04:45, time: 0.368, data_time: 0.008, memory: 6411, loss_rpn_cls: 0.0570, loss_rpn_bbox: 0.0331, loss_cls: 0.2917, acc: 92.4580, loss_bbox: 0.2140, loss: 0.5957, grad_norm: 3.4850\n",
      "2022-03-25 11:53:54,513 - mmdet - INFO - Epoch [4][650/977]\tlr: 5.000e-05, eta: 3:04:28, time: 0.365, data_time: 0.008, memory: 6411, loss_rpn_cls: 0.0718, loss_rpn_bbox: 0.0410, loss_cls: 0.3432, acc: 91.1934, loss_bbox: 0.2542, loss: 0.7103, grad_norm: 3.8044\n",
      "2022-03-25 11:54:12,895 - mmdet - INFO - Epoch [4][700/977]\tlr: 5.000e-05, eta: 3:04:12, time: 0.368, data_time: 0.008, memory: 6411, loss_rpn_cls: 0.0724, loss_rpn_bbox: 0.0460, loss_cls: 0.3489, acc: 91.1064, loss_bbox: 0.2555, loss: 0.7229, grad_norm: 3.7133\n",
      "2022-03-25 11:54:31,375 - mmdet - INFO - Epoch [4][750/977]\tlr: 5.000e-05, eta: 3:03:58, time: 0.370, data_time: 0.008, memory: 6411, loss_rpn_cls: 0.0770, loss_rpn_bbox: 0.0459, loss_cls: 0.3303, acc: 91.4326, loss_bbox: 0.2431, loss: 0.6964, grad_norm: 3.6132\n",
      "2022-03-25 11:54:49,687 - mmdet - INFO - Epoch [4][800/977]\tlr: 5.000e-05, eta: 3:03:41, time: 0.366, data_time: 0.007, memory: 6411, loss_rpn_cls: 0.0779, loss_rpn_bbox: 0.0460, loss_cls: 0.3479, acc: 91.1670, loss_bbox: 0.2492, loss: 0.7210, grad_norm: 3.7796\n",
      "2022-03-25 11:55:07,419 - mmdet - INFO - Epoch [4][850/977]\tlr: 5.000e-05, eta: 3:03:20, time: 0.355, data_time: 0.007, memory: 6411, loss_rpn_cls: 0.0602, loss_rpn_bbox: 0.0316, loss_cls: 0.3233, acc: 91.8779, loss_bbox: 0.2226, loss: 0.6376, grad_norm: 3.5362\n",
      "2022-03-25 11:55:25,202 - mmdet - INFO - Epoch [4][900/977]\tlr: 5.000e-05, eta: 3:03:00, time: 0.356, data_time: 0.007, memory: 6411, loss_rpn_cls: 0.0643, loss_rpn_bbox: 0.0387, loss_cls: 0.3246, acc: 91.3760, loss_bbox: 0.2330, loss: 0.6606, grad_norm: 3.6206\n",
      "2022-03-25 11:55:43,033 - mmdet - INFO - Epoch [4][950/977]\tlr: 5.000e-05, eta: 3:02:40, time: 0.357, data_time: 0.008, memory: 6411, loss_rpn_cls: 0.0565, loss_rpn_bbox: 0.0326, loss_cls: 0.3166, acc: 91.9707, loss_bbox: 0.2222, loss: 0.6279, grad_norm: 3.3478\n",
      "2022-03-25 11:55:52,551 - mmdet - INFO - Saving checkpoint at 4 epochs\n"
     ]
    },
    {
     "name": "stdout",
     "output_type": "stream",
     "text": [
      "[>>>>>>>>>>>>>>>>>>>>>>>>>>>>>] 975/975, 24.4 task/s, elapsed: 40s, ETA:     0s"
     ]
    },
    {
     "name": "stderr",
     "output_type": "stream",
     "text": [
      "2022-03-25 11:56:34,402 - mmdet - INFO - Evaluating bbox...\n"
     ]
    },
    {
     "name": "stdout",
     "output_type": "stream",
     "text": [
      "Loading and preparing results...\n",
      "DONE (t=0.03s)\n",
      "creating index...\n",
      "index created!\n",
      "Running per image evaluation...\n",
      "Evaluate annotation type *bbox*\n",
      "DONE (t=3.09s).\n",
      "Accumulating evaluation results...\n"
     ]
    },
    {
     "name": "stderr",
     "output_type": "stream",
     "text": [
      "2022-03-25 11:56:38,507 - mmdet - INFO - \n",
      " Average Precision  (AP) @[ IoU=0.50:0.95 | area=   all | maxDets=100 ] = 0.126\n",
      " Average Precision  (AP) @[ IoU=0.50      | area=   all | maxDets=1000 ] = 0.223\n",
      " Average Precision  (AP) @[ IoU=0.75      | area=   all | maxDets=1000 ] = 0.131\n",
      " Average Precision  (AP) @[ IoU=0.50:0.95 | area= small | maxDets=1000 ] = 0.000\n",
      " Average Precision  (AP) @[ IoU=0.50:0.95 | area=medium | maxDets=1000 ] = 0.019\n",
      " Average Precision  (AP) @[ IoU=0.50:0.95 | area= large | maxDets=1000 ] = 0.155\n",
      " Average Recall     (AR) @[ IoU=0.50:0.95 | area=   all | maxDets=100 ] = 0.316\n",
      " Average Recall     (AR) @[ IoU=0.50:0.95 | area=   all | maxDets=300 ] = 0.316\n",
      " Average Recall     (AR) @[ IoU=0.50:0.95 | area=   all | maxDets=1000 ] = 0.316\n",
      " Average Recall     (AR) @[ IoU=0.50:0.95 | area= small | maxDets=1000 ] = 0.000\n",
      " Average Recall     (AR) @[ IoU=0.50:0.95 | area=medium | maxDets=1000 ] = 0.065\n",
      " Average Recall     (AR) @[ IoU=0.50:0.95 | area= large | maxDets=1000 ] = 0.387\n",
      "\n",
      "2022-03-25 11:56:38,629 - mmdet - INFO - The previous best checkpoint /opt/ml/detection/baseline/mmdetection/work_dirs/MM_Faster_RCNN_Adam-0.00005_aug_768size/best_bbox_mAP_50_epoch_3.pth was removed\n"
     ]
    },
    {
     "name": "stdout",
     "output_type": "stream",
     "text": [
      "DONE (t=0.89s).\n"
     ]
    },
    {
     "name": "stderr",
     "output_type": "stream",
     "text": [
      "2022-03-25 11:56:39,930 - mmdet - INFO - Now best checkpoint is saved as best_bbox_mAP_50_epoch_4.pth.\n",
      "2022-03-25 11:56:39,931 - mmdet - INFO - Best bbox_mAP_50 is 0.2230 at 4 epoch.\n",
      "2022-03-25 11:56:39,935 - mmdet - INFO - Epoch(val) [4][975]\tbbox_mAP: 0.1260, bbox_mAP_50: 0.2230, bbox_mAP_75: 0.1310, bbox_mAP_s: 0.0000, bbox_mAP_m: 0.0190, bbox_mAP_l: 0.1550, bbox_mAP_copypaste: 0.126 0.223 0.131 0.000 0.019 0.155\n",
      "2022-03-25 11:57:00,821 - mmdet - INFO - Epoch [5][50/977]\tlr: 5.000e-05, eta: 3:01:19, time: 0.418, data_time: 0.059, memory: 6411, loss_rpn_cls: 0.0685, loss_rpn_bbox: 0.0416, loss_cls: 0.3386, acc: 91.0459, loss_bbox: 0.2479, loss: 0.6967, grad_norm: 3.7760\n",
      "2022-03-25 11:57:19,767 - mmdet - INFO - Epoch [5][100/977]\tlr: 5.000e-05, eta: 3:01:08, time: 0.379, data_time: 0.008, memory: 6411, loss_rpn_cls: 0.0605, loss_rpn_bbox: 0.0365, loss_cls: 0.3160, acc: 91.8447, loss_bbox: 0.2264, loss: 0.6394, grad_norm: 3.4712\n",
      "2022-03-25 11:57:38,285 - mmdet - INFO - Epoch [5][150/977]\tlr: 5.000e-05, eta: 3:00:54, time: 0.370, data_time: 0.007, memory: 6411, loss_rpn_cls: 0.0612, loss_rpn_bbox: 0.0427, loss_cls: 0.2940, acc: 92.2881, loss_bbox: 0.2194, loss: 0.6173, grad_norm: 3.2240\n",
      "2022-03-25 11:57:56,494 - mmdet - INFO - Epoch [5][200/977]\tlr: 5.000e-05, eta: 3:00:37, time: 0.364, data_time: 0.007, memory: 6411, loss_rpn_cls: 0.0723, loss_rpn_bbox: 0.0463, loss_cls: 0.3539, acc: 90.8232, loss_bbox: 0.2525, loss: 0.7250, grad_norm: 3.9724\n",
      "2022-03-25 11:58:14,686 - mmdet - INFO - Epoch [5][250/977]\tlr: 5.000e-05, eta: 3:00:21, time: 0.364, data_time: 0.007, memory: 6411, loss_rpn_cls: 0.0595, loss_rpn_bbox: 0.0358, loss_cls: 0.3248, acc: 91.6104, loss_bbox: 0.2256, loss: 0.6456, grad_norm: 3.3972\n",
      "2022-03-25 11:58:32,607 - mmdet - INFO - Epoch [5][300/977]\tlr: 5.000e-05, eta: 3:00:02, time: 0.358, data_time: 0.007, memory: 6411, loss_rpn_cls: 0.0526, loss_rpn_bbox: 0.0314, loss_cls: 0.2931, acc: 92.2344, loss_bbox: 0.2143, loss: 0.5914, grad_norm: 3.4502\n",
      "2022-03-25 11:58:50,675 - mmdet - INFO - Epoch [5][350/977]\tlr: 5.000e-05, eta: 2:59:44, time: 0.361, data_time: 0.008, memory: 6411, loss_rpn_cls: 0.0536, loss_rpn_bbox: 0.0337, loss_cls: 0.3081, acc: 91.9092, loss_bbox: 0.2144, loss: 0.6099, grad_norm: 3.3960\n",
      "2022-03-25 11:59:09,119 - mmdet - INFO - Epoch [5][400/977]\tlr: 5.000e-05, eta: 2:59:29, time: 0.369, data_time: 0.008, memory: 6411, loss_rpn_cls: 0.0610, loss_rpn_bbox: 0.0377, loss_cls: 0.3252, acc: 91.4170, loss_bbox: 0.2341, loss: 0.6579, grad_norm: 3.4827\n",
      "2022-03-25 11:59:27,550 - mmdet - INFO - Epoch [5][450/977]\tlr: 5.000e-05, eta: 2:59:14, time: 0.369, data_time: 0.008, memory: 6411, loss_rpn_cls: 0.0662, loss_rpn_bbox: 0.0409, loss_cls: 0.3155, acc: 91.5420, loss_bbox: 0.2471, loss: 0.6696, grad_norm: 3.4886\n",
      "2022-03-25 11:59:45,437 - mmdet - INFO - Epoch [5][500/977]\tlr: 5.000e-05, eta: 2:58:55, time: 0.358, data_time: 0.008, memory: 6411, loss_rpn_cls: 0.0668, loss_rpn_bbox: 0.0347, loss_cls: 0.3196, acc: 91.7803, loss_bbox: 0.2251, loss: 0.6462, grad_norm: 3.5338\n",
      "2022-03-25 12:00:03,651 - mmdet - INFO - Epoch [5][550/977]\tlr: 5.000e-05, eta: 2:58:38, time: 0.364, data_time: 0.008, memory: 6411, loss_rpn_cls: 0.0649, loss_rpn_bbox: 0.0399, loss_cls: 0.3125, acc: 91.7236, loss_bbox: 0.2288, loss: 0.6460, grad_norm: 3.5429\n",
      "2022-03-25 12:00:21,719 - mmdet - INFO - Epoch [5][600/977]\tlr: 5.000e-05, eta: 2:58:21, time: 0.361, data_time: 0.008, memory: 6411, loss_rpn_cls: 0.0644, loss_rpn_bbox: 0.0352, loss_cls: 0.3169, acc: 91.8301, loss_bbox: 0.2397, loss: 0.6561, grad_norm: 3.5809\n",
      "2022-03-25 12:00:40,150 - mmdet - INFO - Epoch [5][650/977]\tlr: 5.000e-05, eta: 2:58:05, time: 0.369, data_time: 0.008, memory: 6411, loss_rpn_cls: 0.0592, loss_rpn_bbox: 0.0372, loss_cls: 0.3139, acc: 91.7324, loss_bbox: 0.2268, loss: 0.6371, grad_norm: 3.4482\n",
      "2022-03-25 12:00:58,614 - mmdet - INFO - Epoch [5][700/977]\tlr: 5.000e-05, eta: 2:57:50, time: 0.369, data_time: 0.008, memory: 6411, loss_rpn_cls: 0.0626, loss_rpn_bbox: 0.0311, loss_cls: 0.2918, acc: 92.3789, loss_bbox: 0.2023, loss: 0.5878, grad_norm: 3.2708\n",
      "2022-03-25 12:01:16,414 - mmdet - INFO - Epoch [5][750/977]\tlr: 5.000e-05, eta: 2:57:31, time: 0.356, data_time: 0.008, memory: 6411, loss_rpn_cls: 0.0611, loss_rpn_bbox: 0.0371, loss_cls: 0.2926, acc: 92.0244, loss_bbox: 0.2252, loss: 0.6160, grad_norm: 3.3409\n",
      "2022-03-25 12:01:34,361 - mmdet - INFO - Epoch [5][800/977]\tlr: 5.000e-05, eta: 2:57:12, time: 0.359, data_time: 0.008, memory: 6411, loss_rpn_cls: 0.0582, loss_rpn_bbox: 0.0338, loss_cls: 0.3120, acc: 91.6592, loss_bbox: 0.2323, loss: 0.6364, grad_norm: 3.4184\n",
      "2022-03-25 12:01:52,487 - mmdet - INFO - Epoch [5][850/977]\tlr: 5.000e-05, eta: 2:56:55, time: 0.363, data_time: 0.008, memory: 6411, loss_rpn_cls: 0.0620, loss_rpn_bbox: 0.0416, loss_cls: 0.3136, acc: 91.3906, loss_bbox: 0.2391, loss: 0.6563, grad_norm: 3.6218\n",
      "2022-03-25 12:02:10,497 - mmdet - INFO - Epoch [5][900/977]\tlr: 5.000e-05, eta: 2:56:36, time: 0.360, data_time: 0.008, memory: 6411, loss_rpn_cls: 0.0759, loss_rpn_bbox: 0.0441, loss_cls: 0.3349, acc: 91.1357, loss_bbox: 0.2558, loss: 0.7107, grad_norm: 3.8254\n",
      "2022-03-25 12:02:29,093 - mmdet - INFO - Epoch [5][950/977]\tlr: 5.000e-05, eta: 2:56:22, time: 0.372, data_time: 0.008, memory: 6411, loss_rpn_cls: 0.0630, loss_rpn_bbox: 0.0373, loss_cls: 0.3099, acc: 91.8438, loss_bbox: 0.2252, loss: 0.6354, grad_norm: 3.3511\n",
      "2022-03-25 12:02:39,172 - mmdet - INFO - Saving checkpoint at 5 epochs\n"
     ]
    },
    {
     "name": "stdout",
     "output_type": "stream",
     "text": [
      "[>>>>>>>>>>>>>>>>>>>>>>>>>>>>>] 975/975, 24.3 task/s, elapsed: 40s, ETA:     0s"
     ]
    },
    {
     "name": "stderr",
     "output_type": "stream",
     "text": [
      "2022-03-25 12:03:21,229 - mmdet - INFO - Evaluating bbox...\n"
     ]
    },
    {
     "name": "stdout",
     "output_type": "stream",
     "text": [
      "Loading and preparing results...\n",
      "DONE (t=0.88s)\n",
      "creating index...\n",
      "index created!\n",
      "Running per image evaluation...\n",
      "Evaluate annotation type *bbox*\n",
      "DONE (t=3.87s).\n",
      "Accumulating evaluation results...\n"
     ]
    },
    {
     "name": "stderr",
     "output_type": "stream",
     "text": [
      "2022-03-25 12:03:27,170 - mmdet - INFO - \n",
      " Average Precision  (AP) @[ IoU=0.50:0.95 | area=   all | maxDets=100 ] = 0.142\n",
      " Average Precision  (AP) @[ IoU=0.50      | area=   all | maxDets=1000 ] = 0.250\n",
      " Average Precision  (AP) @[ IoU=0.75      | area=   all | maxDets=1000 ] = 0.153\n",
      " Average Precision  (AP) @[ IoU=0.50:0.95 | area= small | maxDets=1000 ] = 0.007\n",
      " Average Precision  (AP) @[ IoU=0.50:0.95 | area=medium | maxDets=1000 ] = 0.020\n",
      " Average Precision  (AP) @[ IoU=0.50:0.95 | area= large | maxDets=1000 ] = 0.176\n",
      " Average Recall     (AR) @[ IoU=0.50:0.95 | area=   all | maxDets=100 ] = 0.361\n",
      " Average Recall     (AR) @[ IoU=0.50:0.95 | area=   all | maxDets=300 ] = 0.361\n",
      " Average Recall     (AR) @[ IoU=0.50:0.95 | area=   all | maxDets=1000 ] = 0.361\n",
      " Average Recall     (AR) @[ IoU=0.50:0.95 | area= small | maxDets=1000 ] = 0.018\n",
      " Average Recall     (AR) @[ IoU=0.50:0.95 | area=medium | maxDets=1000 ] = 0.102\n",
      " Average Recall     (AR) @[ IoU=0.50:0.95 | area= large | maxDets=1000 ] = 0.431\n",
      "\n",
      "2022-03-25 12:03:27,293 - mmdet - INFO - The previous best checkpoint /opt/ml/detection/baseline/mmdetection/work_dirs/MM_Faster_RCNN_Adam-0.00005_aug_768size/best_bbox_mAP_50_epoch_4.pth was removed\n"
     ]
    },
    {
     "name": "stdout",
     "output_type": "stream",
     "text": [
      "DONE (t=1.07s).\n"
     ]
    },
    {
     "name": "stderr",
     "output_type": "stream",
     "text": [
      "2022-03-25 12:03:28,600 - mmdet - INFO - Now best checkpoint is saved as best_bbox_mAP_50_epoch_5.pth.\n",
      "2022-03-25 12:03:28,601 - mmdet - INFO - Best bbox_mAP_50 is 0.2500 at 5 epoch.\n",
      "2022-03-25 12:03:28,607 - mmdet - INFO - Epoch(val) [5][975]\tbbox_mAP: 0.1420, bbox_mAP_50: 0.2500, bbox_mAP_75: 0.1530, bbox_mAP_s: 0.0070, bbox_mAP_m: 0.0200, bbox_mAP_l: 0.1760, bbox_mAP_copypaste: 0.142 0.250 0.153 0.007 0.020 0.176\n",
      "2022-03-25 12:03:49,728 - mmdet - INFO - Epoch [6][50/977]\tlr: 5.000e-05, eta: 2:55:15, time: 0.422, data_time: 0.059, memory: 6411, loss_rpn_cls: 0.0574, loss_rpn_bbox: 0.0371, loss_cls: 0.3047, acc: 91.8076, loss_bbox: 0.2209, loss: 0.6202, grad_norm: 3.4739\n",
      "2022-03-25 12:04:08,978 - mmdet - INFO - Epoch [6][100/977]\tlr: 5.000e-05, eta: 2:55:04, time: 0.385, data_time: 0.008, memory: 6411, loss_rpn_cls: 0.0524, loss_rpn_bbox: 0.0351, loss_cls: 0.2855, acc: 92.0371, loss_bbox: 0.2250, loss: 0.5980, grad_norm: 3.4339\n",
      "2022-03-25 12:04:27,587 - mmdet - INFO - Epoch [6][150/977]\tlr: 5.000e-05, eta: 2:54:50, time: 0.372, data_time: 0.008, memory: 6411, loss_rpn_cls: 0.0558, loss_rpn_bbox: 0.0310, loss_cls: 0.3144, acc: 91.8350, loss_bbox: 0.2202, loss: 0.6214, grad_norm: 3.4186\n",
      "2022-03-25 12:04:46,583 - mmdet - INFO - Epoch [6][200/977]\tlr: 5.000e-05, eta: 2:54:37, time: 0.380, data_time: 0.007, memory: 6411, loss_rpn_cls: 0.0457, loss_rpn_bbox: 0.0282, loss_cls: 0.2920, acc: 91.9990, loss_bbox: 0.2167, loss: 0.5826, grad_norm: 3.4986\n",
      "2022-03-25 12:05:05,466 - mmdet - INFO - Epoch [6][250/977]\tlr: 5.000e-05, eta: 2:54:24, time: 0.378, data_time: 0.007, memory: 6411, loss_rpn_cls: 0.0654, loss_rpn_bbox: 0.0412, loss_cls: 0.3087, acc: 91.4404, loss_bbox: 0.2406, loss: 0.6559, grad_norm: 3.3540\n",
      "2022-03-25 12:05:25,099 - mmdet - INFO - Epoch [6][300/977]\tlr: 5.000e-05, eta: 2:54:16, time: 0.393, data_time: 0.007, memory: 6411, loss_rpn_cls: 0.0702, loss_rpn_bbox: 0.0400, loss_cls: 0.3115, acc: 92.0312, loss_bbox: 0.2200, loss: 0.6417, grad_norm: 3.9074\n",
      "2022-03-25 12:05:43,547 - mmdet - INFO - Epoch [6][350/977]\tlr: 5.000e-05, eta: 2:54:00, time: 0.369, data_time: 0.008, memory: 6411, loss_rpn_cls: 0.0616, loss_rpn_bbox: 0.0332, loss_cls: 0.3065, acc: 91.8662, loss_bbox: 0.2241, loss: 0.6254, grad_norm: 3.2956\n",
      "2022-03-25 12:06:02,251 - mmdet - INFO - Epoch [6][400/977]\tlr: 5.000e-05, eta: 2:53:46, time: 0.374, data_time: 0.008, memory: 6411, loss_rpn_cls: 0.0656, loss_rpn_bbox: 0.0411, loss_cls: 0.3144, acc: 91.5879, loss_bbox: 0.2319, loss: 0.6530, grad_norm: 3.5371\n",
      "2022-03-25 12:06:20,771 - mmdet - INFO - Epoch [6][450/977]\tlr: 5.000e-05, eta: 2:53:30, time: 0.370, data_time: 0.008, memory: 6411, loss_rpn_cls: 0.0628, loss_rpn_bbox: 0.0397, loss_cls: 0.2808, acc: 92.3145, loss_bbox: 0.2127, loss: 0.5960, grad_norm: 3.5361\n",
      "2022-03-25 12:06:39,527 - mmdet - INFO - Epoch [6][500/977]\tlr: 5.000e-05, eta: 2:53:16, time: 0.375, data_time: 0.008, memory: 6411, loss_rpn_cls: 0.0687, loss_rpn_bbox: 0.0527, loss_cls: 0.3694, acc: 90.1016, loss_bbox: 0.2865, loss: 0.7773, grad_norm: 3.7764\n",
      "2022-03-25 12:06:58,743 - mmdet - INFO - Epoch [6][550/977]\tlr: 5.000e-05, eta: 2:53:04, time: 0.384, data_time: 0.008, memory: 6411, loss_rpn_cls: 0.0622, loss_rpn_bbox: 0.0365, loss_cls: 0.3092, acc: 91.8135, loss_bbox: 0.2300, loss: 0.6379, grad_norm: 3.4120\n",
      "2022-03-25 12:07:17,210 - mmdet - INFO - Epoch [6][600/977]\tlr: 5.000e-05, eta: 2:52:48, time: 0.369, data_time: 0.008, memory: 6411, loss_rpn_cls: 0.0612, loss_rpn_bbox: 0.0389, loss_cls: 0.3142, acc: 91.5820, loss_bbox: 0.2335, loss: 0.6478, grad_norm: 3.4191\n",
      "2022-03-25 12:07:35,591 - mmdet - INFO - Epoch [6][650/977]\tlr: 5.000e-05, eta: 2:52:32, time: 0.368, data_time: 0.008, memory: 6411, loss_rpn_cls: 0.0555, loss_rpn_bbox: 0.0401, loss_cls: 0.3425, acc: 90.7471, loss_bbox: 0.2558, loss: 0.6938, grad_norm: 3.4520\n",
      "2022-03-25 12:07:54,473 - mmdet - INFO - Epoch [6][700/977]\tlr: 5.000e-05, eta: 2:52:18, time: 0.378, data_time: 0.008, memory: 6411, loss_rpn_cls: 0.0523, loss_rpn_bbox: 0.0350, loss_cls: 0.2975, acc: 91.8652, loss_bbox: 0.2292, loss: 0.6140, grad_norm: 3.4741\n",
      "2022-03-25 12:08:12,556 - mmdet - INFO - Epoch [6][750/977]\tlr: 5.000e-05, eta: 2:52:00, time: 0.362, data_time: 0.008, memory: 6411, loss_rpn_cls: 0.0712, loss_rpn_bbox: 0.0380, loss_cls: 0.3211, acc: 91.6846, loss_bbox: 0.2240, loss: 0.6543, grad_norm: 3.5805\n",
      "2022-03-25 12:08:31,484 - mmdet - INFO - Epoch [6][800/977]\tlr: 5.000e-05, eta: 2:51:46, time: 0.379, data_time: 0.008, memory: 6411, loss_rpn_cls: 0.0707, loss_rpn_bbox: 0.0361, loss_cls: 0.2965, acc: 92.0967, loss_bbox: 0.2153, loss: 0.6186, grad_norm: 3.3900\n",
      "2022-03-25 12:08:50,412 - mmdet - INFO - Epoch [6][850/977]\tlr: 5.000e-05, eta: 2:51:32, time: 0.379, data_time: 0.008, memory: 6411, loss_rpn_cls: 0.0516, loss_rpn_bbox: 0.0344, loss_cls: 0.3082, acc: 91.6279, loss_bbox: 0.2304, loss: 0.6246, grad_norm: 3.3309\n",
      "2022-03-25 12:09:08,805 - mmdet - INFO - Epoch [6][900/977]\tlr: 5.000e-05, eta: 2:51:16, time: 0.368, data_time: 0.008, memory: 6411, loss_rpn_cls: 0.0611, loss_rpn_bbox: 0.0372, loss_cls: 0.3188, acc: 91.5049, loss_bbox: 0.2365, loss: 0.6537, grad_norm: 3.2623\n",
      "2022-03-25 12:09:27,960 - mmdet - INFO - Epoch [6][950/977]\tlr: 5.000e-05, eta: 2:51:03, time: 0.383, data_time: 0.008, memory: 6411, loss_rpn_cls: 0.0439, loss_rpn_bbox: 0.0251, loss_cls: 0.2622, acc: 93.1465, loss_bbox: 0.1805, loss: 0.5116, grad_norm: 3.0986\n",
      "2022-03-25 12:09:38,128 - mmdet - INFO - Saving checkpoint at 6 epochs\n"
     ]
    },
    {
     "name": "stdout",
     "output_type": "stream",
     "text": [
      "[>>>>>>>>>>>>>>>>>>>>>>>>>>>>>] 975/975, 24.2 task/s, elapsed: 40s, ETA:     0s"
     ]
    },
    {
     "name": "stderr",
     "output_type": "stream",
     "text": [
      "2022-03-25 12:10:20,129 - mmdet - INFO - Evaluating bbox...\n"
     ]
    },
    {
     "name": "stdout",
     "output_type": "stream",
     "text": [
      "Loading and preparing results...\n",
      "DONE (t=0.02s)\n",
      "creating index...\n",
      "index created!\n",
      "Running per image evaluation...\n",
      "Evaluate annotation type *bbox*\n",
      "DONE (t=2.62s).\n",
      "Accumulating evaluation results...\n"
     ]
    },
    {
     "name": "stderr",
     "output_type": "stream",
     "text": [
      "2022-03-25 12:10:23,594 - mmdet - INFO - \n",
      " Average Precision  (AP) @[ IoU=0.50:0.95 | area=   all | maxDets=100 ] = 0.146\n",
      " Average Precision  (AP) @[ IoU=0.50      | area=   all | maxDets=1000 ] = 0.265\n",
      " Average Precision  (AP) @[ IoU=0.75      | area=   all | maxDets=1000 ] = 0.144\n",
      " Average Precision  (AP) @[ IoU=0.50:0.95 | area= small | maxDets=1000 ] = 0.000\n",
      " Average Precision  (AP) @[ IoU=0.50:0.95 | area=medium | maxDets=1000 ] = 0.079\n",
      " Average Precision  (AP) @[ IoU=0.50:0.95 | area= large | maxDets=1000 ] = 0.179\n",
      " Average Recall     (AR) @[ IoU=0.50:0.95 | area=   all | maxDets=100 ] = 0.363\n",
      " Average Recall     (AR) @[ IoU=0.50:0.95 | area=   all | maxDets=300 ] = 0.363\n",
      " Average Recall     (AR) @[ IoU=0.50:0.95 | area=   all | maxDets=1000 ] = 0.363\n",
      " Average Recall     (AR) @[ IoU=0.50:0.95 | area= small | maxDets=1000 ] = 0.003\n",
      " Average Recall     (AR) @[ IoU=0.50:0.95 | area=medium | maxDets=1000 ] = 0.128\n",
      " Average Recall     (AR) @[ IoU=0.50:0.95 | area= large | maxDets=1000 ] = 0.431\n",
      "\n",
      "2022-03-25 12:10:23,704 - mmdet - INFO - The previous best checkpoint /opt/ml/detection/baseline/mmdetection/work_dirs/MM_Faster_RCNN_Adam-0.00005_aug_768size/best_bbox_mAP_50_epoch_5.pth was removed\n"
     ]
    },
    {
     "name": "stdout",
     "output_type": "stream",
     "text": [
      "DONE (t=0.75s).\n"
     ]
    },
    {
     "name": "stderr",
     "output_type": "stream",
     "text": [
      "2022-03-25 12:10:25,075 - mmdet - INFO - Now best checkpoint is saved as best_bbox_mAP_50_epoch_6.pth.\n",
      "2022-03-25 12:10:25,076 - mmdet - INFO - Best bbox_mAP_50 is 0.2650 at 6 epoch.\n",
      "2022-03-25 12:10:25,079 - mmdet - INFO - Epoch(val) [6][975]\tbbox_mAP: 0.1460, bbox_mAP_50: 0.2650, bbox_mAP_75: 0.1440, bbox_mAP_s: 0.0000, bbox_mAP_m: 0.0790, bbox_mAP_l: 0.1790, bbox_mAP_copypaste: 0.146 0.265 0.144 0.000 0.079 0.179\n",
      "2022-03-25 12:10:46,962 - mmdet - INFO - Epoch [7][50/977]\tlr: 5.000e-05, eta: 2:50:06, time: 0.437, data_time: 0.059, memory: 6411, loss_rpn_cls: 0.0564, loss_rpn_bbox: 0.0410, loss_cls: 0.3134, acc: 91.1602, loss_bbox: 0.2496, loss: 0.6603, grad_norm: 3.4760\n",
      "2022-03-25 12:11:05,598 - mmdet - INFO - Epoch [7][100/977]\tlr: 5.000e-05, eta: 2:49:51, time: 0.373, data_time: 0.008, memory: 6411, loss_rpn_cls: 0.0547, loss_rpn_bbox: 0.0342, loss_cls: 0.2931, acc: 92.3428, loss_bbox: 0.2133, loss: 0.5953, grad_norm: 3.4715\n",
      "2022-03-25 12:11:23,915 - mmdet - INFO - Epoch [7][150/977]\tlr: 5.000e-05, eta: 2:49:34, time: 0.366, data_time: 0.007, memory: 6411, loss_rpn_cls: 0.0599, loss_rpn_bbox: 0.0401, loss_cls: 0.3057, acc: 91.8379, loss_bbox: 0.2231, loss: 0.6288, grad_norm: 3.6579\n",
      "2022-03-25 12:11:42,525 - mmdet - INFO - Epoch [7][200/977]\tlr: 5.000e-05, eta: 2:49:19, time: 0.372, data_time: 0.008, memory: 6411, loss_rpn_cls: 0.0467, loss_rpn_bbox: 0.0296, loss_cls: 0.2846, acc: 92.1572, loss_bbox: 0.2155, loss: 0.5764, grad_norm: 3.2573\n",
      "2022-03-25 12:12:01,067 - mmdet - INFO - Epoch [7][250/977]\tlr: 5.000e-05, eta: 2:49:03, time: 0.371, data_time: 0.008, memory: 6411, loss_rpn_cls: 0.0536, loss_rpn_bbox: 0.0343, loss_cls: 0.2735, acc: 92.4316, loss_bbox: 0.2014, loss: 0.5628, grad_norm: 3.3614\n",
      "2022-03-25 12:12:19,327 - mmdet - INFO - Epoch [7][300/977]\tlr: 5.000e-05, eta: 2:48:46, time: 0.365, data_time: 0.008, memory: 6411, loss_rpn_cls: 0.0555, loss_rpn_bbox: 0.0324, loss_cls: 0.2924, acc: 92.0381, loss_bbox: 0.2202, loss: 0.6005, grad_norm: 3.2783\n",
      "2022-03-25 12:12:37,076 - mmdet - INFO - Epoch [7][350/977]\tlr: 5.000e-05, eta: 2:48:26, time: 0.355, data_time: 0.007, memory: 6411, loss_rpn_cls: 0.0553, loss_rpn_bbox: 0.0373, loss_cls: 0.2990, acc: 91.7686, loss_bbox: 0.2254, loss: 0.6170, grad_norm: 3.4482\n",
      "2022-03-25 12:12:55,770 - mmdet - INFO - Epoch [7][400/977]\tlr: 5.000e-05, eta: 2:48:11, time: 0.374, data_time: 0.008, memory: 6411, loss_rpn_cls: 0.0521, loss_rpn_bbox: 0.0327, loss_cls: 0.2904, acc: 92.0967, loss_bbox: 0.2217, loss: 0.5967, grad_norm: 3.2660\n",
      "2022-03-25 12:13:13,999 - mmdet - INFO - Epoch [7][450/977]\tlr: 5.000e-05, eta: 2:47:54, time: 0.365, data_time: 0.007, memory: 6411, loss_rpn_cls: 0.0616, loss_rpn_bbox: 0.0388, loss_cls: 0.3256, acc: 91.2822, loss_bbox: 0.2450, loss: 0.6711, grad_norm: 3.6639\n",
      "2022-03-25 12:13:32,637 - mmdet - INFO - Epoch [7][500/977]\tlr: 5.000e-05, eta: 2:47:38, time: 0.373, data_time: 0.008, memory: 6411, loss_rpn_cls: 0.0577, loss_rpn_bbox: 0.0345, loss_cls: 0.2947, acc: 91.8896, loss_bbox: 0.2271, loss: 0.6140, grad_norm: 3.3618\n",
      "2022-03-25 12:13:51,206 - mmdet - INFO - Epoch [7][550/977]\tlr: 5.000e-05, eta: 2:47:22, time: 0.371, data_time: 0.008, memory: 6411, loss_rpn_cls: 0.0558, loss_rpn_bbox: 0.0402, loss_cls: 0.3330, acc: 91.2490, loss_bbox: 0.2452, loss: 0.6741, grad_norm: 3.6750\n",
      "2022-03-25 12:14:09,088 - mmdet - INFO - Epoch [7][600/977]\tlr: 5.000e-05, eta: 2:47:04, time: 0.358, data_time: 0.008, memory: 6411, loss_rpn_cls: 0.0686, loss_rpn_bbox: 0.0401, loss_cls: 0.3028, acc: 91.5703, loss_bbox: 0.2321, loss: 0.6436, grad_norm: 3.7274\n",
      "2022-03-25 12:14:27,494 - mmdet - INFO - Epoch [7][650/977]\tlr: 5.000e-05, eta: 2:46:47, time: 0.368, data_time: 0.008, memory: 6411, loss_rpn_cls: 0.0414, loss_rpn_bbox: 0.0327, loss_cls: 0.2862, acc: 92.3223, loss_bbox: 0.2066, loss: 0.5670, grad_norm: 3.1409\n",
      "2022-03-25 12:14:45,595 - mmdet - INFO - Epoch [7][700/977]\tlr: 5.000e-05, eta: 2:46:29, time: 0.362, data_time: 0.008, memory: 6411, loss_rpn_cls: 0.0612, loss_rpn_bbox: 0.0368, loss_cls: 0.3045, acc: 91.6523, loss_bbox: 0.2258, loss: 0.6283, grad_norm: 3.5074\n",
      "2022-03-25 12:15:04,441 - mmdet - INFO - Epoch [7][750/977]\tlr: 5.000e-05, eta: 2:46:14, time: 0.377, data_time: 0.008, memory: 6411, loss_rpn_cls: 0.0553, loss_rpn_bbox: 0.0344, loss_cls: 0.3173, acc: 91.7510, loss_bbox: 0.2241, loss: 0.6311, grad_norm: 3.3864\n",
      "2022-03-25 12:15:23,131 - mmdet - INFO - Epoch [7][800/977]\tlr: 5.000e-05, eta: 2:45:58, time: 0.374, data_time: 0.008, memory: 6411, loss_rpn_cls: 0.0533, loss_rpn_bbox: 0.0367, loss_cls: 0.3136, acc: 91.1934, loss_bbox: 0.2403, loss: 0.6439, grad_norm: 3.3433\n",
      "2022-03-25 12:15:41,468 - mmdet - INFO - Epoch [7][850/977]\tlr: 5.000e-05, eta: 2:45:41, time: 0.367, data_time: 0.008, memory: 6411, loss_rpn_cls: 0.0577, loss_rpn_bbox: 0.0324, loss_cls: 0.2745, acc: 92.3682, loss_bbox: 0.2030, loss: 0.5676, grad_norm: 3.2505\n",
      "2022-03-25 12:15:59,682 - mmdet - INFO - Epoch [7][900/977]\tlr: 5.000e-05, eta: 2:45:24, time: 0.364, data_time: 0.008, memory: 6411, loss_rpn_cls: 0.0515, loss_rpn_bbox: 0.0320, loss_cls: 0.2813, acc: 92.5713, loss_bbox: 0.2038, loss: 0.5687, grad_norm: 3.2523\n",
      "2022-03-25 12:16:18,307 - mmdet - INFO - Epoch [7][950/977]\tlr: 5.000e-05, eta: 2:45:08, time: 0.372, data_time: 0.008, memory: 6411, loss_rpn_cls: 0.0587, loss_rpn_bbox: 0.0358, loss_cls: 0.3241, acc: 91.2305, loss_bbox: 0.2362, loss: 0.6548, grad_norm: 3.2401\n",
      "2022-03-25 12:16:28,201 - mmdet - INFO - Saving checkpoint at 7 epochs\n"
     ]
    },
    {
     "name": "stdout",
     "output_type": "stream",
     "text": [
      "[>>>>>>>>>>>>>>>>>>>>>>>>>>>>>] 975/975, 23.9 task/s, elapsed: 41s, ETA:     0s"
     ]
    },
    {
     "name": "stderr",
     "output_type": "stream",
     "text": [
      "2022-03-25 12:17:11,040 - mmdet - INFO - Evaluating bbox...\n"
     ]
    },
    {
     "name": "stdout",
     "output_type": "stream",
     "text": [
      "Loading and preparing results...\n",
      "DONE (t=0.05s)\n",
      "creating index...\n",
      "index created!\n",
      "Running per image evaluation...\n",
      "Evaluate annotation type *bbox*\n",
      "DONE (t=3.84s).\n",
      "Accumulating evaluation results...\n"
     ]
    },
    {
     "name": "stderr",
     "output_type": "stream",
     "text": [
      "2022-03-25 12:17:17,046 - mmdet - INFO - \n",
      " Average Precision  (AP) @[ IoU=0.50:0.95 | area=   all | maxDets=100 ] = 0.158\n",
      " Average Precision  (AP) @[ IoU=0.50      | area=   all | maxDets=1000 ] = 0.292\n",
      " Average Precision  (AP) @[ IoU=0.75      | area=   all | maxDets=1000 ] = 0.157\n",
      " Average Precision  (AP) @[ IoU=0.50:0.95 | area= small | maxDets=1000 ] = 0.013\n",
      " Average Precision  (AP) @[ IoU=0.50:0.95 | area=medium | maxDets=1000 ] = 0.044\n",
      " Average Precision  (AP) @[ IoU=0.50:0.95 | area= large | maxDets=1000 ] = 0.195\n",
      " Average Recall     (AR) @[ IoU=0.50:0.95 | area=   all | maxDets=100 ] = 0.399\n",
      " Average Recall     (AR) @[ IoU=0.50:0.95 | area=   all | maxDets=300 ] = 0.399\n",
      " Average Recall     (AR) @[ IoU=0.50:0.95 | area=   all | maxDets=1000 ] = 0.399\n",
      " Average Recall     (AR) @[ IoU=0.50:0.95 | area= small | maxDets=1000 ] = 0.019\n",
      " Average Recall     (AR) @[ IoU=0.50:0.95 | area=medium | maxDets=1000 ] = 0.173\n",
      " Average Recall     (AR) @[ IoU=0.50:0.95 | area= large | maxDets=1000 ] = 0.466\n",
      "\n",
      "2022-03-25 12:17:17,179 - mmdet - INFO - The previous best checkpoint /opt/ml/detection/baseline/mmdetection/work_dirs/MM_Faster_RCNN_Adam-0.00005_aug_768size/best_bbox_mAP_50_epoch_6.pth was removed\n"
     ]
    },
    {
     "name": "stdout",
     "output_type": "stream",
     "text": [
      "DONE (t=1.18s).\n"
     ]
    },
    {
     "name": "stderr",
     "output_type": "stream",
     "text": [
      "2022-03-25 12:17:18,492 - mmdet - INFO - Now best checkpoint is saved as best_bbox_mAP_50_epoch_7.pth.\n",
      "2022-03-25 12:17:18,493 - mmdet - INFO - Best bbox_mAP_50 is 0.2920 at 7 epoch.\n",
      "2022-03-25 12:17:18,498 - mmdet - INFO - Epoch(val) [7][975]\tbbox_mAP: 0.1580, bbox_mAP_50: 0.2920, bbox_mAP_75: 0.1570, bbox_mAP_s: 0.0130, bbox_mAP_m: 0.0440, bbox_mAP_l: 0.1950, bbox_mAP_copypaste: 0.158 0.292 0.157 0.013 0.044 0.195\n",
      "2022-03-25 12:17:39,006 - mmdet - INFO - Epoch [8][50/977]\tlr: 5.000e-05, eta: 2:44:11, time: 0.410, data_time: 0.058, memory: 6411, loss_rpn_cls: 0.0527, loss_rpn_bbox: 0.0336, loss_cls: 0.2669, acc: 92.7891, loss_bbox: 0.1904, loss: 0.5436, grad_norm: 3.2431\n",
      "2022-03-25 12:17:56,822 - mmdet - INFO - Epoch [8][100/977]\tlr: 5.000e-05, eta: 2:43:52, time: 0.356, data_time: 0.008, memory: 6411, loss_rpn_cls: 0.0496, loss_rpn_bbox: 0.0297, loss_cls: 0.2641, acc: 92.9121, loss_bbox: 0.1935, loss: 0.5369, grad_norm: 3.5536\n",
      "2022-03-25 12:18:15,295 - mmdet - INFO - Epoch [8][150/977]\tlr: 5.000e-05, eta: 2:43:36, time: 0.369, data_time: 0.007, memory: 6411, loss_rpn_cls: 0.0600, loss_rpn_bbox: 0.0336, loss_cls: 0.3026, acc: 92.0918, loss_bbox: 0.2236, loss: 0.6198, grad_norm: 3.2334\n",
      "2022-03-25 12:18:33,576 - mmdet - INFO - Epoch [8][200/977]\tlr: 5.000e-05, eta: 2:43:19, time: 0.366, data_time: 0.007, memory: 6411, loss_rpn_cls: 0.0520, loss_rpn_bbox: 0.0345, loss_cls: 0.3237, acc: 91.3799, loss_bbox: 0.2313, loss: 0.6414, grad_norm: 3.5726\n",
      "2022-03-25 12:18:52,508 - mmdet - INFO - Epoch [8][250/977]\tlr: 5.000e-05, eta: 2:43:04, time: 0.379, data_time: 0.007, memory: 6411, loss_rpn_cls: 0.0626, loss_rpn_bbox: 0.0393, loss_cls: 0.3110, acc: 91.6113, loss_bbox: 0.2344, loss: 0.6473, grad_norm: 3.4106\n",
      "2022-03-25 12:19:10,301 - mmdet - INFO - Epoch [8][300/977]\tlr: 5.000e-05, eta: 2:42:45, time: 0.356, data_time: 0.007, memory: 6411, loss_rpn_cls: 0.0589, loss_rpn_bbox: 0.0386, loss_cls: 0.3136, acc: 91.2676, loss_bbox: 0.2377, loss: 0.6489, grad_norm: 3.4863\n",
      "2022-03-25 12:19:28,371 - mmdet - INFO - Epoch [8][350/977]\tlr: 5.000e-05, eta: 2:42:27, time: 0.361, data_time: 0.008, memory: 6411, loss_rpn_cls: 0.0553, loss_rpn_bbox: 0.0364, loss_cls: 0.3077, acc: 91.5537, loss_bbox: 0.2310, loss: 0.6304, grad_norm: 3.4406\n",
      "2022-03-25 12:19:47,002 - mmdet - INFO - Epoch [8][400/977]\tlr: 5.000e-05, eta: 2:42:11, time: 0.373, data_time: 0.008, memory: 6411, loss_rpn_cls: 0.0602, loss_rpn_bbox: 0.0382, loss_cls: 0.3169, acc: 91.2490, loss_bbox: 0.2490, loss: 0.6644, grad_norm: 3.6534\n",
      "2022-03-25 12:20:05,625 - mmdet - INFO - Epoch [8][450/977]\tlr: 5.000e-05, eta: 2:41:55, time: 0.372, data_time: 0.008, memory: 6411, loss_rpn_cls: 0.0572, loss_rpn_bbox: 0.0366, loss_cls: 0.2938, acc: 91.8418, loss_bbox: 0.2111, loss: 0.5988, grad_norm: 3.4201\n",
      "2022-03-25 12:20:24,190 - mmdet - INFO - Epoch [8][500/977]\tlr: 5.000e-05, eta: 2:41:39, time: 0.371, data_time: 0.008, memory: 6411, loss_rpn_cls: 0.0536, loss_rpn_bbox: 0.0410, loss_cls: 0.3222, acc: 90.8877, loss_bbox: 0.2642, loss: 0.6811, grad_norm: 3.6603\n",
      "2022-03-25 12:20:42,982 - mmdet - INFO - Epoch [8][550/977]\tlr: 5.000e-05, eta: 2:41:23, time: 0.376, data_time: 0.008, memory: 6411, loss_rpn_cls: 0.0604, loss_rpn_bbox: 0.0361, loss_cls: 0.2901, acc: 92.0273, loss_bbox: 0.2233, loss: 0.6100, grad_norm: 3.5774\n",
      "2022-03-25 12:21:00,992 - mmdet - INFO - Epoch [8][600/977]\tlr: 5.000e-05, eta: 2:41:05, time: 0.360, data_time: 0.008, memory: 6411, loss_rpn_cls: 0.0595, loss_rpn_bbox: 0.0354, loss_cls: 0.3092, acc: 91.3848, loss_bbox: 0.2352, loss: 0.6394, grad_norm: 3.4870\n",
      "2022-03-25 12:21:19,559 - mmdet - INFO - Epoch [8][650/977]\tlr: 5.000e-05, eta: 2:40:49, time: 0.371, data_time: 0.008, memory: 6411, loss_rpn_cls: 0.0461, loss_rpn_bbox: 0.0325, loss_cls: 0.2828, acc: 91.9170, loss_bbox: 0.2091, loss: 0.5706, grad_norm: 3.1769\n",
      "2022-03-25 12:21:38,165 - mmdet - INFO - Epoch [8][700/977]\tlr: 5.000e-05, eta: 2:40:33, time: 0.372, data_time: 0.008, memory: 6411, loss_rpn_cls: 0.0499, loss_rpn_bbox: 0.0306, loss_cls: 0.2647, acc: 92.4727, loss_bbox: 0.2023, loss: 0.5475, grad_norm: 3.1857\n",
      "2022-03-25 12:21:56,929 - mmdet - INFO - Epoch [8][750/977]\tlr: 5.000e-05, eta: 2:40:17, time: 0.375, data_time: 0.008, memory: 6411, loss_rpn_cls: 0.0517, loss_rpn_bbox: 0.0331, loss_cls: 0.2702, acc: 92.4434, loss_bbox: 0.2113, loss: 0.5662, grad_norm: 3.2347\n",
      "2022-03-25 12:22:15,249 - mmdet - INFO - Epoch [8][800/977]\tlr: 5.000e-05, eta: 2:40:00, time: 0.366, data_time: 0.008, memory: 6411, loss_rpn_cls: 0.0565, loss_rpn_bbox: 0.0384, loss_cls: 0.3109, acc: 91.6475, loss_bbox: 0.2208, loss: 0.6267, grad_norm: 3.5580\n",
      "2022-03-25 12:22:33,747 - mmdet - INFO - Epoch [8][850/977]\tlr: 5.000e-05, eta: 2:39:43, time: 0.370, data_time: 0.008, memory: 6411, loss_rpn_cls: 0.0498, loss_rpn_bbox: 0.0350, loss_cls: 0.2827, acc: 92.4346, loss_bbox: 0.2095, loss: 0.5769, grad_norm: 3.4044\n",
      "2022-03-25 12:22:52,465 - mmdet - INFO - Epoch [8][900/977]\tlr: 5.000e-05, eta: 2:39:27, time: 0.374, data_time: 0.008, memory: 6411, loss_rpn_cls: 0.0450, loss_rpn_bbox: 0.0313, loss_cls: 0.2893, acc: 91.9502, loss_bbox: 0.2152, loss: 0.5808, grad_norm: 3.2114\n",
      "2022-03-25 12:23:11,171 - mmdet - INFO - Epoch [8][950/977]\tlr: 5.000e-05, eta: 2:39:11, time: 0.374, data_time: 0.008, memory: 6411, loss_rpn_cls: 0.0660, loss_rpn_bbox: 0.0341, loss_cls: 0.3109, acc: 91.5283, loss_bbox: 0.2310, loss: 0.6421, grad_norm: 3.4539\n",
      "2022-03-25 12:23:21,380 - mmdet - INFO - Saving checkpoint at 8 epochs\n"
     ]
    },
    {
     "name": "stdout",
     "output_type": "stream",
     "text": [
      "[>>>>>>>>>>>>>>>>>>>>>>>>>>>>>] 975/975, 25.3 task/s, elapsed: 39s, ETA:     0s"
     ]
    },
    {
     "name": "stderr",
     "output_type": "stream",
     "text": [
      "2022-03-25 12:24:02,110 - mmdet - INFO - Evaluating bbox...\n"
     ]
    },
    {
     "name": "stdout",
     "output_type": "stream",
     "text": [
      "Loading and preparing results...\n",
      "DONE (t=0.88s)\n",
      "creating index...\n",
      "index created!\n",
      "Running per image evaluation...\n",
      "Evaluate annotation type *bbox*\n",
      "DONE (t=4.16s).\n",
      "Accumulating evaluation results...\n"
     ]
    },
    {
     "name": "stderr",
     "output_type": "stream",
     "text": [
      "2022-03-25 12:24:08,669 - mmdet - INFO - \n",
      " Average Precision  (AP) @[ IoU=0.50:0.95 | area=   all | maxDets=100 ] = 0.163\n",
      " Average Precision  (AP) @[ IoU=0.50      | area=   all | maxDets=1000 ] = 0.295\n",
      " Average Precision  (AP) @[ IoU=0.75      | area=   all | maxDets=1000 ] = 0.153\n",
      " Average Precision  (AP) @[ IoU=0.50:0.95 | area= small | maxDets=1000 ] = 0.002\n",
      " Average Precision  (AP) @[ IoU=0.50:0.95 | area=medium | maxDets=1000 ] = 0.050\n",
      " Average Precision  (AP) @[ IoU=0.50:0.95 | area= large | maxDets=1000 ] = 0.199\n",
      " Average Recall     (AR) @[ IoU=0.50:0.95 | area=   all | maxDets=100 ] = 0.404\n",
      " Average Recall     (AR) @[ IoU=0.50:0.95 | area=   all | maxDets=300 ] = 0.404\n",
      " Average Recall     (AR) @[ IoU=0.50:0.95 | area=   all | maxDets=1000 ] = 0.404\n",
      " Average Recall     (AR) @[ IoU=0.50:0.95 | area= small | maxDets=1000 ] = 0.007\n",
      " Average Recall     (AR) @[ IoU=0.50:0.95 | area=medium | maxDets=1000 ] = 0.175\n",
      " Average Recall     (AR) @[ IoU=0.50:0.95 | area= large | maxDets=1000 ] = 0.474\n",
      "\n",
      "2022-03-25 12:24:08,823 - mmdet - INFO - The previous best checkpoint /opt/ml/detection/baseline/mmdetection/work_dirs/MM_Faster_RCNN_Adam-0.00005_aug_768size/best_bbox_mAP_50_epoch_7.pth was removed\n"
     ]
    },
    {
     "name": "stdout",
     "output_type": "stream",
     "text": [
      "DONE (t=1.35s).\n"
     ]
    },
    {
     "name": "stderr",
     "output_type": "stream",
     "text": [
      "2022-03-25 12:24:10,186 - mmdet - INFO - Now best checkpoint is saved as best_bbox_mAP_50_epoch_8.pth.\n",
      "2022-03-25 12:24:10,187 - mmdet - INFO - Best bbox_mAP_50 is 0.2950 at 8 epoch.\n",
      "2022-03-25 12:24:10,191 - mmdet - INFO - Epoch(val) [8][975]\tbbox_mAP: 0.1630, bbox_mAP_50: 0.2950, bbox_mAP_75: 0.1530, bbox_mAP_s: 0.0020, bbox_mAP_m: 0.0500, bbox_mAP_l: 0.1990, bbox_mAP_copypaste: 0.163 0.295 0.153 0.002 0.050 0.199\n",
      "2022-03-25 12:24:31,509 - mmdet - INFO - Epoch [9][50/977]\tlr: 5.000e-06, eta: 2:38:22, time: 0.426, data_time: 0.059, memory: 6411, loss_rpn_cls: 0.0479, loss_rpn_bbox: 0.0321, loss_cls: 0.2926, acc: 91.9717, loss_bbox: 0.2191, loss: 0.5916, grad_norm: 3.0198\n",
      "2022-03-25 12:24:50,105 - mmdet - INFO - Epoch [9][100/977]\tlr: 5.000e-06, eta: 2:38:05, time: 0.372, data_time: 0.008, memory: 6411, loss_rpn_cls: 0.0486, loss_rpn_bbox: 0.0363, loss_cls: 0.2998, acc: 91.3799, loss_bbox: 0.2420, loss: 0.6266, grad_norm: 2.8685\n",
      "2022-03-25 12:25:08,931 - mmdet - INFO - Epoch [9][150/977]\tlr: 5.000e-06, eta: 2:37:50, time: 0.377, data_time: 0.008, memory: 6411, loss_rpn_cls: 0.0443, loss_rpn_bbox: 0.0294, loss_cls: 0.2552, acc: 92.7979, loss_bbox: 0.1965, loss: 0.5254, grad_norm: 2.7720\n",
      "2022-03-25 12:25:27,505 - mmdet - INFO - Epoch [9][200/977]\tlr: 5.000e-06, eta: 2:37:34, time: 0.371, data_time: 0.008, memory: 6411, loss_rpn_cls: 0.0447, loss_rpn_bbox: 0.0285, loss_cls: 0.2362, acc: 93.4658, loss_bbox: 0.1781, loss: 0.4875, grad_norm: 2.7204\n",
      "2022-03-25 12:25:46,620 - mmdet - INFO - Epoch [9][250/977]\tlr: 5.000e-06, eta: 2:37:19, time: 0.382, data_time: 0.007, memory: 6411, loss_rpn_cls: 0.0428, loss_rpn_bbox: 0.0293, loss_cls: 0.2494, acc: 92.6094, loss_bbox: 0.1958, loss: 0.5173, grad_norm: 2.8952\n",
      "2022-03-25 12:26:05,346 - mmdet - INFO - Epoch [9][300/977]\tlr: 5.000e-06, eta: 2:37:03, time: 0.375, data_time: 0.007, memory: 6411, loss_rpn_cls: 0.0417, loss_rpn_bbox: 0.0323, loss_cls: 0.2749, acc: 92.0625, loss_bbox: 0.2271, loss: 0.5760, grad_norm: 3.1591\n",
      "2022-03-25 12:26:23,033 - mmdet - INFO - Epoch [9][350/977]\tlr: 5.000e-06, eta: 2:36:44, time: 0.354, data_time: 0.008, memory: 6411, loss_rpn_cls: 0.0476, loss_rpn_bbox: 0.0309, loss_cls: 0.2946, acc: 91.9375, loss_bbox: 0.2185, loss: 0.5916, grad_norm: 3.1265\n",
      "2022-03-25 12:26:40,547 - mmdet - INFO - Epoch [9][400/977]\tlr: 5.000e-06, eta: 2:36:24, time: 0.350, data_time: 0.007, memory: 6411, loss_rpn_cls: 0.0483, loss_rpn_bbox: 0.0407, loss_cls: 0.2907, acc: 91.4775, loss_bbox: 0.2297, loss: 0.6094, grad_norm: 3.2042\n",
      "2022-03-25 12:26:59,045 - mmdet - INFO - Epoch [9][450/977]\tlr: 5.000e-06, eta: 2:36:07, time: 0.370, data_time: 0.008, memory: 6411, loss_rpn_cls: 0.0436, loss_rpn_bbox: 0.0283, loss_cls: 0.2782, acc: 92.0000, loss_bbox: 0.2253, loss: 0.5755, grad_norm: 3.2087\n",
      "2022-03-25 12:27:17,562 - mmdet - INFO - Epoch [9][500/977]\tlr: 5.000e-06, eta: 2:35:51, time: 0.370, data_time: 0.008, memory: 6411, loss_rpn_cls: 0.0455, loss_rpn_bbox: 0.0349, loss_cls: 0.2586, acc: 92.5723, loss_bbox: 0.2212, loss: 0.5602, grad_norm: 3.1480\n",
      "2022-03-25 12:27:35,807 - mmdet - INFO - Epoch [9][550/977]\tlr: 5.000e-06, eta: 2:35:33, time: 0.365, data_time: 0.008, memory: 6411, loss_rpn_cls: 0.0399, loss_rpn_bbox: 0.0303, loss_cls: 0.2587, acc: 92.4639, loss_bbox: 0.2068, loss: 0.5356, grad_norm: 3.1099\n",
      "2022-03-25 12:27:54,543 - mmdet - INFO - Epoch [9][600/977]\tlr: 5.000e-06, eta: 2:35:17, time: 0.375, data_time: 0.008, memory: 6411, loss_rpn_cls: 0.0425, loss_rpn_bbox: 0.0320, loss_cls: 0.2728, acc: 92.2119, loss_bbox: 0.2256, loss: 0.5729, grad_norm: 3.3246\n",
      "2022-03-25 12:28:13,122 - mmdet - INFO - Epoch [9][650/977]\tlr: 5.000e-06, eta: 2:35:01, time: 0.372, data_time: 0.008, memory: 6411, loss_rpn_cls: 0.0363, loss_rpn_bbox: 0.0304, loss_cls: 0.2484, acc: 92.6602, loss_bbox: 0.1964, loss: 0.5115, grad_norm: 3.1919\n",
      "2022-03-25 12:28:31,855 - mmdet - INFO - Epoch [9][700/977]\tlr: 5.000e-06, eta: 2:34:44, time: 0.375, data_time: 0.008, memory: 6411, loss_rpn_cls: 0.0384, loss_rpn_bbox: 0.0274, loss_cls: 0.2521, acc: 92.6934, loss_bbox: 0.2020, loss: 0.5198, grad_norm: 3.3048\n",
      "2022-03-25 12:28:50,041 - mmdet - INFO - Epoch [9][750/977]\tlr: 5.000e-06, eta: 2:34:27, time: 0.364, data_time: 0.008, memory: 6411, loss_rpn_cls: 0.0380, loss_rpn_bbox: 0.0310, loss_cls: 0.2517, acc: 92.7920, loss_bbox: 0.1930, loss: 0.5137, grad_norm: 3.2230\n",
      "2022-03-25 12:29:08,703 - mmdet - INFO - Epoch [9][800/977]\tlr: 5.000e-06, eta: 2:34:10, time: 0.373, data_time: 0.008, memory: 6411, loss_rpn_cls: 0.0460, loss_rpn_bbox: 0.0361, loss_cls: 0.2781, acc: 91.8027, loss_bbox: 0.2282, loss: 0.5885, grad_norm: 3.3151\n",
      "2022-03-25 12:29:26,975 - mmdet - INFO - Epoch [9][850/977]\tlr: 5.000e-06, eta: 2:33:53, time: 0.365, data_time: 0.008, memory: 6411, loss_rpn_cls: 0.0529, loss_rpn_bbox: 0.0411, loss_cls: 0.3148, acc: 91.0967, loss_bbox: 0.2590, loss: 0.6679, grad_norm: 3.6119\n",
      "2022-03-25 12:29:45,594 - mmdet - INFO - Epoch [9][900/977]\tlr: 5.000e-06, eta: 2:33:36, time: 0.372, data_time: 0.008, memory: 6411, loss_rpn_cls: 0.0392, loss_rpn_bbox: 0.0304, loss_cls: 0.2574, acc: 92.6094, loss_bbox: 0.2023, loss: 0.5293, grad_norm: 3.3193\n",
      "2022-03-25 12:30:03,767 - mmdet - INFO - Epoch [9][950/977]\tlr: 5.000e-06, eta: 2:33:18, time: 0.363, data_time: 0.008, memory: 6411, loss_rpn_cls: 0.0446, loss_rpn_bbox: 0.0299, loss_cls: 0.2430, acc: 93.0068, loss_bbox: 0.1916, loss: 0.5091, grad_norm: 3.2285\n",
      "2022-03-25 12:30:13,999 - mmdet - INFO - Saving checkpoint at 9 epochs\n"
     ]
    },
    {
     "name": "stdout",
     "output_type": "stream",
     "text": [
      "[>>>>>>>>>>>>>>>>>>>>>>>>>>>>>] 975/975, 23.3 task/s, elapsed: 42s, ETA:     0s"
     ]
    },
    {
     "name": "stderr",
     "output_type": "stream",
     "text": [
      "2022-03-25 12:30:57,697 - mmdet - INFO - Evaluating bbox...\n"
     ]
    },
    {
     "name": "stdout",
     "output_type": "stream",
     "text": [
      "Loading and preparing results...\n",
      "DONE (t=0.03s)\n",
      "creating index...\n",
      "index created!\n",
      "Running per image evaluation...\n",
      "Evaluate annotation type *bbox*\n",
      "DONE (t=4.54s).\n",
      "Accumulating evaluation results...\n"
     ]
    },
    {
     "name": "stderr",
     "output_type": "stream",
     "text": [
      "2022-03-25 12:31:03,362 - mmdet - INFO - \n",
      " Average Precision  (AP) @[ IoU=0.50:0.95 | area=   all | maxDets=100 ] = 0.215\n",
      " Average Precision  (AP) @[ IoU=0.50      | area=   all | maxDets=1000 ] = 0.353\n",
      " Average Precision  (AP) @[ IoU=0.75      | area=   all | maxDets=1000 ] = 0.222\n",
      " Average Precision  (AP) @[ IoU=0.50:0.95 | area= small | maxDets=1000 ] = 0.003\n",
      " Average Precision  (AP) @[ IoU=0.50:0.95 | area=medium | maxDets=1000 ] = 0.080\n",
      " Average Precision  (AP) @[ IoU=0.50:0.95 | area= large | maxDets=1000 ] = 0.258\n",
      " Average Recall     (AR) @[ IoU=0.50:0.95 | area=   all | maxDets=100 ] = 0.440\n",
      " Average Recall     (AR) @[ IoU=0.50:0.95 | area=   all | maxDets=300 ] = 0.440\n",
      " Average Recall     (AR) @[ IoU=0.50:0.95 | area=   all | maxDets=1000 ] = 0.440\n",
      " Average Recall     (AR) @[ IoU=0.50:0.95 | area= small | maxDets=1000 ] = 0.013\n",
      " Average Recall     (AR) @[ IoU=0.50:0.95 | area=medium | maxDets=1000 ] = 0.187\n",
      " Average Recall     (AR) @[ IoU=0.50:0.95 | area= large | maxDets=1000 ] = 0.512\n",
      "\n",
      "2022-03-25 12:31:03,483 - mmdet - INFO - The previous best checkpoint /opt/ml/detection/baseline/mmdetection/work_dirs/MM_Faster_RCNN_Adam-0.00005_aug_768size/best_bbox_mAP_50_epoch_8.pth was removed\n"
     ]
    },
    {
     "name": "stdout",
     "output_type": "stream",
     "text": [
      "DONE (t=0.98s).\n"
     ]
    },
    {
     "name": "stderr",
     "output_type": "stream",
     "text": [
      "2022-03-25 12:31:04,855 - mmdet - INFO - Now best checkpoint is saved as best_bbox_mAP_50_epoch_9.pth.\n",
      "2022-03-25 12:31:04,856 - mmdet - INFO - Best bbox_mAP_50 is 0.3530 at 9 epoch.\n",
      "2022-03-25 12:31:04,863 - mmdet - INFO - Epoch(val) [9][975]\tbbox_mAP: 0.2150, bbox_mAP_50: 0.3530, bbox_mAP_75: 0.2220, bbox_mAP_s: 0.0030, bbox_mAP_m: 0.0800, bbox_mAP_l: 0.2580, bbox_mAP_copypaste: 0.215 0.353 0.222 0.003 0.080 0.258\n",
      "2022-03-25 12:31:26,096 - mmdet - INFO - Epoch [10][50/977]\tlr: 5.000e-06, eta: 2:32:32, time: 0.424, data_time: 0.059, memory: 6411, loss_rpn_cls: 0.0416, loss_rpn_bbox: 0.0306, loss_cls: 0.2588, acc: 92.7969, loss_bbox: 0.2069, loss: 0.5380, grad_norm: 3.2470\n",
      "2022-03-25 12:31:44,417 - mmdet - INFO - Epoch [10][100/977]\tlr: 5.000e-06, eta: 2:32:14, time: 0.366, data_time: 0.008, memory: 6411, loss_rpn_cls: 0.0389, loss_rpn_bbox: 0.0306, loss_cls: 0.2603, acc: 92.5186, loss_bbox: 0.2145, loss: 0.5442, grad_norm: 3.2663\n",
      "2022-03-25 12:32:02,558 - mmdet - INFO - Epoch [10][150/977]\tlr: 5.000e-06, eta: 2:31:57, time: 0.363, data_time: 0.007, memory: 6411, loss_rpn_cls: 0.0397, loss_rpn_bbox: 0.0330, loss_cls: 0.2608, acc: 92.5361, loss_bbox: 0.2135, loss: 0.5470, grad_norm: 3.1749\n",
      "2022-03-25 12:32:20,550 - mmdet - INFO - Epoch [10][200/977]\tlr: 5.000e-06, eta: 2:31:38, time: 0.360, data_time: 0.007, memory: 6411, loss_rpn_cls: 0.0347, loss_rpn_bbox: 0.0294, loss_cls: 0.2615, acc: 92.3896, loss_bbox: 0.2061, loss: 0.5316, grad_norm: 3.2323\n",
      "2022-03-25 12:32:38,953 - mmdet - INFO - Epoch [10][250/977]\tlr: 5.000e-06, eta: 2:31:21, time: 0.368, data_time: 0.008, memory: 6411, loss_rpn_cls: 0.0382, loss_rpn_bbox: 0.0294, loss_cls: 0.2711, acc: 92.0801, loss_bbox: 0.2193, loss: 0.5580, grad_norm: 3.5344\n",
      "2022-03-25 12:32:57,126 - mmdet - INFO - Epoch [10][300/977]\tlr: 5.000e-06, eta: 2:31:03, time: 0.363, data_time: 0.008, memory: 6411, loss_rpn_cls: 0.0323, loss_rpn_bbox: 0.0275, loss_cls: 0.2379, acc: 93.0645, loss_bbox: 0.1965, loss: 0.4941, grad_norm: 3.1787\n",
      "2022-03-25 12:33:15,573 - mmdet - INFO - Epoch [10][350/977]\tlr: 5.000e-06, eta: 2:30:46, time: 0.369, data_time: 0.008, memory: 6411, loss_rpn_cls: 0.0434, loss_rpn_bbox: 0.0302, loss_cls: 0.2524, acc: 92.7578, loss_bbox: 0.1956, loss: 0.5217, grad_norm: 3.4487\n",
      "2022-03-25 12:33:34,497 - mmdet - INFO - Epoch [10][400/977]\tlr: 5.000e-06, eta: 2:30:31, time: 0.378, data_time: 0.007, memory: 6411, loss_rpn_cls: 0.0384, loss_rpn_bbox: 0.0288, loss_cls: 0.2557, acc: 92.7041, loss_bbox: 0.2015, loss: 0.5244, grad_norm: 3.3779\n",
      "2022-03-25 12:33:52,878 - mmdet - INFO - Epoch [10][450/977]\tlr: 5.000e-06, eta: 2:30:14, time: 0.368, data_time: 0.008, memory: 6411, loss_rpn_cls: 0.0403, loss_rpn_bbox: 0.0313, loss_cls: 0.2756, acc: 91.8467, loss_bbox: 0.2296, loss: 0.5769, grad_norm: 3.4734\n",
      "2022-03-25 12:34:11,945 - mmdet - INFO - Epoch [10][500/977]\tlr: 5.000e-06, eta: 2:29:58, time: 0.381, data_time: 0.007, memory: 6411, loss_rpn_cls: 0.0412, loss_rpn_bbox: 0.0298, loss_cls: 0.2682, acc: 92.2861, loss_bbox: 0.2121, loss: 0.5513, grad_norm: 3.5286\n",
      "2022-03-25 12:34:29,855 - mmdet - INFO - Epoch [10][550/977]\tlr: 5.000e-06, eta: 2:29:40, time: 0.358, data_time: 0.007, memory: 6411, loss_rpn_cls: 0.0400, loss_rpn_bbox: 0.0288, loss_cls: 0.2198, acc: 93.6914, loss_bbox: 0.1758, loss: 0.4644, grad_norm: 3.2008\n",
      "2022-03-25 12:34:48,093 - mmdet - INFO - Epoch [10][600/977]\tlr: 5.000e-06, eta: 2:29:22, time: 0.365, data_time: 0.008, memory: 6411, loss_rpn_cls: 0.0369, loss_rpn_bbox: 0.0285, loss_cls: 0.2467, acc: 93.0273, loss_bbox: 0.1998, loss: 0.5119, grad_norm: 3.2960\n",
      "2022-03-25 12:35:06,348 - mmdet - INFO - Epoch [10][650/977]\tlr: 5.000e-06, eta: 2:29:05, time: 0.365, data_time: 0.008, memory: 6411, loss_rpn_cls: 0.0432, loss_rpn_bbox: 0.0293, loss_cls: 0.2600, acc: 92.5225, loss_bbox: 0.2134, loss: 0.5458, grad_norm: 3.3108\n",
      "2022-03-25 12:35:25,395 - mmdet - INFO - Epoch [10][700/977]\tlr: 5.000e-06, eta: 2:28:49, time: 0.381, data_time: 0.008, memory: 6411, loss_rpn_cls: 0.0476, loss_rpn_bbox: 0.0400, loss_cls: 0.2891, acc: 91.4512, loss_bbox: 0.2463, loss: 0.6230, grad_norm: 3.5560\n",
      "2022-03-25 12:35:43,982 - mmdet - INFO - Epoch [10][750/977]\tlr: 5.000e-06, eta: 2:28:32, time: 0.372, data_time: 0.008, memory: 6411, loss_rpn_cls: 0.0510, loss_rpn_bbox: 0.0347, loss_cls: 0.2711, acc: 92.1992, loss_bbox: 0.2151, loss: 0.5720, grad_norm: 3.5848\n",
      "2022-03-25 12:36:02,509 - mmdet - INFO - Epoch [10][800/977]\tlr: 5.000e-06, eta: 2:28:15, time: 0.371, data_time: 0.008, memory: 6411, loss_rpn_cls: 0.0342, loss_rpn_bbox: 0.0292, loss_cls: 0.2380, acc: 93.0264, loss_bbox: 0.1921, loss: 0.4935, grad_norm: 3.2494\n",
      "2022-03-25 12:36:20,161 - mmdet - INFO - Epoch [10][850/977]\tlr: 5.000e-06, eta: 2:27:56, time: 0.353, data_time: 0.008, memory: 6411, loss_rpn_cls: 0.0437, loss_rpn_bbox: 0.0376, loss_cls: 0.2842, acc: 91.6543, loss_bbox: 0.2384, loss: 0.6039, grad_norm: 3.5396\n",
      "2022-03-25 12:36:38,171 - mmdet - INFO - Epoch [10][900/977]\tlr: 5.000e-06, eta: 2:27:38, time: 0.360, data_time: 0.008, memory: 6411, loss_rpn_cls: 0.0370, loss_rpn_bbox: 0.0302, loss_cls: 0.2607, acc: 92.4062, loss_bbox: 0.2091, loss: 0.5370, grad_norm: 3.3936\n",
      "2022-03-25 12:36:56,887 - mmdet - INFO - Epoch [10][950/977]\tlr: 5.000e-06, eta: 2:27:21, time: 0.374, data_time: 0.008, memory: 6411, loss_rpn_cls: 0.0509, loss_rpn_bbox: 0.0382, loss_cls: 0.2703, acc: 92.1104, loss_bbox: 0.2231, loss: 0.5825, grad_norm: 3.7677\n",
      "2022-03-25 12:37:06,862 - mmdet - INFO - Saving checkpoint at 10 epochs\n"
     ]
    },
    {
     "name": "stdout",
     "output_type": "stream",
     "text": [
      "[>>>>>>>>>>>>>>>>>>>>>>>>>>>>>] 975/975, 24.2 task/s, elapsed: 40s, ETA:     0s"
     ]
    },
    {
     "name": "stderr",
     "output_type": "stream",
     "text": [
      "2022-03-25 12:37:49,089 - mmdet - INFO - Evaluating bbox...\n"
     ]
    },
    {
     "name": "stdout",
     "output_type": "stream",
     "text": [
      "Loading and preparing results...\n",
      "DONE (t=0.03s)\n",
      "creating index...\n",
      "index created!\n",
      "Running per image evaluation...\n",
      "Evaluate annotation type *bbox*\n",
      "DONE (t=3.80s).\n",
      "Accumulating evaluation results...\n"
     ]
    },
    {
     "name": "stderr",
     "output_type": "stream",
     "text": [
      "2022-03-25 12:37:54,069 - mmdet - INFO - \n",
      " Average Precision  (AP) @[ IoU=0.50:0.95 | area=   all | maxDets=100 ] = 0.222\n",
      " Average Precision  (AP) @[ IoU=0.50      | area=   all | maxDets=1000 ] = 0.368\n",
      " Average Precision  (AP) @[ IoU=0.75      | area=   all | maxDets=1000 ] = 0.227\n",
      " Average Precision  (AP) @[ IoU=0.50:0.95 | area= small | maxDets=1000 ] = 0.003\n",
      " Average Precision  (AP) @[ IoU=0.50:0.95 | area=medium | maxDets=1000 ] = 0.089\n",
      " Average Precision  (AP) @[ IoU=0.50:0.95 | area= large | maxDets=1000 ] = 0.265\n",
      " Average Recall     (AR) @[ IoU=0.50:0.95 | area=   all | maxDets=100 ] = 0.448\n",
      " Average Recall     (AR) @[ IoU=0.50:0.95 | area=   all | maxDets=300 ] = 0.448\n",
      " Average Recall     (AR) @[ IoU=0.50:0.95 | area=   all | maxDets=1000 ] = 0.448\n",
      " Average Recall     (AR) @[ IoU=0.50:0.95 | area= small | maxDets=1000 ] = 0.013\n",
      " Average Recall     (AR) @[ IoU=0.50:0.95 | area=medium | maxDets=1000 ] = 0.202\n",
      " Average Recall     (AR) @[ IoU=0.50:0.95 | area= large | maxDets=1000 ] = 0.518\n",
      "\n",
      "2022-03-25 12:37:54,197 - mmdet - INFO - The previous best checkpoint /opt/ml/detection/baseline/mmdetection/work_dirs/MM_Faster_RCNN_Adam-0.00005_aug_768size/best_bbox_mAP_50_epoch_9.pth was removed\n"
     ]
    },
    {
     "name": "stdout",
     "output_type": "stream",
     "text": [
      "DONE (t=1.02s).\n"
     ]
    },
    {
     "name": "stderr",
     "output_type": "stream",
     "text": [
      "2022-03-25 12:37:55,515 - mmdet - INFO - Now best checkpoint is saved as best_bbox_mAP_50_epoch_10.pth.\n",
      "2022-03-25 12:37:55,519 - mmdet - INFO - Best bbox_mAP_50 is 0.3680 at 10 epoch.\n",
      "2022-03-25 12:37:55,523 - mmdet - INFO - Epoch(val) [10][975]\tbbox_mAP: 0.2220, bbox_mAP_50: 0.3680, bbox_mAP_75: 0.2270, bbox_mAP_s: 0.0030, bbox_mAP_m: 0.0890, bbox_mAP_l: 0.2650, bbox_mAP_copypaste: 0.222 0.368 0.227 0.003 0.089 0.265\n",
      "2022-03-25 12:38:16,299 - mmdet - INFO - Epoch [11][50/977]\tlr: 5.000e-06, eta: 2:26:36, time: 0.415, data_time: 0.058, memory: 6411, loss_rpn_cls: 0.0396, loss_rpn_bbox: 0.0276, loss_cls: 0.2604, acc: 92.4883, loss_bbox: 0.2053, loss: 0.5330, grad_norm: 3.4737\n",
      "2022-03-25 12:38:34,316 - mmdet - INFO - Epoch [11][100/977]\tlr: 5.000e-06, eta: 2:26:18, time: 0.360, data_time: 0.007, memory: 6411, loss_rpn_cls: 0.0430, loss_rpn_bbox: 0.0323, loss_cls: 0.2651, acc: 92.4316, loss_bbox: 0.2149, loss: 0.5553, grad_norm: 3.4546\n",
      "2022-03-25 12:38:52,836 - mmdet - INFO - Epoch [11][150/977]\tlr: 5.000e-06, eta: 2:26:01, time: 0.370, data_time: 0.007, memory: 6411, loss_rpn_cls: 0.0444, loss_rpn_bbox: 0.0387, loss_cls: 0.2591, acc: 92.3760, loss_bbox: 0.2215, loss: 0.5637, grad_norm: 3.5076\n",
      "2022-03-25 12:39:11,837 - mmdet - INFO - Epoch [11][200/977]\tlr: 5.000e-06, eta: 2:25:45, time: 0.380, data_time: 0.007, memory: 6411, loss_rpn_cls: 0.0390, loss_rpn_bbox: 0.0323, loss_cls: 0.2615, acc: 92.1201, loss_bbox: 0.2206, loss: 0.5533, grad_norm: 3.4869\n",
      "2022-03-25 12:39:29,935 - mmdet - INFO - Epoch [11][250/977]\tlr: 5.000e-06, eta: 2:25:27, time: 0.362, data_time: 0.007, memory: 6411, loss_rpn_cls: 0.0335, loss_rpn_bbox: 0.0282, loss_cls: 0.2356, acc: 92.9961, loss_bbox: 0.1948, loss: 0.4921, grad_norm: 3.2788\n",
      "2022-03-25 12:39:48,171 - mmdet - INFO - Epoch [11][300/977]\tlr: 5.000e-06, eta: 2:25:10, time: 0.365, data_time: 0.007, memory: 6411, loss_rpn_cls: 0.0453, loss_rpn_bbox: 0.0292, loss_cls: 0.2483, acc: 92.9092, loss_bbox: 0.1907, loss: 0.5134, grad_norm: 3.6436\n",
      "2022-03-25 12:40:07,299 - mmdet - INFO - Epoch [11][350/977]\tlr: 5.000e-06, eta: 2:24:54, time: 0.383, data_time: 0.008, memory: 6411, loss_rpn_cls: 0.0417, loss_rpn_bbox: 0.0329, loss_cls: 0.2615, acc: 92.4033, loss_bbox: 0.2113, loss: 0.5474, grad_norm: 3.4115\n",
      "2022-03-25 12:40:25,427 - mmdet - INFO - Epoch [11][400/977]\tlr: 5.000e-06, eta: 2:24:36, time: 0.363, data_time: 0.007, memory: 6411, loss_rpn_cls: 0.0363, loss_rpn_bbox: 0.0273, loss_cls: 0.2380, acc: 92.9941, loss_bbox: 0.1867, loss: 0.4883, grad_norm: 3.3573\n",
      "2022-03-25 12:40:43,585 - mmdet - INFO - Epoch [11][450/977]\tlr: 5.000e-06, eta: 2:24:19, time: 0.363, data_time: 0.007, memory: 6411, loss_rpn_cls: 0.0380, loss_rpn_bbox: 0.0314, loss_cls: 0.2523, acc: 92.5596, loss_bbox: 0.2115, loss: 0.5332, grad_norm: 3.5762\n",
      "2022-03-25 12:41:02,576 - mmdet - INFO - Epoch [11][500/977]\tlr: 5.000e-06, eta: 2:24:03, time: 0.380, data_time: 0.008, memory: 6411, loss_rpn_cls: 0.0339, loss_rpn_bbox: 0.0282, loss_cls: 0.2339, acc: 93.1104, loss_bbox: 0.1862, loss: 0.4822, grad_norm: 3.2745\n",
      "2022-03-25 12:41:21,064 - mmdet - INFO - Epoch [11][550/977]\tlr: 5.000e-06, eta: 2:23:46, time: 0.370, data_time: 0.008, memory: 6411, loss_rpn_cls: 0.0382, loss_rpn_bbox: 0.0296, loss_cls: 0.2435, acc: 92.7979, loss_bbox: 0.1984, loss: 0.5098, grad_norm: 3.4040\n",
      "2022-03-25 12:41:39,602 - mmdet - INFO - Epoch [11][600/977]\tlr: 5.000e-06, eta: 2:23:29, time: 0.371, data_time: 0.008, memory: 6411, loss_rpn_cls: 0.0441, loss_rpn_bbox: 0.0350, loss_cls: 0.2778, acc: 91.9072, loss_bbox: 0.2314, loss: 0.5883, grad_norm: 3.7211\n",
      "2022-03-25 12:41:58,304 - mmdet - INFO - Epoch [11][650/977]\tlr: 5.000e-06, eta: 2:23:12, time: 0.374, data_time: 0.008, memory: 6411, loss_rpn_cls: 0.0374, loss_rpn_bbox: 0.0263, loss_cls: 0.2547, acc: 92.7197, loss_bbox: 0.2145, loss: 0.5329, grad_norm: 3.4123\n",
      "2022-03-25 12:42:16,807 - mmdet - INFO - Epoch [11][700/977]\tlr: 5.000e-06, eta: 2:22:55, time: 0.370, data_time: 0.008, memory: 6411, loss_rpn_cls: 0.0499, loss_rpn_bbox: 0.0365, loss_cls: 0.2748, acc: 92.0371, loss_bbox: 0.2280, loss: 0.5892, grad_norm: 3.5031\n",
      "2022-03-25 12:42:35,539 - mmdet - INFO - Epoch [11][750/977]\tlr: 5.000e-06, eta: 2:22:38, time: 0.375, data_time: 0.008, memory: 6411, loss_rpn_cls: 0.0388, loss_rpn_bbox: 0.0321, loss_cls: 0.2657, acc: 92.3096, loss_bbox: 0.2169, loss: 0.5535, grad_norm: 3.6021\n",
      "2022-03-25 12:42:54,596 - mmdet - INFO - Epoch [11][800/977]\tlr: 5.000e-06, eta: 2:22:22, time: 0.381, data_time: 0.008, memory: 6411, loss_rpn_cls: 0.0417, loss_rpn_bbox: 0.0328, loss_cls: 0.2833, acc: 91.8887, loss_bbox: 0.2219, loss: 0.5796, grad_norm: 3.5677\n",
      "2022-03-25 12:43:13,435 - mmdet - INFO - Epoch [11][850/977]\tlr: 5.000e-06, eta: 2:22:06, time: 0.377, data_time: 0.008, memory: 6411, loss_rpn_cls: 0.0346, loss_rpn_bbox: 0.0287, loss_cls: 0.2580, acc: 92.5684, loss_bbox: 0.2124, loss: 0.5337, grad_norm: 3.5823\n",
      "2022-03-25 12:43:31,941 - mmdet - INFO - Epoch [11][900/977]\tlr: 5.000e-06, eta: 2:21:49, time: 0.370, data_time: 0.008, memory: 6411, loss_rpn_cls: 0.0429, loss_rpn_bbox: 0.0339, loss_cls: 0.2544, acc: 92.4551, loss_bbox: 0.2167, loss: 0.5479, grad_norm: 3.4251\n",
      "2022-03-25 12:43:50,314 - mmdet - INFO - Epoch [11][950/977]\tlr: 5.000e-06, eta: 2:21:31, time: 0.367, data_time: 0.008, memory: 6411, loss_rpn_cls: 0.0387, loss_rpn_bbox: 0.0306, loss_cls: 0.2426, acc: 92.8809, loss_bbox: 0.2041, loss: 0.5160, grad_norm: 3.3605\n",
      "2022-03-25 12:44:00,283 - mmdet - INFO - Saving checkpoint at 11 epochs\n"
     ]
    },
    {
     "name": "stdout",
     "output_type": "stream",
     "text": [
      "[>>>>>>>>>>>>>>>>>>>>>>>>>>>>>] 975/975, 24.4 task/s, elapsed: 40s, ETA:     0s"
     ]
    },
    {
     "name": "stderr",
     "output_type": "stream",
     "text": [
      "2022-03-25 12:44:42,181 - mmdet - INFO - Evaluating bbox...\n"
     ]
    },
    {
     "name": "stdout",
     "output_type": "stream",
     "text": [
      "Loading and preparing results...\n",
      "DONE (t=0.87s)\n",
      "creating index...\n",
      "index created!\n",
      "Running per image evaluation...\n",
      "Evaluate annotation type *bbox*\n",
      "DONE (t=3.78s).\n",
      "Accumulating evaluation results...\n"
     ]
    },
    {
     "name": "stderr",
     "output_type": "stream",
     "text": [
      "2022-03-25 12:44:47,907 - mmdet - INFO - \n",
      " Average Precision  (AP) @[ IoU=0.50:0.95 | area=   all | maxDets=100 ] = 0.225\n",
      " Average Precision  (AP) @[ IoU=0.50      | area=   all | maxDets=1000 ] = 0.373\n",
      " Average Precision  (AP) @[ IoU=0.75      | area=   all | maxDets=1000 ] = 0.231\n",
      " Average Precision  (AP) @[ IoU=0.50:0.95 | area= small | maxDets=1000 ] = 0.003\n",
      " Average Precision  (AP) @[ IoU=0.50:0.95 | area=medium | maxDets=1000 ] = 0.088\n",
      " Average Precision  (AP) @[ IoU=0.50:0.95 | area= large | maxDets=1000 ] = 0.270\n",
      " Average Recall     (AR) @[ IoU=0.50:0.95 | area=   all | maxDets=100 ] = 0.451\n",
      " Average Recall     (AR) @[ IoU=0.50:0.95 | area=   all | maxDets=300 ] = 0.451\n",
      " Average Recall     (AR) @[ IoU=0.50:0.95 | area=   all | maxDets=1000 ] = 0.451\n",
      " Average Recall     (AR) @[ IoU=0.50:0.95 | area= small | maxDets=1000 ] = 0.008\n",
      " Average Recall     (AR) @[ IoU=0.50:0.95 | area=medium | maxDets=1000 ] = 0.209\n",
      " Average Recall     (AR) @[ IoU=0.50:0.95 | area= large | maxDets=1000 ] = 0.520\n",
      "\n",
      "2022-03-25 12:44:48,027 - mmdet - INFO - The previous best checkpoint /opt/ml/detection/baseline/mmdetection/work_dirs/MM_Faster_RCNN_Adam-0.00005_aug_768size/best_bbox_mAP_50_epoch_10.pth was removed\n"
     ]
    },
    {
     "name": "stdout",
     "output_type": "stream",
     "text": [
      "DONE (t=0.96s).\n"
     ]
    },
    {
     "name": "stderr",
     "output_type": "stream",
     "text": [
      "2022-03-25 12:44:49,414 - mmdet - INFO - Now best checkpoint is saved as best_bbox_mAP_50_epoch_11.pth.\n",
      "2022-03-25 12:44:49,415 - mmdet - INFO - Best bbox_mAP_50 is 0.3730 at 11 epoch.\n",
      "2022-03-25 12:44:49,419 - mmdet - INFO - Epoch(val) [11][975]\tbbox_mAP: 0.2250, bbox_mAP_50: 0.3730, bbox_mAP_75: 0.2310, bbox_mAP_s: 0.0030, bbox_mAP_m: 0.0880, bbox_mAP_l: 0.2700, bbox_mAP_copypaste: 0.225 0.373 0.231 0.003 0.088 0.270\n",
      "2022-03-25 12:45:10,187 - mmdet - INFO - Epoch [12][50/977]\tlr: 5.000e-07, eta: 2:20:48, time: 0.415, data_time: 0.058, memory: 6411, loss_rpn_cls: 0.0374, loss_rpn_bbox: 0.0298, loss_cls: 0.2428, acc: 92.9150, loss_bbox: 0.2015, loss: 0.5114, grad_norm: 3.5656\n",
      "2022-03-25 12:45:28,523 - mmdet - INFO - Epoch [12][100/977]\tlr: 5.000e-07, eta: 2:20:31, time: 0.367, data_time: 0.007, memory: 6411, loss_rpn_cls: 0.0345, loss_rpn_bbox: 0.0291, loss_cls: 0.2562, acc: 92.4883, loss_bbox: 0.2112, loss: 0.5311, grad_norm: 3.2953\n",
      "2022-03-25 12:45:47,331 - mmdet - INFO - Epoch [12][150/977]\tlr: 5.000e-07, eta: 2:20:14, time: 0.376, data_time: 0.008, memory: 6411, loss_rpn_cls: 0.0457, loss_rpn_bbox: 0.0352, loss_cls: 0.2662, acc: 92.2002, loss_bbox: 0.2171, loss: 0.5642, grad_norm: 3.6076\n",
      "2022-03-25 12:46:04,968 - mmdet - INFO - Epoch [12][200/977]\tlr: 5.000e-07, eta: 2:19:55, time: 0.353, data_time: 0.007, memory: 6411, loss_rpn_cls: 0.0359, loss_rpn_bbox: 0.0265, loss_cls: 0.2394, acc: 93.1133, loss_bbox: 0.1994, loss: 0.5011, grad_norm: 3.4024\n",
      "2022-03-25 12:46:22,892 - mmdet - INFO - Epoch [12][250/977]\tlr: 5.000e-07, eta: 2:19:37, time: 0.358, data_time: 0.007, memory: 6411, loss_rpn_cls: 0.0398, loss_rpn_bbox: 0.0363, loss_cls: 0.2470, acc: 92.7314, loss_bbox: 0.2117, loss: 0.5346, grad_norm: 3.5190\n",
      "2022-03-25 12:46:41,042 - mmdet - INFO - Epoch [12][300/977]\tlr: 5.000e-07, eta: 2:19:19, time: 0.363, data_time: 0.007, memory: 6411, loss_rpn_cls: 0.0364, loss_rpn_bbox: 0.0281, loss_cls: 0.2385, acc: 93.0293, loss_bbox: 0.2019, loss: 0.5049, grad_norm: 3.3281\n",
      "2022-03-25 12:46:59,889 - mmdet - INFO - Epoch [12][350/977]\tlr: 5.000e-07, eta: 2:19:03, time: 0.377, data_time: 0.008, memory: 6411, loss_rpn_cls: 0.0375, loss_rpn_bbox: 0.0319, loss_cls: 0.2741, acc: 91.9668, loss_bbox: 0.2192, loss: 0.5626, grad_norm: 3.6441\n",
      "2022-03-25 12:47:18,125 - mmdet - INFO - Epoch [12][400/977]\tlr: 5.000e-07, eta: 2:18:45, time: 0.365, data_time: 0.008, memory: 6411, loss_rpn_cls: 0.0377, loss_rpn_bbox: 0.0298, loss_cls: 0.2592, acc: 92.4014, loss_bbox: 0.2135, loss: 0.5402, grad_norm: 3.5024\n",
      "2022-03-25 12:47:36,460 - mmdet - INFO - Epoch [12][450/977]\tlr: 5.000e-07, eta: 2:18:28, time: 0.367, data_time: 0.008, memory: 6411, loss_rpn_cls: 0.0367, loss_rpn_bbox: 0.0297, loss_cls: 0.2380, acc: 92.9482, loss_bbox: 0.2012, loss: 0.5056, grad_norm: 3.3485\n",
      "2022-03-25 12:47:54,297 - mmdet - INFO - Epoch [12][500/977]\tlr: 5.000e-07, eta: 2:18:09, time: 0.357, data_time: 0.008, memory: 6411, loss_rpn_cls: 0.0393, loss_rpn_bbox: 0.0364, loss_cls: 0.2675, acc: 92.0518, loss_bbox: 0.2316, loss: 0.5748, grad_norm: 3.5361\n",
      "2022-03-25 12:48:12,000 - mmdet - INFO - Epoch [12][550/977]\tlr: 5.000e-07, eta: 2:17:50, time: 0.354, data_time: 0.007, memory: 6411, loss_rpn_cls: 0.0383, loss_rpn_bbox: 0.0350, loss_cls: 0.2577, acc: 92.2773, loss_bbox: 0.2175, loss: 0.5484, grad_norm: 3.6753\n",
      "2022-03-25 12:48:29,644 - mmdet - INFO - Epoch [12][600/977]\tlr: 5.000e-07, eta: 2:17:31, time: 0.353, data_time: 0.008, memory: 6411, loss_rpn_cls: 0.0359, loss_rpn_bbox: 0.0280, loss_cls: 0.2654, acc: 92.2461, loss_bbox: 0.2034, loss: 0.5327, grad_norm: 3.5778\n",
      "2022-03-25 12:48:47,790 - mmdet - INFO - Epoch [12][650/977]\tlr: 5.000e-07, eta: 2:17:13, time: 0.363, data_time: 0.008, memory: 6411, loss_rpn_cls: 0.0436, loss_rpn_bbox: 0.0326, loss_cls: 0.2502, acc: 92.7900, loss_bbox: 0.2082, loss: 0.5346, grad_norm: 3.4840\n",
      "2022-03-25 12:49:05,876 - mmdet - INFO - Epoch [12][700/977]\tlr: 5.000e-07, eta: 2:16:55, time: 0.362, data_time: 0.008, memory: 6411, loss_rpn_cls: 0.0411, loss_rpn_bbox: 0.0344, loss_cls: 0.2815, acc: 91.6973, loss_bbox: 0.2272, loss: 0.5841, grad_norm: 3.7823\n",
      "2022-03-25 12:49:24,245 - mmdet - INFO - Epoch [12][750/977]\tlr: 5.000e-07, eta: 2:16:38, time: 0.367, data_time: 0.008, memory: 6411, loss_rpn_cls: 0.0363, loss_rpn_bbox: 0.0272, loss_cls: 0.2489, acc: 92.6660, loss_bbox: 0.2041, loss: 0.5165, grad_norm: 3.4916\n",
      "2022-03-25 12:49:42,196 - mmdet - INFO - Epoch [12][800/977]\tlr: 5.000e-07, eta: 2:16:20, time: 0.359, data_time: 0.008, memory: 6411, loss_rpn_cls: 0.0401, loss_rpn_bbox: 0.0325, loss_cls: 0.2537, acc: 92.4502, loss_bbox: 0.2142, loss: 0.5405, grad_norm: 3.4077\n",
      "2022-03-25 12:50:00,573 - mmdet - INFO - Epoch [12][850/977]\tlr: 5.000e-07, eta: 2:16:02, time: 0.368, data_time: 0.008, memory: 6411, loss_rpn_cls: 0.0400, loss_rpn_bbox: 0.0276, loss_cls: 0.2406, acc: 93.0117, loss_bbox: 0.1878, loss: 0.4960, grad_norm: 3.4034\n",
      "2022-03-25 12:50:18,668 - mmdet - INFO - Epoch [12][900/977]\tlr: 5.000e-07, eta: 2:15:44, time: 0.362, data_time: 0.008, memory: 6411, loss_rpn_cls: 0.0338, loss_rpn_bbox: 0.0307, loss_cls: 0.2479, acc: 92.7617, loss_bbox: 0.2034, loss: 0.5158, grad_norm: 3.3539\n",
      "2022-03-25 12:50:37,102 - mmdet - INFO - Epoch [12][950/977]\tlr: 5.000e-07, eta: 2:15:27, time: 0.369, data_time: 0.008, memory: 6411, loss_rpn_cls: 0.0390, loss_rpn_bbox: 0.0286, loss_cls: 0.2332, acc: 93.1865, loss_bbox: 0.2038, loss: 0.5046, grad_norm: 3.2383\n",
      "2022-03-25 12:50:47,257 - mmdet - INFO - Saving checkpoint at 12 epochs\n"
     ]
    },
    {
     "name": "stdout",
     "output_type": "stream",
     "text": [
      "[>>>>>>>>>>>>>>>>>>>>>>>>>>>>>] 975/975, 24.2 task/s, elapsed: 40s, ETA:     0s"
     ]
    },
    {
     "name": "stderr",
     "output_type": "stream",
     "text": [
      "2022-03-25 12:51:29,464 - mmdet - INFO - Evaluating bbox...\n"
     ]
    },
    {
     "name": "stdout",
     "output_type": "stream",
     "text": [
      "Loading and preparing results...\n",
      "DONE (t=0.04s)\n",
      "creating index...\n",
      "index created!\n",
      "Running per image evaluation...\n",
      "Evaluate annotation type *bbox*\n",
      "DONE (t=4.68s).\n",
      "Accumulating evaluation results...\n"
     ]
    },
    {
     "name": "stderr",
     "output_type": "stream",
     "text": [
      "2022-03-25 12:51:35,282 - mmdet - INFO - \n",
      " Average Precision  (AP) @[ IoU=0.50:0.95 | area=   all | maxDets=100 ] = 0.234\n",
      " Average Precision  (AP) @[ IoU=0.50      | area=   all | maxDets=1000 ] = 0.379\n",
      " Average Precision  (AP) @[ IoU=0.75      | area=   all | maxDets=1000 ] = 0.240\n",
      " Average Precision  (AP) @[ IoU=0.50:0.95 | area= small | maxDets=1000 ] = 0.006\n",
      " Average Precision  (AP) @[ IoU=0.50:0.95 | area=medium | maxDets=1000 ] = 0.093\n",
      " Average Precision  (AP) @[ IoU=0.50:0.95 | area= large | maxDets=1000 ] = 0.279\n",
      " Average Recall     (AR) @[ IoU=0.50:0.95 | area=   all | maxDets=100 ] = 0.458\n",
      " Average Recall     (AR) @[ IoU=0.50:0.95 | area=   all | maxDets=300 ] = 0.458\n",
      " Average Recall     (AR) @[ IoU=0.50:0.95 | area=   all | maxDets=1000 ] = 0.458\n",
      " Average Recall     (AR) @[ IoU=0.50:0.95 | area= small | maxDets=1000 ] = 0.024\n",
      " Average Recall     (AR) @[ IoU=0.50:0.95 | area=medium | maxDets=1000 ] = 0.218\n",
      " Average Recall     (AR) @[ IoU=0.50:0.95 | area= large | maxDets=1000 ] = 0.527\n",
      "\n",
      "2022-03-25 12:51:35,413 - mmdet - INFO - The previous best checkpoint /opt/ml/detection/baseline/mmdetection/work_dirs/MM_Faster_RCNN_Adam-0.00005_aug_768size/best_bbox_mAP_50_epoch_11.pth was removed\n"
     ]
    },
    {
     "name": "stdout",
     "output_type": "stream",
     "text": [
      "DONE (t=0.98s).\n"
     ]
    },
    {
     "name": "stderr",
     "output_type": "stream",
     "text": [
      "2022-03-25 12:51:36,716 - mmdet - INFO - Now best checkpoint is saved as best_bbox_mAP_50_epoch_12.pth.\n",
      "2022-03-25 12:51:36,718 - mmdet - INFO - Best bbox_mAP_50 is 0.3790 at 12 epoch.\n",
      "2022-03-25 12:51:36,721 - mmdet - INFO - Epoch(val) [12][975]\tbbox_mAP: 0.2340, bbox_mAP_50: 0.3790, bbox_mAP_75: 0.2400, bbox_mAP_s: 0.0060, bbox_mAP_m: 0.0930, bbox_mAP_l: 0.2790, bbox_mAP_copypaste: 0.234 0.379 0.240 0.006 0.093 0.279\n",
      "2022-03-25 12:51:57,556 - mmdet - INFO - Epoch [13][50/977]\tlr: 5.000e-07, eta: 2:14:46, time: 0.416, data_time: 0.059, memory: 6411, loss_rpn_cls: 0.0375, loss_rpn_bbox: 0.0267, loss_cls: 0.2419, acc: 92.9219, loss_bbox: 0.1976, loss: 0.5037, grad_norm: 3.4472\n",
      "2022-03-25 12:52:15,670 - mmdet - INFO - Epoch [13][100/977]\tlr: 5.000e-07, eta: 2:14:28, time: 0.362, data_time: 0.008, memory: 6411, loss_rpn_cls: 0.0368, loss_rpn_bbox: 0.0287, loss_cls: 0.2418, acc: 92.9531, loss_bbox: 0.2022, loss: 0.5095, grad_norm: 3.3344\n",
      "2022-03-25 12:52:33,342 - mmdet - INFO - Epoch [13][150/977]\tlr: 5.000e-07, eta: 2:14:09, time: 0.353, data_time: 0.008, memory: 6411, loss_rpn_cls: 0.0286, loss_rpn_bbox: 0.0252, loss_cls: 0.2379, acc: 92.8916, loss_bbox: 0.1868, loss: 0.4784, grad_norm: 3.4748\n",
      "2022-03-25 12:52:51,123 - mmdet - INFO - Epoch [13][200/977]\tlr: 5.000e-07, eta: 2:13:51, time: 0.356, data_time: 0.008, memory: 6411, loss_rpn_cls: 0.0305, loss_rpn_bbox: 0.0283, loss_cls: 0.2505, acc: 92.7617, loss_bbox: 0.2038, loss: 0.5130, grad_norm: 3.3629\n",
      "2022-03-25 12:53:09,895 - mmdet - INFO - Epoch [13][250/977]\tlr: 5.000e-07, eta: 2:13:34, time: 0.375, data_time: 0.008, memory: 6411, loss_rpn_cls: 0.0511, loss_rpn_bbox: 0.0382, loss_cls: 0.2741, acc: 92.0801, loss_bbox: 0.2241, loss: 0.5876, grad_norm: 3.6986\n",
      "2022-03-25 12:53:27,567 - mmdet - INFO - Epoch [13][300/977]\tlr: 5.000e-07, eta: 2:13:15, time: 0.353, data_time: 0.008, memory: 6411, loss_rpn_cls: 0.0393, loss_rpn_bbox: 0.0369, loss_cls: 0.2610, acc: 92.1787, loss_bbox: 0.2238, loss: 0.5611, grad_norm: 3.5106\n",
      "2022-03-25 12:53:46,226 - mmdet - INFO - Epoch [13][350/977]\tlr: 5.000e-07, eta: 2:12:58, time: 0.373, data_time: 0.008, memory: 6411, loss_rpn_cls: 0.0387, loss_rpn_bbox: 0.0322, loss_cls: 0.2828, acc: 91.8447, loss_bbox: 0.2269, loss: 0.5807, grad_norm: 3.5838\n",
      "2022-03-25 12:54:04,744 - mmdet - INFO - Epoch [13][400/977]\tlr: 5.000e-07, eta: 2:12:41, time: 0.370, data_time: 0.007, memory: 6411, loss_rpn_cls: 0.0372, loss_rpn_bbox: 0.0305, loss_cls: 0.2542, acc: 92.5059, loss_bbox: 0.2060, loss: 0.5279, grad_norm: 3.4571\n",
      "2022-03-25 12:54:22,911 - mmdet - INFO - Epoch [13][450/977]\tlr: 5.000e-07, eta: 2:12:23, time: 0.363, data_time: 0.008, memory: 6411, loss_rpn_cls: 0.0397, loss_rpn_bbox: 0.0324, loss_cls: 0.2406, acc: 92.8008, loss_bbox: 0.2106, loss: 0.5233, grad_norm: 3.4197\n",
      "2022-03-25 12:54:41,098 - mmdet - INFO - Epoch [13][500/977]\tlr: 5.000e-07, eta: 2:12:06, time: 0.364, data_time: 0.008, memory: 6411, loss_rpn_cls: 0.0380, loss_rpn_bbox: 0.0334, loss_cls: 0.2703, acc: 91.9307, loss_bbox: 0.2266, loss: 0.5682, grad_norm: 3.5532\n",
      "2022-03-25 12:54:59,711 - mmdet - INFO - Epoch [13][550/977]\tlr: 5.000e-07, eta: 2:11:49, time: 0.372, data_time: 0.008, memory: 6411, loss_rpn_cls: 0.0379, loss_rpn_bbox: 0.0313, loss_cls: 0.2542, acc: 92.3936, loss_bbox: 0.2157, loss: 0.5390, grad_norm: 3.6604\n",
      "2022-03-25 12:55:18,099 - mmdet - INFO - Epoch [13][600/977]\tlr: 5.000e-07, eta: 2:11:31, time: 0.368, data_time: 0.008, memory: 6411, loss_rpn_cls: 0.0418, loss_rpn_bbox: 0.0338, loss_cls: 0.2608, acc: 92.4561, loss_bbox: 0.2176, loss: 0.5541, grad_norm: 3.4563\n",
      "2022-03-25 12:55:36,843 - mmdet - INFO - Epoch [13][650/977]\tlr: 5.000e-07, eta: 2:11:14, time: 0.375, data_time: 0.008, memory: 6411, loss_rpn_cls: 0.0345, loss_rpn_bbox: 0.0273, loss_cls: 0.2439, acc: 92.8418, loss_bbox: 0.2076, loss: 0.5133, grad_norm: 3.3131\n",
      "2022-03-25 12:55:55,102 - mmdet - INFO - Epoch [13][700/977]\tlr: 5.000e-07, eta: 2:10:57, time: 0.365, data_time: 0.008, memory: 6411, loss_rpn_cls: 0.0322, loss_rpn_bbox: 0.0288, loss_cls: 0.2310, acc: 93.2471, loss_bbox: 0.1980, loss: 0.4900, grad_norm: 3.3328\n",
      "2022-03-25 12:56:13,188 - mmdet - INFO - Epoch [13][750/977]\tlr: 5.000e-07, eta: 2:10:39, time: 0.362, data_time: 0.008, memory: 6411, loss_rpn_cls: 0.0398, loss_rpn_bbox: 0.0341, loss_cls: 0.2417, acc: 92.8408, loss_bbox: 0.2075, loss: 0.5231, grad_norm: 3.5714\n",
      "2022-03-25 12:56:31,454 - mmdet - INFO - Epoch [13][800/977]\tlr: 5.000e-07, eta: 2:10:21, time: 0.365, data_time: 0.008, memory: 6411, loss_rpn_cls: 0.0361, loss_rpn_bbox: 0.0271, loss_cls: 0.2296, acc: 93.0869, loss_bbox: 0.1994, loss: 0.4922, grad_norm: 3.4758\n",
      "2022-03-25 12:56:49,724 - mmdet - INFO - Epoch [13][850/977]\tlr: 5.000e-07, eta: 2:10:04, time: 0.365, data_time: 0.008, memory: 6411, loss_rpn_cls: 0.0370, loss_rpn_bbox: 0.0279, loss_cls: 0.2454, acc: 92.7871, loss_bbox: 0.1956, loss: 0.5059, grad_norm: 3.4493\n",
      "2022-03-25 12:57:07,928 - mmdet - INFO - Epoch [13][900/977]\tlr: 5.000e-07, eta: 2:09:46, time: 0.364, data_time: 0.008, memory: 6411, loss_rpn_cls: 0.0400, loss_rpn_bbox: 0.0288, loss_cls: 0.2610, acc: 92.5820, loss_bbox: 0.2067, loss: 0.5365, grad_norm: 3.6311\n",
      "2022-03-25 12:57:25,962 - mmdet - INFO - Epoch [13][950/977]\tlr: 5.000e-07, eta: 2:09:28, time: 0.361, data_time: 0.008, memory: 6411, loss_rpn_cls: 0.0399, loss_rpn_bbox: 0.0297, loss_cls: 0.2549, acc: 92.5596, loss_bbox: 0.2092, loss: 0.5337, grad_norm: 3.6647\n",
      "2022-03-25 12:57:35,438 - mmdet - INFO - Saving checkpoint at 13 epochs\n"
     ]
    },
    {
     "name": "stdout",
     "output_type": "stream",
     "text": [
      "[>>>>>>>>>>>>>>>>>>>>>>>>>>>>>] 975/975, 24.3 task/s, elapsed: 40s, ETA:     0s"
     ]
    },
    {
     "name": "stderr",
     "output_type": "stream",
     "text": [
      "2022-03-25 12:58:17,580 - mmdet - INFO - Evaluating bbox...\n"
     ]
    },
    {
     "name": "stdout",
     "output_type": "stream",
     "text": [
      "Loading and preparing results...\n",
      "DONE (t=0.04s)\n",
      "creating index...\n",
      "index created!\n",
      "Running per image evaluation...\n",
      "Evaluate annotation type *bbox*\n",
      "DONE (t=3.93s).\n",
      "Accumulating evaluation results...\n"
     ]
    },
    {
     "name": "stderr",
     "output_type": "stream",
     "text": [
      "2022-03-25 12:58:22,700 - mmdet - INFO - \n",
      " Average Precision  (AP) @[ IoU=0.50:0.95 | area=   all | maxDets=100 ] = 0.231\n",
      " Average Precision  (AP) @[ IoU=0.50      | area=   all | maxDets=1000 ] = 0.377\n",
      " Average Precision  (AP) @[ IoU=0.75      | area=   all | maxDets=1000 ] = 0.236\n",
      " Average Precision  (AP) @[ IoU=0.50:0.95 | area= small | maxDets=1000 ] = 0.007\n",
      " Average Precision  (AP) @[ IoU=0.50:0.95 | area=medium | maxDets=1000 ] = 0.093\n",
      " Average Precision  (AP) @[ IoU=0.50:0.95 | area= large | maxDets=1000 ] = 0.276\n",
      " Average Recall     (AR) @[ IoU=0.50:0.95 | area=   all | maxDets=100 ] = 0.459\n",
      " Average Recall     (AR) @[ IoU=0.50:0.95 | area=   all | maxDets=300 ] = 0.459\n",
      " Average Recall     (AR) @[ IoU=0.50:0.95 | area=   all | maxDets=1000 ] = 0.459\n",
      " Average Recall     (AR) @[ IoU=0.50:0.95 | area= small | maxDets=1000 ] = 0.026\n",
      " Average Recall     (AR) @[ IoU=0.50:0.95 | area=medium | maxDets=1000 ] = 0.216\n",
      " Average Recall     (AR) @[ IoU=0.50:0.95 | area= large | maxDets=1000 ] = 0.528\n",
      "\n",
      "2022-03-25 12:58:22,764 - mmdet - INFO - Epoch(val) [13][975]\tbbox_mAP: 0.2310, bbox_mAP_50: 0.3770, bbox_mAP_75: 0.2360, bbox_mAP_s: 0.0070, bbox_mAP_m: 0.0930, bbox_mAP_l: 0.2760, bbox_mAP_copypaste: 0.231 0.377 0.236 0.007 0.093 0.276\n"
     ]
    },
    {
     "name": "stdout",
     "output_type": "stream",
     "text": [
      "DONE (t=1.03s).\n"
     ]
    },
    {
     "name": "stderr",
     "output_type": "stream",
     "text": [
      "2022-03-25 12:58:43,112 - mmdet - INFO - Epoch [14][50/977]\tlr: 5.000e-07, eta: 2:08:47, time: 0.407, data_time: 0.059, memory: 6411, loss_rpn_cls: 0.0436, loss_rpn_bbox: 0.0349, loss_cls: 0.2426, acc: 92.8594, loss_bbox: 0.2036, loss: 0.5246, grad_norm: 3.4340\n",
      "2022-03-25 12:59:01,220 - mmdet - INFO - Epoch [14][100/977]\tlr: 5.000e-07, eta: 2:08:29, time: 0.362, data_time: 0.007, memory: 6411, loss_rpn_cls: 0.0450, loss_rpn_bbox: 0.0307, loss_cls: 0.2512, acc: 92.7920, loss_bbox: 0.1981, loss: 0.5249, grad_norm: 3.6053\n",
      "2022-03-25 12:59:19,766 - mmdet - INFO - Epoch [14][150/977]\tlr: 5.000e-07, eta: 2:08:12, time: 0.371, data_time: 0.008, memory: 6411, loss_rpn_cls: 0.0394, loss_rpn_bbox: 0.0322, loss_cls: 0.2612, acc: 92.1855, loss_bbox: 0.2266, loss: 0.5593, grad_norm: 3.5892\n",
      "2022-03-25 12:59:38,073 - mmdet - INFO - Epoch [14][200/977]\tlr: 5.000e-07, eta: 2:07:55, time: 0.366, data_time: 0.008, memory: 6411, loss_rpn_cls: 0.0423, loss_rpn_bbox: 0.0341, loss_cls: 0.2690, acc: 92.0947, loss_bbox: 0.2335, loss: 0.5788, grad_norm: 3.5669\n",
      "2022-03-25 12:59:56,981 - mmdet - INFO - Epoch [14][250/977]\tlr: 5.000e-07, eta: 2:07:38, time: 0.378, data_time: 0.008, memory: 6411, loss_rpn_cls: 0.0369, loss_rpn_bbox: 0.0269, loss_cls: 0.2581, acc: 92.3887, loss_bbox: 0.2135, loss: 0.5353, grad_norm: 3.5700\n",
      "2022-03-25 13:00:14,779 - mmdet - INFO - Epoch [14][300/977]\tlr: 5.000e-07, eta: 2:07:20, time: 0.356, data_time: 0.008, memory: 6411, loss_rpn_cls: 0.0328, loss_rpn_bbox: 0.0260, loss_cls: 0.2232, acc: 93.2861, loss_bbox: 0.1883, loss: 0.4703, grad_norm: 3.3203\n",
      "2022-03-25 13:00:32,365 - mmdet - INFO - Epoch [14][350/977]\tlr: 5.000e-07, eta: 2:07:01, time: 0.352, data_time: 0.008, memory: 6411, loss_rpn_cls: 0.0377, loss_rpn_bbox: 0.0353, loss_cls: 0.2495, acc: 92.4219, loss_bbox: 0.2085, loss: 0.5310, grad_norm: 3.3823\n",
      "2022-03-25 13:00:50,573 - mmdet - INFO - Epoch [14][400/977]\tlr: 5.000e-07, eta: 2:06:43, time: 0.364, data_time: 0.008, memory: 6411, loss_rpn_cls: 0.0452, loss_rpn_bbox: 0.0357, loss_cls: 0.2634, acc: 92.3193, loss_bbox: 0.2284, loss: 0.5727, grad_norm: 3.6620\n",
      "2022-03-25 13:01:08,644 - mmdet - INFO - Epoch [14][450/977]\tlr: 5.000e-07, eta: 2:06:25, time: 0.361, data_time: 0.008, memory: 6411, loss_rpn_cls: 0.0334, loss_rpn_bbox: 0.0276, loss_cls: 0.2473, acc: 92.5713, loss_bbox: 0.2028, loss: 0.5111, grad_norm: 3.3680\n",
      "2022-03-25 13:01:27,490 - mmdet - INFO - Epoch [14][500/977]\tlr: 5.000e-07, eta: 2:06:09, time: 0.377, data_time: 0.008, memory: 6411, loss_rpn_cls: 0.0463, loss_rpn_bbox: 0.0357, loss_cls: 0.2605, acc: 92.2695, loss_bbox: 0.2158, loss: 0.5583, grad_norm: 3.6048\n",
      "2022-03-25 13:01:45,373 - mmdet - INFO - Epoch [14][550/977]\tlr: 5.000e-07, eta: 2:05:50, time: 0.358, data_time: 0.008, memory: 6411, loss_rpn_cls: 0.0328, loss_rpn_bbox: 0.0257, loss_cls: 0.2485, acc: 92.5859, loss_bbox: 0.1941, loss: 0.5011, grad_norm: 3.3952\n",
      "2022-03-25 13:02:03,540 - mmdet - INFO - Epoch [14][600/977]\tlr: 5.000e-07, eta: 2:05:33, time: 0.363, data_time: 0.008, memory: 6411, loss_rpn_cls: 0.0446, loss_rpn_bbox: 0.0314, loss_cls: 0.2522, acc: 92.5869, loss_bbox: 0.2059, loss: 0.5341, grad_norm: 3.7137\n",
      "2022-03-25 13:02:21,460 - mmdet - INFO - Epoch [14][650/977]\tlr: 5.000e-07, eta: 2:05:14, time: 0.358, data_time: 0.008, memory: 6411, loss_rpn_cls: 0.0351, loss_rpn_bbox: 0.0272, loss_cls: 0.2290, acc: 93.2178, loss_bbox: 0.1904, loss: 0.4817, grad_norm: 3.5333\n",
      "2022-03-25 13:02:40,192 - mmdet - INFO - Epoch [14][700/977]\tlr: 5.000e-07, eta: 2:04:57, time: 0.375, data_time: 0.008, memory: 6411, loss_rpn_cls: 0.0372, loss_rpn_bbox: 0.0329, loss_cls: 0.2495, acc: 92.8652, loss_bbox: 0.2106, loss: 0.5301, grad_norm: 3.4975\n",
      "2022-03-25 13:02:58,249 - mmdet - INFO - Epoch [14][750/977]\tlr: 5.000e-07, eta: 2:04:39, time: 0.361, data_time: 0.008, memory: 6411, loss_rpn_cls: 0.0341, loss_rpn_bbox: 0.0296, loss_cls: 0.2417, acc: 92.7910, loss_bbox: 0.1901, loss: 0.4954, grad_norm: 3.4385\n",
      "2022-03-25 13:03:16,380 - mmdet - INFO - Epoch [14][800/977]\tlr: 5.000e-07, eta: 2:04:22, time: 0.363, data_time: 0.008, memory: 6411, loss_rpn_cls: 0.0325, loss_rpn_bbox: 0.0309, loss_cls: 0.2321, acc: 93.0840, loss_bbox: 0.1952, loss: 0.4906, grad_norm: 3.4256\n",
      "2022-03-25 13:03:35,279 - mmdet - INFO - Epoch [14][850/977]\tlr: 5.000e-07, eta: 2:04:05, time: 0.378, data_time: 0.008, memory: 6411, loss_rpn_cls: 0.0395, loss_rpn_bbox: 0.0324, loss_cls: 0.2607, acc: 92.2959, loss_bbox: 0.2223, loss: 0.5550, grad_norm: 3.4516\n",
      "2022-03-25 13:03:53,755 - mmdet - INFO - Epoch [14][900/977]\tlr: 5.000e-07, eta: 2:03:48, time: 0.370, data_time: 0.008, memory: 6411, loss_rpn_cls: 0.0345, loss_rpn_bbox: 0.0299, loss_cls: 0.2550, acc: 92.4258, loss_bbox: 0.2087, loss: 0.5281, grad_norm: 3.6087\n",
      "2022-03-25 13:04:11,931 - mmdet - INFO - Epoch [14][950/977]\tlr: 5.000e-07, eta: 2:03:30, time: 0.364, data_time: 0.008, memory: 6411, loss_rpn_cls: 0.0355, loss_rpn_bbox: 0.0307, loss_cls: 0.2613, acc: 92.3164, loss_bbox: 0.2158, loss: 0.5433, grad_norm: 3.5240\n",
      "2022-03-25 13:04:22,013 - mmdet - INFO - Saving checkpoint at 14 epochs\n"
     ]
    },
    {
     "name": "stdout",
     "output_type": "stream",
     "text": [
      "[>>>>>>>>>>>>>>>>>>>>>>>>>>>>>] 975/975, 24.0 task/s, elapsed: 41s, ETA:     0s"
     ]
    },
    {
     "name": "stderr",
     "output_type": "stream",
     "text": [
      "2022-03-25 13:05:04,586 - mmdet - INFO - Evaluating bbox...\n"
     ]
    },
    {
     "name": "stdout",
     "output_type": "stream",
     "text": [
      "Loading and preparing results...\n",
      "DONE (t=0.04s)\n",
      "creating index...\n",
      "index created!\n",
      "Running per image evaluation...\n",
      "Evaluate annotation type *bbox*\n",
      "DONE (t=4.69s).\n",
      "Accumulating evaluation results...\n"
     ]
    },
    {
     "name": "stderr",
     "output_type": "stream",
     "text": [
      "2022-03-25 13:05:10,458 - mmdet - INFO - \n",
      " Average Precision  (AP) @[ IoU=0.50:0.95 | area=   all | maxDets=100 ] = 0.230\n",
      " Average Precision  (AP) @[ IoU=0.50      | area=   all | maxDets=1000 ] = 0.379\n",
      " Average Precision  (AP) @[ IoU=0.75      | area=   all | maxDets=1000 ] = 0.238\n",
      " Average Precision  (AP) @[ IoU=0.50:0.95 | area= small | maxDets=1000 ] = 0.006\n",
      " Average Precision  (AP) @[ IoU=0.50:0.95 | area=medium | maxDets=1000 ] = 0.092\n",
      " Average Precision  (AP) @[ IoU=0.50:0.95 | area= large | maxDets=1000 ] = 0.275\n",
      " Average Recall     (AR) @[ IoU=0.50:0.95 | area=   all | maxDets=100 ] = 0.455\n",
      " Average Recall     (AR) @[ IoU=0.50:0.95 | area=   all | maxDets=300 ] = 0.455\n",
      " Average Recall     (AR) @[ IoU=0.50:0.95 | area=   all | maxDets=1000 ] = 0.455\n",
      " Average Recall     (AR) @[ IoU=0.50:0.95 | area= small | maxDets=1000 ] = 0.026\n",
      " Average Recall     (AR) @[ IoU=0.50:0.95 | area=medium | maxDets=1000 ] = 0.208\n",
      " Average Recall     (AR) @[ IoU=0.50:0.95 | area= large | maxDets=1000 ] = 0.526\n",
      "\n",
      "2022-03-25 13:05:10,520 - mmdet - INFO - Epoch(val) [14][975]\tbbox_mAP: 0.2300, bbox_mAP_50: 0.3790, bbox_mAP_75: 0.2380, bbox_mAP_s: 0.0060, bbox_mAP_m: 0.0920, bbox_mAP_l: 0.2750, bbox_mAP_copypaste: 0.230 0.379 0.238 0.006 0.092 0.275\n"
     ]
    },
    {
     "name": "stdout",
     "output_type": "stream",
     "text": [
      "DONE (t=1.03s).\n"
     ]
    },
    {
     "name": "stderr",
     "output_type": "stream",
     "text": [
      "2022-03-25 13:05:31,677 - mmdet - INFO - Epoch [15][50/977]\tlr: 5.000e-07, eta: 2:02:52, time: 0.423, data_time: 0.059, memory: 6411, loss_rpn_cls: 0.0307, loss_rpn_bbox: 0.0275, loss_cls: 0.2262, acc: 93.2295, loss_bbox: 0.1907, loss: 0.4751, grad_norm: 3.2787\n",
      "2022-03-25 13:05:49,635 - mmdet - INFO - Epoch [15][100/977]\tlr: 5.000e-07, eta: 2:02:34, time: 0.359, data_time: 0.008, memory: 6411, loss_rpn_cls: 0.0425, loss_rpn_bbox: 0.0336, loss_cls: 0.2646, acc: 92.3369, loss_bbox: 0.2243, loss: 0.5650, grad_norm: 3.6732\n",
      "2022-03-25 13:06:08,395 - mmdet - INFO - Epoch [15][150/977]\tlr: 5.000e-07, eta: 2:02:17, time: 0.375, data_time: 0.007, memory: 6411, loss_rpn_cls: 0.0351, loss_rpn_bbox: 0.0293, loss_cls: 0.2341, acc: 93.0469, loss_bbox: 0.1955, loss: 0.4941, grad_norm: 3.4213\n",
      "2022-03-25 13:06:26,588 - mmdet - INFO - Epoch [15][200/977]\tlr: 5.000e-07, eta: 2:01:59, time: 0.364, data_time: 0.008, memory: 6411, loss_rpn_cls: 0.0405, loss_rpn_bbox: 0.0336, loss_cls: 0.2645, acc: 92.4160, loss_bbox: 0.2153, loss: 0.5539, grad_norm: 3.5302\n",
      "2022-03-25 13:06:44,541 - mmdet - INFO - Epoch [15][250/977]\tlr: 5.000e-07, eta: 2:01:41, time: 0.359, data_time: 0.008, memory: 6411, loss_rpn_cls: 0.0406, loss_rpn_bbox: 0.0276, loss_cls: 0.2519, acc: 92.4717, loss_bbox: 0.2077, loss: 0.5277, grad_norm: 3.4761\n",
      "2022-03-25 13:07:02,758 - mmdet - INFO - Epoch [15][300/977]\tlr: 5.000e-07, eta: 2:01:23, time: 0.364, data_time: 0.008, memory: 6411, loss_rpn_cls: 0.0412, loss_rpn_bbox: 0.0379, loss_cls: 0.2556, acc: 92.3828, loss_bbox: 0.2244, loss: 0.5590, grad_norm: 3.5446\n",
      "2022-03-25 13:07:21,117 - mmdet - INFO - Epoch [15][350/977]\tlr: 5.000e-07, eta: 2:01:06, time: 0.367, data_time: 0.008, memory: 6411, loss_rpn_cls: 0.0374, loss_rpn_bbox: 0.0306, loss_cls: 0.2427, acc: 92.9229, loss_bbox: 0.1958, loss: 0.5065, grad_norm: 3.5838\n",
      "2022-03-25 13:07:38,655 - mmdet - INFO - Epoch [15][400/977]\tlr: 5.000e-07, eta: 2:00:47, time: 0.351, data_time: 0.008, memory: 6411, loss_rpn_cls: 0.0454, loss_rpn_bbox: 0.0300, loss_cls: 0.2520, acc: 92.5283, loss_bbox: 0.2208, loss: 0.5482, grad_norm: 3.6404\n",
      "2022-03-25 13:07:56,564 - mmdet - INFO - Epoch [15][450/977]\tlr: 5.000e-07, eta: 2:00:29, time: 0.358, data_time: 0.007, memory: 6411, loss_rpn_cls: 0.0404, loss_rpn_bbox: 0.0321, loss_cls: 0.2670, acc: 92.1094, loss_bbox: 0.2162, loss: 0.5556, grad_norm: 3.6495\n",
      "2022-03-25 13:08:15,176 - mmdet - INFO - Epoch [15][500/977]\tlr: 5.000e-07, eta: 2:00:12, time: 0.372, data_time: 0.008, memory: 6411, loss_rpn_cls: 0.0377, loss_rpn_bbox: 0.0285, loss_cls: 0.2382, acc: 93.0752, loss_bbox: 0.1995, loss: 0.5039, grad_norm: 3.4068\n",
      "2022-03-25 13:08:34,231 - mmdet - INFO - Epoch [15][550/977]\tlr: 5.000e-07, eta: 1:59:55, time: 0.381, data_time: 0.008, memory: 6411, loss_rpn_cls: 0.0380, loss_rpn_bbox: 0.0269, loss_cls: 0.2457, acc: 92.8623, loss_bbox: 0.1994, loss: 0.5101, grad_norm: 3.6717\n",
      "2022-03-25 13:08:53,359 - mmdet - INFO - Epoch [15][600/977]\tlr: 5.000e-07, eta: 1:59:39, time: 0.383, data_time: 0.008, memory: 6411, loss_rpn_cls: 0.0420, loss_rpn_bbox: 0.0327, loss_cls: 0.2652, acc: 92.2334, loss_bbox: 0.2083, loss: 0.5482, grad_norm: 3.6041\n",
      "2022-03-25 13:09:11,976 - mmdet - INFO - Epoch [15][650/977]\tlr: 5.000e-07, eta: 1:59:22, time: 0.372, data_time: 0.008, memory: 6411, loss_rpn_cls: 0.0441, loss_rpn_bbox: 0.0352, loss_cls: 0.2586, acc: 92.4277, loss_bbox: 0.2167, loss: 0.5545, grad_norm: 3.5145\n",
      "2022-03-25 13:09:30,482 - mmdet - INFO - Epoch [15][700/977]\tlr: 5.000e-07, eta: 1:59:04, time: 0.370, data_time: 0.008, memory: 6411, loss_rpn_cls: 0.0373, loss_rpn_bbox: 0.0348, loss_cls: 0.2502, acc: 92.5967, loss_bbox: 0.2115, loss: 0.5337, grad_norm: 3.5395\n",
      "2022-03-25 13:09:49,145 - mmdet - INFO - Epoch [15][750/977]\tlr: 5.000e-07, eta: 1:58:47, time: 0.373, data_time: 0.008, memory: 6411, loss_rpn_cls: 0.0333, loss_rpn_bbox: 0.0257, loss_cls: 0.2338, acc: 93.3486, loss_bbox: 0.1848, loss: 0.4777, grad_norm: 3.4436\n",
      "2022-03-25 13:10:07,484 - mmdet - INFO - Epoch [15][800/977]\tlr: 5.000e-07, eta: 1:58:30, time: 0.367, data_time: 0.008, memory: 6411, loss_rpn_cls: 0.0405, loss_rpn_bbox: 0.0351, loss_cls: 0.2677, acc: 92.2100, loss_bbox: 0.2293, loss: 0.5727, grad_norm: 3.5113\n",
      "2022-03-25 13:10:25,774 - mmdet - INFO - Epoch [15][850/977]\tlr: 5.000e-07, eta: 1:58:12, time: 0.366, data_time: 0.008, memory: 6411, loss_rpn_cls: 0.0383, loss_rpn_bbox: 0.0309, loss_cls: 0.2327, acc: 92.9424, loss_bbox: 0.2045, loss: 0.5064, grad_norm: 3.4589\n",
      "2022-03-25 13:10:44,458 - mmdet - INFO - Epoch [15][900/977]\tlr: 5.000e-07, eta: 1:57:55, time: 0.374, data_time: 0.008, memory: 6411, loss_rpn_cls: 0.0439, loss_rpn_bbox: 0.0317, loss_cls: 0.2709, acc: 92.1191, loss_bbox: 0.2217, loss: 0.5682, grad_norm: 3.9034\n",
      "2022-03-25 13:11:02,975 - mmdet - INFO - Epoch [15][950/977]\tlr: 5.000e-07, eta: 1:57:37, time: 0.370, data_time: 0.008, memory: 6411, loss_rpn_cls: 0.0335, loss_rpn_bbox: 0.0277, loss_cls: 0.2436, acc: 92.9326, loss_bbox: 0.1982, loss: 0.5030, grad_norm: 3.4811\n",
      "2022-03-25 13:11:12,515 - mmdet - INFO - Saving checkpoint at 15 epochs\n"
     ]
    },
    {
     "name": "stdout",
     "output_type": "stream",
     "text": [
      "[>>>>>>>>>>>>>>>>>>>>>>>>>>>>>] 975/975, 24.4 task/s, elapsed: 40s, ETA:     0s"
     ]
    },
    {
     "name": "stderr",
     "output_type": "stream",
     "text": [
      "2022-03-25 13:11:54,420 - mmdet - INFO - Evaluating bbox...\n"
     ]
    },
    {
     "name": "stdout",
     "output_type": "stream",
     "text": [
      "Loading and preparing results...\n",
      "DONE (t=0.03s)\n",
      "creating index...\n",
      "index created!\n",
      "Running per image evaluation...\n",
      "Evaluate annotation type *bbox*\n",
      "DONE (t=3.77s).\n",
      "Accumulating evaluation results...\n"
     ]
    },
    {
     "name": "stderr",
     "output_type": "stream",
     "text": [
      "2022-03-25 13:11:59,322 - mmdet - INFO - \n",
      " Average Precision  (AP) @[ IoU=0.50:0.95 | area=   all | maxDets=100 ] = 0.233\n",
      " Average Precision  (AP) @[ IoU=0.50      | area=   all | maxDets=1000 ] = 0.380\n",
      " Average Precision  (AP) @[ IoU=0.75      | area=   all | maxDets=1000 ] = 0.243\n",
      " Average Precision  (AP) @[ IoU=0.50:0.95 | area= small | maxDets=1000 ] = 0.007\n",
      " Average Precision  (AP) @[ IoU=0.50:0.95 | area=medium | maxDets=1000 ] = 0.093\n",
      " Average Precision  (AP) @[ IoU=0.50:0.95 | area= large | maxDets=1000 ] = 0.278\n",
      " Average Recall     (AR) @[ IoU=0.50:0.95 | area=   all | maxDets=100 ] = 0.457\n",
      " Average Recall     (AR) @[ IoU=0.50:0.95 | area=   all | maxDets=300 ] = 0.457\n",
      " Average Recall     (AR) @[ IoU=0.50:0.95 | area=   all | maxDets=1000 ] = 0.457\n",
      " Average Recall     (AR) @[ IoU=0.50:0.95 | area= small | maxDets=1000 ] = 0.026\n",
      " Average Recall     (AR) @[ IoU=0.50:0.95 | area=medium | maxDets=1000 ] = 0.209\n",
      " Average Recall     (AR) @[ IoU=0.50:0.95 | area= large | maxDets=1000 ] = 0.527\n",
      "\n",
      "2022-03-25 13:11:59,443 - mmdet - INFO - The previous best checkpoint /opt/ml/detection/baseline/mmdetection/work_dirs/MM_Faster_RCNN_Adam-0.00005_aug_768size/best_bbox_mAP_50_epoch_12.pth was removed\n"
     ]
    },
    {
     "name": "stdout",
     "output_type": "stream",
     "text": [
      "DONE (t=0.98s).\n"
     ]
    },
    {
     "name": "stderr",
     "output_type": "stream",
     "text": [
      "2022-03-25 13:12:00,824 - mmdet - INFO - Now best checkpoint is saved as best_bbox_mAP_50_epoch_15.pth.\n",
      "2022-03-25 13:12:00,825 - mmdet - INFO - Best bbox_mAP_50 is 0.3800 at 15 epoch.\n",
      "2022-03-25 13:12:00,829 - mmdet - INFO - Epoch(val) [15][975]\tbbox_mAP: 0.2330, bbox_mAP_50: 0.3800, bbox_mAP_75: 0.2430, bbox_mAP_s: 0.0070, bbox_mAP_m: 0.0930, bbox_mAP_l: 0.2780, bbox_mAP_copypaste: 0.233 0.380 0.243 0.007 0.093 0.278\n",
      "2022-03-25 13:12:22,008 - mmdet - INFO - Epoch [16][50/977]\tlr: 5.000e-07, eta: 1:57:01, time: 0.423, data_time: 0.059, memory: 6411, loss_rpn_cls: 0.0404, loss_rpn_bbox: 0.0349, loss_cls: 0.2535, acc: 92.4463, loss_bbox: 0.2113, loss: 0.5400, grad_norm: 3.5058\n",
      "2022-03-25 13:12:40,663 - mmdet - INFO - Epoch [16][100/977]\tlr: 5.000e-07, eta: 1:56:44, time: 0.373, data_time: 0.008, memory: 6411, loss_rpn_cls: 0.0399, loss_rpn_bbox: 0.0322, loss_cls: 0.2434, acc: 92.8857, loss_bbox: 0.2107, loss: 0.5262, grad_norm: 3.4257\n",
      "2022-03-25 13:12:58,710 - mmdet - INFO - Epoch [16][150/977]\tlr: 5.000e-07, eta: 1:56:26, time: 0.361, data_time: 0.007, memory: 6411, loss_rpn_cls: 0.0293, loss_rpn_bbox: 0.0242, loss_cls: 0.2103, acc: 93.6396, loss_bbox: 0.1769, loss: 0.4408, grad_norm: 3.1756\n",
      "2022-03-25 13:13:17,223 - mmdet - INFO - Epoch [16][200/977]\tlr: 5.000e-07, eta: 1:56:08, time: 0.370, data_time: 0.007, memory: 6411, loss_rpn_cls: 0.0325, loss_rpn_bbox: 0.0286, loss_cls: 0.2446, acc: 92.8809, loss_bbox: 0.1972, loss: 0.5029, grad_norm: 3.4805\n",
      "2022-03-25 13:13:35,524 - mmdet - INFO - Epoch [16][250/977]\tlr: 5.000e-07, eta: 1:55:51, time: 0.366, data_time: 0.007, memory: 6411, loss_rpn_cls: 0.0390, loss_rpn_bbox: 0.0351, loss_cls: 0.2540, acc: 92.2373, loss_bbox: 0.2163, loss: 0.5443, grad_norm: 3.7287\n",
      "2022-03-25 13:13:53,889 - mmdet - INFO - Epoch [16][300/977]\tlr: 5.000e-07, eta: 1:55:33, time: 0.367, data_time: 0.008, memory: 6411, loss_rpn_cls: 0.0377, loss_rpn_bbox: 0.0350, loss_cls: 0.2730, acc: 91.6885, loss_bbox: 0.2356, loss: 0.5812, grad_norm: 3.6747\n",
      "2022-03-25 13:14:12,405 - mmdet - INFO - Epoch [16][350/977]\tlr: 5.000e-07, eta: 1:55:16, time: 0.370, data_time: 0.008, memory: 6411, loss_rpn_cls: 0.0379, loss_rpn_bbox: 0.0302, loss_cls: 0.2377, acc: 93.0625, loss_bbox: 0.1931, loss: 0.4989, grad_norm: 3.5467\n",
      "2022-03-25 13:14:31,046 - mmdet - INFO - Epoch [16][400/977]\tlr: 5.000e-07, eta: 1:54:58, time: 0.373, data_time: 0.008, memory: 6411, loss_rpn_cls: 0.0363, loss_rpn_bbox: 0.0291, loss_cls: 0.2562, acc: 92.5986, loss_bbox: 0.2041, loss: 0.5258, grad_norm: 3.5777\n",
      "2022-03-25 13:14:49,360 - mmdet - INFO - Epoch [16][450/977]\tlr: 5.000e-07, eta: 1:54:41, time: 0.366, data_time: 0.008, memory: 6411, loss_rpn_cls: 0.0396, loss_rpn_bbox: 0.0311, loss_cls: 0.2293, acc: 93.1641, loss_bbox: 0.1975, loss: 0.4976, grad_norm: 3.4231\n",
      "2022-03-25 13:15:07,803 - mmdet - INFO - Epoch [16][500/977]\tlr: 5.000e-07, eta: 1:54:23, time: 0.369, data_time: 0.008, memory: 6411, loss_rpn_cls: 0.0325, loss_rpn_bbox: 0.0245, loss_cls: 0.2302, acc: 93.4004, loss_bbox: 0.1811, loss: 0.4683, grad_norm: 3.3543\n",
      "2022-03-25 13:15:26,145 - mmdet - INFO - Epoch [16][550/977]\tlr: 5.000e-07, eta: 1:54:06, time: 0.367, data_time: 0.008, memory: 6411, loss_rpn_cls: 0.0423, loss_rpn_bbox: 0.0316, loss_cls: 0.2739, acc: 91.9961, loss_bbox: 0.2283, loss: 0.5760, grad_norm: 3.6186\n",
      "2022-03-25 13:15:44,027 - mmdet - INFO - Epoch [16][600/977]\tlr: 5.000e-07, eta: 1:53:47, time: 0.358, data_time: 0.008, memory: 6411, loss_rpn_cls: 0.0409, loss_rpn_bbox: 0.0316, loss_cls: 0.2607, acc: 92.3672, loss_bbox: 0.2155, loss: 0.5488, grad_norm: 3.5970\n",
      "2022-03-25 13:16:03,042 - mmdet - INFO - Epoch [16][650/977]\tlr: 5.000e-07, eta: 1:53:31, time: 0.380, data_time: 0.008, memory: 6411, loss_rpn_cls: 0.0418, loss_rpn_bbox: 0.0355, loss_cls: 0.2712, acc: 92.1416, loss_bbox: 0.2244, loss: 0.5729, grad_norm: 3.6361\n",
      "2022-03-25 13:16:21,460 - mmdet - INFO - Epoch [16][700/977]\tlr: 5.000e-07, eta: 1:53:13, time: 0.368, data_time: 0.008, memory: 6411, loss_rpn_cls: 0.0382, loss_rpn_bbox: 0.0292, loss_cls: 0.2297, acc: 93.2480, loss_bbox: 0.1868, loss: 0.4839, grad_norm: 3.5184\n",
      "2022-03-25 13:16:40,135 - mmdet - INFO - Epoch [16][750/977]\tlr: 5.000e-07, eta: 1:52:56, time: 0.373, data_time: 0.008, memory: 6411, loss_rpn_cls: 0.0360, loss_rpn_bbox: 0.0253, loss_cls: 0.2442, acc: 92.8447, loss_bbox: 0.1974, loss: 0.5030, grad_norm: 3.5962\n",
      "2022-03-25 13:16:58,425 - mmdet - INFO - Epoch [16][800/977]\tlr: 5.000e-07, eta: 1:52:38, time: 0.366, data_time: 0.008, memory: 6411, loss_rpn_cls: 0.0433, loss_rpn_bbox: 0.0292, loss_cls: 0.2427, acc: 92.8408, loss_bbox: 0.1946, loss: 0.5098, grad_norm: 3.5651\n",
      "2022-03-25 13:17:16,409 - mmdet - INFO - Epoch [16][850/977]\tlr: 5.000e-07, eta: 1:52:20, time: 0.360, data_time: 0.008, memory: 6411, loss_rpn_cls: 0.0356, loss_rpn_bbox: 0.0319, loss_cls: 0.2487, acc: 92.5557, loss_bbox: 0.2185, loss: 0.5345, grad_norm: 3.4789\n",
      "2022-03-25 13:17:35,009 - mmdet - INFO - Epoch [16][900/977]\tlr: 5.000e-07, eta: 1:52:03, time: 0.372, data_time: 0.008, memory: 6411, loss_rpn_cls: 0.0362, loss_rpn_bbox: 0.0295, loss_cls: 0.2572, acc: 92.4775, loss_bbox: 0.2087, loss: 0.5316, grad_norm: 3.5465\n",
      "2022-03-25 13:17:52,708 - mmdet - INFO - Epoch [16][950/977]\tlr: 5.000e-07, eta: 1:51:44, time: 0.354, data_time: 0.008, memory: 6411, loss_rpn_cls: 0.0422, loss_rpn_bbox: 0.0344, loss_cls: 0.2821, acc: 91.6514, loss_bbox: 0.2360, loss: 0.5947, grad_norm: 3.8583\n",
      "2022-03-25 13:18:02,531 - mmdet - INFO - Saving checkpoint at 16 epochs\n"
     ]
    },
    {
     "name": "stdout",
     "output_type": "stream",
     "text": [
      "[>>>>>>>>>>>>>>>>>>>>>>>>>>>>>] 975/975, 24.2 task/s, elapsed: 40s, ETA:     0s"
     ]
    },
    {
     "name": "stderr",
     "output_type": "stream",
     "text": [
      "2022-03-25 13:18:45,565 - mmdet - INFO - Evaluating bbox...\n"
     ]
    },
    {
     "name": "stdout",
     "output_type": "stream",
     "text": [
      "Loading and preparing results...\n",
      "DONE (t=0.04s)\n",
      "creating index...\n",
      "index created!\n",
      "Running per image evaluation...\n",
      "Evaluate annotation type *bbox*\n",
      "DONE (t=3.84s).\n",
      "Accumulating evaluation results...\n"
     ]
    },
    {
     "name": "stderr",
     "output_type": "stream",
     "text": [
      "2022-03-25 13:18:50,596 - mmdet - INFO - \n",
      " Average Precision  (AP) @[ IoU=0.50:0.95 | area=   all | maxDets=100 ] = 0.232\n",
      " Average Precision  (AP) @[ IoU=0.50      | area=   all | maxDets=1000 ] = 0.379\n",
      " Average Precision  (AP) @[ IoU=0.75      | area=   all | maxDets=1000 ] = 0.244\n",
      " Average Precision  (AP) @[ IoU=0.50:0.95 | area= small | maxDets=1000 ] = 0.008\n",
      " Average Precision  (AP) @[ IoU=0.50:0.95 | area=medium | maxDets=1000 ] = 0.093\n",
      " Average Precision  (AP) @[ IoU=0.50:0.95 | area= large | maxDets=1000 ] = 0.277\n",
      " Average Recall     (AR) @[ IoU=0.50:0.95 | area=   all | maxDets=100 ] = 0.458\n",
      " Average Recall     (AR) @[ IoU=0.50:0.95 | area=   all | maxDets=300 ] = 0.458\n",
      " Average Recall     (AR) @[ IoU=0.50:0.95 | area=   all | maxDets=1000 ] = 0.458\n",
      " Average Recall     (AR) @[ IoU=0.50:0.95 | area= small | maxDets=1000 ] = 0.027\n",
      " Average Recall     (AR) @[ IoU=0.50:0.95 | area=medium | maxDets=1000 ] = 0.213\n",
      " Average Recall     (AR) @[ IoU=0.50:0.95 | area= large | maxDets=1000 ] = 0.528\n",
      "\n",
      "2022-03-25 13:18:50,663 - mmdet - INFO - Epoch(val) [16][975]\tbbox_mAP: 0.2320, bbox_mAP_50: 0.3790, bbox_mAP_75: 0.2440, bbox_mAP_s: 0.0080, bbox_mAP_m: 0.0930, bbox_mAP_l: 0.2770, bbox_mAP_copypaste: 0.232 0.379 0.244 0.008 0.093 0.277\n"
     ]
    },
    {
     "name": "stdout",
     "output_type": "stream",
     "text": [
      "DONE (t=1.03s).\n"
     ]
    },
    {
     "name": "stderr",
     "output_type": "stream",
     "text": [
      "2022-03-25 13:19:11,068 - mmdet - INFO - Epoch [17][50/977]\tlr: 5.000e-07, eta: 1:51:08, time: 0.408, data_time: 0.059, memory: 6411, loss_rpn_cls: 0.0349, loss_rpn_bbox: 0.0296, loss_cls: 0.2513, acc: 92.3428, loss_bbox: 0.2125, loss: 0.5283, grad_norm: 3.5217\n",
      "2022-03-25 13:19:30,112 - mmdet - INFO - Epoch [17][100/977]\tlr: 5.000e-07, eta: 1:50:51, time: 0.381, data_time: 0.008, memory: 6411, loss_rpn_cls: 0.0325, loss_rpn_bbox: 0.0298, loss_cls: 0.2456, acc: 92.9082, loss_bbox: 0.1965, loss: 0.5045, grad_norm: 3.4717\n",
      "2022-03-25 13:19:48,430 - mmdet - INFO - Epoch [17][150/977]\tlr: 5.000e-07, eta: 1:50:33, time: 0.366, data_time: 0.008, memory: 6411, loss_rpn_cls: 0.0401, loss_rpn_bbox: 0.0321, loss_cls: 0.2435, acc: 92.8457, loss_bbox: 0.2071, loss: 0.5227, grad_norm: 3.3754\n",
      "2022-03-25 13:20:07,317 - mmdet - INFO - Epoch [17][200/977]\tlr: 5.000e-07, eta: 1:50:16, time: 0.378, data_time: 0.008, memory: 6411, loss_rpn_cls: 0.0316, loss_rpn_bbox: 0.0246, loss_cls: 0.2209, acc: 93.4688, loss_bbox: 0.1818, loss: 0.4590, grad_norm: 3.5073\n",
      "2022-03-25 13:20:25,688 - mmdet - INFO - Epoch [17][250/977]\tlr: 5.000e-07, eta: 1:49:59, time: 0.367, data_time: 0.008, memory: 6411, loss_rpn_cls: 0.0344, loss_rpn_bbox: 0.0296, loss_cls: 0.2564, acc: 92.5449, loss_bbox: 0.2134, loss: 0.5338, grad_norm: 3.5494\n",
      "2022-03-25 13:20:44,022 - mmdet - INFO - Epoch [17][300/977]\tlr: 5.000e-07, eta: 1:49:41, time: 0.367, data_time: 0.008, memory: 6411, loss_rpn_cls: 0.0391, loss_rpn_bbox: 0.0293, loss_cls: 0.2423, acc: 93.0713, loss_bbox: 0.2045, loss: 0.5152, grad_norm: 3.5345\n",
      "2022-03-25 13:21:01,667 - mmdet - INFO - Epoch [17][350/977]\tlr: 5.000e-07, eta: 1:49:23, time: 0.353, data_time: 0.008, memory: 6411, loss_rpn_cls: 0.0427, loss_rpn_bbox: 0.0335, loss_cls: 0.2479, acc: 92.7832, loss_bbox: 0.2059, loss: 0.5300, grad_norm: 3.6449\n",
      "2022-03-25 13:21:19,260 - mmdet - INFO - Epoch [17][400/977]\tlr: 5.000e-07, eta: 1:49:04, time: 0.352, data_time: 0.008, memory: 6411, loss_rpn_cls: 0.0326, loss_rpn_bbox: 0.0285, loss_cls: 0.2511, acc: 92.6016, loss_bbox: 0.2115, loss: 0.5239, grad_norm: 3.4849\n",
      "2022-03-25 13:21:37,526 - mmdet - INFO - Epoch [17][450/977]\tlr: 5.000e-07, eta: 1:48:46, time: 0.365, data_time: 0.008, memory: 6411, loss_rpn_cls: 0.0464, loss_rpn_bbox: 0.0327, loss_cls: 0.2475, acc: 92.7939, loss_bbox: 0.2070, loss: 0.5336, grad_norm: 3.4841\n",
      "2022-03-25 13:21:56,237 - mmdet - INFO - Epoch [17][500/977]\tlr: 5.000e-07, eta: 1:48:29, time: 0.374, data_time: 0.008, memory: 6411, loss_rpn_cls: 0.0395, loss_rpn_bbox: 0.0319, loss_cls: 0.2639, acc: 92.2041, loss_bbox: 0.2187, loss: 0.5540, grad_norm: 3.5072\n",
      "2022-03-25 13:22:15,463 - mmdet - INFO - Epoch [17][550/977]\tlr: 5.000e-07, eta: 1:48:12, time: 0.385, data_time: 0.008, memory: 6411, loss_rpn_cls: 0.0467, loss_rpn_bbox: 0.0333, loss_cls: 0.2598, acc: 92.3428, loss_bbox: 0.2228, loss: 0.5627, grad_norm: 3.6731\n",
      "2022-03-25 13:22:34,548 - mmdet - INFO - Epoch [17][600/977]\tlr: 5.000e-07, eta: 1:47:56, time: 0.382, data_time: 0.008, memory: 6411, loss_rpn_cls: 0.0347, loss_rpn_bbox: 0.0272, loss_cls: 0.2497, acc: 92.5215, loss_bbox: 0.2075, loss: 0.5191, grad_norm: 3.6028\n",
      "2022-03-25 13:22:52,603 - mmdet - INFO - Epoch [17][650/977]\tlr: 5.000e-07, eta: 1:47:38, time: 0.361, data_time: 0.008, memory: 6411, loss_rpn_cls: 0.0367, loss_rpn_bbox: 0.0320, loss_cls: 0.2413, acc: 92.6963, loss_bbox: 0.2067, loss: 0.5167, grad_norm: 3.4963\n"
     ]
    },
    {
     "ename": "KeyboardInterrupt",
     "evalue": "",
     "output_type": "error",
     "traceback": [
      "\u001b[0;31m---------------------------------------------------------------------------\u001b[0m",
      "\u001b[0;31mKeyboardInterrupt\u001b[0m                         Traceback (most recent call last)",
      "\u001b[0;32m/tmp/ipykernel_16144/4164586547.py\u001b[0m in \u001b[0;36m<module>\u001b[0;34m\u001b[0m\n\u001b[1;32m      1\u001b[0m \u001b[0;31m# 모델 학습\u001b[0m\u001b[0;34m\u001b[0m\u001b[0;34m\u001b[0m\u001b[0;34m\u001b[0m\u001b[0m\n\u001b[0;32m----> 2\u001b[0;31m \u001b[0mtrain_detector\u001b[0m\u001b[0;34m(\u001b[0m\u001b[0mmodel\u001b[0m\u001b[0;34m,\u001b[0m \u001b[0mdatasets\u001b[0m\u001b[0;34m[\u001b[0m\u001b[0;36m0\u001b[0m\u001b[0;34m]\u001b[0m\u001b[0;34m,\u001b[0m \u001b[0mcfg\u001b[0m\u001b[0;34m,\u001b[0m \u001b[0mdistributed\u001b[0m\u001b[0;34m=\u001b[0m\u001b[0;32mFalse\u001b[0m\u001b[0;34m,\u001b[0m \u001b[0mvalidate\u001b[0m\u001b[0;34m=\u001b[0m\u001b[0;32mTrue\u001b[0m\u001b[0;34m)\u001b[0m\u001b[0;34m\u001b[0m\u001b[0;34m\u001b[0m\u001b[0m\n\u001b[0m",
      "\u001b[0;32m~/detection/baseline/mmdetection/mmdet/apis/train.py\u001b[0m in \u001b[0;36mtrain_detector\u001b[0;34m(model, dataset, cfg, distributed, validate, timestamp, meta)\u001b[0m\n\u001b[1;32m    206\u001b[0m     \u001b[0;32melif\u001b[0m \u001b[0mcfg\u001b[0m\u001b[0;34m.\u001b[0m\u001b[0mload_from\u001b[0m\u001b[0;34m:\u001b[0m\u001b[0;34m\u001b[0m\u001b[0;34m\u001b[0m\u001b[0m\n\u001b[1;32m    207\u001b[0m         \u001b[0mrunner\u001b[0m\u001b[0;34m.\u001b[0m\u001b[0mload_checkpoint\u001b[0m\u001b[0;34m(\u001b[0m\u001b[0mcfg\u001b[0m\u001b[0;34m.\u001b[0m\u001b[0mload_from\u001b[0m\u001b[0;34m)\u001b[0m\u001b[0;34m\u001b[0m\u001b[0;34m\u001b[0m\u001b[0m\n\u001b[0;32m--> 208\u001b[0;31m     \u001b[0mrunner\u001b[0m\u001b[0;34m.\u001b[0m\u001b[0mrun\u001b[0m\u001b[0;34m(\u001b[0m\u001b[0mdata_loaders\u001b[0m\u001b[0;34m,\u001b[0m \u001b[0mcfg\u001b[0m\u001b[0;34m.\u001b[0m\u001b[0mworkflow\u001b[0m\u001b[0;34m)\u001b[0m\u001b[0;34m\u001b[0m\u001b[0;34m\u001b[0m\u001b[0m\n\u001b[0m",
      "\u001b[0;32m/opt/conda/envs/detection/lib/python3.7/site-packages/mmcv/runner/epoch_based_runner.py\u001b[0m in \u001b[0;36mrun\u001b[0;34m(self, data_loaders, workflow, max_epochs, **kwargs)\u001b[0m\n\u001b[1;32m    125\u001b[0m                     \u001b[0;32mif\u001b[0m \u001b[0mmode\u001b[0m \u001b[0;34m==\u001b[0m \u001b[0;34m'train'\u001b[0m \u001b[0;32mand\u001b[0m \u001b[0mself\u001b[0m\u001b[0;34m.\u001b[0m\u001b[0mepoch\u001b[0m \u001b[0;34m>=\u001b[0m \u001b[0mself\u001b[0m\u001b[0;34m.\u001b[0m\u001b[0m_max_epochs\u001b[0m\u001b[0;34m:\u001b[0m\u001b[0;34m\u001b[0m\u001b[0;34m\u001b[0m\u001b[0m\n\u001b[1;32m    126\u001b[0m                         \u001b[0;32mbreak\u001b[0m\u001b[0;34m\u001b[0m\u001b[0;34m\u001b[0m\u001b[0m\n\u001b[0;32m--> 127\u001b[0;31m                     \u001b[0mepoch_runner\u001b[0m\u001b[0;34m(\u001b[0m\u001b[0mdata_loaders\u001b[0m\u001b[0;34m[\u001b[0m\u001b[0mi\u001b[0m\u001b[0;34m]\u001b[0m\u001b[0;34m,\u001b[0m \u001b[0;34m**\u001b[0m\u001b[0mkwargs\u001b[0m\u001b[0;34m)\u001b[0m\u001b[0;34m\u001b[0m\u001b[0;34m\u001b[0m\u001b[0m\n\u001b[0m\u001b[1;32m    128\u001b[0m \u001b[0;34m\u001b[0m\u001b[0m\n\u001b[1;32m    129\u001b[0m         \u001b[0mtime\u001b[0m\u001b[0;34m.\u001b[0m\u001b[0msleep\u001b[0m\u001b[0;34m(\u001b[0m\u001b[0;36m1\u001b[0m\u001b[0;34m)\u001b[0m  \u001b[0;31m# wait for some hooks like loggers to finish\u001b[0m\u001b[0;34m\u001b[0m\u001b[0;34m\u001b[0m\u001b[0m\n",
      "\u001b[0;32m/opt/conda/envs/detection/lib/python3.7/site-packages/mmcv/runner/epoch_based_runner.py\u001b[0m in \u001b[0;36mtrain\u001b[0;34m(self, data_loader, **kwargs)\u001b[0m\n\u001b[1;32m     49\u001b[0m             \u001b[0mself\u001b[0m\u001b[0;34m.\u001b[0m\u001b[0mcall_hook\u001b[0m\u001b[0;34m(\u001b[0m\u001b[0;34m'before_train_iter'\u001b[0m\u001b[0;34m)\u001b[0m\u001b[0;34m\u001b[0m\u001b[0;34m\u001b[0m\u001b[0m\n\u001b[1;32m     50\u001b[0m             \u001b[0mself\u001b[0m\u001b[0;34m.\u001b[0m\u001b[0mrun_iter\u001b[0m\u001b[0;34m(\u001b[0m\u001b[0mdata_batch\u001b[0m\u001b[0;34m,\u001b[0m \u001b[0mtrain_mode\u001b[0m\u001b[0;34m=\u001b[0m\u001b[0;32mTrue\u001b[0m\u001b[0;34m,\u001b[0m \u001b[0;34m**\u001b[0m\u001b[0mkwargs\u001b[0m\u001b[0;34m)\u001b[0m\u001b[0;34m\u001b[0m\u001b[0;34m\u001b[0m\u001b[0m\n\u001b[0;32m---> 51\u001b[0;31m             \u001b[0mself\u001b[0m\u001b[0;34m.\u001b[0m\u001b[0mcall_hook\u001b[0m\u001b[0;34m(\u001b[0m\u001b[0;34m'after_train_iter'\u001b[0m\u001b[0;34m)\u001b[0m\u001b[0;34m\u001b[0m\u001b[0;34m\u001b[0m\u001b[0m\n\u001b[0m\u001b[1;32m     52\u001b[0m             \u001b[0mself\u001b[0m\u001b[0;34m.\u001b[0m\u001b[0m_iter\u001b[0m \u001b[0;34m+=\u001b[0m \u001b[0;36m1\u001b[0m\u001b[0;34m\u001b[0m\u001b[0;34m\u001b[0m\u001b[0m\n\u001b[1;32m     53\u001b[0m \u001b[0;34m\u001b[0m\u001b[0m\n",
      "\u001b[0;32m/opt/conda/envs/detection/lib/python3.7/site-packages/mmcv/runner/base_runner.py\u001b[0m in \u001b[0;36mcall_hook\u001b[0;34m(self, fn_name)\u001b[0m\n\u001b[1;32m    307\u001b[0m         \"\"\"\n\u001b[1;32m    308\u001b[0m         \u001b[0;32mfor\u001b[0m \u001b[0mhook\u001b[0m \u001b[0;32min\u001b[0m \u001b[0mself\u001b[0m\u001b[0;34m.\u001b[0m\u001b[0m_hooks\u001b[0m\u001b[0;34m:\u001b[0m\u001b[0;34m\u001b[0m\u001b[0;34m\u001b[0m\u001b[0m\n\u001b[0;32m--> 309\u001b[0;31m             \u001b[0mgetattr\u001b[0m\u001b[0;34m(\u001b[0m\u001b[0mhook\u001b[0m\u001b[0;34m,\u001b[0m \u001b[0mfn_name\u001b[0m\u001b[0;34m)\u001b[0m\u001b[0;34m(\u001b[0m\u001b[0mself\u001b[0m\u001b[0;34m)\u001b[0m\u001b[0;34m\u001b[0m\u001b[0;34m\u001b[0m\u001b[0m\n\u001b[0m\u001b[1;32m    310\u001b[0m \u001b[0;34m\u001b[0m\u001b[0m\n\u001b[1;32m    311\u001b[0m     \u001b[0;32mdef\u001b[0m \u001b[0mget_hook_info\u001b[0m\u001b[0;34m(\u001b[0m\u001b[0mself\u001b[0m\u001b[0;34m)\u001b[0m\u001b[0;34m:\u001b[0m\u001b[0;34m\u001b[0m\u001b[0;34m\u001b[0m\u001b[0m\n",
      "\u001b[0;32m/opt/conda/envs/detection/lib/python3.7/site-packages/mmcv/runner/hooks/optimizer.py\u001b[0m in \u001b[0;36mafter_train_iter\u001b[0;34m(self, runner)\u001b[0m\n\u001b[1;32m     57\u001b[0m \u001b[0;34m\u001b[0m\u001b[0m\n\u001b[1;32m     58\u001b[0m         \u001b[0;32mif\u001b[0m \u001b[0mself\u001b[0m\u001b[0;34m.\u001b[0m\u001b[0mgrad_clip\u001b[0m \u001b[0;32mis\u001b[0m \u001b[0;32mnot\u001b[0m \u001b[0;32mNone\u001b[0m\u001b[0;34m:\u001b[0m\u001b[0;34m\u001b[0m\u001b[0;34m\u001b[0m\u001b[0m\n\u001b[0;32m---> 59\u001b[0;31m             \u001b[0mgrad_norm\u001b[0m \u001b[0;34m=\u001b[0m \u001b[0mself\u001b[0m\u001b[0;34m.\u001b[0m\u001b[0mclip_grads\u001b[0m\u001b[0;34m(\u001b[0m\u001b[0mrunner\u001b[0m\u001b[0;34m.\u001b[0m\u001b[0mmodel\u001b[0m\u001b[0;34m.\u001b[0m\u001b[0mparameters\u001b[0m\u001b[0;34m(\u001b[0m\u001b[0;34m)\u001b[0m\u001b[0;34m)\u001b[0m\u001b[0;34m\u001b[0m\u001b[0;34m\u001b[0m\u001b[0m\n\u001b[0m\u001b[1;32m     60\u001b[0m             \u001b[0;32mif\u001b[0m \u001b[0mgrad_norm\u001b[0m \u001b[0;32mis\u001b[0m \u001b[0;32mnot\u001b[0m \u001b[0;32mNone\u001b[0m\u001b[0;34m:\u001b[0m\u001b[0;34m\u001b[0m\u001b[0;34m\u001b[0m\u001b[0m\n\u001b[1;32m     61\u001b[0m                 \u001b[0;31m# Add grad norm to the logger\u001b[0m\u001b[0;34m\u001b[0m\u001b[0;34m\u001b[0m\u001b[0;34m\u001b[0m\u001b[0m\n",
      "\u001b[0;32m/opt/conda/envs/detection/lib/python3.7/site-packages/mmcv/runner/hooks/optimizer.py\u001b[0m in \u001b[0;36mclip_grads\u001b[0;34m(self, params)\u001b[0m\n\u001b[1;32m     48\u001b[0m             filter(lambda p: p.requires_grad and p.grad is not None, params))\n\u001b[1;32m     49\u001b[0m         \u001b[0;32mif\u001b[0m \u001b[0mlen\u001b[0m\u001b[0;34m(\u001b[0m\u001b[0mparams\u001b[0m\u001b[0;34m)\u001b[0m \u001b[0;34m>\u001b[0m \u001b[0;36m0\u001b[0m\u001b[0;34m:\u001b[0m\u001b[0;34m\u001b[0m\u001b[0;34m\u001b[0m\u001b[0m\n\u001b[0;32m---> 50\u001b[0;31m             \u001b[0;32mreturn\u001b[0m \u001b[0mclip_grad\u001b[0m\u001b[0;34m.\u001b[0m\u001b[0mclip_grad_norm_\u001b[0m\u001b[0;34m(\u001b[0m\u001b[0mparams\u001b[0m\u001b[0;34m,\u001b[0m \u001b[0;34m**\u001b[0m\u001b[0mself\u001b[0m\u001b[0;34m.\u001b[0m\u001b[0mgrad_clip\u001b[0m\u001b[0;34m)\u001b[0m\u001b[0;34m\u001b[0m\u001b[0;34m\u001b[0m\u001b[0m\n\u001b[0m\u001b[1;32m     51\u001b[0m \u001b[0;34m\u001b[0m\u001b[0m\n\u001b[1;32m     52\u001b[0m     \u001b[0;32mdef\u001b[0m \u001b[0mafter_train_iter\u001b[0m\u001b[0;34m(\u001b[0m\u001b[0mself\u001b[0m\u001b[0;34m,\u001b[0m \u001b[0mrunner\u001b[0m\u001b[0;34m)\u001b[0m\u001b[0;34m:\u001b[0m\u001b[0;34m\u001b[0m\u001b[0;34m\u001b[0m\u001b[0m\n",
      "\u001b[0;32m/opt/conda/envs/detection/lib/python3.7/site-packages/torch/nn/utils/clip_grad.py\u001b[0m in \u001b[0;36mclip_grad_norm_\u001b[0;34m(parameters, max_norm, norm_type)\u001b[0m\n\u001b[1;32m     36\u001b[0m         \u001b[0mtotal_norm\u001b[0m \u001b[0;34m=\u001b[0m \u001b[0mtorch\u001b[0m\u001b[0;34m.\u001b[0m\u001b[0mnorm\u001b[0m\u001b[0;34m(\u001b[0m\u001b[0mtorch\u001b[0m\u001b[0;34m.\u001b[0m\u001b[0mstack\u001b[0m\u001b[0;34m(\u001b[0m\u001b[0;34m[\u001b[0m\u001b[0mtorch\u001b[0m\u001b[0;34m.\u001b[0m\u001b[0mnorm\u001b[0m\u001b[0;34m(\u001b[0m\u001b[0mp\u001b[0m\u001b[0;34m.\u001b[0m\u001b[0mgrad\u001b[0m\u001b[0;34m.\u001b[0m\u001b[0mdetach\u001b[0m\u001b[0;34m(\u001b[0m\u001b[0;34m)\u001b[0m\u001b[0;34m,\u001b[0m \u001b[0mnorm_type\u001b[0m\u001b[0;34m)\u001b[0m\u001b[0;34m.\u001b[0m\u001b[0mto\u001b[0m\u001b[0;34m(\u001b[0m\u001b[0mdevice\u001b[0m\u001b[0;34m)\u001b[0m \u001b[0;32mfor\u001b[0m \u001b[0mp\u001b[0m \u001b[0;32min\u001b[0m \u001b[0mparameters\u001b[0m\u001b[0;34m]\u001b[0m\u001b[0;34m)\u001b[0m\u001b[0;34m,\u001b[0m \u001b[0mnorm_type\u001b[0m\u001b[0;34m)\u001b[0m\u001b[0;34m\u001b[0m\u001b[0;34m\u001b[0m\u001b[0m\n\u001b[1;32m     37\u001b[0m     \u001b[0mclip_coef\u001b[0m \u001b[0;34m=\u001b[0m \u001b[0mmax_norm\u001b[0m \u001b[0;34m/\u001b[0m \u001b[0;34m(\u001b[0m\u001b[0mtotal_norm\u001b[0m \u001b[0;34m+\u001b[0m \u001b[0;36m1e-6\u001b[0m\u001b[0;34m)\u001b[0m\u001b[0;34m\u001b[0m\u001b[0;34m\u001b[0m\u001b[0m\n\u001b[0;32m---> 38\u001b[0;31m     \u001b[0;32mif\u001b[0m \u001b[0mclip_coef\u001b[0m \u001b[0;34m<\u001b[0m \u001b[0;36m1\u001b[0m\u001b[0;34m:\u001b[0m\u001b[0;34m\u001b[0m\u001b[0;34m\u001b[0m\u001b[0m\n\u001b[0m\u001b[1;32m     39\u001b[0m         \u001b[0;32mfor\u001b[0m \u001b[0mp\u001b[0m \u001b[0;32min\u001b[0m \u001b[0mparameters\u001b[0m\u001b[0;34m:\u001b[0m\u001b[0;34m\u001b[0m\u001b[0;34m\u001b[0m\u001b[0m\n\u001b[1;32m     40\u001b[0m             \u001b[0mp\u001b[0m\u001b[0;34m.\u001b[0m\u001b[0mgrad\u001b[0m\u001b[0;34m.\u001b[0m\u001b[0mdetach\u001b[0m\u001b[0;34m(\u001b[0m\u001b[0;34m)\u001b[0m\u001b[0;34m.\u001b[0m\u001b[0mmul_\u001b[0m\u001b[0;34m(\u001b[0m\u001b[0mclip_coef\u001b[0m\u001b[0;34m.\u001b[0m\u001b[0mto\u001b[0m\u001b[0;34m(\u001b[0m\u001b[0mp\u001b[0m\u001b[0;34m.\u001b[0m\u001b[0mgrad\u001b[0m\u001b[0;34m.\u001b[0m\u001b[0mdevice\u001b[0m\u001b[0;34m)\u001b[0m\u001b[0;34m)\u001b[0m\u001b[0;34m\u001b[0m\u001b[0;34m\u001b[0m\u001b[0m\n",
      "\u001b[0;31mKeyboardInterrupt\u001b[0m: "
     ]
    }
   ],
   "source": [
    "# 모델 학습\n",
    "train_detector(model, datasets[0], cfg, distributed=False, validate=True)"
   ]
  },
  {
   "cell_type": "code",
   "execution_count": null,
   "metadata": {},
   "outputs": [],
   "source": []
  },
  {
   "cell_type": "code",
   "execution_count": null,
   "metadata": {},
   "outputs": [],
   "source": []
  },
  {
   "cell_type": "code",
   "execution_count": null,
   "metadata": {},
   "outputs": [],
   "source": []
  },
  {
   "cell_type": "code",
   "execution_count": null,
   "metadata": {},
   "outputs": [],
   "source": []
  }
 ],
 "metadata": {
  "interpreter": {
   "hash": "980dec4bdc0f65d3f181e5891661df87e8769cde5e79cd54bc145a7f830b2685"
  },
  "kernelspec": {
   "display_name": "Python 3 (ipykernel)",
   "language": "python",
   "name": "python3"
  },
  "language_info": {
   "codemirror_mode": {
    "name": "ipython",
    "version": 3
   },
   "file_extension": ".py",
   "mimetype": "text/x-python",
   "name": "python",
   "nbconvert_exporter": "python",
   "pygments_lexer": "ipython3",
   "version": "3.7.11"
  }
 },
 "nbformat": 4,
 "nbformat_minor": 4
}
