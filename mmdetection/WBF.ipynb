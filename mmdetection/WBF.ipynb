{
 "cells": [
  {
   "cell_type": "code",
   "execution_count": 2,
   "metadata": {},
   "outputs": [
    {
     "name": "stdout",
     "output_type": "stream",
     "text": [
      "Collecting ensemble_boxes\n",
      "  Downloading ensemble_boxes-1.0.8-py3-none-any.whl (21 kB)\n",
      "Collecting numba\n",
      "  Downloading numba-0.55.1-1-cp37-cp37m-manylinux2014_x86_64.manylinux_2_17_x86_64.whl (3.3 MB)\n",
      "\u001b[K     |████████████████████████████████| 3.3 MB 46.7 MB/s eta 0:00:01\n",
      "\u001b[?25hRequirement already satisfied: pandas in /opt/conda/envs/detection/lib/python3.7/site-packages (from ensemble_boxes) (1.3.5)\n",
      "Requirement already satisfied: numpy in /opt/conda/envs/detection/lib/python3.7/site-packages (from ensemble_boxes) (1.21.2)\n",
      "Requirement already satisfied: setuptools in /opt/conda/envs/detection/lib/python3.7/site-packages (from numba->ensemble_boxes) (58.0.4)\n",
      "Collecting llvmlite<0.39,>=0.38.0rc1\n",
      "  Downloading llvmlite-0.38.0-cp37-cp37m-manylinux_2_17_x86_64.manylinux2014_x86_64.whl (34.5 MB)\n",
      "\u001b[K     |████████████████████████████████| 34.5 MB 40.3 MB/s eta 0:00:01\n",
      "\u001b[?25hRequirement already satisfied: python-dateutil>=2.7.3 in /opt/conda/envs/detection/lib/python3.7/site-packages (from pandas->ensemble_boxes) (2.8.2)\n",
      "Requirement already satisfied: pytz>=2017.3 in /opt/conda/envs/detection/lib/python3.7/site-packages (from pandas->ensemble_boxes) (2021.3)\n",
      "Requirement already satisfied: six>=1.5 in /opt/conda/envs/detection/lib/python3.7/site-packages (from python-dateutil>=2.7.3->pandas->ensemble_boxes) (1.16.0)\n",
      "Installing collected packages: llvmlite, numba, ensemble-boxes\n",
      "Successfully installed ensemble-boxes-1.0.8 llvmlite-0.38.0 numba-0.55.1\n",
      "\u001b[33mWARNING: Running pip as the 'root' user can result in broken permissions and conflicting behaviour with the system package manager. It is recommended to use a virtual environment instead: https://pip.pypa.io/warnings/venv\u001b[0m\n"
     ]
    }
   ],
   "source": [
    "!pip3 install ensemble_boxes"
   ]
  },
  {
   "cell_type": "code",
   "execution_count": 3,
   "metadata": {},
   "outputs": [],
   "source": [
    "import pandas as pd\n",
    "from ensemble_boxes import *\n",
    "import numpy as np\n",
    "from pycocotools.coco import COCO"
   ]
  },
  {
   "cell_type": "code",
   "execution_count": 12,
   "metadata": {},
   "outputs": [],
   "source": [
    "# ensemble csv files\n",
    "\n",
    "submission_files = [\"/opt/ml/detection/baseline/mmdetection/output/output (26).csv\",\n",
    "                    \"/opt/ml/detection/baseline/mmdetection/output/output (27).csv\",\n",
    "                    \"/opt/ml/detection/baseline/mmdetection/output/output (28).csv\",\n",
    "                    # \"/opt/ml/detection/baseline/mmdetection/output/output (29).csv\",\n",
    "                    # \"/opt/ml/detection/baseline/mmdetection/output/output (30).csv\"\n",
    "                   ]\n",
    "\n",
    "submission_df = [pd.read_csv(file) for file in submission_files]"
   ]
  },
  {
   "cell_type": "code",
   "execution_count": 13,
   "metadata": {},
   "outputs": [],
   "source": [
    "image_ids = [f'test/{str(idx).zfill(4)}.jpg' for idx in range(4871)]# submission_df[0]['image_id'].tolist()"
   ]
  },
  {
   "cell_type": "code",
   "execution_count": 14,
   "metadata": {},
   "outputs": [
    {
     "name": "stdout",
     "output_type": "stream",
     "text": [
      "loading annotations into memory...\n",
      "Done (t=0.01s)\n",
      "creating index...\n",
      "index created!\n"
     ]
    }
   ],
   "source": [
    "annotation = '/opt/ml/detection/dataset/test.json'\n",
    "coco = COCO(annotation)"
   ]
  },
  {
   "cell_type": "code",
   "execution_count": 16,
   "metadata": {},
   "outputs": [
    {
     "name": "stderr",
     "output_type": "stream",
     "text": [
      "  0%|          | 13/4871 [00:03<13:49,  5.85it/s] "
     ]
    },
    {
     "name": "stdout",
     "output_type": "stream",
     "text": [
      "Warning. Fixed 6 boxes coordinates > 1. Check that your boxes was normalized at [0, 1]\n",
      "Warning. Fixed 4 boxes coordinates > 1. Check that your boxes was normalized at [0, 1]\n",
      "Warning. Fixed 2 boxes coordinates > 1. Check that your boxes was normalized at [0, 1]\n"
     ]
    },
    {
     "name": "stderr",
     "output_type": "stream",
     "text": [
      "  1%|          | 31/4871 [00:03<04:05, 19.68it/s]"
     ]
    },
    {
     "name": "stdout",
     "output_type": "stream",
     "text": [
      "Warning. Fixed 4 boxes coordinates > 1. Check that your boxes was normalized at [0, 1]\n",
      "Warning. Fixed 1 boxes coordinates > 1. Check that your boxes was normalized at [0, 1]\n",
      "Warning. Fixed 2 boxes coordinates > 1. Check that your boxes was normalized at [0, 1]\n"
     ]
    },
    {
     "name": "stderr",
     "output_type": "stream",
     "text": [
      "  1%|          | 43/4871 [00:04<02:37, 30.74it/s]"
     ]
    },
    {
     "name": "stdout",
     "output_type": "stream",
     "text": [
      "Warning. Fixed 1 boxes coordinates > 1. Check that your boxes was normalized at [0, 1]\n",
      "Warning. Fixed 2 boxes coordinates > 1. Check that your boxes was normalized at [0, 1]\n",
      "Warning. Fixed 1 boxes coordinates > 1. Check that your boxes was normalized at [0, 1]\n",
      "Warning. Fixed 3 boxes coordinates > 1. Check that your boxes was normalized at [0, 1]\n"
     ]
    },
    {
     "name": "stderr",
     "output_type": "stream",
     "text": [
      "  1%|▏         | 64/4871 [00:04<01:41, 47.28it/s]"
     ]
    },
    {
     "name": "stdout",
     "output_type": "stream",
     "text": [
      "Warning. Fixed 2 boxes coordinates > 1. Check that your boxes was normalized at [0, 1]\n",
      "Warning. Fixed 2 boxes coordinates > 1. Check that your boxes was normalized at [0, 1]\n",
      "Warning. Fixed 3 boxes coordinates > 1. Check that your boxes was normalized at [0, 1]\n",
      "Warning. Fixed 7 boxes coordinates > 1. Check that your boxes was normalized at [0, 1]\n",
      "Warning. Fixed 1 boxes coordinates > 1. Check that your boxes was normalized at [0, 1]\n"
     ]
    },
    {
     "name": "stderr",
     "output_type": "stream",
     "text": [
      "  2%|▏         | 77/4871 [00:04<01:32, 51.97it/s]"
     ]
    },
    {
     "name": "stdout",
     "output_type": "stream",
     "text": [
      "Warning. Fixed 4 boxes coordinates > 1. Check that your boxes was normalized at [0, 1]\n",
      "Warning. Fixed 2 boxes coordinates > 1. Check that your boxes was normalized at [0, 1]\n"
     ]
    },
    {
     "name": "stderr",
     "output_type": "stream",
     "text": [
      "  2%|▏         | 89/4871 [00:04<01:28, 54.26it/s]"
     ]
    },
    {
     "name": "stdout",
     "output_type": "stream",
     "text": [
      "Warning. Fixed 1 boxes coordinates > 1. Check that your boxes was normalized at [0, 1]\n",
      "Warning. Fixed 3 boxes coordinates > 1. Check that your boxes was normalized at [0, 1]\n",
      "Warning. Fixed 3 boxes coordinates > 1. Check that your boxes was normalized at [0, 1]\n"
     ]
    },
    {
     "name": "stderr",
     "output_type": "stream",
     "text": [
      "  2%|▏         | 102/4871 [00:05<01:23, 56.79it/s]"
     ]
    },
    {
     "name": "stdout",
     "output_type": "stream",
     "text": [
      "Warning. Fixed 2 boxes coordinates > 1. Check that your boxes was normalized at [0, 1]\n",
      "Warning. Fixed 1 boxes coordinates > 1. Check that your boxes was normalized at [0, 1]\n",
      "Warning. Fixed 1 boxes coordinates > 1. Check that your boxes was normalized at [0, 1]\n"
     ]
    },
    {
     "name": "stderr",
     "output_type": "stream",
     "text": [
      "  3%|▎         | 123/4871 [00:05<01:22, 57.22it/s]"
     ]
    },
    {
     "name": "stdout",
     "output_type": "stream",
     "text": [
      "Warning. Fixed 3 boxes coordinates > 1. Check that your boxes was normalized at [0, 1]\n"
     ]
    },
    {
     "name": "stderr",
     "output_type": "stream",
     "text": [
      "  3%|▎         | 137/4871 [00:05<01:18, 60.15it/s]"
     ]
    },
    {
     "name": "stdout",
     "output_type": "stream",
     "text": [
      "Warning. Fixed 1 boxes coordinates > 1. Check that your boxes was normalized at [0, 1]\n",
      "Warning. Fixed 4 boxes coordinates > 1. Check that your boxes was normalized at [0, 1]\n",
      "Warning. Fixed 1 boxes coordinates > 1. Check that your boxes was normalized at [0, 1]\n",
      "Warning. Fixed 1 boxes coordinates > 1. Check that your boxes was normalized at [0, 1]\n"
     ]
    },
    {
     "name": "stderr",
     "output_type": "stream",
     "text": [
      "  3%|▎         | 151/4871 [00:05<01:17, 60.90it/s]"
     ]
    },
    {
     "name": "stdout",
     "output_type": "stream",
     "text": [
      "Warning. Fixed 1 boxes coordinates > 1. Check that your boxes was normalized at [0, 1]\n",
      "Warning. Fixed 1 boxes coordinates > 1. Check that your boxes was normalized at [0, 1]\n",
      "Warning. Fixed 1 boxes coordinates > 1. Check that your boxes was normalized at [0, 1]\n",
      "Warning. Fixed 2 boxes coordinates > 1. Check that your boxes was normalized at [0, 1]\n",
      "Warning. Fixed 1 boxes coordinates > 1. Check that your boxes was normalized at [0, 1]\n",
      "Warning. Fixed 1 boxes coordinates > 1. Check that your boxes was normalized at [0, 1]\n"
     ]
    },
    {
     "name": "stderr",
     "output_type": "stream",
     "text": [
      "  4%|▎         | 172/4871 [00:06<01:15, 62.28it/s]"
     ]
    },
    {
     "name": "stdout",
     "output_type": "stream",
     "text": [
      "Warning. Fixed 1 boxes coordinates > 1. Check that your boxes was normalized at [0, 1]\n",
      "Warning. Fixed 2 boxes coordinates > 1. Check that your boxes was normalized at [0, 1]\n",
      "Warning. Fixed 2 boxes coordinates > 1. Check that your boxes was normalized at [0, 1]\n"
     ]
    },
    {
     "name": "stderr",
     "output_type": "stream",
     "text": [
      "  4%|▍         | 199/4871 [00:06<01:19, 58.64it/s]"
     ]
    },
    {
     "name": "stdout",
     "output_type": "stream",
     "text": [
      "Warning. Fixed 1 boxes coordinates > 1. Check that your boxes was normalized at [0, 1]\n",
      "Warning. Fixed 2 boxes coordinates > 1. Check that your boxes was normalized at [0, 1]\n",
      "Warning. Fixed 3 boxes coordinates > 1. Check that your boxes was normalized at [0, 1]\n",
      "Warning. Fixed 2 boxes coordinates > 1. Check that your boxes was normalized at [0, 1]\n"
     ]
    },
    {
     "name": "stderr",
     "output_type": "stream",
     "text": [
      "  4%|▍         | 212/4871 [00:06<01:17, 60.34it/s]"
     ]
    },
    {
     "name": "stdout",
     "output_type": "stream",
     "text": [
      "Warning. Fixed 3 boxes coordinates > 1. Check that your boxes was normalized at [0, 1]\n",
      "Warning. Fixed 3 boxes coordinates > 1. Check that your boxes was normalized at [0, 1]\n"
     ]
    },
    {
     "name": "stderr",
     "output_type": "stream",
     "text": [
      "  5%|▍         | 233/4871 [00:07<01:18, 58.95it/s]"
     ]
    },
    {
     "name": "stdout",
     "output_type": "stream",
     "text": [
      "Warning. Fixed 3 boxes coordinates > 1. Check that your boxes was normalized at [0, 1]\n",
      "Warning. Fixed 4 boxes coordinates > 1. Check that your boxes was normalized at [0, 1]\n",
      "Warning. Fixed 2 boxes coordinates > 1. Check that your boxes was normalized at [0, 1]\n"
     ]
    },
    {
     "name": "stderr",
     "output_type": "stream",
     "text": [
      "  5%|▌         | 245/4871 [00:07<01:21, 57.10it/s]"
     ]
    },
    {
     "name": "stdout",
     "output_type": "stream",
     "text": [
      "Warning. Fixed 2 boxes coordinates > 1. Check that your boxes was normalized at [0, 1]\n",
      "Warning. Fixed 4 boxes coordinates > 1. Check that your boxes was normalized at [0, 1]\n",
      "Warning. Fixed 4 boxes coordinates > 1. Check that your boxes was normalized at [0, 1]\n",
      "Warning. Fixed 1 boxes coordinates > 1. Check that your boxes was normalized at [0, 1]\n"
     ]
    },
    {
     "name": "stderr",
     "output_type": "stream",
     "text": [
      "  5%|▌         | 251/4871 [00:07<01:21, 57.02it/s]"
     ]
    },
    {
     "name": "stdout",
     "output_type": "stream",
     "text": [
      "Warning. Fixed 2 boxes coordinates > 1. Check that your boxes was normalized at [0, 1]\n"
     ]
    },
    {
     "name": "stderr",
     "output_type": "stream",
     "text": [
      "  5%|▌         | 264/4871 [00:07<01:34, 48.56it/s]"
     ]
    },
    {
     "name": "stdout",
     "output_type": "stream",
     "text": [
      "Warning. Fixed 1 boxes coordinates > 1. Check that your boxes was normalized at [0, 1]\n",
      "Warning. Fixed 1 boxes coordinates > 1. Check that your boxes was normalized at [0, 1]\n",
      "Warning. Fixed 1 boxes coordinates > 1. Check that your boxes was normalized at [0, 1]\n"
     ]
    },
    {
     "name": "stderr",
     "output_type": "stream",
     "text": [
      "  6%|▌         | 282/4871 [00:08<01:25, 53.69it/s]"
     ]
    },
    {
     "name": "stdout",
     "output_type": "stream",
     "text": [
      "Warning. Fixed 1 boxes coordinates > 1. Check that your boxes was normalized at [0, 1]\n",
      "Warning. Fixed 2 boxes coordinates > 1. Check that your boxes was normalized at [0, 1]\n",
      "Warning. Fixed 1 boxes coordinates > 1. Check that your boxes was normalized at [0, 1]\n",
      "Warning. Fixed 5 boxes coordinates > 1. Check that your boxes was normalized at [0, 1]\n"
     ]
    },
    {
     "name": "stderr",
     "output_type": "stream",
     "text": [
      "  6%|▌         | 295/4871 [00:08<01:19, 57.21it/s]"
     ]
    },
    {
     "name": "stdout",
     "output_type": "stream",
     "text": [
      "Warning. Fixed 2 boxes coordinates > 1. Check that your boxes was normalized at [0, 1]\n",
      "Warning. Fixed 2 boxes coordinates > 1. Check that your boxes was normalized at [0, 1]\n",
      "Warning. Fixed 2 boxes coordinates > 1. Check that your boxes was normalized at [0, 1]\n",
      "Warning. Fixed 2 boxes coordinates > 1. Check that your boxes was normalized at [0, 1]\n",
      "Warning. Fixed 2 boxes coordinates > 1. Check that your boxes was normalized at [0, 1]\n"
     ]
    },
    {
     "name": "stderr",
     "output_type": "stream",
     "text": [
      "  6%|▋         | 316/4871 [00:08<01:14, 61.03it/s]"
     ]
    },
    {
     "name": "stdout",
     "output_type": "stream",
     "text": [
      "Warning. Fixed 1 boxes coordinates > 1. Check that your boxes was normalized at [0, 1]\n"
     ]
    },
    {
     "name": "stderr",
     "output_type": "stream",
     "text": [
      "  7%|▋         | 323/4871 [00:08<01:12, 62.49it/s]"
     ]
    },
    {
     "name": "stdout",
     "output_type": "stream",
     "text": [
      "Warning. Fixed 1 boxes coordinates > 1. Check that your boxes was normalized at [0, 1]\n",
      "Warning. Fixed 1 boxes coordinates > 1. Check that your boxes was normalized at [0, 1]\n",
      "Warning. Fixed 1 boxes coordinates > 1. Check that your boxes was normalized at [0, 1]\n"
     ]
    },
    {
     "name": "stderr",
     "output_type": "stream",
     "text": [
      "  7%|▋         | 337/4871 [00:09<01:14, 60.90it/s]"
     ]
    },
    {
     "name": "stdout",
     "output_type": "stream",
     "text": [
      "Warning. Fixed 2 boxes coordinates > 1. Check that your boxes was normalized at [0, 1]\n",
      "Warning. Fixed 1 boxes coordinates > 1. Check that your boxes was normalized at [0, 1]\n",
      "Warning. Fixed 1 boxes coordinates > 1. Check that your boxes was normalized at [0, 1]\n"
     ]
    },
    {
     "name": "stderr",
     "output_type": "stream",
     "text": [
      "  7%|▋         | 351/4871 [00:09<01:13, 61.15it/s]"
     ]
    },
    {
     "name": "stdout",
     "output_type": "stream",
     "text": [
      "Warning. Fixed 2 boxes coordinates > 1. Check that your boxes was normalized at [0, 1]\n",
      "Warning. Fixed 1 boxes coordinates > 1. Check that your boxes was normalized at [0, 1]\n",
      "Warning. Fixed 3 boxes coordinates > 1. Check that your boxes was normalized at [0, 1]\n"
     ]
    },
    {
     "name": "stderr",
     "output_type": "stream",
     "text": [
      "  8%|▊         | 370/4871 [00:09<01:19, 56.39it/s]"
     ]
    },
    {
     "name": "stdout",
     "output_type": "stream",
     "text": [
      "Warning. Fixed 1 boxes coordinates > 1. Check that your boxes was normalized at [0, 1]\n",
      "Warning. Fixed 2 boxes coordinates > 1. Check that your boxes was normalized at [0, 1]\n",
      "Warning. Fixed 4 boxes coordinates > 1. Check that your boxes was normalized at [0, 1]\n",
      "Warning. Fixed 1 boxes coordinates > 1. Check that your boxes was normalized at [0, 1]\n",
      "Warning. Fixed 1 boxes coordinates > 1. Check that your boxes was normalized at [0, 1]\n"
     ]
    },
    {
     "name": "stderr",
     "output_type": "stream",
     "text": [
      "  8%|▊         | 388/4871 [00:10<01:19, 56.31it/s]"
     ]
    },
    {
     "name": "stdout",
     "output_type": "stream",
     "text": [
      "Warning. Fixed 3 boxes coordinates > 1. Check that your boxes was normalized at [0, 1]\n",
      "Warning. Fixed 1 boxes coordinates > 1. Check that your boxes was normalized at [0, 1]\n",
      "Warning. Fixed 5 boxes coordinates > 1. Check that your boxes was normalized at [0, 1]\n"
     ]
    },
    {
     "name": "stderr",
     "output_type": "stream",
     "text": [
      "  8%|▊         | 406/4871 [00:10<01:18, 57.19it/s]"
     ]
    },
    {
     "name": "stdout",
     "output_type": "stream",
     "text": [
      "Warning. Fixed 4 boxes coordinates > 1. Check that your boxes was normalized at [0, 1]\n",
      "Warning. Fixed 1 boxes coordinates > 1. Check that your boxes was normalized at [0, 1]\n"
     ]
    },
    {
     "name": "stderr",
     "output_type": "stream",
     "text": [
      "  9%|▊         | 419/4871 [00:10<01:17, 57.81it/s]"
     ]
    },
    {
     "name": "stdout",
     "output_type": "stream",
     "text": [
      "Warning. Fixed 1 boxes coordinates > 1. Check that your boxes was normalized at [0, 1]\n",
      "Warning. Fixed 1 boxes coordinates > 1. Check that your boxes was normalized at [0, 1]\n",
      "Warning. Fixed 1 boxes coordinates > 1. Check that your boxes was normalized at [0, 1]\n"
     ]
    },
    {
     "name": "stderr",
     "output_type": "stream",
     "text": [
      "  9%|▉         | 431/4871 [00:10<01:18, 56.91it/s]"
     ]
    },
    {
     "name": "stdout",
     "output_type": "stream",
     "text": [
      "Warning. Fixed 1 boxes coordinates > 1. Check that your boxes was normalized at [0, 1]\n",
      "Warning. Fixed 1 boxes coordinates > 1. Check that your boxes was normalized at [0, 1]\n"
     ]
    },
    {
     "name": "stderr",
     "output_type": "stream",
     "text": [
      "  9%|▉         | 450/4871 [00:11<01:16, 57.51it/s]"
     ]
    },
    {
     "name": "stdout",
     "output_type": "stream",
     "text": [
      "Warning. Fixed 1 boxes coordinates > 1. Check that your boxes was normalized at [0, 1]\n",
      "Warning. Fixed 2 boxes coordinates > 1. Check that your boxes was normalized at [0, 1]\n"
     ]
    },
    {
     "name": "stderr",
     "output_type": "stream",
     "text": [
      " 10%|█         | 488/4871 [00:11<01:12, 60.60it/s]"
     ]
    },
    {
     "name": "stdout",
     "output_type": "stream",
     "text": [
      "Warning. Fixed 1 boxes coordinates > 1. Check that your boxes was normalized at [0, 1]\n",
      "Warning. Fixed 1 boxes coordinates > 1. Check that your boxes was normalized at [0, 1]\n",
      "Warning. Fixed 2 boxes coordinates > 1. Check that your boxes was normalized at [0, 1]\n"
     ]
    },
    {
     "name": "stderr",
     "output_type": "stream",
     "text": [
      " 10%|█         | 508/4871 [00:12<01:17, 56.10it/s]"
     ]
    },
    {
     "name": "stdout",
     "output_type": "stream",
     "text": [
      "Warning. Fixed 1 boxes coordinates > 1. Check that your boxes was normalized at [0, 1]\n",
      "Warning. Fixed 5 boxes coordinates > 1. Check that your boxes was normalized at [0, 1]\n",
      "Warning. Fixed 2 boxes coordinates > 1. Check that your boxes was normalized at [0, 1]\n",
      "Warning. Fixed 6 boxes coordinates > 1. Check that your boxes was normalized at [0, 1]\n",
      "Warning. Fixed 6 boxes coordinates > 1. Check that your boxes was normalized at [0, 1]\n"
     ]
    },
    {
     "name": "stderr",
     "output_type": "stream",
     "text": [
      " 11%|█         | 522/4871 [00:12<01:13, 58.94it/s]"
     ]
    },
    {
     "name": "stdout",
     "output_type": "stream",
     "text": [
      "Warning. Fixed 2 boxes coordinates > 1. Check that your boxes was normalized at [0, 1]\n",
      "Warning. Fixed 3 boxes coordinates > 1. Check that your boxes was normalized at [0, 1]\n",
      "Warning. Fixed 1 boxes coordinates > 1. Check that your boxes was normalized at [0, 1]\n",
      "Warning. Fixed 1 boxes coordinates > 1. Check that your boxes was normalized at [0, 1]\n"
     ]
    },
    {
     "name": "stderr",
     "output_type": "stream",
     "text": [
      " 11%|█         | 535/4871 [00:12<01:17, 55.69it/s]"
     ]
    },
    {
     "name": "stdout",
     "output_type": "stream",
     "text": [
      "Warning. Fixed 2 boxes coordinates > 1. Check that your boxes was normalized at [0, 1]\n"
     ]
    },
    {
     "name": "stderr",
     "output_type": "stream",
     "text": [
      " 11%|█         | 547/4871 [00:12<01:16, 56.84it/s]"
     ]
    },
    {
     "name": "stdout",
     "output_type": "stream",
     "text": [
      "Warning. Fixed 1 boxes coordinates > 1. Check that your boxes was normalized at [0, 1]\n",
      "Warning. Fixed 2 boxes coordinates > 1. Check that your boxes was normalized at [0, 1]\n",
      "Warning. Fixed 2 boxes coordinates > 1. Check that your boxes was normalized at [0, 1]\n"
     ]
    },
    {
     "name": "stderr",
     "output_type": "stream",
     "text": [
      " 11%|█▏        | 560/4871 [00:13<01:13, 58.56it/s]"
     ]
    },
    {
     "name": "stdout",
     "output_type": "stream",
     "text": [
      "Warning. Fixed 2 boxes coordinates > 1. Check that your boxes was normalized at [0, 1]\n",
      "Warning. Fixed 2 boxes coordinates > 1. Check that your boxes was normalized at [0, 1]\n",
      "Warning. Fixed 1 boxes coordinates > 1. Check that your boxes was normalized at [0, 1]\n",
      "Warning. Fixed 1 boxes coordinates > 1. Check that your boxes was normalized at [0, 1]\n"
     ]
    },
    {
     "name": "stderr",
     "output_type": "stream",
     "text": [
      " 12%|█▏        | 573/4871 [00:13<01:13, 58.41it/s]"
     ]
    },
    {
     "name": "stdout",
     "output_type": "stream",
     "text": [
      "Warning. Fixed 2 boxes coordinates > 1. Check that your boxes was normalized at [0, 1]\n",
      "Warning. Fixed 2 boxes coordinates > 1. Check that your boxes was normalized at [0, 1]\n",
      "Warning. Fixed 1 boxes coordinates > 1. Check that your boxes was normalized at [0, 1]\n"
     ]
    },
    {
     "name": "stderr",
     "output_type": "stream",
     "text": [
      " 12%|█▏        | 594/4871 [00:13<01:09, 61.87it/s]"
     ]
    },
    {
     "name": "stdout",
     "output_type": "stream",
     "text": [
      "Warning. Fixed 2 boxes coordinates > 1. Check that your boxes was normalized at [0, 1]\n",
      "Warning. Fixed 2 boxes coordinates > 1. Check that your boxes was normalized at [0, 1]\n",
      "Warning. Fixed 2 boxes coordinates > 1. Check that your boxes was normalized at [0, 1]\n",
      "Warning. Fixed 1 boxes coordinates > 1. Check that your boxes was normalized at [0, 1]\n",
      "Warning. Fixed 4 boxes coordinates > 1. Check that your boxes was normalized at [0, 1]\n"
     ]
    },
    {
     "name": "stderr",
     "output_type": "stream",
     "text": [
      " 12%|█▏        | 608/4871 [00:13<01:10, 60.88it/s]"
     ]
    },
    {
     "name": "stdout",
     "output_type": "stream",
     "text": [
      "Warning. Fixed 2 boxes coordinates > 1. Check that your boxes was normalized at [0, 1]\n",
      "Warning. Fixed 4 boxes coordinates > 1. Check that your boxes was normalized at [0, 1]\n",
      "Warning. Fixed 1 boxes coordinates > 1. Check that your boxes was normalized at [0, 1]\n"
     ]
    },
    {
     "name": "stderr",
     "output_type": "stream",
     "text": [
      " 13%|█▎        | 621/4871 [00:14<01:13, 57.81it/s]"
     ]
    },
    {
     "name": "stdout",
     "output_type": "stream",
     "text": [
      "Warning. Fixed 1 boxes coordinates > 1. Check that your boxes was normalized at [0, 1]\n",
      "Warning. Fixed 4 boxes coordinates > 1. Check that your boxes was normalized at [0, 1]\n",
      "Warning. Fixed 1 boxes coordinates > 1. Check that your boxes was normalized at [0, 1]\n"
     ]
    },
    {
     "name": "stderr",
     "output_type": "stream",
     "text": [
      " 13%|█▎        | 635/4871 [00:14<01:11, 59.58it/s]"
     ]
    },
    {
     "name": "stdout",
     "output_type": "stream",
     "text": [
      "Warning. Fixed 4 boxes coordinates > 1. Check that your boxes was normalized at [0, 1]\n",
      "Warning. Fixed 1 boxes coordinates > 1. Check that your boxes was normalized at [0, 1]\n",
      "Warning. Fixed 2 boxes coordinates > 1. Check that your boxes was normalized at [0, 1]\n",
      "Warning. Fixed 4 boxes coordinates > 1. Check that your boxes was normalized at [0, 1]\n",
      "Warning. Fixed 2 boxes coordinates > 1. Check that your boxes was normalized at [0, 1]\n"
     ]
    },
    {
     "name": "stderr",
     "output_type": "stream",
     "text": [
      " 13%|█▎        | 653/4871 [00:14<01:16, 54.93it/s]"
     ]
    },
    {
     "name": "stdout",
     "output_type": "stream",
     "text": [
      "Warning. Fixed 3 boxes coordinates > 1. Check that your boxes was normalized at [0, 1]\n",
      "Warning. Fixed 1 boxes coordinates > 1. Check that your boxes was normalized at [0, 1]\n",
      "Warning. Fixed 1 boxes coordinates > 1. Check that your boxes was normalized at [0, 1]\n"
     ]
    },
    {
     "name": "stderr",
     "output_type": "stream",
     "text": [
      " 14%|█▎        | 666/4871 [00:14<01:13, 57.22it/s]"
     ]
    },
    {
     "name": "stdout",
     "output_type": "stream",
     "text": [
      "Warning. Fixed 3 boxes coordinates > 1. Check that your boxes was normalized at [0, 1]\n",
      "Warning. Fixed 6 boxes coordinates > 1. Check that your boxes was normalized at [0, 1]\n"
     ]
    },
    {
     "name": "stderr",
     "output_type": "stream",
     "text": [
      " 14%|█▍        | 679/4871 [00:15<01:10, 59.43it/s]"
     ]
    },
    {
     "name": "stdout",
     "output_type": "stream",
     "text": [
      "Warning. Fixed 1 boxes coordinates > 1. Check that your boxes was normalized at [0, 1]\n",
      "Warning. Fixed 2 boxes coordinates > 1. Check that your boxes was normalized at [0, 1]\n",
      "Warning. Fixed 1 boxes coordinates > 1. Check that your boxes was normalized at [0, 1]\n"
     ]
    },
    {
     "name": "stderr",
     "output_type": "stream",
     "text": [
      " 14%|█▍        | 700/4871 [00:15<01:09, 59.92it/s]"
     ]
    },
    {
     "name": "stdout",
     "output_type": "stream",
     "text": [
      "Warning. Fixed 1 boxes coordinates > 1. Check that your boxes was normalized at [0, 1]\n",
      "Warning. Fixed 3 boxes coordinates > 1. Check that your boxes was normalized at [0, 1]\n",
      "Warning. Fixed 2 boxes coordinates > 1. Check that your boxes was normalized at [0, 1]\n",
      "Warning. Fixed 5 boxes coordinates > 1. Check that your boxes was normalized at [0, 1]\n",
      "Warning. Fixed 3 boxes coordinates > 1. Check that your boxes was normalized at [0, 1]\n",
      "Warning. Fixed 1 boxes coordinates > 1. Check that your boxes was normalized at [0, 1]\n",
      "Warning. Fixed 1 boxes coordinates > 1. Check that your boxes was normalized at [0, 1]\n"
     ]
    },
    {
     "name": "stderr",
     "output_type": "stream",
     "text": [
      " 15%|█▍        | 714/4871 [00:15<01:10, 58.89it/s]"
     ]
    },
    {
     "name": "stdout",
     "output_type": "stream",
     "text": [
      "Warning. Fixed 4 boxes coordinates > 1. Check that your boxes was normalized at [0, 1]\n",
      "Warning. Fixed 1 boxes coordinates > 1. Check that your boxes was normalized at [0, 1]\n",
      "Warning. Fixed 1 boxes coordinates > 1. Check that your boxes was normalized at [0, 1]\n"
     ]
    },
    {
     "name": "stderr",
     "output_type": "stream",
     "text": [
      " 15%|█▍        | 727/4871 [00:15<01:09, 59.72it/s]"
     ]
    },
    {
     "name": "stdout",
     "output_type": "stream",
     "text": [
      "Warning. Fixed 2 boxes coordinates > 1. Check that your boxes was normalized at [0, 1]\n",
      "Warning. Fixed 3 boxes coordinates > 1. Check that your boxes was normalized at [0, 1]\n",
      "Warning. Fixed 2 boxes coordinates > 1. Check that your boxes was normalized at [0, 1]\n"
     ]
    },
    {
     "name": "stderr",
     "output_type": "stream",
     "text": [
      " 15%|█▌        | 746/4871 [00:16<01:09, 59.28it/s]"
     ]
    },
    {
     "name": "stdout",
     "output_type": "stream",
     "text": [
      "Warning. Fixed 2 boxes coordinates > 1. Check that your boxes was normalized at [0, 1]\n",
      "Warning. Fixed 3 boxes coordinates > 1. Check that your boxes was normalized at [0, 1]\n"
     ]
    },
    {
     "name": "stderr",
     "output_type": "stream",
     "text": [
      " 16%|█▌        | 758/4871 [00:16<01:11, 57.65it/s]"
     ]
    },
    {
     "name": "stdout",
     "output_type": "stream",
     "text": [
      "Warning. Fixed 5 boxes coordinates > 1. Check that your boxes was normalized at [0, 1]\n",
      "Warning. Fixed 2 boxes coordinates > 1. Check that your boxes was normalized at [0, 1]\n",
      "Warning. Fixed 2 boxes coordinates > 1. Check that your boxes was normalized at [0, 1]\n",
      "Warning. Fixed 2 boxes coordinates > 1. Check that your boxes was normalized at [0, 1]\n"
     ]
    },
    {
     "name": "stderr",
     "output_type": "stream",
     "text": [
      " 16%|█▌        | 777/4871 [00:16<01:14, 55.26it/s]"
     ]
    },
    {
     "name": "stdout",
     "output_type": "stream",
     "text": [
      "Warning. Fixed 2 boxes coordinates > 1. Check that your boxes was normalized at [0, 1]\n",
      "Warning. Fixed 5 boxes coordinates > 1. Check that your boxes was normalized at [0, 1]\n",
      "Warning. Fixed 3 boxes coordinates > 1. Check that your boxes was normalized at [0, 1]\n",
      "Warning. Fixed 3 boxes coordinates > 1. Check that your boxes was normalized at [0, 1]\n",
      "Warning. Fixed 3 boxes coordinates > 1. Check that your boxes was normalized at [0, 1]\n"
     ]
    },
    {
     "name": "stderr",
     "output_type": "stream",
     "text": [
      " 16%|█▌        | 789/4871 [00:16<01:13, 55.54it/s]"
     ]
    },
    {
     "name": "stdout",
     "output_type": "stream",
     "text": [
      "Warning. Fixed 2 boxes coordinates > 1. Check that your boxes was normalized at [0, 1]\n",
      "Warning. Fixed 1 boxes coordinates > 1. Check that your boxes was normalized at [0, 1]\n"
     ]
    },
    {
     "name": "stderr",
     "output_type": "stream",
     "text": [
      " 16%|█▋        | 801/4871 [00:17<01:12, 56.40it/s]"
     ]
    },
    {
     "name": "stdout",
     "output_type": "stream",
     "text": [
      "Warning. Fixed 2 boxes coordinates > 1. Check that your boxes was normalized at [0, 1]\n",
      "Warning. Fixed 1 boxes coordinates > 1. Check that your boxes was normalized at [0, 1]\n"
     ]
    },
    {
     "name": "stderr",
     "output_type": "stream",
     "text": [
      " 17%|█▋        | 813/4871 [00:17<01:11, 56.66it/s]"
     ]
    },
    {
     "name": "stdout",
     "output_type": "stream",
     "text": [
      "Warning. Fixed 3 boxes coordinates > 1. Check that your boxes was normalized at [0, 1]\n",
      "Warning. Fixed 2 boxes coordinates > 1. Check that your boxes was normalized at [0, 1]\n"
     ]
    },
    {
     "name": "stderr",
     "output_type": "stream",
     "text": [
      " 17%|█▋        | 831/4871 [00:17<01:14, 54.21it/s]"
     ]
    },
    {
     "name": "stdout",
     "output_type": "stream",
     "text": [
      "Warning. Fixed 2 boxes coordinates > 1. Check that your boxes was normalized at [0, 1]\n",
      "Warning. Fixed 6 boxes coordinates > 1. Check that your boxes was normalized at [0, 1]\n"
     ]
    },
    {
     "name": "stderr",
     "output_type": "stream",
     "text": [
      " 17%|█▋        | 850/4871 [00:18<01:08, 58.28it/s]"
     ]
    },
    {
     "name": "stdout",
     "output_type": "stream",
     "text": [
      "Warning. Fixed 1 boxes coordinates > 1. Check that your boxes was normalized at [0, 1]\n",
      "Warning. Fixed 3 boxes coordinates > 1. Check that your boxes was normalized at [0, 1]\n",
      "Warning. Fixed 2 boxes coordinates > 1. Check that your boxes was normalized at [0, 1]\n"
     ]
    },
    {
     "name": "stderr",
     "output_type": "stream",
     "text": [
      " 18%|█▊        | 864/4871 [00:18<01:05, 60.86it/s]"
     ]
    },
    {
     "name": "stdout",
     "output_type": "stream",
     "text": [
      "Warning. Fixed 3 boxes coordinates > 1. Check that your boxes was normalized at [0, 1]\n",
      "Warning. Fixed 1 boxes coordinates > 1. Check that your boxes was normalized at [0, 1]\n",
      "Warning. Fixed 3 boxes coordinates > 1. Check that your boxes was normalized at [0, 1]\n",
      "Warning. Fixed 1 boxes coordinates > 1. Check that your boxes was normalized at [0, 1]\n"
     ]
    },
    {
     "name": "stderr",
     "output_type": "stream",
     "text": [
      " 18%|█▊        | 877/4871 [00:18<01:09, 57.20it/s]"
     ]
    },
    {
     "name": "stdout",
     "output_type": "stream",
     "text": [
      "Warning. Fixed 1 boxes coordinates > 1. Check that your boxes was normalized at [0, 1]\n",
      "Warning. Fixed 5 boxes coordinates > 1. Check that your boxes was normalized at [0, 1]\n",
      "Warning. Fixed 1 boxes coordinates > 1. Check that your boxes was normalized at [0, 1]\n"
     ]
    },
    {
     "name": "stderr",
     "output_type": "stream",
     "text": [
      " 18%|█▊        | 896/4871 [00:18<01:09, 57.29it/s]"
     ]
    },
    {
     "name": "stdout",
     "output_type": "stream",
     "text": [
      "Warning. Fixed 3 boxes coordinates > 1. Check that your boxes was normalized at [0, 1]\n",
      "Warning. Fixed 2 boxes coordinates > 1. Check that your boxes was normalized at [0, 1]\n",
      "Warning. Fixed 1 boxes coordinates > 1. Check that your boxes was normalized at [0, 1]\n",
      "Warning. Fixed 3 boxes coordinates > 1. Check that your boxes was normalized at [0, 1]\n",
      "Warning. Fixed 1 boxes coordinates > 1. Check that your boxes was normalized at [0, 1]\n"
     ]
    },
    {
     "name": "stderr",
     "output_type": "stream",
     "text": [
      " 19%|█▊        | 908/4871 [00:19<01:09, 57.15it/s]"
     ]
    },
    {
     "name": "stdout",
     "output_type": "stream",
     "text": [
      "Warning. Fixed 1 boxes coordinates > 1. Check that your boxes was normalized at [0, 1]\n",
      "Warning. Fixed 1 boxes coordinates > 1. Check that your boxes was normalized at [0, 1]\n",
      "Warning. Fixed 3 boxes coordinates > 1. Check that your boxes was normalized at [0, 1]\n"
     ]
    },
    {
     "name": "stderr",
     "output_type": "stream",
     "text": [
      " 19%|█▉        | 921/4871 [00:19<01:08, 58.00it/s]"
     ]
    },
    {
     "name": "stdout",
     "output_type": "stream",
     "text": [
      "Warning. Fixed 2 boxes coordinates > 1. Check that your boxes was normalized at [0, 1]\n",
      "Warning. Fixed 1 boxes coordinates > 1. Check that your boxes was normalized at [0, 1]\n",
      "Warning. Fixed 2 boxes coordinates > 1. Check that your boxes was normalized at [0, 1]\n",
      "Warning. Fixed 2 boxes coordinates > 1. Check that your boxes was normalized at [0, 1]\n"
     ]
    },
    {
     "name": "stderr",
     "output_type": "stream",
     "text": [
      " 19%|█▉        | 949/4871 [00:19<01:06, 59.23it/s]"
     ]
    },
    {
     "name": "stdout",
     "output_type": "stream",
     "text": [
      "Warning. Fixed 1 boxes coordinates > 1. Check that your boxes was normalized at [0, 1]\n",
      "Warning. Fixed 5 boxes coordinates > 1. Check that your boxes was normalized at [0, 1]\n"
     ]
    },
    {
     "name": "stderr",
     "output_type": "stream",
     "text": [
      " 20%|█▉        | 955/4871 [00:19<01:06, 59.28it/s]"
     ]
    },
    {
     "name": "stdout",
     "output_type": "stream",
     "text": [
      "Warning. Fixed 2 boxes coordinates > 1. Check that your boxes was normalized at [0, 1]\n"
     ]
    },
    {
     "name": "stderr",
     "output_type": "stream",
     "text": [
      " 20%|█▉        | 968/4871 [00:20<01:16, 51.18it/s]"
     ]
    },
    {
     "name": "stdout",
     "output_type": "stream",
     "text": [
      "Warning. Fixed 2 boxes coordinates > 1. Check that your boxes was normalized at [0, 1]\n",
      "Warning. Fixed 1 boxes coordinates > 1. Check that your boxes was normalized at [0, 1]\n",
      "Warning. Fixed 1 boxes coordinates > 1. Check that your boxes was normalized at [0, 1]\n",
      "Warning. Fixed 6 boxes coordinates > 1. Check that your boxes was normalized at [0, 1]\n",
      "Warning. Fixed 2 boxes coordinates > 1. Check that your boxes was normalized at [0, 1]\n"
     ]
    },
    {
     "name": "stderr",
     "output_type": "stream",
     "text": [
      " 20%|██        | 993/4871 [00:20<01:14, 51.85it/s]"
     ]
    },
    {
     "name": "stdout",
     "output_type": "stream",
     "text": [
      "Warning. Fixed 3 boxes coordinates > 1. Check that your boxes was normalized at [0, 1]\n",
      "Warning. Fixed 2 boxes coordinates > 1. Check that your boxes was normalized at [0, 1]\n",
      "Warning. Fixed 1 boxes coordinates > 1. Check that your boxes was normalized at [0, 1]\n",
      "Warning. Fixed 2 boxes coordinates > 1. Check that your boxes was normalized at [0, 1]\n",
      "Warning. Fixed 1 boxes coordinates > 1. Check that your boxes was normalized at [0, 1]\n"
     ]
    },
    {
     "name": "stderr",
     "output_type": "stream",
     "text": [
      " 21%|██        | 1017/4871 [00:21<01:10, 54.75it/s]"
     ]
    },
    {
     "name": "stdout",
     "output_type": "stream",
     "text": [
      "Warning. Fixed 2 boxes coordinates > 1. Check that your boxes was normalized at [0, 1]\n",
      "Warning. Fixed 1 boxes coordinates > 1. Check that your boxes was normalized at [0, 1]\n",
      "Warning. Fixed 1 boxes coordinates > 1. Check that your boxes was normalized at [0, 1]\n"
     ]
    },
    {
     "name": "stderr",
     "output_type": "stream",
     "text": [
      " 21%|██▏       | 1037/4871 [00:21<01:05, 58.75it/s]"
     ]
    },
    {
     "name": "stdout",
     "output_type": "stream",
     "text": [
      "Warning. Fixed 1 boxes coordinates > 1. Check that your boxes was normalized at [0, 1]\n",
      "Warning. Fixed 2 boxes coordinates > 1. Check that your boxes was normalized at [0, 1]\n",
      "Warning. Fixed 2 boxes coordinates > 1. Check that your boxes was normalized at [0, 1]\n"
     ]
    },
    {
     "name": "stderr",
     "output_type": "stream",
     "text": [
      " 22%|██▏       | 1051/4871 [00:21<01:02, 60.88it/s]"
     ]
    },
    {
     "name": "stdout",
     "output_type": "stream",
     "text": [
      "Warning. Fixed 1 boxes coordinates > 1. Check that your boxes was normalized at [0, 1]\n",
      "Warning. Fixed 2 boxes coordinates > 1. Check that your boxes was normalized at [0, 1]\n"
     ]
    },
    {
     "name": "stderr",
     "output_type": "stream",
     "text": [
      " 22%|██▏       | 1065/4871 [00:21<01:02, 61.05it/s]"
     ]
    },
    {
     "name": "stdout",
     "output_type": "stream",
     "text": [
      "Warning. Fixed 3 boxes coordinates > 1. Check that your boxes was normalized at [0, 1]\n",
      "Warning. Fixed 2 boxes coordinates > 1. Check that your boxes was normalized at [0, 1]\n",
      "Warning. Fixed 2 boxes coordinates > 1. Check that your boxes was normalized at [0, 1]\n",
      "Warning. Fixed 3 boxes coordinates > 1. Check that your boxes was normalized at [0, 1]\n",
      "Warning. Fixed 6 boxes coordinates > 1. Check that your boxes was normalized at [0, 1]\n"
     ]
    },
    {
     "name": "stderr",
     "output_type": "stream",
     "text": [
      " 22%|██▏       | 1079/4871 [00:22<01:02, 60.62it/s]"
     ]
    },
    {
     "name": "stdout",
     "output_type": "stream",
     "text": [
      "Warning. Fixed 4 boxes coordinates > 1. Check that your boxes was normalized at [0, 1]\n",
      "Warning. Fixed 3 boxes coordinates > 1. Check that your boxes was normalized at [0, 1]\n",
      "Warning. Fixed 3 boxes coordinates > 1. Check that your boxes was normalized at [0, 1]\n"
     ]
    },
    {
     "name": "stderr",
     "output_type": "stream",
     "text": [
      " 23%|██▎       | 1098/4871 [00:22<01:05, 57.36it/s]"
     ]
    },
    {
     "name": "stdout",
     "output_type": "stream",
     "text": [
      "Warning. Fixed 8 boxes coordinates > 1. Check that your boxes was normalized at [0, 1]\n",
      "Warning. Fixed 2 boxes coordinates > 1. Check that your boxes was normalized at [0, 1]\n",
      "Warning. Fixed 1 boxes coordinates > 1. Check that your boxes was normalized at [0, 1]\n"
     ]
    },
    {
     "name": "stderr",
     "output_type": "stream",
     "text": [
      " 23%|██▎       | 1110/4871 [00:22<01:06, 56.59it/s]"
     ]
    },
    {
     "name": "stdout",
     "output_type": "stream",
     "text": [
      "Warning. Fixed 2 boxes coordinates > 1. Check that your boxes was normalized at [0, 1]\n",
      "Warning. Fixed 2 boxes coordinates > 1. Check that your boxes was normalized at [0, 1]\n",
      "Warning. Fixed 3 boxes coordinates > 1. Check that your boxes was normalized at [0, 1]\n",
      "Warning. Fixed 3 boxes coordinates > 1. Check that your boxes was normalized at [0, 1]\n",
      "Warning. Fixed 2 boxes coordinates > 1. Check that your boxes was normalized at [0, 1]\n"
     ]
    },
    {
     "name": "stderr",
     "output_type": "stream",
     "text": [
      " 23%|██▎       | 1135/4871 [00:23<01:06, 56.16it/s]"
     ]
    },
    {
     "name": "stdout",
     "output_type": "stream",
     "text": [
      "Warning. Fixed 1 boxes coordinates > 1. Check that your boxes was normalized at [0, 1]\n",
      "Warning. Fixed 3 boxes coordinates > 1. Check that your boxes was normalized at [0, 1]\n",
      "Warning. Fixed 1 boxes coordinates > 1. Check that your boxes was normalized at [0, 1]\n",
      "Warning. Fixed 2 boxes coordinates > 1. Check that your boxes was normalized at [0, 1]\n"
     ]
    },
    {
     "name": "stderr",
     "output_type": "stream",
     "text": [
      " 24%|██▎       | 1148/4871 [00:23<01:04, 57.89it/s]"
     ]
    },
    {
     "name": "stdout",
     "output_type": "stream",
     "text": [
      "Warning. Fixed 1 boxes coordinates > 1. Check that your boxes was normalized at [0, 1]\n",
      "Warning. Fixed 4 boxes coordinates > 1. Check that your boxes was normalized at [0, 1]\n",
      "Warning. Fixed 2 boxes coordinates > 1. Check that your boxes was normalized at [0, 1]\n",
      "Warning. Fixed 2 boxes coordinates > 1. Check that your boxes was normalized at [0, 1]\n"
     ]
    },
    {
     "name": "stderr",
     "output_type": "stream",
     "text": [
      " 24%|██▍       | 1162/4871 [00:23<01:00, 61.09it/s]"
     ]
    },
    {
     "name": "stdout",
     "output_type": "stream",
     "text": [
      "Warning. Fixed 1 boxes coordinates > 1. Check that your boxes was normalized at [0, 1]\n",
      "Warning. Fixed 3 boxes coordinates > 1. Check that your boxes was normalized at [0, 1]\n",
      "Warning. Fixed 4 boxes coordinates > 1. Check that your boxes was normalized at [0, 1]\n",
      "Warning. Fixed 2 boxes coordinates > 1. Check that your boxes was normalized at [0, 1]\n",
      "Warning. Fixed 2 boxes coordinates > 1. Check that your boxes was normalized at [0, 1]\n"
     ]
    },
    {
     "name": "stderr",
     "output_type": "stream",
     "text": [
      " 24%|██▍       | 1190/4871 [00:23<00:57, 63.97it/s]"
     ]
    },
    {
     "name": "stdout",
     "output_type": "stream",
     "text": [
      "Warning. Fixed 2 boxes coordinates > 1. Check that your boxes was normalized at [0, 1]\n",
      "Warning. Fixed 1 boxes coordinates > 1. Check that your boxes was normalized at [0, 1]\n",
      "Warning. Fixed 1 boxes coordinates > 1. Check that your boxes was normalized at [0, 1]\n",
      "Warning. Fixed 1 boxes coordinates > 1. Check that your boxes was normalized at [0, 1]\n"
     ]
    },
    {
     "name": "stderr",
     "output_type": "stream",
     "text": [
      " 25%|██▍       | 1204/4871 [00:24<00:58, 63.07it/s]"
     ]
    },
    {
     "name": "stdout",
     "output_type": "stream",
     "text": [
      "Warning. Fixed 6 boxes coordinates > 1. Check that your boxes was normalized at [0, 1]\n",
      "Warning. Fixed 3 boxes coordinates > 1. Check that your boxes was normalized at [0, 1]\n",
      "Warning. Fixed 2 boxes coordinates > 1. Check that your boxes was normalized at [0, 1]\n",
      "Warning. Fixed 1 boxes coordinates > 1. Check that your boxes was normalized at [0, 1]\n"
     ]
    },
    {
     "name": "stderr",
     "output_type": "stream",
     "text": [
      " 25%|██▌       | 1218/4871 [00:24<01:03, 57.63it/s]"
     ]
    },
    {
     "name": "stdout",
     "output_type": "stream",
     "text": [
      "Warning. Fixed 6 boxes coordinates > 1. Check that your boxes was normalized at [0, 1]\n",
      "Warning. Fixed 2 boxes coordinates > 1. Check that your boxes was normalized at [0, 1]\n",
      "Warning. Fixed 1 boxes coordinates > 1. Check that your boxes was normalized at [0, 1]\n",
      "Warning. Fixed 2 boxes coordinates > 1. Check that your boxes was normalized at [0, 1]\n",
      "Warning. Fixed 2 boxes coordinates > 1. Check that your boxes was normalized at [0, 1]\n",
      "Warning. Fixed 2 boxes coordinates > 1. Check that your boxes was normalized at [0, 1]\n"
     ]
    },
    {
     "name": "stderr",
     "output_type": "stream",
     "text": [
      " 25%|██▌       | 1239/4871 [00:24<00:59, 60.93it/s]"
     ]
    },
    {
     "name": "stdout",
     "output_type": "stream",
     "text": [
      "Warning. Fixed 1 boxes coordinates > 1. Check that your boxes was normalized at [0, 1]\n",
      "Warning. Fixed 2 boxes coordinates > 1. Check that your boxes was normalized at [0, 1]\n",
      "Warning. Fixed 1 boxes coordinates > 1. Check that your boxes was normalized at [0, 1]\n",
      "Warning. Fixed 1 boxes coordinates > 1. Check that your boxes was normalized at [0, 1]\n"
     ]
    },
    {
     "name": "stderr",
     "output_type": "stream",
     "text": [
      " 26%|██▌       | 1253/4871 [00:24<01:00, 59.68it/s]"
     ]
    },
    {
     "name": "stdout",
     "output_type": "stream",
     "text": [
      "Warning. Fixed 5 boxes coordinates > 1. Check that your boxes was normalized at [0, 1]\n",
      "Warning. Fixed 3 boxes coordinates > 1. Check that your boxes was normalized at [0, 1]\n"
     ]
    },
    {
     "name": "stderr",
     "output_type": "stream",
     "text": [
      " 26%|██▌       | 1267/4871 [00:25<00:59, 60.68it/s]"
     ]
    },
    {
     "name": "stdout",
     "output_type": "stream",
     "text": [
      "Warning. Fixed 3 boxes coordinates > 1. Check that your boxes was normalized at [0, 1]\n"
     ]
    },
    {
     "name": "stderr",
     "output_type": "stream",
     "text": [
      " 26%|██▋       | 1280/4871 [00:25<01:01, 58.58it/s]"
     ]
    },
    {
     "name": "stdout",
     "output_type": "stream",
     "text": [
      "Warning. Fixed 6 boxes coordinates > 1. Check that your boxes was normalized at [0, 1]\n",
      "Warning. Fixed 1 boxes coordinates > 1. Check that your boxes was normalized at [0, 1]\n",
      "Warning. Fixed 3 boxes coordinates > 1. Check that your boxes was normalized at [0, 1]\n",
      "Warning. Fixed 2 boxes coordinates > 1. Check that your boxes was normalized at [0, 1]\n"
     ]
    },
    {
     "name": "stderr",
     "output_type": "stream",
     "text": [
      " 27%|██▋       | 1307/4871 [00:25<01:00, 59.22it/s]"
     ]
    },
    {
     "name": "stdout",
     "output_type": "stream",
     "text": [
      "Warning. Fixed 3 boxes coordinates > 1. Check that your boxes was normalized at [0, 1]\n",
      "Warning. Fixed 4 boxes coordinates > 1. Check that your boxes was normalized at [0, 1]\n",
      "Warning. Fixed 3 boxes coordinates > 1. Check that your boxes was normalized at [0, 1]\n",
      "Warning. Fixed 2 boxes coordinates > 1. Check that your boxes was normalized at [0, 1]\n"
     ]
    },
    {
     "name": "stderr",
     "output_type": "stream",
     "text": [
      " 27%|██▋       | 1320/4871 [00:26<01:00, 59.12it/s]"
     ]
    },
    {
     "name": "stdout",
     "output_type": "stream",
     "text": [
      "Warning. Fixed 1 boxes coordinates > 1. Check that your boxes was normalized at [0, 1]\n",
      "Warning. Fixed 2 boxes coordinates > 1. Check that your boxes was normalized at [0, 1]\n",
      "Warning. Fixed 2 boxes coordinates > 1. Check that your boxes was normalized at [0, 1]\n"
     ]
    },
    {
     "name": "stderr",
     "output_type": "stream",
     "text": [
      " 28%|██▊       | 1340/4871 [00:26<00:58, 59.87it/s]"
     ]
    },
    {
     "name": "stdout",
     "output_type": "stream",
     "text": [
      "Warning. Fixed 2 boxes coordinates > 1. Check that your boxes was normalized at [0, 1]\n",
      "Warning. Fixed 2 boxes coordinates > 1. Check that your boxes was normalized at [0, 1]\n"
     ]
    },
    {
     "name": "stderr",
     "output_type": "stream",
     "text": [
      " 28%|██▊       | 1352/4871 [00:26<01:02, 56.04it/s]"
     ]
    },
    {
     "name": "stdout",
     "output_type": "stream",
     "text": [
      "Warning. Fixed 2 boxes coordinates > 1. Check that your boxes was normalized at [0, 1]\n",
      "Warning. Fixed 2 boxes coordinates > 1. Check that your boxes was normalized at [0, 1]\n"
     ]
    },
    {
     "name": "stderr",
     "output_type": "stream",
     "text": [
      " 28%|██▊       | 1364/4871 [00:26<01:02, 55.99it/s]"
     ]
    },
    {
     "name": "stdout",
     "output_type": "stream",
     "text": [
      "Warning. Fixed 2 boxes coordinates > 1. Check that your boxes was normalized at [0, 1]\n",
      "Warning. Fixed 1 boxes coordinates > 1. Check that your boxes was normalized at [0, 1]\n"
     ]
    },
    {
     "name": "stderr",
     "output_type": "stream",
     "text": [
      " 28%|██▊       | 1384/4871 [00:27<01:00, 58.01it/s]"
     ]
    },
    {
     "name": "stdout",
     "output_type": "stream",
     "text": [
      "Warning. Fixed 1 boxes coordinates > 1. Check that your boxes was normalized at [0, 1]\n",
      "Warning. Fixed 1 boxes coordinates > 1. Check that your boxes was normalized at [0, 1]\n",
      "Warning. Fixed 1 boxes coordinates > 1. Check that your boxes was normalized at [0, 1]\n",
      "Warning. Fixed 4 boxes coordinates > 1. Check that your boxes was normalized at [0, 1]\n"
     ]
    },
    {
     "name": "stderr",
     "output_type": "stream",
     "text": [
      " 29%|██▊       | 1396/4871 [00:27<01:00, 57.29it/s]"
     ]
    },
    {
     "name": "stdout",
     "output_type": "stream",
     "text": [
      "Warning. Fixed 3 boxes coordinates > 1. Check that your boxes was normalized at [0, 1]\n",
      "Warning. Fixed 2 boxes coordinates > 1. Check that your boxes was normalized at [0, 1]\n",
      "Warning. Fixed 1 boxes coordinates > 1. Check that your boxes was normalized at [0, 1]\n"
     ]
    },
    {
     "name": "stderr",
     "output_type": "stream",
     "text": [
      " 29%|██▉       | 1416/4871 [00:27<00:56, 61.15it/s]"
     ]
    },
    {
     "name": "stdout",
     "output_type": "stream",
     "text": [
      "Warning. Fixed 3 boxes coordinates > 1. Check that your boxes was normalized at [0, 1]\n",
      "Warning. Fixed 2 boxes coordinates > 1. Check that your boxes was normalized at [0, 1]\n"
     ]
    },
    {
     "name": "stderr",
     "output_type": "stream",
     "text": [
      " 29%|██▉       | 1430/4871 [00:27<00:57, 59.99it/s]"
     ]
    },
    {
     "name": "stdout",
     "output_type": "stream",
     "text": [
      "Warning. Fixed 7 boxes coordinates > 1. Check that your boxes was normalized at [0, 1]\n",
      "Warning. Fixed 1 boxes coordinates > 1. Check that your boxes was normalized at [0, 1]\n",
      "Warning. Fixed 1 boxes coordinates > 1. Check that your boxes was normalized at [0, 1]\n"
     ]
    },
    {
     "name": "stderr",
     "output_type": "stream",
     "text": [
      " 30%|██▉       | 1450/4871 [00:28<00:57, 59.41it/s]"
     ]
    },
    {
     "name": "stdout",
     "output_type": "stream",
     "text": [
      "Warning. Fixed 4 boxes coordinates > 1. Check that your boxes was normalized at [0, 1]\n",
      "Warning. Fixed 1 boxes coordinates > 1. Check that your boxes was normalized at [0, 1]\n",
      "Warning. Fixed 2 boxes coordinates > 1. Check that your boxes was normalized at [0, 1]\n",
      "Warning. Fixed 1 boxes coordinates > 1. Check that your boxes was normalized at [0, 1]\n"
     ]
    },
    {
     "name": "stderr",
     "output_type": "stream",
     "text": [
      " 30%|███       | 1463/4871 [00:28<00:57, 59.41it/s]"
     ]
    },
    {
     "name": "stdout",
     "output_type": "stream",
     "text": [
      "Warning. Fixed 1 boxes coordinates > 1. Check that your boxes was normalized at [0, 1]\n",
      "Warning. Fixed 1 boxes coordinates > 1. Check that your boxes was normalized at [0, 1]\n",
      "Warning. Fixed 3 boxes coordinates > 1. Check that your boxes was normalized at [0, 1]\n",
      "Warning. Fixed 7 boxes coordinates > 1. Check that your boxes was normalized at [0, 1]\n",
      "Warning. Fixed 2 boxes coordinates > 1. Check that your boxes was normalized at [0, 1]\n",
      "Warning. Fixed 2 boxes coordinates > 1. Check that your boxes was normalized at [0, 1]\n"
     ]
    },
    {
     "name": "stderr",
     "output_type": "stream",
     "text": [
      " 30%|███       | 1476/4871 [00:28<00:57, 59.19it/s]"
     ]
    },
    {
     "name": "stdout",
     "output_type": "stream",
     "text": [
      "Warning. Fixed 1 boxes coordinates > 1. Check that your boxes was normalized at [0, 1]\n",
      "Warning. Fixed 1 boxes coordinates > 1. Check that your boxes was normalized at [0, 1]\n",
      "Warning. Fixed 1 boxes coordinates > 1. Check that your boxes was normalized at [0, 1]\n",
      "Warning. Fixed 4 boxes coordinates > 1. Check that your boxes was normalized at [0, 1]\n"
     ]
    },
    {
     "name": "stderr",
     "output_type": "stream",
     "text": [
      " 31%|███       | 1489/4871 [00:28<00:57, 58.93it/s]"
     ]
    },
    {
     "name": "stdout",
     "output_type": "stream",
     "text": [
      "Warning. Fixed 1 boxes coordinates > 1. Check that your boxes was normalized at [0, 1]\n",
      "Warning. Fixed 1 boxes coordinates > 1. Check that your boxes was normalized at [0, 1]\n"
     ]
    },
    {
     "name": "stderr",
     "output_type": "stream",
     "text": [
      " 31%|███       | 1503/4871 [00:29<00:55, 61.13it/s]"
     ]
    },
    {
     "name": "stdout",
     "output_type": "stream",
     "text": [
      "Warning. Fixed 1 boxes coordinates > 1. Check that your boxes was normalized at [0, 1]\n",
      "Warning. Fixed 1 boxes coordinates > 1. Check that your boxes was normalized at [0, 1]\n",
      "Warning. Fixed 2 boxes coordinates > 1. Check that your boxes was normalized at [0, 1]\n",
      "Warning. Fixed 2 boxes coordinates > 1. Check that your boxes was normalized at [0, 1]\n",
      "Warning. Fixed 1 boxes coordinates > 1. Check that your boxes was normalized at [0, 1]\n",
      "Warning. Fixed 2 boxes coordinates > 1. Check that your boxes was normalized at [0, 1]\n",
      "Warning. Fixed 1 boxes coordinates > 1. Check that your boxes was normalized at [0, 1]\n",
      "Warning. Fixed 1 boxes coordinates > 1. Check that your boxes was normalized at [0, 1]\n",
      "Warning. Fixed 2 boxes coordinates > 1. Check that your boxes was normalized at [0, 1]\n"
     ]
    },
    {
     "name": "stderr",
     "output_type": "stream",
     "text": [
      " 31%|███▏      | 1524/4871 [00:29<00:56, 59.59it/s]"
     ]
    },
    {
     "name": "stdout",
     "output_type": "stream",
     "text": [
      "Warning. Fixed 1 boxes coordinates > 1. Check that your boxes was normalized at [0, 1]\n",
      "Warning. Fixed 3 boxes coordinates > 1. Check that your boxes was normalized at [0, 1]\n"
     ]
    },
    {
     "name": "stderr",
     "output_type": "stream",
     "text": [
      " 32%|███▏      | 1544/4871 [00:29<00:56, 58.95it/s]"
     ]
    },
    {
     "name": "stdout",
     "output_type": "stream",
     "text": [
      "Warning. Fixed 6 boxes coordinates > 1. Check that your boxes was normalized at [0, 1]\n",
      "Warning. Fixed 1 boxes coordinates > 1. Check that your boxes was normalized at [0, 1]\n",
      "Warning. Fixed 1 boxes coordinates > 1. Check that your boxes was normalized at [0, 1]\n",
      "Warning. Fixed 1 boxes coordinates > 1. Check that your boxes was normalized at [0, 1]\n"
     ]
    },
    {
     "name": "stderr",
     "output_type": "stream",
     "text": [
      " 32%|███▏      | 1565/4871 [00:30<00:55, 59.28it/s]"
     ]
    },
    {
     "name": "stdout",
     "output_type": "stream",
     "text": [
      "Warning. Fixed 2 boxes coordinates > 1. Check that your boxes was normalized at [0, 1]\n",
      "Warning. Fixed 1 boxes coordinates > 1. Check that your boxes was normalized at [0, 1]\n"
     ]
    },
    {
     "name": "stderr",
     "output_type": "stream",
     "text": [
      " 32%|███▏      | 1579/4871 [00:30<00:55, 59.53it/s]"
     ]
    },
    {
     "name": "stdout",
     "output_type": "stream",
     "text": [
      "Warning. Fixed 4 boxes coordinates > 1. Check that your boxes was normalized at [0, 1]\n",
      "Warning. Fixed 2 boxes coordinates > 1. Check that your boxes was normalized at [0, 1]\n",
      "Warning. Fixed 3 boxes coordinates > 1. Check that your boxes was normalized at [0, 1]\n",
      "Warning. Fixed 1 boxes coordinates > 1. Check that your boxes was normalized at [0, 1]\n",
      "Warning. Fixed 1 boxes coordinates > 1. Check that your boxes was normalized at [0, 1]\n",
      "Warning. Fixed 3 boxes coordinates > 1. Check that your boxes was normalized at [0, 1]\n"
     ]
    },
    {
     "name": "stderr",
     "output_type": "stream",
     "text": [
      " 33%|███▎      | 1597/4871 [00:30<00:56, 57.80it/s]"
     ]
    },
    {
     "name": "stdout",
     "output_type": "stream",
     "text": [
      "Warning. Fixed 2 boxes coordinates > 1. Check that your boxes was normalized at [0, 1]\n",
      "Warning. Fixed 2 boxes coordinates > 1. Check that your boxes was normalized at [0, 1]\n",
      "Warning. Fixed 6 boxes coordinates > 1. Check that your boxes was normalized at [0, 1]\n"
     ]
    },
    {
     "name": "stderr",
     "output_type": "stream",
     "text": [
      " 33%|███▎      | 1616/4871 [00:31<00:56, 58.10it/s]"
     ]
    },
    {
     "name": "stdout",
     "output_type": "stream",
     "text": [
      "Warning. Fixed 2 boxes coordinates > 1. Check that your boxes was normalized at [0, 1]\n",
      "Warning. Fixed 1 boxes coordinates > 1. Check that your boxes was normalized at [0, 1]\n",
      "Warning. Fixed 1 boxes coordinates > 1. Check that your boxes was normalized at [0, 1]\n",
      "Warning. Fixed 1 boxes coordinates > 1. Check that your boxes was normalized at [0, 1]\n"
     ]
    },
    {
     "name": "stderr",
     "output_type": "stream",
     "text": [
      " 33%|███▎      | 1629/4871 [00:31<00:54, 59.76it/s]"
     ]
    },
    {
     "name": "stdout",
     "output_type": "stream",
     "text": [
      "Warning. Fixed 1 boxes coordinates > 1. Check that your boxes was normalized at [0, 1]\n",
      "Warning. Fixed 1 boxes coordinates > 1. Check that your boxes was normalized at [0, 1]\n",
      "Warning. Fixed 4 boxes coordinates > 1. Check that your boxes was normalized at [0, 1]\n"
     ]
    },
    {
     "name": "stderr",
     "output_type": "stream",
     "text": [
      " 34%|███▎      | 1643/4871 [00:31<00:54, 59.78it/s]"
     ]
    },
    {
     "name": "stdout",
     "output_type": "stream",
     "text": [
      "Warning. Fixed 1 boxes coordinates > 1. Check that your boxes was normalized at [0, 1]\n",
      "Warning. Fixed 1 boxes coordinates > 1. Check that your boxes was normalized at [0, 1]\n",
      "Warning. Fixed 1 boxes coordinates > 1. Check that your boxes was normalized at [0, 1]\n"
     ]
    },
    {
     "name": "stderr",
     "output_type": "stream",
     "text": [
      " 34%|███▍      | 1657/4871 [00:31<01:06, 48.45it/s]"
     ]
    },
    {
     "name": "stdout",
     "output_type": "stream",
     "text": [
      "Warning. Fixed 1 boxes coordinates > 1. Check that your boxes was normalized at [0, 1]\n",
      "Warning. Fixed 7 boxes coordinates > 1. Check that your boxes was normalized at [0, 1]\n"
     ]
    },
    {
     "name": "stderr",
     "output_type": "stream",
     "text": [
      " 34%|███▍      | 1670/4871 [00:32<01:00, 52.72it/s]"
     ]
    },
    {
     "name": "stdout",
     "output_type": "stream",
     "text": [
      "Warning. Fixed 1 boxes coordinates > 1. Check that your boxes was normalized at [0, 1]\n",
      "Warning. Fixed 2 boxes coordinates > 1. Check that your boxes was normalized at [0, 1]\n",
      "Warning. Fixed 5 boxes coordinates > 1. Check that your boxes was normalized at [0, 1]\n"
     ]
    },
    {
     "name": "stderr",
     "output_type": "stream",
     "text": [
      " 35%|███▍      | 1682/4871 [00:32<00:59, 53.46it/s]"
     ]
    },
    {
     "name": "stdout",
     "output_type": "stream",
     "text": [
      "Warning. Fixed 4 boxes coordinates > 1. Check that your boxes was normalized at [0, 1]\n",
      "Warning. Fixed 2 boxes coordinates > 1. Check that your boxes was normalized at [0, 1]\n",
      "Warning. Fixed 2 boxes coordinates > 1. Check that your boxes was normalized at [0, 1]\n"
     ]
    },
    {
     "name": "stderr",
     "output_type": "stream",
     "text": [
      " 35%|███▍      | 1696/4871 [00:32<00:55, 57.39it/s]"
     ]
    },
    {
     "name": "stdout",
     "output_type": "stream",
     "text": [
      "Warning. Fixed 1 boxes coordinates > 1. Check that your boxes was normalized at [0, 1]\n",
      "Warning. Fixed 2 boxes coordinates > 1. Check that your boxes was normalized at [0, 1]\n",
      "Warning. Fixed 1 boxes coordinates > 1. Check that your boxes was normalized at [0, 1]\n"
     ]
    },
    {
     "name": "stderr",
     "output_type": "stream",
     "text": [
      " 35%|███▌      | 1709/4871 [00:32<00:54, 57.88it/s]"
     ]
    },
    {
     "name": "stdout",
     "output_type": "stream",
     "text": [
      "Warning. Fixed 4 boxes coordinates > 1. Check that your boxes was normalized at [0, 1]\n",
      "Warning. Fixed 1 boxes coordinates > 1. Check that your boxes was normalized at [0, 1]\n",
      "Warning. Fixed 1 boxes coordinates > 1. Check that your boxes was normalized at [0, 1]\n"
     ]
    },
    {
     "name": "stderr",
     "output_type": "stream",
     "text": [
      " 35%|███▌      | 1721/4871 [00:32<00:57, 54.85it/s]"
     ]
    },
    {
     "name": "stdout",
     "output_type": "stream",
     "text": [
      "Warning. Fixed 1 boxes coordinates > 1. Check that your boxes was normalized at [0, 1]\n",
      "Warning. Fixed 2 boxes coordinates > 1. Check that your boxes was normalized at [0, 1]\n",
      "Warning. Fixed 3 boxes coordinates > 1. Check that your boxes was normalized at [0, 1]\n"
     ]
    },
    {
     "name": "stderr",
     "output_type": "stream",
     "text": [
      " 36%|███▌      | 1734/4871 [00:33<00:57, 54.85it/s]"
     ]
    },
    {
     "name": "stdout",
     "output_type": "stream",
     "text": [
      "Warning. Fixed 1 boxes coordinates > 1. Check that your boxes was normalized at [0, 1]\n",
      "Warning. Fixed 1 boxes coordinates > 1. Check that your boxes was normalized at [0, 1]\n",
      "Warning. Fixed 2 boxes coordinates > 1. Check that your boxes was normalized at [0, 1]\n",
      "Warning. Fixed 4 boxes coordinates > 1. Check that your boxes was normalized at [0, 1]\n"
     ]
    },
    {
     "name": "stderr",
     "output_type": "stream",
     "text": [
      " 36%|███▌      | 1747/4871 [00:33<00:56, 55.63it/s]"
     ]
    },
    {
     "name": "stdout",
     "output_type": "stream",
     "text": [
      "Warning. Fixed 1 boxes coordinates > 1. Check that your boxes was normalized at [0, 1]\n",
      "Warning. Fixed 1 boxes coordinates > 1. Check that your boxes was normalized at [0, 1]\n",
      "Warning. Fixed 2 boxes coordinates > 1. Check that your boxes was normalized at [0, 1]\n"
     ]
    },
    {
     "name": "stderr",
     "output_type": "stream",
     "text": [
      " 36%|███▋      | 1768/4871 [00:33<00:51, 59.95it/s]"
     ]
    },
    {
     "name": "stdout",
     "output_type": "stream",
     "text": [
      "Warning. Fixed 1 boxes coordinates > 1. Check that your boxes was normalized at [0, 1]\n",
      "Warning. Fixed 4 boxes coordinates > 1. Check that your boxes was normalized at [0, 1]\n",
      "Warning. Fixed 2 boxes coordinates > 1. Check that your boxes was normalized at [0, 1]\n",
      "Warning. Fixed 2 boxes coordinates > 1. Check that your boxes was normalized at [0, 1]\n"
     ]
    },
    {
     "name": "stderr",
     "output_type": "stream",
     "text": [
      " 37%|███▋      | 1782/4871 [00:34<00:51, 59.62it/s]"
     ]
    },
    {
     "name": "stdout",
     "output_type": "stream",
     "text": [
      "Warning. Fixed 1 boxes coordinates > 1. Check that your boxes was normalized at [0, 1]\n",
      "Warning. Fixed 1 boxes coordinates > 1. Check that your boxes was normalized at [0, 1]\n",
      "Warning. Fixed 1 boxes coordinates > 1. Check that your boxes was normalized at [0, 1]\n"
     ]
    },
    {
     "name": "stderr",
     "output_type": "stream",
     "text": [
      " 37%|███▋      | 1794/4871 [00:34<00:54, 56.81it/s]"
     ]
    },
    {
     "name": "stdout",
     "output_type": "stream",
     "text": [
      "Warning. Fixed 3 boxes coordinates > 1. Check that your boxes was normalized at [0, 1]\n",
      "Warning. Fixed 1 boxes coordinates > 1. Check that your boxes was normalized at [0, 1]\n",
      "Warning. Fixed 3 boxes coordinates > 1. Check that your boxes was normalized at [0, 1]\n",
      "Warning. Fixed 1 boxes coordinates > 1. Check that your boxes was normalized at [0, 1]\n"
     ]
    },
    {
     "name": "stderr",
     "output_type": "stream",
     "text": [
      " 37%|███▋      | 1813/4871 [00:34<00:53, 57.00it/s]"
     ]
    },
    {
     "name": "stdout",
     "output_type": "stream",
     "text": [
      "Warning. Fixed 1 boxes coordinates > 1. Check that your boxes was normalized at [0, 1]\n",
      "Warning. Fixed 3 boxes coordinates > 1. Check that your boxes was normalized at [0, 1]\n"
     ]
    },
    {
     "name": "stderr",
     "output_type": "stream",
     "text": [
      " 37%|███▋      | 1825/4871 [00:34<00:56, 54.30it/s]"
     ]
    },
    {
     "name": "stdout",
     "output_type": "stream",
     "text": [
      "Warning. Fixed 3 boxes coordinates > 1. Check that your boxes was normalized at [0, 1]\n",
      "Warning. Fixed 2 boxes coordinates > 1. Check that your boxes was normalized at [0, 1]\n",
      "Warning. Fixed 4 boxes coordinates > 1. Check that your boxes was normalized at [0, 1]\n"
     ]
    },
    {
     "name": "stderr",
     "output_type": "stream",
     "text": [
      " 38%|███▊      | 1837/4871 [00:35<00:56, 53.64it/s]"
     ]
    },
    {
     "name": "stdout",
     "output_type": "stream",
     "text": [
      "Warning. Fixed 3 boxes coordinates > 1. Check that your boxes was normalized at [0, 1]\n",
      "Warning. Fixed 4 boxes coordinates > 1. Check that your boxes was normalized at [0, 1]\n"
     ]
    },
    {
     "name": "stderr",
     "output_type": "stream",
     "text": [
      " 38%|███▊      | 1849/4871 [00:35<00:56, 53.07it/s]"
     ]
    },
    {
     "name": "stdout",
     "output_type": "stream",
     "text": [
      "Warning. Fixed 1 boxes coordinates > 1. Check that your boxes was normalized at [0, 1]\n",
      "Warning. Fixed 1 boxes coordinates > 1. Check that your boxes was normalized at [0, 1]\n",
      "Warning. Fixed 2 boxes coordinates > 1. Check that your boxes was normalized at [0, 1]\n",
      "Warning. Fixed 4 boxes coordinates > 1. Check that your boxes was normalized at [0, 1]\n",
      "Warning. Fixed 7 boxes coordinates > 1. Check that your boxes was normalized at [0, 1]\n"
     ]
    },
    {
     "name": "stderr",
     "output_type": "stream",
     "text": [
      " 38%|███▊      | 1863/4871 [00:35<00:51, 58.25it/s]"
     ]
    },
    {
     "name": "stdout",
     "output_type": "stream",
     "text": [
      "Warning. Fixed 1 boxes coordinates > 1. Check that your boxes was normalized at [0, 1]\n",
      "Warning. Fixed 2 boxes coordinates > 1. Check that your boxes was normalized at [0, 1]\n"
     ]
    },
    {
     "name": "stderr",
     "output_type": "stream",
     "text": [
      " 39%|███▊      | 1882/4871 [00:35<00:49, 60.03it/s]"
     ]
    },
    {
     "name": "stdout",
     "output_type": "stream",
     "text": [
      "Warning. Fixed 2 boxes coordinates > 1. Check that your boxes was normalized at [0, 1]\n",
      "Warning. Fixed 4 boxes coordinates > 1. Check that your boxes was normalized at [0, 1]\n",
      "Warning. Fixed 2 boxes coordinates > 1. Check that your boxes was normalized at [0, 1]\n",
      "Warning. Fixed 3 boxes coordinates > 1. Check that your boxes was normalized at [0, 1]\n"
     ]
    },
    {
     "name": "stderr",
     "output_type": "stream",
     "text": [
      " 39%|███▉      | 1902/4871 [00:36<00:52, 56.80it/s]"
     ]
    },
    {
     "name": "stdout",
     "output_type": "stream",
     "text": [
      "Warning. Fixed 2 boxes coordinates > 1. Check that your boxes was normalized at [0, 1]\n",
      "Warning. Fixed 1 boxes coordinates > 1. Check that your boxes was normalized at [0, 1]\n",
      "Warning. Fixed 2 boxes coordinates > 1. Check that your boxes was normalized at [0, 1]\n",
      "Warning. Fixed 3 boxes coordinates > 1. Check that your boxes was normalized at [0, 1]\n"
     ]
    },
    {
     "name": "stderr",
     "output_type": "stream",
     "text": [
      " 39%|███▉      | 1916/4871 [00:36<00:49, 59.38it/s]"
     ]
    },
    {
     "name": "stdout",
     "output_type": "stream",
     "text": [
      "Warning. Fixed 1 boxes coordinates > 1. Check that your boxes was normalized at [0, 1]\n",
      "Warning. Fixed 1 boxes coordinates > 1. Check that your boxes was normalized at [0, 1]\n"
     ]
    },
    {
     "name": "stderr",
     "output_type": "stream",
     "text": [
      " 40%|███▉      | 1930/4871 [00:36<00:47, 61.34it/s]"
     ]
    },
    {
     "name": "stdout",
     "output_type": "stream",
     "text": [
      "Warning. Fixed 1 boxes coordinates > 1. Check that your boxes was normalized at [0, 1]\n",
      "Warning. Fixed 1 boxes coordinates > 1. Check that your boxes was normalized at [0, 1]\n",
      "Warning. Fixed 1 boxes coordinates > 1. Check that your boxes was normalized at [0, 1]\n"
     ]
    },
    {
     "name": "stderr",
     "output_type": "stream",
     "text": [
      " 40%|███▉      | 1943/4871 [00:36<00:49, 59.61it/s]"
     ]
    },
    {
     "name": "stdout",
     "output_type": "stream",
     "text": [
      "Warning. Fixed 3 boxes coordinates > 1. Check that your boxes was normalized at [0, 1]\n",
      "Warning. Fixed 2 boxes coordinates > 1. Check that your boxes was normalized at [0, 1]\n",
      "Warning. Fixed 1 boxes coordinates > 1. Check that your boxes was normalized at [0, 1]\n",
      "Warning. Fixed 2 boxes coordinates > 1. Check that your boxes was normalized at [0, 1]\n",
      "Warning. Fixed 1 boxes coordinates > 1. Check that your boxes was normalized at [0, 1]\n"
     ]
    },
    {
     "name": "stderr",
     "output_type": "stream",
     "text": [
      " 40%|████      | 1963/4871 [00:37<00:49, 58.38it/s]"
     ]
    },
    {
     "name": "stdout",
     "output_type": "stream",
     "text": [
      "Warning. Fixed 3 boxes coordinates > 1. Check that your boxes was normalized at [0, 1]\n",
      "Warning. Fixed 1 boxes coordinates > 1. Check that your boxes was normalized at [0, 1]\n",
      "Warning. Fixed 2 boxes coordinates > 1. Check that your boxes was normalized at [0, 1]\n"
     ]
    },
    {
     "name": "stderr",
     "output_type": "stream",
     "text": [
      " 41%|████      | 1983/4871 [00:37<00:47, 61.02it/s]"
     ]
    },
    {
     "name": "stdout",
     "output_type": "stream",
     "text": [
      "Warning. Fixed 1 boxes coordinates > 1. Check that your boxes was normalized at [0, 1]\n"
     ]
    },
    {
     "name": "stderr",
     "output_type": "stream",
     "text": [
      " 41%|████      | 1997/4871 [00:37<00:45, 62.61it/s]"
     ]
    },
    {
     "name": "stdout",
     "output_type": "stream",
     "text": [
      "Warning. Fixed 2 boxes coordinates > 1. Check that your boxes was normalized at [0, 1]\n",
      "Warning. Fixed 2 boxes coordinates > 1. Check that your boxes was normalized at [0, 1]\n",
      "Warning. Fixed 2 boxes coordinates > 1. Check that your boxes was normalized at [0, 1]\n"
     ]
    },
    {
     "name": "stderr",
     "output_type": "stream",
     "text": [
      " 41%|████▏     | 2011/4871 [00:37<00:45, 63.52it/s]"
     ]
    },
    {
     "name": "stdout",
     "output_type": "stream",
     "text": [
      "Warning. Fixed 6 boxes coordinates > 1. Check that your boxes was normalized at [0, 1]\n",
      "Warning. Fixed 1 boxes coordinates > 1. Check that your boxes was normalized at [0, 1]\n"
     ]
    },
    {
     "name": "stderr",
     "output_type": "stream",
     "text": [
      " 42%|████▏     | 2030/4871 [00:38<00:49, 57.69it/s]"
     ]
    },
    {
     "name": "stdout",
     "output_type": "stream",
     "text": [
      "Warning. Fixed 4 boxes coordinates > 1. Check that your boxes was normalized at [0, 1]\n",
      "Warning. Fixed 2 boxes coordinates > 1. Check that your boxes was normalized at [0, 1]\n"
     ]
    },
    {
     "name": "stderr",
     "output_type": "stream",
     "text": [
      " 42%|████▏     | 2049/4871 [00:38<00:48, 58.71it/s]"
     ]
    },
    {
     "name": "stdout",
     "output_type": "stream",
     "text": [
      "Warning. Fixed 2 boxes coordinates > 1. Check that your boxes was normalized at [0, 1]\n",
      "Warning. Fixed 3 boxes coordinates > 1. Check that your boxes was normalized at [0, 1]\n",
      "Warning. Fixed 1 boxes coordinates > 1. Check that your boxes was normalized at [0, 1]\n",
      "Warning. Fixed 1 boxes coordinates > 1. Check that your boxes was normalized at [0, 1]\n"
     ]
    },
    {
     "name": "stderr",
     "output_type": "stream",
     "text": [
      " 42%|████▏     | 2067/4871 [00:38<00:50, 55.99it/s]"
     ]
    },
    {
     "name": "stdout",
     "output_type": "stream",
     "text": [
      "Warning. Fixed 4 boxes coordinates > 1. Check that your boxes was normalized at [0, 1]\n",
      "Warning. Fixed 1 boxes coordinates > 1. Check that your boxes was normalized at [0, 1]\n",
      "Warning. Fixed 5 boxes coordinates > 1. Check that your boxes was normalized at [0, 1]\n",
      "Warning. Fixed 2 boxes coordinates > 1. Check that your boxes was normalized at [0, 1]\n"
     ]
    },
    {
     "name": "stderr",
     "output_type": "stream",
     "text": [
      " 43%|████▎     | 2086/4871 [00:39<00:47, 58.88it/s]"
     ]
    },
    {
     "name": "stdout",
     "output_type": "stream",
     "text": [
      "Warning. Fixed 2 boxes coordinates > 1. Check that your boxes was normalized at [0, 1]\n",
      "Warning. Fixed 2 boxes coordinates > 1. Check that your boxes was normalized at [0, 1]\n"
     ]
    },
    {
     "name": "stderr",
     "output_type": "stream",
     "text": [
      " 43%|████▎     | 2099/4871 [00:39<00:46, 59.34it/s]"
     ]
    },
    {
     "name": "stdout",
     "output_type": "stream",
     "text": [
      "Warning. Fixed 1 boxes coordinates > 1. Check that your boxes was normalized at [0, 1]\n",
      "Warning. Fixed 1 boxes coordinates > 1. Check that your boxes was normalized at [0, 1]\n"
     ]
    },
    {
     "name": "stderr",
     "output_type": "stream",
     "text": [
      " 43%|████▎     | 2112/4871 [00:39<00:47, 57.83it/s]"
     ]
    },
    {
     "name": "stdout",
     "output_type": "stream",
     "text": [
      "Warning. Fixed 2 boxes coordinates > 1. Check that your boxes was normalized at [0, 1]\n",
      "Warning. Fixed 1 boxes coordinates > 1. Check that your boxes was normalized at [0, 1]\n",
      "Warning. Fixed 1 boxes coordinates > 1. Check that your boxes was normalized at [0, 1]\n",
      "Warning. Fixed 3 boxes coordinates > 1. Check that your boxes was normalized at [0, 1]\n"
     ]
    },
    {
     "name": "stderr",
     "output_type": "stream",
     "text": [
      " 44%|████▎     | 2131/4871 [00:40<00:46, 59.29it/s]"
     ]
    },
    {
     "name": "stdout",
     "output_type": "stream",
     "text": [
      "Warning. Fixed 2 boxes coordinates > 1. Check that your boxes was normalized at [0, 1]\n",
      "Warning. Fixed 3 boxes coordinates > 1. Check that your boxes was normalized at [0, 1]\n",
      "Warning. Fixed 2 boxes coordinates > 1. Check that your boxes was normalized at [0, 1]\n"
     ]
    },
    {
     "name": "stderr",
     "output_type": "stream",
     "text": [
      " 44%|████▍     | 2145/4871 [00:40<00:44, 60.70it/s]"
     ]
    },
    {
     "name": "stdout",
     "output_type": "stream",
     "text": [
      "Warning. Fixed 1 boxes coordinates > 1. Check that your boxes was normalized at [0, 1]\n",
      "Warning. Fixed 1 boxes coordinates > 1. Check that your boxes was normalized at [0, 1]\n",
      "Warning. Fixed 3 boxes coordinates > 1. Check that your boxes was normalized at [0, 1]\n"
     ]
    },
    {
     "name": "stderr",
     "output_type": "stream",
     "text": [
      " 44%|████▍     | 2158/4871 [00:40<00:48, 55.57it/s]"
     ]
    },
    {
     "name": "stdout",
     "output_type": "stream",
     "text": [
      "Warning. Fixed 1 boxes coordinates > 1. Check that your boxes was normalized at [0, 1]\n",
      "Warning. Fixed 3 boxes coordinates > 1. Check that your boxes was normalized at [0, 1]\n"
     ]
    },
    {
     "name": "stderr",
     "output_type": "stream",
     "text": [
      " 45%|████▍     | 2171/4871 [00:40<00:47, 56.97it/s]"
     ]
    },
    {
     "name": "stdout",
     "output_type": "stream",
     "text": [
      "Warning. Fixed 1 boxes coordinates > 1. Check that your boxes was normalized at [0, 1]\n",
      "Warning. Fixed 1 boxes coordinates > 1. Check that your boxes was normalized at [0, 1]\n",
      "Warning. Fixed 3 boxes coordinates > 1. Check that your boxes was normalized at [0, 1]\n"
     ]
    },
    {
     "name": "stderr",
     "output_type": "stream",
     "text": [
      " 45%|████▍     | 2189/4871 [00:41<00:47, 56.50it/s]"
     ]
    },
    {
     "name": "stdout",
     "output_type": "stream",
     "text": [
      "Warning. Fixed 5 boxes coordinates > 1. Check that your boxes was normalized at [0, 1]\n",
      "Warning. Fixed 2 boxes coordinates > 1. Check that your boxes was normalized at [0, 1]\n"
     ]
    },
    {
     "name": "stderr",
     "output_type": "stream",
     "text": [
      " 45%|████▌     | 2209/4871 [00:41<00:45, 58.83it/s]"
     ]
    },
    {
     "name": "stdout",
     "output_type": "stream",
     "text": [
      "Warning. Fixed 4 boxes coordinates > 1. Check that your boxes was normalized at [0, 1]\n",
      "Warning. Fixed 1 boxes coordinates > 1. Check that your boxes was normalized at [0, 1]\n"
     ]
    },
    {
     "name": "stderr",
     "output_type": "stream",
     "text": [
      " 46%|████▌     | 2221/4871 [00:41<00:47, 56.25it/s]"
     ]
    },
    {
     "name": "stdout",
     "output_type": "stream",
     "text": [
      "Warning. Fixed 1 boxes coordinates > 1. Check that your boxes was normalized at [0, 1]\n",
      "Warning. Fixed 4 boxes coordinates > 1. Check that your boxes was normalized at [0, 1]\n",
      "Warning. Fixed 1 boxes coordinates > 1. Check that your boxes was normalized at [0, 1]\n",
      "Warning. Fixed 3 boxes coordinates > 1. Check that your boxes was normalized at [0, 1]\n",
      "Warning. Fixed 1 boxes coordinates > 1. Check that your boxes was normalized at [0, 1]\n",
      "Warning. Fixed 5 boxes coordinates > 1. Check that your boxes was normalized at [0, 1]\n"
     ]
    },
    {
     "name": "stderr",
     "output_type": "stream",
     "text": [
      " 46%|████▌     | 2234/4871 [00:41<00:45, 58.01it/s]"
     ]
    },
    {
     "name": "stdout",
     "output_type": "stream",
     "text": [
      "Warning. Fixed 2 boxes coordinates > 1. Check that your boxes was normalized at [0, 1]\n",
      "Warning. Fixed 3 boxes coordinates > 1. Check that your boxes was normalized at [0, 1]\n"
     ]
    },
    {
     "name": "stderr",
     "output_type": "stream",
     "text": [
      " 46%|████▌     | 2252/4871 [00:42<00:45, 56.98it/s]"
     ]
    },
    {
     "name": "stdout",
     "output_type": "stream",
     "text": [
      "Warning. Fixed 1 boxes coordinates > 1. Check that your boxes was normalized at [0, 1]\n",
      "Warning. Fixed 1 boxes coordinates > 1. Check that your boxes was normalized at [0, 1]\n",
      "Warning. Fixed 4 boxes coordinates > 1. Check that your boxes was normalized at [0, 1]\n"
     ]
    },
    {
     "name": "stderr",
     "output_type": "stream",
     "text": [
      " 47%|████▋     | 2271/4871 [00:42<00:45, 56.72it/s]"
     ]
    },
    {
     "name": "stdout",
     "output_type": "stream",
     "text": [
      "Warning. Fixed 4 boxes coordinates > 1. Check that your boxes was normalized at [0, 1]\n",
      "Warning. Fixed 1 boxes coordinates > 1. Check that your boxes was normalized at [0, 1]\n",
      "Warning. Fixed 5 boxes coordinates > 1. Check that your boxes was normalized at [0, 1]\n",
      "Warning. Fixed 1 boxes coordinates > 1. Check that your boxes was normalized at [0, 1]\n"
     ]
    },
    {
     "name": "stderr",
     "output_type": "stream",
     "text": [
      " 47%|████▋     | 2284/4871 [00:42<00:43, 59.13it/s]"
     ]
    },
    {
     "name": "stdout",
     "output_type": "stream",
     "text": [
      "Warning. Fixed 7 boxes coordinates > 1. Check that your boxes was normalized at [0, 1]\n",
      "Warning. Fixed 1 boxes coordinates > 1. Check that your boxes was normalized at [0, 1]\n",
      "Warning. Fixed 2 boxes coordinates > 1. Check that your boxes was normalized at [0, 1]\n",
      "Warning. Fixed 2 boxes coordinates > 1. Check that your boxes was normalized at [0, 1]\n"
     ]
    },
    {
     "name": "stderr",
     "output_type": "stream",
     "text": [
      " 47%|████▋     | 2302/4871 [00:43<00:44, 57.13it/s]"
     ]
    },
    {
     "name": "stdout",
     "output_type": "stream",
     "text": [
      "Warning. Fixed 2 boxes coordinates > 1. Check that your boxes was normalized at [0, 1]\n",
      "Warning. Fixed 7 boxes coordinates > 1. Check that your boxes was normalized at [0, 1]\n",
      "Warning. Fixed 6 boxes coordinates > 1. Check that your boxes was normalized at [0, 1]\n"
     ]
    },
    {
     "name": "stderr",
     "output_type": "stream",
     "text": [
      " 48%|████▊     | 2315/4871 [00:43<00:43, 58.64it/s]"
     ]
    },
    {
     "name": "stdout",
     "output_type": "stream",
     "text": [
      "Warning. Fixed 2 boxes coordinates > 1. Check that your boxes was normalized at [0, 1]\n",
      "Warning. Fixed 3 boxes coordinates > 1. Check that your boxes was normalized at [0, 1]\n",
      "Warning. Fixed 5 boxes coordinates > 1. Check that your boxes was normalized at [0, 1]\n",
      "Warning. Fixed 8 boxes coordinates > 1. Check that your boxes was normalized at [0, 1]\n"
     ]
    },
    {
     "name": "stderr",
     "output_type": "stream",
     "text": [
      " 48%|████▊     | 2333/4871 [00:43<00:43, 57.77it/s]"
     ]
    },
    {
     "name": "stdout",
     "output_type": "stream",
     "text": [
      "Warning. Fixed 1 boxes coordinates > 1. Check that your boxes was normalized at [0, 1]\n"
     ]
    },
    {
     "name": "stderr",
     "output_type": "stream",
     "text": [
      " 48%|████▊     | 2346/4871 [00:43<00:42, 59.34it/s]"
     ]
    },
    {
     "name": "stdout",
     "output_type": "stream",
     "text": [
      "Warning. Fixed 2 boxes coordinates > 1. Check that your boxes was normalized at [0, 1]\n",
      "Warning. Fixed 2 boxes coordinates > 1. Check that your boxes was normalized at [0, 1]\n",
      "Warning. Fixed 3 boxes coordinates > 1. Check that your boxes was normalized at [0, 1]\n"
     ]
    },
    {
     "name": "stderr",
     "output_type": "stream",
     "text": [
      " 49%|████▊     | 2364/4871 [00:44<00:49, 50.17it/s]"
     ]
    },
    {
     "name": "stdout",
     "output_type": "stream",
     "text": [
      "Warning. Fixed 7 boxes coordinates > 1. Check that your boxes was normalized at [0, 1]\n",
      "Warning. Fixed 1 boxes coordinates > 1. Check that your boxes was normalized at [0, 1]\n",
      "Warning. Fixed 2 boxes coordinates > 1. Check that your boxes was normalized at [0, 1]\n"
     ]
    },
    {
     "name": "stderr",
     "output_type": "stream",
     "text": [
      " 49%|████▉     | 2376/4871 [00:44<00:48, 51.55it/s]"
     ]
    },
    {
     "name": "stdout",
     "output_type": "stream",
     "text": [
      "Warning. Fixed 1 boxes coordinates > 1. Check that your boxes was normalized at [0, 1]\n",
      "Warning. Fixed 2 boxes coordinates > 1. Check that your boxes was normalized at [0, 1]\n",
      "Warning. Fixed 1 boxes coordinates > 1. Check that your boxes was normalized at [0, 1]\n"
     ]
    },
    {
     "name": "stderr",
     "output_type": "stream",
     "text": [
      " 49%|████▉     | 2383/4871 [00:44<00:46, 54.06it/s]"
     ]
    },
    {
     "name": "stdout",
     "output_type": "stream",
     "text": [
      "Warning. Fixed 1 boxes coordinates > 1. Check that your boxes was normalized at [0, 1]\n",
      "Warning. Fixed 2 boxes coordinates > 1. Check that your boxes was normalized at [0, 1]\n",
      "Warning. Fixed 2 boxes coordinates > 1. Check that your boxes was normalized at [0, 1]\n",
      "Warning. Fixed 3 boxes coordinates > 1. Check that your boxes was normalized at [0, 1]\n",
      "Warning. Fixed 1 boxes coordinates > 1. Check that your boxes was normalized at [0, 1]\n"
     ]
    },
    {
     "name": "stderr",
     "output_type": "stream",
     "text": [
      " 49%|████▉     | 2396/4871 [00:44<00:44, 55.65it/s]"
     ]
    },
    {
     "name": "stdout",
     "output_type": "stream",
     "text": [
      "Warning. Fixed 3 boxes coordinates > 1. Check that your boxes was normalized at [0, 1]\n",
      "Warning. Fixed 3 boxes coordinates > 1. Check that your boxes was normalized at [0, 1]\n"
     ]
    },
    {
     "name": "stderr",
     "output_type": "stream",
     "text": [
      " 49%|████▉     | 2409/4871 [00:44<00:42, 57.37it/s]"
     ]
    },
    {
     "name": "stdout",
     "output_type": "stream",
     "text": [
      "Warning. Fixed 2 boxes coordinates > 1. Check that your boxes was normalized at [0, 1]\n",
      "Warning. Fixed 3 boxes coordinates > 1. Check that your boxes was normalized at [0, 1]\n",
      "Warning. Fixed 2 boxes coordinates > 1. Check that your boxes was normalized at [0, 1]\n",
      "Warning. Fixed 2 boxes coordinates > 1. Check that your boxes was normalized at [0, 1]\n"
     ]
    },
    {
     "name": "stderr",
     "output_type": "stream",
     "text": [
      " 50%|████▉     | 2422/4871 [00:45<00:42, 57.93it/s]"
     ]
    },
    {
     "name": "stdout",
     "output_type": "stream",
     "text": [
      "Warning. Fixed 1 boxes coordinates > 1. Check that your boxes was normalized at [0, 1]\n",
      "Warning. Fixed 1 boxes coordinates > 1. Check that your boxes was normalized at [0, 1]\n",
      "Warning. Fixed 2 boxes coordinates > 1. Check that your boxes was normalized at [0, 1]\n",
      "Warning. Fixed 3 boxes coordinates > 1. Check that your boxes was normalized at [0, 1]\n"
     ]
    },
    {
     "name": "stderr",
     "output_type": "stream",
     "text": [
      " 50%|█████     | 2441/4871 [00:45<00:41, 58.63it/s]"
     ]
    },
    {
     "name": "stdout",
     "output_type": "stream",
     "text": [
      "Warning. Fixed 1 boxes coordinates > 1. Check that your boxes was normalized at [0, 1]\n",
      "Warning. Fixed 7 boxes coordinates > 1. Check that your boxes was normalized at [0, 1]\n",
      "Warning. Fixed 2 boxes coordinates > 1. Check that your boxes was normalized at [0, 1]\n",
      "Warning. Fixed 1 boxes coordinates > 1. Check that your boxes was normalized at [0, 1]\n",
      "Warning. Fixed 1 boxes coordinates > 1. Check that your boxes was normalized at [0, 1]\n"
     ]
    },
    {
     "name": "stderr",
     "output_type": "stream",
     "text": [
      " 50%|█████     | 2447/4871 [00:45<00:42, 56.64it/s]"
     ]
    },
    {
     "name": "stdout",
     "output_type": "stream",
     "text": [
      "Warning. Fixed 3 boxes coordinates > 1. Check that your boxes was normalized at [0, 1]\n",
      "Warning. Fixed 1 boxes coordinates > 1. Check that your boxes was normalized at [0, 1]\n",
      "Warning. Fixed 2 boxes coordinates > 1. Check that your boxes was normalized at [0, 1]\n",
      "Warning. Fixed 3 boxes coordinates > 1. Check that your boxes was normalized at [0, 1]\n",
      "Warning. Fixed 2 boxes coordinates > 1. Check that your boxes was normalized at [0, 1]\n",
      "Warning. Fixed 3 boxes coordinates > 1. Check that your boxes was normalized at [0, 1]\n"
     ]
    },
    {
     "name": "stderr",
     "output_type": "stream",
     "text": [
      " 51%|█████     | 2466/4871 [00:45<00:41, 58.01it/s]"
     ]
    },
    {
     "name": "stdout",
     "output_type": "stream",
     "text": [
      "Warning. Fixed 2 boxes coordinates > 1. Check that your boxes was normalized at [0, 1]\n"
     ]
    },
    {
     "name": "stderr",
     "output_type": "stream",
     "text": [
      " 51%|█████     | 2485/4871 [00:46<00:41, 57.27it/s]"
     ]
    },
    {
     "name": "stdout",
     "output_type": "stream",
     "text": [
      "Warning. Fixed 1 boxes coordinates > 1. Check that your boxes was normalized at [0, 1]\n",
      "Warning. Fixed 1 boxes coordinates > 1. Check that your boxes was normalized at [0, 1]\n"
     ]
    },
    {
     "name": "stderr",
     "output_type": "stream",
     "text": [
      " 51%|█████▏    | 2503/4871 [00:46<00:42, 56.10it/s]"
     ]
    },
    {
     "name": "stdout",
     "output_type": "stream",
     "text": [
      "Warning. Fixed 2 boxes coordinates > 1. Check that your boxes was normalized at [0, 1]\n",
      "Warning. Fixed 1 boxes coordinates > 1. Check that your boxes was normalized at [0, 1]\n"
     ]
    },
    {
     "name": "stderr",
     "output_type": "stream",
     "text": [
      " 52%|█████▏    | 2523/4871 [00:46<00:40, 57.38it/s]"
     ]
    },
    {
     "name": "stdout",
     "output_type": "stream",
     "text": [
      "Warning. Fixed 2 boxes coordinates > 1. Check that your boxes was normalized at [0, 1]\n",
      "Warning. Fixed 1 boxes coordinates > 1. Check that your boxes was normalized at [0, 1]\n",
      "Warning. Fixed 1 boxes coordinates > 1. Check that your boxes was normalized at [0, 1]\n",
      "Warning. Fixed 1 boxes coordinates > 1. Check that your boxes was normalized at [0, 1]\n"
     ]
    },
    {
     "name": "stderr",
     "output_type": "stream",
     "text": [
      " 52%|█████▏    | 2542/4871 [00:47<00:40, 57.04it/s]"
     ]
    },
    {
     "name": "stdout",
     "output_type": "stream",
     "text": [
      "Warning. Fixed 1 boxes coordinates > 1. Check that your boxes was normalized at [0, 1]\n",
      "Warning. Fixed 1 boxes coordinates > 1. Check that your boxes was normalized at [0, 1]\n"
     ]
    },
    {
     "name": "stderr",
     "output_type": "stream",
     "text": [
      " 52%|█████▏    | 2554/4871 [00:47<00:42, 54.55it/s]"
     ]
    },
    {
     "name": "stdout",
     "output_type": "stream",
     "text": [
      "Warning. Fixed 2 boxes coordinates > 1. Check that your boxes was normalized at [0, 1]\n"
     ]
    },
    {
     "name": "stderr",
     "output_type": "stream",
     "text": [
      " 53%|█████▎    | 2567/4871 [00:47<00:40, 56.68it/s]"
     ]
    },
    {
     "name": "stdout",
     "output_type": "stream",
     "text": [
      "Warning. Fixed 6 boxes coordinates > 1. Check that your boxes was normalized at [0, 1]\n",
      "Warning. Fixed 1 boxes coordinates > 1. Check that your boxes was normalized at [0, 1]\n",
      "Warning. Fixed 2 boxes coordinates > 1. Check that your boxes was normalized at [0, 1]\n",
      "Warning. Fixed 1 boxes coordinates > 1. Check that your boxes was normalized at [0, 1]\n"
     ]
    },
    {
     "name": "stderr",
     "output_type": "stream",
     "text": [
      " 53%|█████▎    | 2585/4871 [00:48<00:39, 57.19it/s]"
     ]
    },
    {
     "name": "stdout",
     "output_type": "stream",
     "text": [
      "Warning. Fixed 4 boxes coordinates > 1. Check that your boxes was normalized at [0, 1]\n",
      "Warning. Fixed 3 boxes coordinates > 1. Check that your boxes was normalized at [0, 1]\n",
      "Warning. Fixed 2 boxes coordinates > 1. Check that your boxes was normalized at [0, 1]\n"
     ]
    },
    {
     "name": "stderr",
     "output_type": "stream",
     "text": [
      " 53%|█████▎    | 2604/4871 [00:48<00:38, 58.96it/s]"
     ]
    },
    {
     "name": "stdout",
     "output_type": "stream",
     "text": [
      "Warning. Fixed 3 boxes coordinates > 1. Check that your boxes was normalized at [0, 1]\n",
      "Warning. Fixed 1 boxes coordinates > 1. Check that your boxes was normalized at [0, 1]\n",
      "Warning. Fixed 1 boxes coordinates > 1. Check that your boxes was normalized at [0, 1]\n",
      "Warning. Fixed 3 boxes coordinates > 1. Check that your boxes was normalized at [0, 1]\n"
     ]
    },
    {
     "name": "stderr",
     "output_type": "stream",
     "text": [
      " 54%|█████▎    | 2618/4871 [00:48<00:37, 59.74it/s]"
     ]
    },
    {
     "name": "stdout",
     "output_type": "stream",
     "text": [
      "Warning. Fixed 2 boxes coordinates > 1. Check that your boxes was normalized at [0, 1]\n",
      "Warning. Fixed 2 boxes coordinates > 1. Check that your boxes was normalized at [0, 1]\n",
      "Warning. Fixed 3 boxes coordinates > 1. Check that your boxes was normalized at [0, 1]\n"
     ]
    },
    {
     "name": "stderr",
     "output_type": "stream",
     "text": [
      " 54%|█████▍    | 2631/4871 [00:48<00:40, 55.41it/s]"
     ]
    },
    {
     "name": "stdout",
     "output_type": "stream",
     "text": [
      "Warning. Fixed 3 boxes coordinates > 1. Check that your boxes was normalized at [0, 1]\n",
      "Warning. Fixed 1 boxes coordinates > 1. Check that your boxes was normalized at [0, 1]\n"
     ]
    },
    {
     "name": "stderr",
     "output_type": "stream",
     "text": [
      " 54%|█████▍    | 2650/4871 [00:49<00:38, 58.05it/s]"
     ]
    },
    {
     "name": "stdout",
     "output_type": "stream",
     "text": [
      "Warning. Fixed 3 boxes coordinates > 1. Check that your boxes was normalized at [0, 1]\n",
      "Warning. Fixed 3 boxes coordinates > 1. Check that your boxes was normalized at [0, 1]\n",
      "Warning. Fixed 3 boxes coordinates > 1. Check that your boxes was normalized at [0, 1]\n"
     ]
    },
    {
     "name": "stderr",
     "output_type": "stream",
     "text": [
      " 55%|█████▍    | 2662/4871 [00:49<00:38, 57.22it/s]"
     ]
    },
    {
     "name": "stdout",
     "output_type": "stream",
     "text": [
      "Warning. Fixed 3 boxes coordinates > 1. Check that your boxes was normalized at [0, 1]\n",
      "Warning. Fixed 1 boxes coordinates > 1. Check that your boxes was normalized at [0, 1]\n",
      "Warning. Fixed 5 boxes coordinates > 1. Check that your boxes was normalized at [0, 1]\n",
      "Warning. Fixed 1 boxes coordinates > 1. Check that your boxes was normalized at [0, 1]\n",
      "Warning. Fixed 1 boxes coordinates > 1. Check that your boxes was normalized at [0, 1]\n"
     ]
    },
    {
     "name": "stderr",
     "output_type": "stream",
     "text": [
      " 55%|█████▌    | 2683/4871 [00:49<00:36, 60.52it/s]"
     ]
    },
    {
     "name": "stdout",
     "output_type": "stream",
     "text": [
      "Warning. Fixed 1 boxes coordinates > 1. Check that your boxes was normalized at [0, 1]\n",
      "Warning. Fixed 4 boxes coordinates > 1. Check that your boxes was normalized at [0, 1]\n",
      "Warning. Fixed 1 boxes coordinates > 1. Check that your boxes was normalized at [0, 1]\n",
      "Warning. Fixed 3 boxes coordinates > 1. Check that your boxes was normalized at [0, 1]\n"
     ]
    },
    {
     "name": "stderr",
     "output_type": "stream",
     "text": [
      " 55%|█████▌    | 2690/4871 [00:49<00:36, 59.90it/s]"
     ]
    },
    {
     "name": "stdout",
     "output_type": "stream",
     "text": [
      "Warning. Fixed 1 boxes coordinates > 1. Check that your boxes was normalized at [0, 1]\n",
      "Warning. Fixed 1 boxes coordinates > 1. Check that your boxes was normalized at [0, 1]\n",
      "Warning. Fixed 5 boxes coordinates > 1. Check that your boxes was normalized at [0, 1]\n",
      "Warning. Fixed 2 boxes coordinates > 1. Check that your boxes was normalized at [0, 1]\n"
     ]
    },
    {
     "name": "stderr",
     "output_type": "stream",
     "text": [
      " 56%|█████▌    | 2709/4871 [00:50<00:36, 59.28it/s]"
     ]
    },
    {
     "name": "stdout",
     "output_type": "stream",
     "text": [
      "Warning. Fixed 1 boxes coordinates > 1. Check that your boxes was normalized at [0, 1]\n",
      "Warning. Fixed 2 boxes coordinates > 1. Check that your boxes was normalized at [0, 1]\n",
      "Warning. Fixed 1 boxes coordinates > 1. Check that your boxes was normalized at [0, 1]\n"
     ]
    },
    {
     "name": "stderr",
     "output_type": "stream",
     "text": [
      " 56%|█████▌    | 2721/4871 [00:50<00:36, 58.50it/s]"
     ]
    },
    {
     "name": "stdout",
     "output_type": "stream",
     "text": [
      "Warning. Fixed 3 boxes coordinates > 1. Check that your boxes was normalized at [0, 1]\n"
     ]
    },
    {
     "name": "stderr",
     "output_type": "stream",
     "text": [
      " 56%|█████▋    | 2746/4871 [00:50<00:38, 55.06it/s]"
     ]
    },
    {
     "name": "stdout",
     "output_type": "stream",
     "text": [
      "Warning. Fixed 1 boxes coordinates > 1. Check that your boxes was normalized at [0, 1]\n",
      "Warning. Fixed 2 boxes coordinates > 1. Check that your boxes was normalized at [0, 1]\n",
      "Warning. Fixed 1 boxes coordinates > 1. Check that your boxes was normalized at [0, 1]\n",
      "Warning. Fixed 1 boxes coordinates > 1. Check that your boxes was normalized at [0, 1]\n",
      "Warning. Fixed 2 boxes coordinates > 1. Check that your boxes was normalized at [0, 1]\n",
      "Warning. Fixed 6 boxes coordinates > 1. Check that your boxes was normalized at [0, 1]\n"
     ]
    },
    {
     "name": "stderr",
     "output_type": "stream",
     "text": [
      " 57%|█████▋    | 2759/4871 [00:51<00:36, 58.40it/s]"
     ]
    },
    {
     "name": "stdout",
     "output_type": "stream",
     "text": [
      "Warning. Fixed 3 boxes coordinates > 1. Check that your boxes was normalized at [0, 1]\n",
      "Warning. Fixed 1 boxes coordinates > 1. Check that your boxes was normalized at [0, 1]\n",
      "Warning. Fixed 2 boxes coordinates > 1. Check that your boxes was normalized at [0, 1]\n",
      "Warning. Fixed 1 boxes coordinates > 1. Check that your boxes was normalized at [0, 1]\n"
     ]
    },
    {
     "name": "stderr",
     "output_type": "stream",
     "text": [
      " 57%|█████▋    | 2773/4871 [00:51<00:34, 59.95it/s]"
     ]
    },
    {
     "name": "stdout",
     "output_type": "stream",
     "text": [
      "Warning. Fixed 1 boxes coordinates > 1. Check that your boxes was normalized at [0, 1]\n",
      "Warning. Fixed 3 boxes coordinates > 1. Check that your boxes was normalized at [0, 1]\n",
      "Warning. Fixed 1 boxes coordinates > 1. Check that your boxes was normalized at [0, 1]\n"
     ]
    },
    {
     "name": "stderr",
     "output_type": "stream",
     "text": [
      " 57%|█████▋    | 2798/4871 [00:51<00:36, 56.21it/s]"
     ]
    },
    {
     "name": "stdout",
     "output_type": "stream",
     "text": [
      "Warning. Fixed 1 boxes coordinates > 1. Check that your boxes was normalized at [0, 1]\n",
      "Warning. Fixed 3 boxes coordinates > 1. Check that your boxes was normalized at [0, 1]\n",
      "Warning. Fixed 2 boxes coordinates > 1. Check that your boxes was normalized at [0, 1]\n",
      "Warning. Fixed 1 boxes coordinates > 1. Check that your boxes was normalized at [0, 1]\n"
     ]
    },
    {
     "name": "stderr",
     "output_type": "stream",
     "text": [
      " 58%|█████▊    | 2810/4871 [00:51<00:36, 55.85it/s]"
     ]
    },
    {
     "name": "stdout",
     "output_type": "stream",
     "text": [
      "Warning. Fixed 3 boxes coordinates > 1. Check that your boxes was normalized at [0, 1]\n",
      "Warning. Fixed 2 boxes coordinates > 1. Check that your boxes was normalized at [0, 1]\n",
      "Warning. Fixed 1 boxes coordinates > 1. Check that your boxes was normalized at [0, 1]\n",
      "Warning. Fixed 1 boxes coordinates > 1. Check that your boxes was normalized at [0, 1]\n"
     ]
    },
    {
     "name": "stderr",
     "output_type": "stream",
     "text": [
      " 58%|█████▊    | 2822/4871 [00:52<00:37, 55.01it/s]"
     ]
    },
    {
     "name": "stdout",
     "output_type": "stream",
     "text": [
      "Warning. Fixed 2 boxes coordinates > 1. Check that your boxes was normalized at [0, 1]\n",
      "Warning. Fixed 2 boxes coordinates > 1. Check that your boxes was normalized at [0, 1]\n",
      "Warning. Fixed 2 boxes coordinates > 1. Check that your boxes was normalized at [0, 1]\n"
     ]
    },
    {
     "name": "stderr",
     "output_type": "stream",
     "text": [
      " 58%|█████▊    | 2834/4871 [00:52<00:36, 55.89it/s]"
     ]
    },
    {
     "name": "stdout",
     "output_type": "stream",
     "text": [
      "Warning. Fixed 1 boxes coordinates > 1. Check that your boxes was normalized at [0, 1]\n",
      "Warning. Fixed 4 boxes coordinates > 1. Check that your boxes was normalized at [0, 1]\n"
     ]
    },
    {
     "name": "stderr",
     "output_type": "stream",
     "text": [
      " 59%|█████▊    | 2860/4871 [00:52<00:33, 60.32it/s]"
     ]
    },
    {
     "name": "stdout",
     "output_type": "stream",
     "text": [
      "Warning. Fixed 3 boxes coordinates > 1. Check that your boxes was normalized at [0, 1]\n",
      "Warning. Fixed 2 boxes coordinates > 1. Check that your boxes was normalized at [0, 1]\n",
      "Warning. Fixed 3 boxes coordinates > 1. Check that your boxes was normalized at [0, 1]\n",
      "Warning. Fixed 4 boxes coordinates > 1. Check that your boxes was normalized at [0, 1]\n",
      "Warning. Fixed 3 boxes coordinates > 1. Check that your boxes was normalized at [0, 1]\n"
     ]
    },
    {
     "name": "stderr",
     "output_type": "stream",
     "text": [
      " 59%|█████▉    | 2880/4871 [00:53<00:34, 57.60it/s]"
     ]
    },
    {
     "name": "stdout",
     "output_type": "stream",
     "text": [
      "Warning. Fixed 1 boxes coordinates > 1. Check that your boxes was normalized at [0, 1]\n",
      "Warning. Fixed 2 boxes coordinates > 1. Check that your boxes was normalized at [0, 1]\n"
     ]
    },
    {
     "name": "stderr",
     "output_type": "stream",
     "text": [
      " 59%|█████▉    | 2893/4871 [00:53<00:33, 58.65it/s]"
     ]
    },
    {
     "name": "stdout",
     "output_type": "stream",
     "text": [
      "Warning. Fixed 1 boxes coordinates > 1. Check that your boxes was normalized at [0, 1]\n",
      "Warning. Fixed 5 boxes coordinates > 1. Check that your boxes was normalized at [0, 1]\n"
     ]
    },
    {
     "name": "stderr",
     "output_type": "stream",
     "text": [
      " 60%|█████▉    | 2914/4871 [00:53<00:33, 58.95it/s]"
     ]
    },
    {
     "name": "stdout",
     "output_type": "stream",
     "text": [
      "Warning. Fixed 2 boxes coordinates > 1. Check that your boxes was normalized at [0, 1]\n",
      "Warning. Fixed 1 boxes coordinates > 1. Check that your boxes was normalized at [0, 1]\n",
      "Warning. Fixed 3 boxes coordinates > 1. Check that your boxes was normalized at [0, 1]\n",
      "Warning. Fixed 2 boxes coordinates > 1. Check that your boxes was normalized at [0, 1]\n"
     ]
    },
    {
     "name": "stderr",
     "output_type": "stream",
     "text": [
      " 60%|██████    | 2927/4871 [00:53<00:32, 59.58it/s]"
     ]
    },
    {
     "name": "stdout",
     "output_type": "stream",
     "text": [
      "Warning. Fixed 4 boxes coordinates > 1. Check that your boxes was normalized at [0, 1]\n",
      "Warning. Fixed 3 boxes coordinates > 1. Check that your boxes was normalized at [0, 1]\n",
      "Warning. Fixed 2 boxes coordinates > 1. Check that your boxes was normalized at [0, 1]\n"
     ]
    },
    {
     "name": "stderr",
     "output_type": "stream",
     "text": [
      " 60%|██████    | 2939/4871 [00:54<00:32, 59.27it/s]"
     ]
    },
    {
     "name": "stdout",
     "output_type": "stream",
     "text": [
      "Warning. Fixed 1 boxes coordinates > 1. Check that your boxes was normalized at [0, 1]\n",
      "Warning. Fixed 2 boxes coordinates > 1. Check that your boxes was normalized at [0, 1]\n",
      "Warning. Fixed 2 boxes coordinates > 1. Check that your boxes was normalized at [0, 1]\n",
      "Warning. Fixed 3 boxes coordinates > 1. Check that your boxes was normalized at [0, 1]\n"
     ]
    },
    {
     "name": "stderr",
     "output_type": "stream",
     "text": [
      " 61%|██████    | 2951/4871 [00:54<00:33, 58.00it/s]"
     ]
    },
    {
     "name": "stdout",
     "output_type": "stream",
     "text": [
      "Warning. Fixed 5 boxes coordinates > 1. Check that your boxes was normalized at [0, 1]\n",
      "Warning. Fixed 3 boxes coordinates > 1. Check that your boxes was normalized at [0, 1]\n",
      "Warning. Fixed 2 boxes coordinates > 1. Check that your boxes was normalized at [0, 1]\n",
      "Warning. Fixed 2 boxes coordinates > 1. Check that your boxes was normalized at [0, 1]\n",
      "Warning. Fixed 5 boxes coordinates > 1. Check that your boxes was normalized at [0, 1]\n",
      "Warning. Fixed 7 boxes coordinates > 1. Check that your boxes was normalized at [0, 1]\n"
     ]
    },
    {
     "name": "stderr",
     "output_type": "stream",
     "text": [
      " 61%|██████    | 2964/4871 [00:54<00:34, 55.71it/s]"
     ]
    },
    {
     "name": "stdout",
     "output_type": "stream",
     "text": [
      "Warning. Fixed 1 boxes coordinates > 1. Check that your boxes was normalized at [0, 1]\n",
      "Warning. Fixed 1 boxes coordinates > 1. Check that your boxes was normalized at [0, 1]\n",
      "Warning. Fixed 3 boxes coordinates > 1. Check that your boxes was normalized at [0, 1]\n"
     ]
    },
    {
     "name": "stderr",
     "output_type": "stream",
     "text": [
      " 61%|██████▏   | 2994/4871 [00:55<00:33, 56.10it/s]"
     ]
    },
    {
     "name": "stdout",
     "output_type": "stream",
     "text": [
      "Warning. Fixed 4 boxes coordinates > 1. Check that your boxes was normalized at [0, 1]\n",
      "Warning. Fixed 2 boxes coordinates > 1. Check that your boxes was normalized at [0, 1]\n",
      "Warning. Fixed 2 boxes coordinates > 1. Check that your boxes was normalized at [0, 1]\n",
      "Warning. Fixed 1 boxes coordinates > 1. Check that your boxes was normalized at [0, 1]\n"
     ]
    },
    {
     "name": "stderr",
     "output_type": "stream",
     "text": [
      " 62%|██████▏   | 3006/4871 [00:55<00:32, 56.95it/s]"
     ]
    },
    {
     "name": "stdout",
     "output_type": "stream",
     "text": [
      "Warning. Fixed 2 boxes coordinates > 1. Check that your boxes was normalized at [0, 1]\n"
     ]
    },
    {
     "name": "stderr",
     "output_type": "stream",
     "text": [
      " 62%|██████▏   | 3019/4871 [00:55<00:31, 58.15it/s]"
     ]
    },
    {
     "name": "stdout",
     "output_type": "stream",
     "text": [
      "Warning. Fixed 2 boxes coordinates > 1. Check that your boxes was normalized at [0, 1]\n",
      "Warning. Fixed 1 boxes coordinates > 1. Check that your boxes was normalized at [0, 1]\n"
     ]
    },
    {
     "name": "stderr",
     "output_type": "stream",
     "text": [
      " 62%|██████▏   | 3031/4871 [00:55<00:37, 48.59it/s]"
     ]
    },
    {
     "name": "stdout",
     "output_type": "stream",
     "text": [
      "Warning. Fixed 1 boxes coordinates > 1. Check that your boxes was normalized at [0, 1]\n",
      "Warning. Fixed 2 boxes coordinates > 1. Check that your boxes was normalized at [0, 1]\n"
     ]
    },
    {
     "name": "stderr",
     "output_type": "stream",
     "text": [
      " 62%|██████▏   | 3043/4871 [00:56<00:35, 51.62it/s]"
     ]
    },
    {
     "name": "stdout",
     "output_type": "stream",
     "text": [
      "Warning. Fixed 2 boxes coordinates > 1. Check that your boxes was normalized at [0, 1]\n",
      "Warning. Fixed 4 boxes coordinates > 1. Check that your boxes was normalized at [0, 1]\n",
      "Warning. Fixed 2 boxes coordinates > 1. Check that your boxes was normalized at [0, 1]\n"
     ]
    },
    {
     "name": "stderr",
     "output_type": "stream",
     "text": [
      " 63%|██████▎   | 3055/4871 [00:56<00:34, 53.35it/s]"
     ]
    },
    {
     "name": "stdout",
     "output_type": "stream",
     "text": [
      "Warning. Fixed 4 boxes coordinates > 1. Check that your boxes was normalized at [0, 1]\n",
      "Warning. Fixed 2 boxes coordinates > 1. Check that your boxes was normalized at [0, 1]\n",
      "Warning. Fixed 2 boxes coordinates > 1. Check that your boxes was normalized at [0, 1]\n",
      "Warning. Fixed 1 boxes coordinates > 1. Check that your boxes was normalized at [0, 1]\n"
     ]
    },
    {
     "name": "stderr",
     "output_type": "stream",
     "text": [
      " 63%|██████▎   | 3074/4871 [00:56<00:31, 56.20it/s]"
     ]
    },
    {
     "name": "stdout",
     "output_type": "stream",
     "text": [
      "Warning. Fixed 2 boxes coordinates > 1. Check that your boxes was normalized at [0, 1]\n",
      "Warning. Fixed 1 boxes coordinates > 1. Check that your boxes was normalized at [0, 1]\n",
      "Warning. Fixed 2 boxes coordinates > 1. Check that your boxes was normalized at [0, 1]\n",
      "Warning. Fixed 2 boxes coordinates > 1. Check that your boxes was normalized at [0, 1]\n"
     ]
    },
    {
     "name": "stderr",
     "output_type": "stream",
     "text": [
      " 63%|██████▎   | 3087/4871 [00:56<00:30, 59.09it/s]"
     ]
    },
    {
     "name": "stdout",
     "output_type": "stream",
     "text": [
      "Warning. Fixed 1 boxes coordinates > 1. Check that your boxes was normalized at [0, 1]\n",
      "Warning. Fixed 1 boxes coordinates > 1. Check that your boxes was normalized at [0, 1]\n",
      "Warning. Fixed 5 boxes coordinates > 1. Check that your boxes was normalized at [0, 1]\n",
      "Warning. Fixed 3 boxes coordinates > 1. Check that your boxes was normalized at [0, 1]\n"
     ]
    },
    {
     "name": "stderr",
     "output_type": "stream",
     "text": [
      " 64%|██████▍   | 3108/4871 [00:57<00:30, 58.43it/s]"
     ]
    },
    {
     "name": "stdout",
     "output_type": "stream",
     "text": [
      "Warning. Fixed 1 boxes coordinates > 1. Check that your boxes was normalized at [0, 1]\n",
      "Warning. Fixed 2 boxes coordinates > 1. Check that your boxes was normalized at [0, 1]\n"
     ]
    },
    {
     "name": "stderr",
     "output_type": "stream",
     "text": [
      " 64%|██████▍   | 3122/4871 [00:57<00:29, 58.41it/s]"
     ]
    },
    {
     "name": "stdout",
     "output_type": "stream",
     "text": [
      "Warning. Fixed 2 boxes coordinates > 1. Check that your boxes was normalized at [0, 1]\n"
     ]
    },
    {
     "name": "stderr",
     "output_type": "stream",
     "text": [
      " 64%|██████▍   | 3134/4871 [00:57<00:30, 57.86it/s]"
     ]
    },
    {
     "name": "stdout",
     "output_type": "stream",
     "text": [
      "Warning. Fixed 5 boxes coordinates > 1. Check that your boxes was normalized at [0, 1]\n",
      "Warning. Fixed 2 boxes coordinates > 1. Check that your boxes was normalized at [0, 1]\n",
      "Warning. Fixed 1 boxes coordinates > 1. Check that your boxes was normalized at [0, 1]\n",
      "Warning. Fixed 3 boxes coordinates > 1. Check that your boxes was normalized at [0, 1]\n",
      "Warning. Fixed 4 boxes coordinates > 1. Check that your boxes was normalized at [0, 1]\n"
     ]
    },
    {
     "name": "stderr",
     "output_type": "stream",
     "text": [
      " 65%|██████▍   | 3146/4871 [00:57<00:30, 56.56it/s]"
     ]
    },
    {
     "name": "stdout",
     "output_type": "stream",
     "text": [
      "Warning. Fixed 1 boxes coordinates > 1. Check that your boxes was normalized at [0, 1]\n",
      "Warning. Fixed 1 boxes coordinates > 1. Check that your boxes was normalized at [0, 1]\n",
      "Warning. Fixed 1 boxes coordinates > 1. Check that your boxes was normalized at [0, 1]\n"
     ]
    },
    {
     "name": "stderr",
     "output_type": "stream",
     "text": [
      " 65%|██████▍   | 3165/4871 [00:58<00:28, 59.33it/s]"
     ]
    },
    {
     "name": "stdout",
     "output_type": "stream",
     "text": [
      "Warning. Fixed 1 boxes coordinates > 1. Check that your boxes was normalized at [0, 1]\n",
      "Warning. Fixed 1 boxes coordinates > 1. Check that your boxes was normalized at [0, 1]\n",
      "Warning. Fixed 2 boxes coordinates > 1. Check that your boxes was normalized at [0, 1]\n"
     ]
    },
    {
     "name": "stderr",
     "output_type": "stream",
     "text": [
      " 65%|██████▌   | 3177/4871 [00:58<00:30, 56.24it/s]"
     ]
    },
    {
     "name": "stdout",
     "output_type": "stream",
     "text": [
      "Warning. Fixed 2 boxes coordinates > 1. Check that your boxes was normalized at [0, 1]\n",
      "Warning. Fixed 1 boxes coordinates > 1. Check that your boxes was normalized at [0, 1]\n",
      "Warning. Fixed 3 boxes coordinates > 1. Check that your boxes was normalized at [0, 1]\n"
     ]
    },
    {
     "name": "stderr",
     "output_type": "stream",
     "text": [
      " 66%|██████▌   | 3197/4871 [00:58<00:28, 59.61it/s]"
     ]
    },
    {
     "name": "stdout",
     "output_type": "stream",
     "text": [
      "Warning. Fixed 2 boxes coordinates > 1. Check that your boxes was normalized at [0, 1]\n",
      "Warning. Fixed 1 boxes coordinates > 1. Check that your boxes was normalized at [0, 1]\n",
      "Warning. Fixed 1 boxes coordinates > 1. Check that your boxes was normalized at [0, 1]\n",
      "Warning. Fixed 1 boxes coordinates > 1. Check that your boxes was normalized at [0, 1]\n"
     ]
    },
    {
     "name": "stderr",
     "output_type": "stream",
     "text": [
      " 66%|██████▌   | 3211/4871 [00:58<00:27, 60.47it/s]"
     ]
    },
    {
     "name": "stdout",
     "output_type": "stream",
     "text": [
      "Warning. Fixed 2 boxes coordinates > 1. Check that your boxes was normalized at [0, 1]\n",
      "Warning. Fixed 1 boxes coordinates > 1. Check that your boxes was normalized at [0, 1]\n"
     ]
    },
    {
     "name": "stderr",
     "output_type": "stream",
     "text": [
      " 66%|██████▋   | 3232/4871 [00:59<00:27, 59.84it/s]"
     ]
    },
    {
     "name": "stdout",
     "output_type": "stream",
     "text": [
      "Warning. Fixed 1 boxes coordinates > 1. Check that your boxes was normalized at [0, 1]\n",
      "Warning. Fixed 6 boxes coordinates > 1. Check that your boxes was normalized at [0, 1]\n",
      "Warning. Fixed 7 boxes coordinates > 1. Check that your boxes was normalized at [0, 1]\n"
     ]
    },
    {
     "name": "stderr",
     "output_type": "stream",
     "text": [
      " 67%|██████▋   | 3245/4871 [00:59<00:29, 55.16it/s]"
     ]
    },
    {
     "name": "stdout",
     "output_type": "stream",
     "text": [
      "Warning. Fixed 1 boxes coordinates > 1. Check that your boxes was normalized at [0, 1]\n",
      "Warning. Fixed 3 boxes coordinates > 1. Check that your boxes was normalized at [0, 1]\n"
     ]
    },
    {
     "name": "stderr",
     "output_type": "stream",
     "text": [
      " 67%|██████▋   | 3271/4871 [01:00<00:27, 58.80it/s]"
     ]
    },
    {
     "name": "stdout",
     "output_type": "stream",
     "text": [
      "Warning. Fixed 3 boxes coordinates > 1. Check that your boxes was normalized at [0, 1]\n",
      "Warning. Fixed 4 boxes coordinates > 1. Check that your boxes was normalized at [0, 1]\n"
     ]
    },
    {
     "name": "stderr",
     "output_type": "stream",
     "text": [
      " 67%|██████▋   | 3284/4871 [01:00<00:27, 57.08it/s]"
     ]
    },
    {
     "name": "stdout",
     "output_type": "stream",
     "text": [
      "Warning. Fixed 1 boxes coordinates > 1. Check that your boxes was normalized at [0, 1]\n"
     ]
    },
    {
     "name": "stderr",
     "output_type": "stream",
     "text": [
      " 68%|██████▊   | 3296/4871 [01:00<00:27, 57.16it/s]"
     ]
    },
    {
     "name": "stdout",
     "output_type": "stream",
     "text": [
      "Warning. Fixed 3 boxes coordinates > 1. Check that your boxes was normalized at [0, 1]\n",
      "Warning. Fixed 2 boxes coordinates > 1. Check that your boxes was normalized at [0, 1]\n"
     ]
    },
    {
     "name": "stderr",
     "output_type": "stream",
     "text": [
      " 68%|██████▊   | 3310/4871 [01:00<00:26, 58.73it/s]"
     ]
    },
    {
     "name": "stdout",
     "output_type": "stream",
     "text": [
      "Warning. Fixed 3 boxes coordinates > 1. Check that your boxes was normalized at [0, 1]\n",
      "Warning. Fixed 1 boxes coordinates > 1. Check that your boxes was normalized at [0, 1]\n",
      "Warning. Fixed 1 boxes coordinates > 1. Check that your boxes was normalized at [0, 1]\n",
      "Warning. Fixed 2 boxes coordinates > 1. Check that your boxes was normalized at [0, 1]\n"
     ]
    },
    {
     "name": "stderr",
     "output_type": "stream",
     "text": [
      " 68%|██████▊   | 3322/4871 [01:00<00:26, 59.03it/s]"
     ]
    },
    {
     "name": "stdout",
     "output_type": "stream",
     "text": [
      "Warning. Fixed 1 boxes coordinates > 1. Check that your boxes was normalized at [0, 1]\n",
      "Warning. Fixed 2 boxes coordinates > 1. Check that your boxes was normalized at [0, 1]\n",
      "Warning. Fixed 1 boxes coordinates > 1. Check that your boxes was normalized at [0, 1]\n",
      "Warning. Fixed 3 boxes coordinates > 1. Check that your boxes was normalized at [0, 1]\n"
     ]
    },
    {
     "name": "stderr",
     "output_type": "stream",
     "text": [
      " 69%|██████▊   | 3341/4871 [01:01<00:27, 54.76it/s]"
     ]
    },
    {
     "name": "stdout",
     "output_type": "stream",
     "text": [
      "Warning. Fixed 3 boxes coordinates > 1. Check that your boxes was normalized at [0, 1]\n",
      "Warning. Fixed 2 boxes coordinates > 1. Check that your boxes was normalized at [0, 1]\n",
      "Warning. Fixed 5 boxes coordinates > 1. Check that your boxes was normalized at [0, 1]\n",
      "Warning. Fixed 1 boxes coordinates > 1. Check that your boxes was normalized at [0, 1]\n"
     ]
    },
    {
     "name": "stderr",
     "output_type": "stream",
     "text": [
      " 69%|██████▉   | 3354/4871 [01:01<00:26, 56.93it/s]"
     ]
    },
    {
     "name": "stdout",
     "output_type": "stream",
     "text": [
      "Warning. Fixed 1 boxes coordinates > 1. Check that your boxes was normalized at [0, 1]\n",
      "Warning. Fixed 3 boxes coordinates > 1. Check that your boxes was normalized at [0, 1]\n",
      "Warning. Fixed 4 boxes coordinates > 1. Check that your boxes was normalized at [0, 1]\n",
      "Warning. Fixed 2 boxes coordinates > 1. Check that your boxes was normalized at [0, 1]\n",
      "Warning. Fixed 1 boxes coordinates > 1. Check that your boxes was normalized at [0, 1]\n"
     ]
    },
    {
     "name": "stderr",
     "output_type": "stream",
     "text": [
      " 69%|██████▉   | 3373/4871 [01:01<00:25, 58.05it/s]"
     ]
    },
    {
     "name": "stdout",
     "output_type": "stream",
     "text": [
      "Warning. Fixed 1 boxes coordinates > 1. Check that your boxes was normalized at [0, 1]\n",
      "Warning. Fixed 1 boxes coordinates > 1. Check that your boxes was normalized at [0, 1]\n",
      "Warning. Fixed 2 boxes coordinates > 1. Check that your boxes was normalized at [0, 1]\n"
     ]
    },
    {
     "name": "stderr",
     "output_type": "stream",
     "text": [
      " 69%|██████▉   | 3385/4871 [01:02<00:25, 58.54it/s]"
     ]
    },
    {
     "name": "stdout",
     "output_type": "stream",
     "text": [
      "Warning. Fixed 2 boxes coordinates > 1. Check that your boxes was normalized at [0, 1]\n",
      "Warning. Fixed 1 boxes coordinates > 1. Check that your boxes was normalized at [0, 1]\n"
     ]
    },
    {
     "name": "stderr",
     "output_type": "stream",
     "text": [
      " 70%|██████▉   | 3392/4871 [01:02<00:24, 60.55it/s]"
     ]
    },
    {
     "name": "stdout",
     "output_type": "stream",
     "text": [
      "Warning. Fixed 1 boxes coordinates > 1. Check that your boxes was normalized at [0, 1]\n",
      "Warning. Fixed 1 boxes coordinates > 1. Check that your boxes was normalized at [0, 1]\n",
      "Warning. Fixed 2 boxes coordinates > 1. Check that your boxes was normalized at [0, 1]\n"
     ]
    },
    {
     "name": "stderr",
     "output_type": "stream",
     "text": [
      " 70%|██████▉   | 3405/4871 [01:02<00:24, 58.89it/s]"
     ]
    },
    {
     "name": "stdout",
     "output_type": "stream",
     "text": [
      "Warning. Fixed 7 boxes coordinates > 1. Check that your boxes was normalized at [0, 1]\n",
      "Warning. Fixed 5 boxes coordinates > 1. Check that your boxes was normalized at [0, 1]\n"
     ]
    },
    {
     "name": "stderr",
     "output_type": "stream",
     "text": [
      " 70%|███████   | 3424/4871 [01:02<00:24, 58.48it/s]"
     ]
    },
    {
     "name": "stdout",
     "output_type": "stream",
     "text": [
      "Warning. Fixed 2 boxes coordinates > 1. Check that your boxes was normalized at [0, 1]\n",
      "Warning. Fixed 4 boxes coordinates > 1. Check that your boxes was normalized at [0, 1]\n"
     ]
    },
    {
     "name": "stderr",
     "output_type": "stream",
     "text": [
      " 71%|███████   | 3443/4871 [01:02<00:23, 59.63it/s]"
     ]
    },
    {
     "name": "stdout",
     "output_type": "stream",
     "text": [
      "Warning. Fixed 4 boxes coordinates > 1. Check that your boxes was normalized at [0, 1]\n",
      "Warning. Fixed 1 boxes coordinates > 1. Check that your boxes was normalized at [0, 1]\n",
      "Warning. Fixed 2 boxes coordinates > 1. Check that your boxes was normalized at [0, 1]\n"
     ]
    },
    {
     "name": "stderr",
     "output_type": "stream",
     "text": [
      " 71%|███████   | 3461/4871 [01:03<00:25, 56.07it/s]"
     ]
    },
    {
     "name": "stdout",
     "output_type": "stream",
     "text": [
      "Warning. Fixed 1 boxes coordinates > 1. Check that your boxes was normalized at [0, 1]\n"
     ]
    },
    {
     "name": "stderr",
     "output_type": "stream",
     "text": [
      " 71%|███████▏  | 3473/4871 [01:03<00:24, 57.63it/s]"
     ]
    },
    {
     "name": "stdout",
     "output_type": "stream",
     "text": [
      "Warning. Fixed 1 boxes coordinates > 1. Check that your boxes was normalized at [0, 1]\n",
      "Warning. Fixed 1 boxes coordinates > 1. Check that your boxes was normalized at [0, 1]\n",
      "Warning. Fixed 2 boxes coordinates > 1. Check that your boxes was normalized at [0, 1]\n",
      "Warning. Fixed 7 boxes coordinates > 1. Check that your boxes was normalized at [0, 1]\n"
     ]
    },
    {
     "name": "stderr",
     "output_type": "stream",
     "text": [
      " 72%|███████▏  | 3493/4871 [01:03<00:23, 57.46it/s]"
     ]
    },
    {
     "name": "stdout",
     "output_type": "stream",
     "text": [
      "Warning. Fixed 1 boxes coordinates > 1. Check that your boxes was normalized at [0, 1]\n",
      "Warning. Fixed 4 boxes coordinates > 1. Check that your boxes was normalized at [0, 1]\n"
     ]
    },
    {
     "name": "stderr",
     "output_type": "stream",
     "text": [
      " 72%|███████▏  | 3505/4871 [01:04<00:25, 53.43it/s]"
     ]
    },
    {
     "name": "stdout",
     "output_type": "stream",
     "text": [
      "Warning. Fixed 2 boxes coordinates > 1. Check that your boxes was normalized at [0, 1]\n",
      "Warning. Fixed 1 boxes coordinates > 1. Check that your boxes was normalized at [0, 1]\n",
      "Warning. Fixed 3 boxes coordinates > 1. Check that your boxes was normalized at [0, 1]\n",
      "Warning. Fixed 4 boxes coordinates > 1. Check that your boxes was normalized at [0, 1]\n"
     ]
    },
    {
     "name": "stderr",
     "output_type": "stream",
     "text": [
      " 72%|███████▏  | 3518/4871 [01:04<00:24, 56.30it/s]"
     ]
    },
    {
     "name": "stdout",
     "output_type": "stream",
     "text": [
      "Warning. Fixed 1 boxes coordinates > 1. Check that your boxes was normalized at [0, 1]\n",
      "Warning. Fixed 1 boxes coordinates > 1. Check that your boxes was normalized at [0, 1]\n"
     ]
    },
    {
     "name": "stderr",
     "output_type": "stream",
     "text": [
      " 72%|███████▏  | 3531/4871 [01:04<00:24, 55.62it/s]"
     ]
    },
    {
     "name": "stdout",
     "output_type": "stream",
     "text": [
      "Warning. Fixed 2 boxes coordinates > 1. Check that your boxes was normalized at [0, 1]\n"
     ]
    },
    {
     "name": "stderr",
     "output_type": "stream",
     "text": [
      " 73%|███████▎  | 3543/4871 [01:04<00:23, 55.71it/s]"
     ]
    },
    {
     "name": "stdout",
     "output_type": "stream",
     "text": [
      "Warning. Fixed 3 boxes coordinates > 1. Check that your boxes was normalized at [0, 1]\n",
      "Warning. Fixed 1 boxes coordinates > 1. Check that your boxes was normalized at [0, 1]\n",
      "Warning. Fixed 2 boxes coordinates > 1. Check that your boxes was normalized at [0, 1]\n"
     ]
    },
    {
     "name": "stderr",
     "output_type": "stream",
     "text": [
      " 73%|███████▎  | 3562/4871 [01:05<00:22, 58.13it/s]"
     ]
    },
    {
     "name": "stdout",
     "output_type": "stream",
     "text": [
      "Warning. Fixed 1 boxes coordinates > 1. Check that your boxes was normalized at [0, 1]\n",
      "Warning. Fixed 3 boxes coordinates > 1. Check that your boxes was normalized at [0, 1]\n"
     ]
    },
    {
     "name": "stderr",
     "output_type": "stream",
     "text": [
      " 74%|███████▍  | 3595/4871 [01:05<00:22, 57.33it/s]"
     ]
    },
    {
     "name": "stdout",
     "output_type": "stream",
     "text": [
      "Warning. Fixed 2 boxes coordinates > 1. Check that your boxes was normalized at [0, 1]\n",
      "Warning. Fixed 2 boxes coordinates > 1. Check that your boxes was normalized at [0, 1]\n",
      "Warning. Fixed 3 boxes coordinates > 1. Check that your boxes was normalized at [0, 1]\n",
      "Warning. Fixed 5 boxes coordinates > 1. Check that your boxes was normalized at [0, 1]\n"
     ]
    },
    {
     "name": "stderr",
     "output_type": "stream",
     "text": [
      " 74%|███████▍  | 3614/4871 [01:06<00:21, 57.65it/s]"
     ]
    },
    {
     "name": "stdout",
     "output_type": "stream",
     "text": [
      "Warning. Fixed 2 boxes coordinates > 1. Check that your boxes was normalized at [0, 1]\n",
      "Warning. Fixed 1 boxes coordinates > 1. Check that your boxes was normalized at [0, 1]\n",
      "Warning. Fixed 2 boxes coordinates > 1. Check that your boxes was normalized at [0, 1]\n",
      "Warning. Fixed 2 boxes coordinates > 1. Check that your boxes was normalized at [0, 1]\n"
     ]
    },
    {
     "name": "stderr",
     "output_type": "stream",
     "text": [
      " 75%|███████▍  | 3634/4871 [01:06<00:20, 60.47it/s]"
     ]
    },
    {
     "name": "stdout",
     "output_type": "stream",
     "text": [
      "Warning. Fixed 2 boxes coordinates > 1. Check that your boxes was normalized at [0, 1]\n",
      "Warning. Fixed 2 boxes coordinates > 1. Check that your boxes was normalized at [0, 1]\n",
      "Warning. Fixed 4 boxes coordinates > 1. Check that your boxes was normalized at [0, 1]\n",
      "Warning. Fixed 1 boxes coordinates > 1. Check that your boxes was normalized at [0, 1]\n"
     ]
    },
    {
     "name": "stderr",
     "output_type": "stream",
     "text": [
      " 75%|███████▍  | 3647/4871 [01:06<00:21, 57.87it/s]"
     ]
    },
    {
     "name": "stdout",
     "output_type": "stream",
     "text": [
      "Warning. Fixed 1 boxes coordinates > 1. Check that your boxes was normalized at [0, 1]\n",
      "Warning. Fixed 3 boxes coordinates > 1. Check that your boxes was normalized at [0, 1]\n",
      "Warning. Fixed 2 boxes coordinates > 1. Check that your boxes was normalized at [0, 1]\n"
     ]
    },
    {
     "name": "stderr",
     "output_type": "stream",
     "text": [
      " 75%|███████▌  | 3660/4871 [01:06<00:21, 56.42it/s]"
     ]
    },
    {
     "name": "stdout",
     "output_type": "stream",
     "text": [
      "Warning. Fixed 2 boxes coordinates > 1. Check that your boxes was normalized at [0, 1]\n",
      "Warning. Fixed 7 boxes coordinates > 1. Check that your boxes was normalized at [0, 1]\n",
      "Warning. Fixed 1 boxes coordinates > 1. Check that your boxes was normalized at [0, 1]\n",
      "Warning. Fixed 1 boxes coordinates > 1. Check that your boxes was normalized at [0, 1]\n"
     ]
    },
    {
     "name": "stderr",
     "output_type": "stream",
     "text": [
      " 75%|███████▌  | 3673/4871 [01:07<00:21, 56.93it/s]"
     ]
    },
    {
     "name": "stdout",
     "output_type": "stream",
     "text": [
      "Warning. Fixed 1 boxes coordinates > 1. Check that your boxes was normalized at [0, 1]\n",
      "Warning. Fixed 1 boxes coordinates > 1. Check that your boxes was normalized at [0, 1]\n",
      "Warning. Fixed 6 boxes coordinates > 1. Check that your boxes was normalized at [0, 1]\n"
     ]
    },
    {
     "name": "stderr",
     "output_type": "stream",
     "text": [
      " 76%|███████▌  | 3685/4871 [01:07<00:21, 55.80it/s]"
     ]
    },
    {
     "name": "stdout",
     "output_type": "stream",
     "text": [
      "Warning. Fixed 1 boxes coordinates > 1. Check that your boxes was normalized at [0, 1]\n"
     ]
    },
    {
     "name": "stderr",
     "output_type": "stream",
     "text": [
      " 76%|███████▌  | 3698/4871 [01:07<00:24, 47.22it/s]"
     ]
    },
    {
     "name": "stdout",
     "output_type": "stream",
     "text": [
      "Warning. Fixed 2 boxes coordinates > 1. Check that your boxes was normalized at [0, 1]\n"
     ]
    },
    {
     "name": "stderr",
     "output_type": "stream",
     "text": [
      " 76%|███████▌  | 3711/4871 [01:07<00:22, 52.60it/s]"
     ]
    },
    {
     "name": "stdout",
     "output_type": "stream",
     "text": [
      "Warning. Fixed 1 boxes coordinates > 1. Check that your boxes was normalized at [0, 1]\n"
     ]
    },
    {
     "name": "stderr",
     "output_type": "stream",
     "text": [
      " 76%|███████▋  | 3723/4871 [01:07<00:21, 53.41it/s]"
     ]
    },
    {
     "name": "stdout",
     "output_type": "stream",
     "text": [
      "Warning. Fixed 4 boxes coordinates > 1. Check that your boxes was normalized at [0, 1]\n",
      "Warning. Fixed 1 boxes coordinates > 1. Check that your boxes was normalized at [0, 1]\n"
     ]
    },
    {
     "name": "stderr",
     "output_type": "stream",
     "text": [
      " 77%|███████▋  | 3737/4871 [01:08<00:19, 57.63it/s]"
     ]
    },
    {
     "name": "stdout",
     "output_type": "stream",
     "text": [
      "Warning. Fixed 1 boxes coordinates > 1. Check that your boxes was normalized at [0, 1]\n",
      "Warning. Fixed 2 boxes coordinates > 1. Check that your boxes was normalized at [0, 1]\n",
      "Warning. Fixed 1 boxes coordinates > 1. Check that your boxes was normalized at [0, 1]\n",
      "Warning. Fixed 1 boxes coordinates > 1. Check that your boxes was normalized at [0, 1]\n",
      "Warning. Fixed 6 boxes coordinates > 1. Check that your boxes was normalized at [0, 1]\n",
      "Warning. Fixed 2 boxes coordinates > 1. Check that your boxes was normalized at [0, 1]\n"
     ]
    },
    {
     "name": "stderr",
     "output_type": "stream",
     "text": [
      " 77%|███████▋  | 3749/4871 [01:08<00:19, 58.03it/s]"
     ]
    },
    {
     "name": "stdout",
     "output_type": "stream",
     "text": [
      "Warning. Fixed 3 boxes coordinates > 1. Check that your boxes was normalized at [0, 1]\n",
      "Warning. Fixed 2 boxes coordinates > 1. Check that your boxes was normalized at [0, 1]\n",
      "Warning. Fixed 5 boxes coordinates > 1. Check that your boxes was normalized at [0, 1]\n",
      "Warning. Fixed 1 boxes coordinates > 1. Check that your boxes was normalized at [0, 1]\n",
      "Warning. Fixed 3 boxes coordinates > 1. Check that your boxes was normalized at [0, 1]\n"
     ]
    },
    {
     "name": "stderr",
     "output_type": "stream",
     "text": [
      " 77%|███████▋  | 3775/4871 [01:08<00:18, 58.46it/s]"
     ]
    },
    {
     "name": "stdout",
     "output_type": "stream",
     "text": [
      "Warning. Fixed 3 boxes coordinates > 1. Check that your boxes was normalized at [0, 1]\n",
      "Warning. Fixed 1 boxes coordinates > 1. Check that your boxes was normalized at [0, 1]\n"
     ]
    },
    {
     "name": "stderr",
     "output_type": "stream",
     "text": [
      " 78%|███████▊  | 3787/4871 [01:09<00:19, 54.27it/s]"
     ]
    },
    {
     "name": "stdout",
     "output_type": "stream",
     "text": [
      "Warning. Fixed 3 boxes coordinates > 1. Check that your boxes was normalized at [0, 1]\n",
      "Warning. Fixed 1 boxes coordinates > 1. Check that your boxes was normalized at [0, 1]\n"
     ]
    },
    {
     "name": "stderr",
     "output_type": "stream",
     "text": [
      " 78%|███████▊  | 3806/4871 [01:09<00:19, 55.48it/s]"
     ]
    },
    {
     "name": "stdout",
     "output_type": "stream",
     "text": [
      "Warning. Fixed 3 boxes coordinates > 1. Check that your boxes was normalized at [0, 1]\n",
      "Warning. Fixed 1 boxes coordinates > 1. Check that your boxes was normalized at [0, 1]\n",
      "Warning. Fixed 1 boxes coordinates > 1. Check that your boxes was normalized at [0, 1]\n"
     ]
    },
    {
     "name": "stderr",
     "output_type": "stream",
     "text": [
      " 79%|███████▉  | 3837/4871 [01:10<00:18, 54.64it/s]"
     ]
    },
    {
     "name": "stdout",
     "output_type": "stream",
     "text": [
      "Warning. Fixed 1 boxes coordinates > 1. Check that your boxes was normalized at [0, 1]\n"
     ]
    },
    {
     "name": "stderr",
     "output_type": "stream",
     "text": [
      " 79%|███████▉  | 3849/4871 [01:10<00:18, 55.32it/s]"
     ]
    },
    {
     "name": "stdout",
     "output_type": "stream",
     "text": [
      "Warning. Fixed 2 boxes coordinates > 1. Check that your boxes was normalized at [0, 1]\n",
      "Warning. Fixed 3 boxes coordinates > 1. Check that your boxes was normalized at [0, 1]\n",
      "Warning. Fixed 2 boxes coordinates > 1. Check that your boxes was normalized at [0, 1]\n"
     ]
    },
    {
     "name": "stderr",
     "output_type": "stream",
     "text": [
      " 79%|███████▉  | 3861/4871 [01:10<00:18, 53.32it/s]"
     ]
    },
    {
     "name": "stdout",
     "output_type": "stream",
     "text": [
      "Warning. Fixed 4 boxes coordinates > 1. Check that your boxes was normalized at [0, 1]\n",
      "Warning. Fixed 2 boxes coordinates > 1. Check that your boxes was normalized at [0, 1]\n",
      "Warning. Fixed 1 boxes coordinates > 1. Check that your boxes was normalized at [0, 1]\n"
     ]
    },
    {
     "name": "stderr",
     "output_type": "stream",
     "text": [
      " 80%|███████▉  | 3879/4871 [01:10<00:18, 54.82it/s]"
     ]
    },
    {
     "name": "stdout",
     "output_type": "stream",
     "text": [
      "Warning. Fixed 1 boxes coordinates > 1. Check that your boxes was normalized at [0, 1]\n",
      "Warning. Fixed 1 boxes coordinates > 1. Check that your boxes was normalized at [0, 1]\n",
      "Warning. Fixed 1 boxes coordinates > 1. Check that your boxes was normalized at [0, 1]\n",
      "Warning. Fixed 1 boxes coordinates > 1. Check that your boxes was normalized at [0, 1]\n"
     ]
    },
    {
     "name": "stderr",
     "output_type": "stream",
     "text": [
      " 80%|███████▉  | 3891/4871 [01:10<00:17, 55.01it/s]"
     ]
    },
    {
     "name": "stdout",
     "output_type": "stream",
     "text": [
      "Warning. Fixed 3 boxes coordinates > 1. Check that your boxes was normalized at [0, 1]\n",
      "Warning. Fixed 1 boxes coordinates > 1. Check that your boxes was normalized at [0, 1]\n",
      "Warning. Fixed 1 boxes coordinates > 1. Check that your boxes was normalized at [0, 1]\n",
      "Warning. Fixed 1 boxes coordinates > 1. Check that your boxes was normalized at [0, 1]\n",
      "Warning. Fixed 3 boxes coordinates > 1. Check that your boxes was normalized at [0, 1]\n",
      "Warning. Fixed 4 boxes coordinates > 1. Check that your boxes was normalized at [0, 1]\n"
     ]
    },
    {
     "name": "stderr",
     "output_type": "stream",
     "text": [
      " 80%|████████  | 3903/4871 [01:11<00:17, 54.29it/s]"
     ]
    },
    {
     "name": "stdout",
     "output_type": "stream",
     "text": [
      "Warning. Fixed 3 boxes coordinates > 1. Check that your boxes was normalized at [0, 1]\n",
      "Warning. Fixed 4 boxes coordinates > 1. Check that your boxes was normalized at [0, 1]\n",
      "Warning. Fixed 5 boxes coordinates > 1. Check that your boxes was normalized at [0, 1]\n",
      "Warning. Fixed 1 boxes coordinates > 1. Check that your boxes was normalized at [0, 1]\n"
     ]
    },
    {
     "name": "stderr",
     "output_type": "stream",
     "text": [
      " 81%|████████  | 3929/4871 [01:11<00:15, 59.09it/s]"
     ]
    },
    {
     "name": "stdout",
     "output_type": "stream",
     "text": [
      "Warning. Fixed 1 boxes coordinates > 1. Check that your boxes was normalized at [0, 1]\n",
      "Warning. Fixed 4 boxes coordinates > 1. Check that your boxes was normalized at [0, 1]\n",
      "Warning. Fixed 2 boxes coordinates > 1. Check that your boxes was normalized at [0, 1]\n"
     ]
    },
    {
     "name": "stderr",
     "output_type": "stream",
     "text": [
      " 81%|████████  | 3941/4871 [01:11<00:15, 58.28it/s]"
     ]
    },
    {
     "name": "stdout",
     "output_type": "stream",
     "text": [
      "Warning. Fixed 1 boxes coordinates > 1. Check that your boxes was normalized at [0, 1]\n",
      "Warning. Fixed 1 boxes coordinates > 1. Check that your boxes was normalized at [0, 1]\n",
      "Warning. Fixed 3 boxes coordinates > 1. Check that your boxes was normalized at [0, 1]\n",
      "Warning. Fixed 1 boxes coordinates > 1. Check that your boxes was normalized at [0, 1]\n",
      "Warning. Fixed 2 boxes coordinates > 1. Check that your boxes was normalized at [0, 1]\n"
     ]
    },
    {
     "name": "stderr",
     "output_type": "stream",
     "text": [
      " 81%|████████▏ | 3961/4871 [01:12<00:15, 59.58it/s]"
     ]
    },
    {
     "name": "stdout",
     "output_type": "stream",
     "text": [
      "Warning. Fixed 2 boxes coordinates > 1. Check that your boxes was normalized at [0, 1]\n",
      "Warning. Fixed 2 boxes coordinates > 1. Check that your boxes was normalized at [0, 1]\n",
      "Warning. Fixed 1 boxes coordinates > 1. Check that your boxes was normalized at [0, 1]\n",
      "Warning. Fixed 1 boxes coordinates > 1. Check that your boxes was normalized at [0, 1]\n",
      "Warning. Fixed 1 boxes coordinates > 1. Check that your boxes was normalized at [0, 1]\n"
     ]
    },
    {
     "name": "stderr",
     "output_type": "stream",
     "text": [
      " 82%|████████▏ | 3973/4871 [01:12<00:15, 57.94it/s]"
     ]
    },
    {
     "name": "stdout",
     "output_type": "stream",
     "text": [
      "Warning. Fixed 4 boxes coordinates > 1. Check that your boxes was normalized at [0, 1]\n",
      "Warning. Fixed 8 boxes coordinates > 1. Check that your boxes was normalized at [0, 1]\n"
     ]
    },
    {
     "name": "stderr",
     "output_type": "stream",
     "text": [
      " 82%|████████▏ | 3985/4871 [01:12<00:15, 56.90it/s]"
     ]
    },
    {
     "name": "stdout",
     "output_type": "stream",
     "text": [
      "Warning. Fixed 2 boxes coordinates > 1. Check that your boxes was normalized at [0, 1]\n",
      "Warning. Fixed 2 boxes coordinates > 1. Check that your boxes was normalized at [0, 1]\n",
      "Warning. Fixed 2 boxes coordinates > 1. Check that your boxes was normalized at [0, 1]\n",
      "Warning. Fixed 1 boxes coordinates > 1. Check that your boxes was normalized at [0, 1]\n"
     ]
    },
    {
     "name": "stderr",
     "output_type": "stream",
     "text": [
      " 82%|████████▏ | 3999/4871 [01:12<00:14, 59.11it/s]"
     ]
    },
    {
     "name": "stdout",
     "output_type": "stream",
     "text": [
      "Warning. Fixed 1 boxes coordinates > 1. Check that your boxes was normalized at [0, 1]\n",
      "Warning. Fixed 3 boxes coordinates > 1. Check that your boxes was normalized at [0, 1]\n",
      "Warning. Fixed 1 boxes coordinates > 1. Check that your boxes was normalized at [0, 1]\n",
      "Warning. Fixed 3 boxes coordinates > 1. Check that your boxes was normalized at [0, 1]\n",
      "Warning. Fixed 1 boxes coordinates > 1. Check that your boxes was normalized at [0, 1]\n"
     ]
    },
    {
     "name": "stderr",
     "output_type": "stream",
     "text": [
      " 82%|████████▏ | 4018/4871 [01:13<00:14, 57.18it/s]"
     ]
    },
    {
     "name": "stdout",
     "output_type": "stream",
     "text": [
      "Warning. Fixed 2 boxes coordinates > 1. Check that your boxes was normalized at [0, 1]\n"
     ]
    },
    {
     "name": "stderr",
     "output_type": "stream",
     "text": [
      " 83%|████████▎ | 4031/4871 [01:13<00:14, 58.51it/s]"
     ]
    },
    {
     "name": "stdout",
     "output_type": "stream",
     "text": [
      "Warning. Fixed 1 boxes coordinates > 1. Check that your boxes was normalized at [0, 1]\n",
      "Warning. Fixed 2 boxes coordinates > 1. Check that your boxes was normalized at [0, 1]\n",
      "Warning. Fixed 1 boxes coordinates > 1. Check that your boxes was normalized at [0, 1]\n"
     ]
    },
    {
     "name": "stderr",
     "output_type": "stream",
     "text": [
      " 83%|████████▎ | 4044/4871 [01:13<00:14, 57.86it/s]"
     ]
    },
    {
     "name": "stdout",
     "output_type": "stream",
     "text": [
      "Warning. Fixed 5 boxes coordinates > 1. Check that your boxes was normalized at [0, 1]\n",
      "Warning. Fixed 2 boxes coordinates > 1. Check that your boxes was normalized at [0, 1]\n",
      "Warning. Fixed 2 boxes coordinates > 1. Check that your boxes was normalized at [0, 1]\n",
      "Warning. Fixed 1 boxes coordinates > 1. Check that your boxes was normalized at [0, 1]\n",
      "Warning. Fixed 3 boxes coordinates > 1. Check that your boxes was normalized at [0, 1]\n",
      "Warning. Fixed 1 boxes coordinates > 1. Check that your boxes was normalized at [0, 1]\n",
      "Warning. Fixed 2 boxes coordinates > 1. Check that your boxes was normalized at [0, 1]\n"
     ]
    },
    {
     "name": "stderr",
     "output_type": "stream",
     "text": [
      " 83%|████████▎ | 4056/4871 [01:13<00:14, 55.72it/s]"
     ]
    },
    {
     "name": "stdout",
     "output_type": "stream",
     "text": [
      "Warning. Fixed 2 boxes coordinates > 1. Check that your boxes was normalized at [0, 1]\n",
      "Warning. Fixed 2 boxes coordinates > 1. Check that your boxes was normalized at [0, 1]\n",
      "Warning. Fixed 1 boxes coordinates > 1. Check that your boxes was normalized at [0, 1]\n",
      "Warning. Fixed 1 boxes coordinates > 1. Check that your boxes was normalized at [0, 1]\n",
      "Warning. Fixed 6 boxes coordinates > 1. Check that your boxes was normalized at [0, 1]\n"
     ]
    },
    {
     "name": "stderr",
     "output_type": "stream",
     "text": [
      " 84%|████████▎ | 4069/4871 [01:14<00:14, 54.99it/s]"
     ]
    },
    {
     "name": "stdout",
     "output_type": "stream",
     "text": [
      "Warning. Fixed 4 boxes coordinates > 1. Check that your boxes was normalized at [0, 1]\n",
      "Warning. Fixed 2 boxes coordinates > 1. Check that your boxes was normalized at [0, 1]\n",
      "Warning. Fixed 1 boxes coordinates > 1. Check that your boxes was normalized at [0, 1]\n"
     ]
    },
    {
     "name": "stderr",
     "output_type": "stream",
     "text": [
      " 84%|████████▍ | 4081/4871 [01:14<00:13, 56.53it/s]"
     ]
    },
    {
     "name": "stdout",
     "output_type": "stream",
     "text": [
      "Warning. Fixed 2 boxes coordinates > 1. Check that your boxes was normalized at [0, 1]\n",
      "Warning. Fixed 1 boxes coordinates > 1. Check that your boxes was normalized at [0, 1]\n",
      "Warning. Fixed 2 boxes coordinates > 1. Check that your boxes was normalized at [0, 1]\n"
     ]
    },
    {
     "name": "stderr",
     "output_type": "stream",
     "text": [
      " 84%|████████▍ | 4093/4871 [01:14<00:14, 55.36it/s]"
     ]
    },
    {
     "name": "stdout",
     "output_type": "stream",
     "text": [
      "Warning. Fixed 3 boxes coordinates > 1. Check that your boxes was normalized at [0, 1]\n",
      "Warning. Fixed 3 boxes coordinates > 1. Check that your boxes was normalized at [0, 1]\n",
      "Warning. Fixed 1 boxes coordinates > 1. Check that your boxes was normalized at [0, 1]\n"
     ]
    },
    {
     "name": "stderr",
     "output_type": "stream",
     "text": [
      " 84%|████████▍ | 4105/4871 [01:14<00:14, 52.66it/s]"
     ]
    },
    {
     "name": "stdout",
     "output_type": "stream",
     "text": [
      "Warning. Fixed 1 boxes coordinates > 1. Check that your boxes was normalized at [0, 1]\n",
      "Warning. Fixed 2 boxes coordinates > 1. Check that your boxes was normalized at [0, 1]\n",
      "Warning. Fixed 3 boxes coordinates > 1. Check that your boxes was normalized at [0, 1]\n"
     ]
    },
    {
     "name": "stderr",
     "output_type": "stream",
     "text": [
      " 85%|████████▍ | 4118/4871 [01:14<00:13, 54.53it/s]"
     ]
    },
    {
     "name": "stdout",
     "output_type": "stream",
     "text": [
      "Warning. Fixed 3 boxes coordinates > 1. Check that your boxes was normalized at [0, 1]\n",
      "Warning. Fixed 2 boxes coordinates > 1. Check that your boxes was normalized at [0, 1]\n",
      "Warning. Fixed 1 boxes coordinates > 1. Check that your boxes was normalized at [0, 1]\n"
     ]
    },
    {
     "name": "stderr",
     "output_type": "stream",
     "text": [
      " 85%|████████▍ | 4130/4871 [01:15<00:13, 54.01it/s]"
     ]
    },
    {
     "name": "stdout",
     "output_type": "stream",
     "text": [
      "Warning. Fixed 1 boxes coordinates > 1. Check that your boxes was normalized at [0, 1]\n",
      "Warning. Fixed 2 boxes coordinates > 1. Check that your boxes was normalized at [0, 1]\n"
     ]
    },
    {
     "name": "stderr",
     "output_type": "stream",
     "text": [
      " 85%|████████▌ | 4148/4871 [01:15<00:12, 56.71it/s]"
     ]
    },
    {
     "name": "stdout",
     "output_type": "stream",
     "text": [
      "Warning. Fixed 1 boxes coordinates > 1. Check that your boxes was normalized at [0, 1]\n",
      "Warning. Fixed 2 boxes coordinates > 1. Check that your boxes was normalized at [0, 1]\n",
      "Warning. Fixed 2 boxes coordinates > 1. Check that your boxes was normalized at [0, 1]\n"
     ]
    },
    {
     "name": "stderr",
     "output_type": "stream",
     "text": [
      " 85%|████████▌ | 4161/4871 [01:15<00:12, 58.72it/s]"
     ]
    },
    {
     "name": "stdout",
     "output_type": "stream",
     "text": [
      "Warning. Fixed 2 boxes coordinates > 1. Check that your boxes was normalized at [0, 1]\n",
      "Warning. Fixed 2 boxes coordinates > 1. Check that your boxes was normalized at [0, 1]\n",
      "Warning. Fixed 1 boxes coordinates > 1. Check that your boxes was normalized at [0, 1]\n",
      "Warning. Fixed 2 boxes coordinates > 1. Check that your boxes was normalized at [0, 1]\n"
     ]
    },
    {
     "name": "stderr",
     "output_type": "stream",
     "text": [
      " 86%|████████▌ | 4168/4871 [01:15<00:11, 60.25it/s]"
     ]
    },
    {
     "name": "stdout",
     "output_type": "stream",
     "text": [
      "Warning. Fixed 3 boxes coordinates > 1. Check that your boxes was normalized at [0, 1]\n",
      "Warning. Fixed 7 boxes coordinates > 1. Check that your boxes was normalized at [0, 1]\n",
      "Warning. Fixed 4 boxes coordinates > 1. Check that your boxes was normalized at [0, 1]\n",
      "Warning. Fixed 3 boxes coordinates > 1. Check that your boxes was normalized at [0, 1]\n"
     ]
    },
    {
     "name": "stderr",
     "output_type": "stream",
     "text": [
      " 86%|████████▌ | 4189/4871 [01:16<00:11, 60.20it/s]"
     ]
    },
    {
     "name": "stdout",
     "output_type": "stream",
     "text": [
      "Warning. Fixed 3 boxes coordinates > 1. Check that your boxes was normalized at [0, 1]\n",
      "Warning. Fixed 2 boxes coordinates > 1. Check that your boxes was normalized at [0, 1]\n"
     ]
    },
    {
     "name": "stderr",
     "output_type": "stream",
     "text": [
      " 86%|████████▋ | 4203/4871 [01:16<00:11, 60.09it/s]"
     ]
    },
    {
     "name": "stdout",
     "output_type": "stream",
     "text": [
      "Warning. Fixed 2 boxes coordinates > 1. Check that your boxes was normalized at [0, 1]\n",
      "Warning. Fixed 3 boxes coordinates > 1. Check that your boxes was normalized at [0, 1]\n",
      "Warning. Fixed 1 boxes coordinates > 1. Check that your boxes was normalized at [0, 1]\n"
     ]
    },
    {
     "name": "stderr",
     "output_type": "stream",
     "text": [
      " 87%|████████▋ | 4216/4871 [01:16<00:11, 58.83it/s]"
     ]
    },
    {
     "name": "stdout",
     "output_type": "stream",
     "text": [
      "Warning. Fixed 1 boxes coordinates > 1. Check that your boxes was normalized at [0, 1]\n",
      "Warning. Fixed 5 boxes coordinates > 1. Check that your boxes was normalized at [0, 1]\n",
      "Warning. Fixed 1 boxes coordinates > 1. Check that your boxes was normalized at [0, 1]\n"
     ]
    },
    {
     "name": "stderr",
     "output_type": "stream",
     "text": [
      " 87%|████████▋ | 4228/4871 [01:16<00:11, 55.63it/s]"
     ]
    },
    {
     "name": "stdout",
     "output_type": "stream",
     "text": [
      "Warning. Fixed 2 boxes coordinates > 1. Check that your boxes was normalized at [0, 1]\n",
      "Warning. Fixed 1 boxes coordinates > 1. Check that your boxes was normalized at [0, 1]\n"
     ]
    },
    {
     "name": "stderr",
     "output_type": "stream",
     "text": [
      " 87%|████████▋ | 4260/4871 [01:17<00:10, 56.90it/s]"
     ]
    },
    {
     "name": "stdout",
     "output_type": "stream",
     "text": [
      "Warning. Fixed 2 boxes coordinates > 1. Check that your boxes was normalized at [0, 1]\n"
     ]
    },
    {
     "name": "stderr",
     "output_type": "stream",
     "text": [
      " 88%|████████▊ | 4278/4871 [01:17<00:10, 55.84it/s]"
     ]
    },
    {
     "name": "stdout",
     "output_type": "stream",
     "text": [
      "Warning. Fixed 9 boxes coordinates > 1. Check that your boxes was normalized at [0, 1]\n",
      "Warning. Fixed 2 boxes coordinates > 1. Check that your boxes was normalized at [0, 1]\n"
     ]
    },
    {
     "name": "stderr",
     "output_type": "stream",
     "text": [
      " 88%|████████▊ | 4284/4871 [01:17<00:10, 54.57it/s]"
     ]
    },
    {
     "name": "stdout",
     "output_type": "stream",
     "text": [
      "Warning. Fixed 1 boxes coordinates > 1. Check that your boxes was normalized at [0, 1]\n",
      "Warning. Fixed 2 boxes coordinates > 1. Check that your boxes was normalized at [0, 1]\n",
      "Warning. Fixed 3 boxes coordinates > 1. Check that your boxes was normalized at [0, 1]\n",
      "Warning. Fixed 2 boxes coordinates > 1. Check that your boxes was normalized at [0, 1]\n",
      "Warning. Fixed 2 boxes coordinates > 1. Check that your boxes was normalized at [0, 1]\n"
     ]
    },
    {
     "name": "stderr",
     "output_type": "stream",
     "text": [
      " 88%|████████▊ | 4302/4871 [01:18<00:10, 54.77it/s]"
     ]
    },
    {
     "name": "stdout",
     "output_type": "stream",
     "text": [
      "Warning. Fixed 1 boxes coordinates > 1. Check that your boxes was normalized at [0, 1]\n",
      "Warning. Fixed 8 boxes coordinates > 1. Check that your boxes was normalized at [0, 1]\n",
      "Warning. Fixed 4 boxes coordinates > 1. Check that your boxes was normalized at [0, 1]\n",
      "Warning. Fixed 1 boxes coordinates > 1. Check that your boxes was normalized at [0, 1]\n",
      "Warning. Fixed 1 boxes coordinates > 1. Check that your boxes was normalized at [0, 1]\n"
     ]
    },
    {
     "name": "stderr",
     "output_type": "stream",
     "text": [
      " 89%|████████▊ | 4315/4871 [01:18<00:09, 57.53it/s]"
     ]
    },
    {
     "name": "stdout",
     "output_type": "stream",
     "text": [
      "Warning. Fixed 2 boxes coordinates > 1. Check that your boxes was normalized at [0, 1]\n",
      "Warning. Fixed 3 boxes coordinates > 1. Check that your boxes was normalized at [0, 1]\n"
     ]
    },
    {
     "name": "stderr",
     "output_type": "stream",
     "text": [
      " 89%|████████▉ | 4328/4871 [01:18<00:09, 59.21it/s]"
     ]
    },
    {
     "name": "stdout",
     "output_type": "stream",
     "text": [
      "Warning. Fixed 2 boxes coordinates > 1. Check that your boxes was normalized at [0, 1]\n",
      "Warning. Fixed 2 boxes coordinates > 1. Check that your boxes was normalized at [0, 1]\n",
      "Warning. Fixed 2 boxes coordinates > 1. Check that your boxes was normalized at [0, 1]\n",
      "Warning. Fixed 6 boxes coordinates > 1. Check that your boxes was normalized at [0, 1]\n"
     ]
    },
    {
     "name": "stderr",
     "output_type": "stream",
     "text": [
      " 89%|████████▉ | 4342/4871 [01:18<00:11, 47.60it/s]"
     ]
    },
    {
     "name": "stdout",
     "output_type": "stream",
     "text": [
      "Warning. Fixed 3 boxes coordinates > 1. Check that your boxes was normalized at [0, 1]\n",
      "Warning. Fixed 2 boxes coordinates > 1. Check that your boxes was normalized at [0, 1]\n"
     ]
    },
    {
     "name": "stderr",
     "output_type": "stream",
     "text": [
      " 89%|████████▉ | 4354/4871 [01:19<00:09, 52.11it/s]"
     ]
    },
    {
     "name": "stdout",
     "output_type": "stream",
     "text": [
      "Warning. Fixed 2 boxes coordinates > 1. Check that your boxes was normalized at [0, 1]\n",
      "Warning. Fixed 1 boxes coordinates > 1. Check that your boxes was normalized at [0, 1]\n"
     ]
    },
    {
     "name": "stderr",
     "output_type": "stream",
     "text": [
      " 90%|████████▉ | 4373/4871 [01:19<00:09, 54.35it/s]"
     ]
    },
    {
     "name": "stdout",
     "output_type": "stream",
     "text": [
      "Warning. Fixed 3 boxes coordinates > 1. Check that your boxes was normalized at [0, 1]\n",
      "Warning. Fixed 2 boxes coordinates > 1. Check that your boxes was normalized at [0, 1]\n",
      "Warning. Fixed 2 boxes coordinates > 1. Check that your boxes was normalized at [0, 1]\n"
     ]
    },
    {
     "name": "stderr",
     "output_type": "stream",
     "text": [
      " 90%|█████████ | 4385/4871 [01:19<00:08, 55.53it/s]"
     ]
    },
    {
     "name": "stdout",
     "output_type": "stream",
     "text": [
      "Warning. Fixed 1 boxes coordinates > 1. Check that your boxes was normalized at [0, 1]\n",
      "Warning. Fixed 1 boxes coordinates > 1. Check that your boxes was normalized at [0, 1]\n"
     ]
    },
    {
     "name": "stderr",
     "output_type": "stream",
     "text": [
      " 90%|█████████ | 4398/4871 [01:19<00:08, 57.90it/s]"
     ]
    },
    {
     "name": "stdout",
     "output_type": "stream",
     "text": [
      "Warning. Fixed 2 boxes coordinates > 1. Check that your boxes was normalized at [0, 1]\n",
      "Warning. Fixed 1 boxes coordinates > 1. Check that your boxes was normalized at [0, 1]\n",
      "Warning. Fixed 1 boxes coordinates > 1. Check that your boxes was normalized at [0, 1]\n",
      "Warning. Fixed 2 boxes coordinates > 1. Check that your boxes was normalized at [0, 1]\n"
     ]
    },
    {
     "name": "stderr",
     "output_type": "stream",
     "text": [
      " 91%|█████████ | 4416/4871 [01:20<00:07, 57.65it/s]"
     ]
    },
    {
     "name": "stdout",
     "output_type": "stream",
     "text": [
      "Warning. Fixed 1 boxes coordinates > 1. Check that your boxes was normalized at [0, 1]\n",
      "Warning. Fixed 4 boxes coordinates > 1. Check that your boxes was normalized at [0, 1]\n",
      "Warning. Fixed 1 boxes coordinates > 1. Check that your boxes was normalized at [0, 1]\n",
      "Warning. Fixed 1 boxes coordinates > 1. Check that your boxes was normalized at [0, 1]\n"
     ]
    },
    {
     "name": "stderr",
     "output_type": "stream",
     "text": [
      " 91%|█████████ | 4422/4871 [01:20<00:07, 57.04it/s]"
     ]
    },
    {
     "name": "stdout",
     "output_type": "stream",
     "text": [
      "Warning. Fixed 6 boxes coordinates > 1. Check that your boxes was normalized at [0, 1]\n",
      "Warning. Fixed 1 boxes coordinates > 1. Check that your boxes was normalized at [0, 1]\n",
      "Warning. Fixed 1 boxes coordinates > 1. Check that your boxes was normalized at [0, 1]\n",
      "Warning. Fixed 2 boxes coordinates > 1. Check that your boxes was normalized at [0, 1]\n"
     ]
    },
    {
     "name": "stderr",
     "output_type": "stream",
     "text": [
      " 91%|█████████ | 4441/4871 [01:20<00:07, 54.65it/s]"
     ]
    },
    {
     "name": "stdout",
     "output_type": "stream",
     "text": [
      "Warning. Fixed 5 boxes coordinates > 1. Check that your boxes was normalized at [0, 1]\n",
      "Warning. Fixed 1 boxes coordinates > 1. Check that your boxes was normalized at [0, 1]\n",
      "Warning. Fixed 3 boxes coordinates > 1. Check that your boxes was normalized at [0, 1]\n"
     ]
    },
    {
     "name": "stderr",
     "output_type": "stream",
     "text": [
      " 91%|█████████▏| 4453/4871 [01:20<00:07, 54.95it/s]"
     ]
    },
    {
     "name": "stdout",
     "output_type": "stream",
     "text": [
      "Warning. Fixed 2 boxes coordinates > 1. Check that your boxes was normalized at [0, 1]\n",
      "Warning. Fixed 2 boxes coordinates > 1. Check that your boxes was normalized at [0, 1]\n",
      "Warning. Fixed 5 boxes coordinates > 1. Check that your boxes was normalized at [0, 1]\n"
     ]
    },
    {
     "name": "stderr",
     "output_type": "stream",
     "text": [
      " 92%|█████████▏| 4477/4871 [01:21<00:06, 56.61it/s]"
     ]
    },
    {
     "name": "stdout",
     "output_type": "stream",
     "text": [
      "Warning. Fixed 1 boxes coordinates > 1. Check that your boxes was normalized at [0, 1]\n",
      "Warning. Fixed 1 boxes coordinates > 1. Check that your boxes was normalized at [0, 1]\n",
      "Warning. Fixed 1 boxes coordinates > 1. Check that your boxes was normalized at [0, 1]\n",
      "Warning. Fixed 1 boxes coordinates > 1. Check that your boxes was normalized at [0, 1]\n"
     ]
    },
    {
     "name": "stderr",
     "output_type": "stream",
     "text": [
      " 92%|█████████▏| 4489/4871 [01:21<00:06, 54.78it/s]"
     ]
    },
    {
     "name": "stdout",
     "output_type": "stream",
     "text": [
      "Warning. Fixed 2 boxes coordinates > 1. Check that your boxes was normalized at [0, 1]\n"
     ]
    },
    {
     "name": "stderr",
     "output_type": "stream",
     "text": [
      " 92%|█████████▏| 4503/4871 [01:21<00:06, 58.34it/s]"
     ]
    },
    {
     "name": "stdout",
     "output_type": "stream",
     "text": [
      "Warning. Fixed 1 boxes coordinates > 1. Check that your boxes was normalized at [0, 1]\n"
     ]
    },
    {
     "name": "stderr",
     "output_type": "stream",
     "text": [
      " 93%|█████████▎| 4510/4871 [01:21<00:06, 59.20it/s]"
     ]
    },
    {
     "name": "stdout",
     "output_type": "stream",
     "text": [
      "Warning. Fixed 5 boxes coordinates > 1. Check that your boxes was normalized at [0, 1]\n",
      "Warning. Fixed 1 boxes coordinates > 1. Check that your boxes was normalized at [0, 1]\n",
      "Warning. Fixed 3 boxes coordinates > 1. Check that your boxes was normalized at [0, 1]\n"
     ]
    },
    {
     "name": "stderr",
     "output_type": "stream",
     "text": [
      " 93%|█████████▎| 4528/4871 [01:22<00:06, 53.24it/s]"
     ]
    },
    {
     "name": "stdout",
     "output_type": "stream",
     "text": [
      "Warning. Fixed 1 boxes coordinates > 1. Check that your boxes was normalized at [0, 1]\n",
      "Warning. Fixed 2 boxes coordinates > 1. Check that your boxes was normalized at [0, 1]\n",
      "Warning. Fixed 2 boxes coordinates > 1. Check that your boxes was normalized at [0, 1]\n",
      "Warning. Fixed 2 boxes coordinates > 1. Check that your boxes was normalized at [0, 1]\n"
     ]
    },
    {
     "name": "stderr",
     "output_type": "stream",
     "text": [
      " 93%|█████████▎| 4541/4871 [01:22<00:05, 57.99it/s]"
     ]
    },
    {
     "name": "stdout",
     "output_type": "stream",
     "text": [
      "Warning. Fixed 1 boxes coordinates > 1. Check that your boxes was normalized at [0, 1]\n",
      "Warning. Fixed 6 boxes coordinates > 1. Check that your boxes was normalized at [0, 1]\n",
      "Warning. Fixed 1 boxes coordinates > 1. Check that your boxes was normalized at [0, 1]\n",
      "Warning. Fixed 6 boxes coordinates > 1. Check that your boxes was normalized at [0, 1]\n"
     ]
    },
    {
     "name": "stderr",
     "output_type": "stream",
     "text": [
      " 94%|█████████▎| 4559/4871 [01:22<00:05, 58.63it/s]"
     ]
    },
    {
     "name": "stdout",
     "output_type": "stream",
     "text": [
      "Warning. Fixed 2 boxes coordinates > 1. Check that your boxes was normalized at [0, 1]\n"
     ]
    },
    {
     "name": "stderr",
     "output_type": "stream",
     "text": [
      " 94%|█████████▎| 4566/4871 [01:22<00:05, 60.31it/s]"
     ]
    },
    {
     "name": "stdout",
     "output_type": "stream",
     "text": [
      "Warning. Fixed 3 boxes coordinates > 1. Check that your boxes was normalized at [0, 1]\n",
      "Warning. Fixed 5 boxes coordinates > 1. Check that your boxes was normalized at [0, 1]\n",
      "Warning. Fixed 3 boxes coordinates > 1. Check that your boxes was normalized at [0, 1]\n",
      "Warning. Fixed 2 boxes coordinates > 1. Check that your boxes was normalized at [0, 1]\n",
      "Warning. Fixed 1 boxes coordinates > 1. Check that your boxes was normalized at [0, 1]\n"
     ]
    },
    {
     "name": "stderr",
     "output_type": "stream",
     "text": [
      " 94%|█████████▍| 4585/4871 [01:23<00:04, 58.37it/s]"
     ]
    },
    {
     "name": "stdout",
     "output_type": "stream",
     "text": [
      "Warning. Fixed 5 boxes coordinates > 1. Check that your boxes was normalized at [0, 1]\n",
      "Warning. Fixed 1 boxes coordinates > 1. Check that your boxes was normalized at [0, 1]\n",
      "Warning. Fixed 3 boxes coordinates > 1. Check that your boxes was normalized at [0, 1]\n"
     ]
    },
    {
     "name": "stderr",
     "output_type": "stream",
     "text": [
      " 95%|█████████▍| 4605/4871 [01:23<00:04, 59.67it/s]"
     ]
    },
    {
     "name": "stdout",
     "output_type": "stream",
     "text": [
      "Warning. Fixed 1 boxes coordinates > 1. Check that your boxes was normalized at [0, 1]\n",
      "Warning. Fixed 1 boxes coordinates > 1. Check that your boxes was normalized at [0, 1]\n"
     ]
    },
    {
     "name": "stderr",
     "output_type": "stream",
     "text": [
      " 95%|█████████▍| 4617/4871 [01:23<00:04, 58.21it/s]"
     ]
    },
    {
     "name": "stdout",
     "output_type": "stream",
     "text": [
      "Warning. Fixed 1 boxes coordinates > 1. Check that your boxes was normalized at [0, 1]\n",
      "Warning. Fixed 1 boxes coordinates > 1. Check that your boxes was normalized at [0, 1]\n",
      "Warning. Fixed 3 boxes coordinates > 1. Check that your boxes was normalized at [0, 1]\n",
      "Warning. Fixed 1 boxes coordinates > 1. Check that your boxes was normalized at [0, 1]\n"
     ]
    },
    {
     "name": "stderr",
     "output_type": "stream",
     "text": [
      " 95%|█████████▌| 4630/4871 [01:24<00:04, 56.78it/s]"
     ]
    },
    {
     "name": "stdout",
     "output_type": "stream",
     "text": [
      "Warning. Fixed 1 boxes coordinates > 1. Check that your boxes was normalized at [0, 1]\n",
      "Warning. Fixed 2 boxes coordinates > 1. Check that your boxes was normalized at [0, 1]\n",
      "Warning. Fixed 2 boxes coordinates > 1. Check that your boxes was normalized at [0, 1]\n"
     ]
    },
    {
     "name": "stderr",
     "output_type": "stream",
     "text": [
      " 95%|█████████▌| 4642/4871 [01:24<00:03, 57.70it/s]"
     ]
    },
    {
     "name": "stdout",
     "output_type": "stream",
     "text": [
      "Warning. Fixed 1 boxes coordinates > 1. Check that your boxes was normalized at [0, 1]\n",
      "Warning. Fixed 3 boxes coordinates > 1. Check that your boxes was normalized at [0, 1]\n",
      "Warning. Fixed 1 boxes coordinates > 1. Check that your boxes was normalized at [0, 1]\n"
     ]
    },
    {
     "name": "stderr",
     "output_type": "stream",
     "text": [
      " 96%|█████████▌| 4670/4871 [01:24<00:03, 60.06it/s]"
     ]
    },
    {
     "name": "stdout",
     "output_type": "stream",
     "text": [
      "Warning. Fixed 3 boxes coordinates > 1. Check that your boxes was normalized at [0, 1]\n",
      "Warning. Fixed 3 boxes coordinates > 1. Check that your boxes was normalized at [0, 1]\n",
      "Warning. Fixed 1 boxes coordinates > 1. Check that your boxes was normalized at [0, 1]\n",
      "Warning. Fixed 2 boxes coordinates > 1. Check that your boxes was normalized at [0, 1]\n",
      "Warning. Fixed 13 boxes coordinates > 1. Check that your boxes was normalized at [0, 1]\n"
     ]
    },
    {
     "name": "stderr",
     "output_type": "stream",
     "text": [
      " 96%|█████████▌| 4683/4871 [01:24<00:03, 57.06it/s]"
     ]
    },
    {
     "name": "stdout",
     "output_type": "stream",
     "text": [
      "Warning. Fixed 2 boxes coordinates > 1. Check that your boxes was normalized at [0, 1]\n"
     ]
    },
    {
     "name": "stderr",
     "output_type": "stream",
     "text": [
      " 96%|█████████▋| 4695/4871 [01:25<00:03, 55.95it/s]"
     ]
    },
    {
     "name": "stdout",
     "output_type": "stream",
     "text": [
      "Warning. Fixed 2 boxes coordinates > 1. Check that your boxes was normalized at [0, 1]\n",
      "Warning. Fixed 1 boxes coordinates > 1. Check that your boxes was normalized at [0, 1]\n",
      "Warning. Fixed 1 boxes coordinates > 1. Check that your boxes was normalized at [0, 1]\n"
     ]
    },
    {
     "name": "stderr",
     "output_type": "stream",
     "text": [
      " 97%|█████████▋| 4708/4871 [01:25<00:02, 57.72it/s]"
     ]
    },
    {
     "name": "stdout",
     "output_type": "stream",
     "text": [
      "Warning. Fixed 2 boxes coordinates > 1. Check that your boxes was normalized at [0, 1]\n",
      "Warning. Fixed 1 boxes coordinates > 1. Check that your boxes was normalized at [0, 1]\n"
     ]
    },
    {
     "name": "stderr",
     "output_type": "stream",
     "text": [
      " 97%|█████████▋| 4732/4871 [01:25<00:02, 55.33it/s]"
     ]
    },
    {
     "name": "stdout",
     "output_type": "stream",
     "text": [
      "Warning. Fixed 1 boxes coordinates > 1. Check that your boxes was normalized at [0, 1]\n",
      "Warning. Fixed 1 boxes coordinates > 1. Check that your boxes was normalized at [0, 1]\n",
      "Warning. Fixed 2 boxes coordinates > 1. Check that your boxes was normalized at [0, 1]\n"
     ]
    },
    {
     "name": "stderr",
     "output_type": "stream",
     "text": [
      " 97%|█████████▋| 4744/4871 [01:26<00:02, 53.96it/s]"
     ]
    },
    {
     "name": "stdout",
     "output_type": "stream",
     "text": [
      "Warning. Fixed 1 boxes coordinates > 1. Check that your boxes was normalized at [0, 1]\n",
      "Warning. Fixed 2 boxes coordinates > 1. Check that your boxes was normalized at [0, 1]\n",
      "Warning. Fixed 4 boxes coordinates > 1. Check that your boxes was normalized at [0, 1]\n"
     ]
    },
    {
     "name": "stderr",
     "output_type": "stream",
     "text": [
      " 98%|█████████▊| 4763/4871 [01:26<00:01, 54.60it/s]"
     ]
    },
    {
     "name": "stdout",
     "output_type": "stream",
     "text": [
      "Warning. Fixed 1 boxes coordinates > 1. Check that your boxes was normalized at [0, 1]\n",
      "Warning. Fixed 1 boxes coordinates > 1. Check that your boxes was normalized at [0, 1]\n",
      "Warning. Fixed 2 boxes coordinates > 1. Check that your boxes was normalized at [0, 1]\n",
      "Warning. Fixed 1 boxes coordinates > 1. Check that your boxes was normalized at [0, 1]\n",
      "Warning. Fixed 1 boxes coordinates > 1. Check that your boxes was normalized at [0, 1]\n"
     ]
    },
    {
     "name": "stderr",
     "output_type": "stream",
     "text": [
      " 98%|█████████▊| 4775/4871 [01:26<00:01, 55.32it/s]"
     ]
    },
    {
     "name": "stdout",
     "output_type": "stream",
     "text": [
      "Warning. Fixed 1 boxes coordinates > 1. Check that your boxes was normalized at [0, 1]\n"
     ]
    },
    {
     "name": "stderr",
     "output_type": "stream",
     "text": [
      " 98%|█████████▊| 4794/4871 [01:26<00:01, 57.99it/s]"
     ]
    },
    {
     "name": "stdout",
     "output_type": "stream",
     "text": [
      "Warning. Fixed 2 boxes coordinates > 1. Check that your boxes was normalized at [0, 1]\n",
      "Warning. Fixed 2 boxes coordinates > 1. Check that your boxes was normalized at [0, 1]\n",
      "Warning. Fixed 6 boxes coordinates > 1. Check that your boxes was normalized at [0, 1]\n"
     ]
    },
    {
     "name": "stderr",
     "output_type": "stream",
     "text": [
      " 99%|█████████▊| 4806/4871 [01:27<00:01, 55.72it/s]"
     ]
    },
    {
     "name": "stdout",
     "output_type": "stream",
     "text": [
      "Warning. Fixed 2 boxes coordinates > 1. Check that your boxes was normalized at [0, 1]\n",
      "Warning. Fixed 3 boxes coordinates > 1. Check that your boxes was normalized at [0, 1]\n",
      "Warning. Fixed 1 boxes coordinates > 1. Check that your boxes was normalized at [0, 1]\n"
     ]
    },
    {
     "name": "stderr",
     "output_type": "stream",
     "text": [
      " 99%|█████████▉| 4830/4871 [01:27<00:00, 57.55it/s]"
     ]
    },
    {
     "name": "stdout",
     "output_type": "stream",
     "text": [
      "Warning. Fixed 3 boxes coordinates > 1. Check that your boxes was normalized at [0, 1]\n",
      "Warning. Fixed 3 boxes coordinates > 1. Check that your boxes was normalized at [0, 1]\n",
      "Warning. Fixed 1 boxes coordinates > 1. Check that your boxes was normalized at [0, 1]\n",
      "Warning. Fixed 2 boxes coordinates > 1. Check that your boxes was normalized at [0, 1]\n"
     ]
    },
    {
     "name": "stderr",
     "output_type": "stream",
     "text": [
      " 99%|█████████▉| 4842/4871 [01:27<00:00, 56.66it/s]"
     ]
    },
    {
     "name": "stdout",
     "output_type": "stream",
     "text": [
      "Warning. Fixed 5 boxes coordinates > 1. Check that your boxes was normalized at [0, 1]\n",
      "Warning. Fixed 1 boxes coordinates > 1. Check that your boxes was normalized at [0, 1]\n",
      "Warning. Fixed 1 boxes coordinates > 1. Check that your boxes was normalized at [0, 1]\n",
      "Warning. Fixed 3 boxes coordinates > 1. Check that your boxes was normalized at [0, 1]\n"
     ]
    },
    {
     "name": "stderr",
     "output_type": "stream",
     "text": [
      "100%|█████████▉| 4861/4871 [01:28<00:00, 55.70it/s]"
     ]
    },
    {
     "name": "stdout",
     "output_type": "stream",
     "text": [
      "Warning. Fixed 2 boxes coordinates > 1. Check that your boxes was normalized at [0, 1]\n",
      "Warning. Fixed 3 boxes coordinates > 1. Check that your boxes was normalized at [0, 1]\n",
      "Warning. Fixed 1 boxes coordinates > 1. Check that your boxes was normalized at [0, 1]\n"
     ]
    },
    {
     "name": "stderr",
     "output_type": "stream",
     "text": [
      "100%|██████████| 4871/4871 [01:28<00:00, 55.18it/s]"
     ]
    },
    {
     "name": "stdout",
     "output_type": "stream",
     "text": [
      "Warning. Fixed 8 boxes coordinates > 1. Check that your boxes was normalized at [0, 1]\n",
      "Warning. Fixed 1 boxes coordinates > 1. Check that your boxes was normalized at [0, 1]\n"
     ]
    },
    {
     "name": "stderr",
     "output_type": "stream",
     "text": [
      "\n"
     ]
    }
   ],
   "source": [
    "from tqdm import tqdm\n",
    "prediction_strings = []\n",
    "file_names = []\n",
    "iou_thr = 0.6\n",
    "skip_box_thr=0\n",
    "conf_type = 'avg' # 'avg', 'max', 'box_and_model_avg', 'absent_model_aware_avg'\n",
    "'''\n",
    "param conf_type: how to calculate confidence in weighted boxes.\n",
    "    'avg': average value,\n",
    "    'max': maximum value,\n",
    "    'box_and_model_avg': box and model wise hybrid weighted average,\n",
    "    'absent_model_aware_avg': weighted average that takes into account the absent model.\n",
    "'''\n",
    "\n",
    "for i, image_id in enumerate(tqdm(image_ids)):\n",
    "    prediction_string = ''\n",
    "    boxes_list = []\n",
    "    scores_list = []\n",
    "    labels_list = []\n",
    "    image_info = coco.loadImgs(i)[0]\n",
    "    \n",
    "    for df in submission_df:\n",
    "        if df[df['image_id'] == image_id]['PredictionString'].tolist():\n",
    "            predict_string = df[df['image_id'] == image_id]['PredictionString'].tolist()[0]\n",
    "            predict_list = str(predict_string).split()\n",
    "        \n",
    "        if len(predict_list)==0 or len(predict_list)==1:\n",
    "            continue\n",
    "            \n",
    "        predict_list = np.reshape(predict_list, (-1, 6))\n",
    "        box_list = []\n",
    "        \n",
    "        for box in predict_list[:, 2:6].tolist():\n",
    "            box[0] = float(box[0]) / image_info['width']\n",
    "            box[1] = float(box[1]) / image_info['height']\n",
    "            box[2] = float(box[2]) / image_info['width']\n",
    "            box[3] = float(box[3]) / image_info['height']\n",
    "            box_list.append(box)\n",
    "            \n",
    "        boxes_list.append(box_list)\n",
    "        scores_list.append(list(map(float, predict_list[:, 1].tolist())))\n",
    "        labels_list.append(list(map(int, predict_list[:, 0].tolist())))\n",
    "    \n",
    "    if len(boxes_list):\n",
    "        boxes, scores, labels = nms(boxes_list, scores_list, labels_list,iou_thr=iou_thr)\n",
    "        # boxes, scores, labels = soft_nms(box_list, scores_list, labels_list, iou_thr=iou_thr)\n",
    "        # boxes, scores, labels = non_maximum_weighted(boxes_list, scores_list, labels_list,iou_thr=iou_thr)\n",
    "        # boxes, scores, labels = weighted_boxes_fusion(boxes_list, scores_list, labels_list,iou_thr=0.5,conf_type='box_and_model_avg')\n",
    "        # boxes, scores, labels = weighted_boxes_fusion(boxes_list, scores_list, labels_list, iou_thr=iou_thr, skip_box_thr=skip_box_thr)\n",
    "\n",
    "        for box, score, label in zip(boxes, scores, labels):\n",
    "            prediction_string += str(int(label)) + ' ' + str(score) + ' ' + str(box[0] * image_info['width']) + ' ' + str(box[1] * image_info['height']) + ' ' + str(box[2] * image_info['width']) + ' ' + str(box[3] * image_info['height']) + ' '\n",
    "    \n",
    "    prediction_strings.append(prediction_string)\n",
    "    file_names.append(image_id)"
   ]
  },
  {
   "cell_type": "code",
   "execution_count": 17,
   "metadata": {},
   "outputs": [
    {
     "data": {
      "text/html": [
       "<div>\n",
       "<style scoped>\n",
       "    .dataframe tbody tr th:only-of-type {\n",
       "        vertical-align: middle;\n",
       "    }\n",
       "\n",
       "    .dataframe tbody tr th {\n",
       "        vertical-align: top;\n",
       "    }\n",
       "\n",
       "    .dataframe thead th {\n",
       "        text-align: right;\n",
       "    }\n",
       "</style>\n",
       "<table border=\"1\" class=\"dataframe\">\n",
       "  <thead>\n",
       "    <tr style=\"text-align: right;\">\n",
       "      <th></th>\n",
       "      <th>PredictionString</th>\n",
       "      <th>image_id</th>\n",
       "    </tr>\n",
       "  </thead>\n",
       "  <tbody>\n",
       "    <tr>\n",
       "      <th>0</th>\n",
       "      <td>0 0.10780899971723557 327.4179382324219 639.33...</td>\n",
       "      <td>test/0000.jpg</td>\n",
       "    </tr>\n",
       "    <tr>\n",
       "      <th>1</th>\n",
       "      <td>0 0.2398233711719513 637.3775024414062 650.397...</td>\n",
       "      <td>test/0001.jpg</td>\n",
       "    </tr>\n",
       "    <tr>\n",
       "      <th>2</th>\n",
       "      <td>0 0.7020535469055176 878.8914184570312 463.548...</td>\n",
       "      <td>test/0002.jpg</td>\n",
       "    </tr>\n",
       "    <tr>\n",
       "      <th>3</th>\n",
       "      <td>0 0.03331926700315977 15.871737480163574 114.5...</td>\n",
       "      <td>test/0003.jpg</td>\n",
       "    </tr>\n",
       "    <tr>\n",
       "      <th>4</th>\n",
       "      <td>0 0.4408690631389618 433.6463317871094 405.499...</td>\n",
       "      <td>test/0004.jpg</td>\n",
       "    </tr>\n",
       "    <tr>\n",
       "      <th>...</th>\n",
       "      <td>...</td>\n",
       "      <td>...</td>\n",
       "    </tr>\n",
       "    <tr>\n",
       "      <th>4866</th>\n",
       "      <td>0 0.5759724742836423 293.30999755859375 349.20...</td>\n",
       "      <td>test/4866.jpg</td>\n",
       "    </tr>\n",
       "    <tr>\n",
       "      <th>4867</th>\n",
       "      <td>0 0.42011648416519165 625.5298461914062 665.24...</td>\n",
       "      <td>test/4867.jpg</td>\n",
       "    </tr>\n",
       "    <tr>\n",
       "      <th>4868</th>\n",
       "      <td>0 0.15808932979901633 545.0625610351562 536.87...</td>\n",
       "      <td>test/4868.jpg</td>\n",
       "    </tr>\n",
       "    <tr>\n",
       "      <th>4869</th>\n",
       "      <td>0 0.8391531109809875 5.799160480499268 235.651...</td>\n",
       "      <td>test/4869.jpg</td>\n",
       "    </tr>\n",
       "    <tr>\n",
       "      <th>4870</th>\n",
       "      <td>0 0.1107720191541471 241.0446014404297 822.557...</td>\n",
       "      <td>test/4870.jpg</td>\n",
       "    </tr>\n",
       "  </tbody>\n",
       "</table>\n",
       "<p>4871 rows × 2 columns</p>\n",
       "</div>"
      ],
      "text/plain": [
       "                                       PredictionString       image_id\n",
       "0     0 0.10780899971723557 327.4179382324219 639.33...  test/0000.jpg\n",
       "1     0 0.2398233711719513 637.3775024414062 650.397...  test/0001.jpg\n",
       "2     0 0.7020535469055176 878.8914184570312 463.548...  test/0002.jpg\n",
       "3     0 0.03331926700315977 15.871737480163574 114.5...  test/0003.jpg\n",
       "4     0 0.4408690631389618 433.6463317871094 405.499...  test/0004.jpg\n",
       "...                                                 ...            ...\n",
       "4866  0 0.5759724742836423 293.30999755859375 349.20...  test/4866.jpg\n",
       "4867  0 0.42011648416519165 625.5298461914062 665.24...  test/4867.jpg\n",
       "4868  0 0.15808932979901633 545.0625610351562 536.87...  test/4868.jpg\n",
       "4869  0 0.8391531109809875 5.799160480499268 235.651...  test/4869.jpg\n",
       "4870  0 0.1107720191541471 241.0446014404297 822.557...  test/4870.jpg\n",
       "\n",
       "[4871 rows x 2 columns]"
      ]
     },
     "execution_count": 17,
     "metadata": {},
     "output_type": "execute_result"
    }
   ],
   "source": [
    "submission = pd.DataFrame()\n",
    "submission['PredictionString'] = prediction_strings\n",
    "submission['image_id'] = file_names\n",
    "submission.to_csv('/opt/ml/detection/baseline/mmdetection/output/ensemble_top5_ensemble.csv', index = False)\n",
    "\n",
    "submission"
   ]
  },
  {
   "cell_type": "code",
   "execution_count": null,
   "metadata": {},
   "outputs": [],
   "source": [
    "import matplotlib.pyplot as plt\n",
    "import cv2\n",
    "\n",
    "index = 190\n",
    "img = plt.imread(f\"/opt/ml/detection/dataset/test/{str(index).zfill(4)}.jpg\")\n",
    "\n",
    "elements = submission.PredictionString[index].split()\n",
    "i=0\n",
    "while i<len(elements):\n",
    "    label, score, x1, y1, x2, y2 = elements[i:i+6]\n",
    "    if float(score) < 0.3:\n",
    "        i+=6\n",
    "        continue\n",
    "    x1 = int(float(x1))\n",
    "    y1 = int(float(y1))\n",
    "    x2 = int(float(x2))\n",
    "    y2 = int(float(y2))\n",
    "    cv2.rectangle(img, (x1, y1), (x2, y2), (0, 255, 0), 3)\n",
    "    i += 6\n",
    "\n",
    "plt.figure(figsize=(15,15))\n",
    "plt.imshow(img)"
   ]
  },
  {
   "cell_type": "code",
   "execution_count": null,
   "metadata": {},
   "outputs": [],
   "source": []
  }
 ],
 "metadata": {
  "interpreter": {
   "hash": "d4d1e4263499bec80672ea0156c357c1ee493ec2b1c70f0acce89fc37c4a6abe"
  },
  "kernelspec": {
   "display_name": "Python 3 (ipykernel)",
   "language": "python",
   "name": "python3"
  },
  "language_info": {
   "codemirror_mode": {
    "name": "ipython",
    "version": 3
   },
   "file_extension": ".py",
   "mimetype": "text/x-python",
   "name": "python",
   "nbconvert_exporter": "python",
   "pygments_lexer": "ipython3",
   "version": "3.7.11"
  }
 },
 "nbformat": 4,
 "nbformat_minor": 4
}
