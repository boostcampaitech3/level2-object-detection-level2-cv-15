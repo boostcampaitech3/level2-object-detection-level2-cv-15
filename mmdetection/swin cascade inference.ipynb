{
 "cells": [
  {
   "cell_type": "code",
   "execution_count": 1,
   "id": "3fd75793",
   "metadata": {},
   "outputs": [],
   "source": [
    "import mmcv\n",
    "from mmcv import Config\n",
    "from mmdet.datasets import (build_dataloader, build_dataset,\n",
    "                            replace_ImageToTensor)\n",
    "from mmdet.models import build_detector\n",
    "from mmdet.apis import single_gpu_test\n",
    "from mmcv.runner import load_checkpoint\n",
    "import os\n",
    "from mmcv.parallel import MMDataParallel\n",
    "import pandas as pd\n",
    "from pandas import DataFrame\n",
    "from pycocotools.coco import COCO\n",
    "import numpy as np"
   ]
  },
  {
   "cell_type": "code",
   "execution_count": 28,
   "id": "edda58ea",
   "metadata": {},
   "outputs": [],
   "source": [
    "classes = (\"General trash\", \"Paper\", \"Paper pack\", \"Metal\", \"Glass\", \n",
    "           \"Plastic\", \"Styrofoam\", \"Plastic bag\", \"Battery\", \"Clothing\")\n",
    "\n",
    "# config file 들고오기\n",
    "# cfg = Config.fromfile('./configs/faster_rcnn/faster_rcnn_r50_fpn_1x_coco.py')\n",
    "# cfg = Config.fromfile('./77_cascade_swins_fpn_3x_TTA.py')\n",
    "# cfg = Config.fromfile('./2ed/85_cascade_swins_fpn_3x_iou_change.py')\n",
    "# cfg = Config.fromfile('./myconfig.py')\n",
    "cfg = Config.fromfile('./faster_rcnn_swin_pafpn_3x_coco.py')\n",
    "\n",
    "# root='../../dataset/'\n",
    "root='../../dataset_erase2/dataset/'\n",
    "# epoch = 'latest'\n",
    "epoch = 'best_bbox_mAP_50_epoch_24'\n",
    "# epoch = 'epoch_24'\n",
    "# dataset config 수정\n",
    "cfg.data.test.classes = classes\n",
    "cfg.data.test.img_prefix = root\n",
    "cfg.data.test.ann_file = root + 'test.json'\n",
    "# cfg.data.test.pipeline[1]['img_scale'] = (512,512) # Resize\n",
    "cfg.data.test.test_mode = True\n",
    "\n",
    "cfg.data.samples_per_gpu = 1\n",
    "\n",
    "cfg.seed=2021\n",
    "cfg.gpu_ids = [1]\n",
    "# cfg.work_dir = './work_dirs/2_cascade_swins_fpn_adamW_resize1024'\n",
    "# cfg.work_dir = './work_dirs/1_cascade_swins_fpn_adamW'\n",
    "# cfg.work_dir = './work_dirs/carscade_rcnn_pvt2_pafpn_1x_trash/Adamw_step_aug2_iou'\n",
    "# cfg.work_dir = './work_dirs/77_cascade_swins_fpn_3x_TTA_2'\n",
    "# cfg.work_dir = './work_dirs/77_cascade_swins_fpn_3x_erase'\n",
    "# cfg.work_dir = './work_dirs/77_cascade_swins_fpn_3x_erase_erase'\n",
    "# cfg.work_dir = './work_dirs/77_cascade_swins_fpn_3x_erase_normal'\n",
    "# cfg.work_dir = './work_dirs/77_cascade_swins_fpn_3x_erase_erase_relabelling'\n",
    "cfg.work_dir = './'\n",
    "\n",
    "# cfg.work_dir = './work_dirs/3_soft_teacher_base_720'\n",
    "# cfg.work_dir = '/opt/ml/detection/baseline/mmdetection/work_dirs/77_cascade_swins_fpn_3x_TTA/'\n",
    "# detection/baseline/mmdetection/work_dirs/77_cascade_swins_fpn_3x_TTA/latest.pth\n",
    "# cfg.work_dir = './work_dirs/dynamic/3_pseudo'\n",
    "\n",
    "cfg.model.roi_head.bbox_head.num_classes = 10\n",
    "# detection/baseline/mmdetection/work_dirs/77_cascade_swins_fpn_3x_TTA/latest.pths\n",
    "\n",
    "\n",
    "# cfg.model.roi_head.bbox_head[0].num_classes = 10\n",
    "# cfg.model.roi_head.bbox_head[1].num_classes = 10\n",
    "# cfg.model.roi_head.bbox_head[2].num_classes = 10\n",
    "# cfg.model.bbox_head.num_classes = 10\n",
    "# cfg.optimizer_config.grad_clip = dict(max_norm=35, norm_type=2)\n",
    "cfg.model.train_cfg = None\n",
    "\n"
   ]
  },
  {
   "cell_type": "code",
   "execution_count": 29,
   "id": "72bd2204-3061-4983-8f5d-b598b4660d7b",
   "metadata": {},
   "outputs": [
    {
     "name": "stdout",
     "output_type": "stream",
     "text": [
      "loading annotations into memory...\n",
      "Done (t=0.01s)\n",
      "creating index...\n",
      "index created!\n"
     ]
    }
   ],
   "source": [
    "# build dataset & dataloader\n",
    "dataset = build_dataset(cfg.data.test)\n",
    "data_loader = build_dataloader(\n",
    "        dataset,\n",
    "        samples_per_gpu=1,\n",
    "        workers_per_gpu=cfg.data.workers_per_gpu,\n",
    "        dist=False,\n",
    "        shuffle=False)"
   ]
  },
  {
   "cell_type": "code",
   "execution_count": 30,
   "id": "83b3eae6",
   "metadata": {},
   "outputs": [
    {
     "name": "stdout",
     "output_type": "stream",
     "text": [
      "load checkpoint from local path: ./best_bbox_mAP_50_epoch_24.pth\n"
     ]
    }
   ],
   "source": [
    "# checkpoint path\n",
    "checkpoint_path = os.path.join(cfg.work_dir, f'{epoch}.pth')\n",
    "# checkpoint_path = '/opt/ml/detection/baseline/mmdetection/work_dirs/77_cascade_swins_fpn_3x_TTA_2/latest.pth'\n",
    "\n",
    "model = build_detector(cfg.model, test_cfg=cfg.get('test_cfg')) # build detector\n",
    "checkpoint = load_checkpoint(model, checkpoint_path, map_location='cpu') # ckpt load\n",
    "\n",
    "model.CLASSES = dataset.CLASSES\n",
    "model = MMDataParallel(model.cuda(), device_ids=[0])"
   ]
  },
  {
   "cell_type": "code",
   "execution_count": 31,
   "id": "c9f5c2bb",
   "metadata": {},
   "outputs": [
    {
     "name": "stdout",
     "output_type": "stream",
     "text": [
      "[>>>>>>>>>>>>>>>>>>>>>>>>>>] 4871/4871, 3.0 task/s, elapsed: 1620s, ETA:     0s"
     ]
    }
   ],
   "source": [
    "output = single_gpu_test(model, data_loader, show_score_thr=0.05) # output 계산"
   ]
  },
  {
   "cell_type": "code",
   "execution_count": 33,
   "id": "5672a0ff",
   "metadata": {},
   "outputs": [
    {
     "name": "stdout",
     "output_type": "stream",
     "text": [
      "loading annotations into memory...\n",
      "Done (t=0.01s)\n",
      "creating index...\n",
      "index created!\n"
     ]
    },
    {
     "data": {
      "text/html": [
       "<div>\n",
       "<style scoped>\n",
       "    .dataframe tbody tr th:only-of-type {\n",
       "        vertical-align: middle;\n",
       "    }\n",
       "\n",
       "    .dataframe tbody tr th {\n",
       "        vertical-align: top;\n",
       "    }\n",
       "\n",
       "    .dataframe thead th {\n",
       "        text-align: right;\n",
       "    }\n",
       "</style>\n",
       "<table border=\"1\" class=\"dataframe\">\n",
       "  <thead>\n",
       "    <tr style=\"text-align: right;\">\n",
       "      <th></th>\n",
       "      <th>PredictionString</th>\n",
       "      <th>image_id</th>\n",
       "    </tr>\n",
       "  </thead>\n",
       "  <tbody>\n",
       "    <tr>\n",
       "      <th>0</th>\n",
       "      <td>0 0.11600642 481.15704 589.3275 572.985 660.14...</td>\n",
       "      <td>test/0000.jpg</td>\n",
       "    </tr>\n",
       "    <tr>\n",
       "      <th>1</th>\n",
       "      <td>0 0.41900325 633.676 647.79987 688.04517 845.2...</td>\n",
       "      <td>test/0001.jpg</td>\n",
       "    </tr>\n",
       "    <tr>\n",
       "      <th>2</th>\n",
       "      <td>0 0.9189069 878.9129 463.2321 1021.94037 630.8...</td>\n",
       "      <td>test/0002.jpg</td>\n",
       "    </tr>\n",
       "    <tr>\n",
       "      <th>3</th>\n",
       "      <td>0 0.06676256 43.975418 193.06616 980.4905 909....</td>\n",
       "      <td>test/0003.jpg</td>\n",
       "    </tr>\n",
       "    <tr>\n",
       "      <th>4</th>\n",
       "      <td>0 0.7281811 441.4682 394.5675 657.6543 567.054...</td>\n",
       "      <td>test/0004.jpg</td>\n",
       "    </tr>\n",
       "  </tbody>\n",
       "</table>\n",
       "</div>"
      ],
      "text/plain": [
       "                                    PredictionString       image_id\n",
       "0  0 0.11600642 481.15704 589.3275 572.985 660.14...  test/0000.jpg\n",
       "1  0 0.41900325 633.676 647.79987 688.04517 845.2...  test/0001.jpg\n",
       "2  0 0.9189069 878.9129 463.2321 1021.94037 630.8...  test/0002.jpg\n",
       "3  0 0.06676256 43.975418 193.06616 980.4905 909....  test/0003.jpg\n",
       "4  0 0.7281811 441.4682 394.5675 657.6543 567.054...  test/0004.jpg"
      ]
     },
     "execution_count": 33,
     "metadata": {},
     "output_type": "execute_result"
    }
   ],
   "source": [
    "# submission 양식에 맞게 output 후처리\n",
    "prediction_strings = []\n",
    "file_names = []\n",
    "coco = COCO(cfg.data.test.ann_file)\n",
    "img_ids = coco.getImgIds()\n",
    "\n",
    "class_num = 10\n",
    "for i, out in enumerate(output):\n",
    "    prediction_string = ''\n",
    "    image_info = coco.loadImgs(coco.getImgIds(imgIds=i))[0]\n",
    "    for j in range(class_num):\n",
    "        for o in out[j]:\n",
    "            prediction_string += str(j) + ' ' + str(o[4]) + ' ' + str(o[0]) + ' ' + str(o[1]) + ' ' + str(\n",
    "                o[2]) + ' ' + str(o[3]) + ' '\n",
    "        \n",
    "    prediction_strings.append(prediction_string)\n",
    "    file_names.append(image_info['file_name'])\n",
    "\n",
    "\n",
    "submission = pd.DataFrame()\n",
    "submission['PredictionString'] = prediction_strings\n",
    "submission['image_id'] = file_names\n",
    "# submission.to_csv(os.path.join(cfg.work_dir, f'submission_{epoch}_.csv'), index=None)\n",
    "submission.to_csv(os.path.join(cfg.work_dir, f'submission_faster_rcnn_swin_pafpn_3x_coco__best_bbox_mAP_50_epoch_24.csv'), index=None)\n",
    "submission.head()"
   ]
  },
  {
   "cell_type": "code",
   "execution_count": null,
   "id": "60b4be17-e47b-4614-a9e5-7aace76cc5c7",
   "metadata": {},
   "outputs": [],
   "source": []
  }
 ],
 "metadata": {
  "kernelspec": {
   "display_name": "Python 3 (ipykernel)",
   "language": "python",
   "name": "python3"
  },
  "language_info": {
   "codemirror_mode": {
    "name": "ipython",
    "version": 3
   },
   "file_extension": ".py",
   "mimetype": "text/x-python",
   "name": "python",
   "nbconvert_exporter": "python",
   "pygments_lexer": "ipython3",
   "version": "3.7.11"
  }
 },
 "nbformat": 4,
 "nbformat_minor": 5
}
