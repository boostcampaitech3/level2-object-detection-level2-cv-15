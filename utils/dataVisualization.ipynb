{
 "cells": [
  {
   "cell_type": "code",
   "execution_count": 1,
   "id": "02adeb2d-6328-4f19-a5fe-1fc6595f6c07",
   "metadata": {},
   "outputs": [],
   "source": [
    "import pandas as pd\n",
    "import numpy as np\n",
    "import json\n",
    "from pycocotools.coco import COCO\n",
    "from collections import Counter\n",
    "import matplotlib.pyplot as plt\n",
    "import wandb\n",
    "import random\n",
    "import os"
   ]
  },
  {
   "cell_type": "code",
   "execution_count": 4,
   "id": "3d0e70e4-723c-4585-b5f7-bb03b617e9da",
   "metadata": {},
   "outputs": [
    {
     "name": "stdout",
     "output_type": "stream",
     "text": [
      "/opt/ml/detection/baseline/mmdetection/work_dirs\n"
     ]
    }
   ],
   "source": [
    "!pwd"
   ]
  },
  {
   "cell_type": "code",
   "execution_count": 9,
   "id": "0ef33a88-7ec5-442b-9065-f5a1b1f86151",
   "metadata": {},
   "outputs": [
    {
     "data": {
      "text/html": [
       "Finishing last run (ID:9n54jinp) before initializing another..."
      ],
      "text/plain": [
       "<IPython.core.display.HTML object>"
      ]
     },
     "metadata": {},
     "output_type": "display_data"
    },
    {
     "name": "stdout",
     "output_type": "stream",
     "text": [
      "\n"
     ]
    },
    {
     "data": {
      "text/html": [
       "Waiting for W&B process to finish... <strong style=\"color:green\">(success).</strong>"
      ],
      "text/plain": [
       "<IPython.core.display.HTML object>"
      ]
     },
     "metadata": {},
     "output_type": "display_data"
    },
    {
     "data": {
      "application/vnd.jupyter.widget-view+json": {
       "model_id": "",
       "version_major": 2,
       "version_minor": 0
      },
      "text/plain": [
       "VBox(children=(Label(value='21.840 MB of 21.840 MB uploaded (0.000 MB deduped)\\r'), FloatProgress(value=1.0, m…"
      ]
     },
     "metadata": {},
     "output_type": "display_data"
    },
    {
     "data": {
      "text/html": [
       "Synced <strong style=\"color:#cdcd00\">Seok_nms</strong>: <a href=\"https://wandb.ai/boostcampaitech3/visualization/runs/9n54jinp\" target=\"_blank\">https://wandb.ai/boostcampaitech3/visualization/runs/9n54jinp</a><br/>Synced 5 W&B file(s), 200 media file(s), 0 artifact file(s) and 0 other file(s)"
      ],
      "text/plain": [
       "<IPython.core.display.HTML object>"
      ]
     },
     "metadata": {},
     "output_type": "display_data"
    },
    {
     "data": {
      "text/html": [
       "Find logs at: <code>./wandb/run-20220405_124831-9n54jinp/logs</code>"
      ],
      "text/plain": [
       "<IPython.core.display.HTML object>"
      ]
     },
     "metadata": {},
     "output_type": "display_data"
    },
    {
     "data": {
      "text/html": [
       "Successfully finished last run (ID:9n54jinp). Initializing new run:<br/>"
      ],
      "text/plain": [
       "<IPython.core.display.HTML object>"
      ]
     },
     "metadata": {},
     "output_type": "display_data"
    },
    {
     "data": {
      "text/html": [
       "Tracking run with wandb version 0.12.11"
      ],
      "text/plain": [
       "<IPython.core.display.HTML object>"
      ]
     },
     "metadata": {},
     "output_type": "display_data"
    },
    {
     "data": {
      "text/html": [
       "Run data is saved locally in <code>/opt/ml/detection/baseline/mmdetection/work_dirs/wandb/run-20220405_125230-13w081wo</code>"
      ],
      "text/plain": [
       "<IPython.core.display.HTML object>"
      ]
     },
     "metadata": {},
     "output_type": "display_data"
    },
    {
     "data": {
      "text/html": [
       "Syncing run <strong><a href=\"https://wandb.ai/boostcampaitech3/visualization/runs/13w081wo\" target=\"_blank\">Seok_softnms</a></strong> to <a href=\"https://wandb.ai/boostcampaitech3/visualization\" target=\"_blank\">Weights & Biases</a> (<a href=\"https://wandb.me/run\" target=\"_blank\">docs</a>)<br/>"
      ],
      "text/plain": [
       "<IPython.core.display.HTML object>"
      ]
     },
     "metadata": {},
     "output_type": "display_data"
    }
   ],
   "source": [
    "name = \"Seok_softnms\"  #실험 이름\n",
    "inference_file = \"./cascade_rcnn_swin_pafpn_3x/submission_best_bbox_mAP_50_epoch_36_2.csv\" #submission file 이름\n",
    "data_path = \"../../../dataset\" # dataset 폴더 경로\n",
    "n = 100 # 몇개의 이미지를 시각화 할지\n",
    "\n",
    "wandb.init(project=\"visualization\", entity=\"boostcampaitech3\", name = name)\n",
    "categories = {0: 'General trash', 1: 'Paper', 2: 'Paper pack', 3: 'Metal', 4: 'Glass', 5: 'Plastic',\n",
    " 6: 'Styrofoam', 7: 'Plastic bag', 8: 'Battery', 9: 'Clothing'}\n",
    "# categories = {1: 'General trash', 2: 'Paper', 3: 'Paper pack', 4: 'Metal', 5: 'Glass', 6: 'Plastic',\n",
    "#  7: 'Styrofoam', 8: 'Plastic bag', 9: 'Battery', 10: 'Clothing'}\n",
    "labels_file =  pd.read_csv(inference_file)\n",
    "image_ids = list(labels_file[\"image_id\"])\n",
    "predictions = list(labels_file[\"PredictionString\"])\n",
    "imgs=[]\n",
    "\n",
    "def list_chunk(lst, n):\n",
    "    return [lst[i:i+n] for i in range(0, len(lst), n)]\n",
    "\n",
    "for image_id, prediction in zip(image_ids[:n], predictions[:n]):\n",
    "    wandb_boxes = {\"predictions\" : {\"box_data\" : [],\n",
    "                                    \"class_labels\" : categories}}\n",
    "    preds = list_chunk(prediction.split(),6)\n",
    "    for pred in preds:\n",
    "        curr_box = {}\n",
    "        curr_box[\"position\"] = {\"minX\" : float(pred[2]),\n",
    "                               \"minY\" : float(pred[3]),\n",
    "                               \"maxX\" : float(pred[4]),\n",
    "                               \"maxY\" : float(pred[5])}\n",
    "        curr_box[\"class_id\"] = int(pred[0])\n",
    "        curr_box[\"box_caption\"] = categories[int(pred[0])]\n",
    "        curr_box[\"scores\"] = {\"score\" : float(pred[1])}\n",
    "        curr_box[\"domain\"] = \"pixel\"\n",
    "        wandb_boxes[\"predictions\"][\"box_data\"].append(curr_box)\n",
    "\n",
    "    img_path = os.path.join(data_path, image_id)\n",
    "    img = wandb.Image(img_path, boxes=wandb_boxes)\n",
    "    imgs.append(img)\n",
    "    \n",
    "wandb.log({\"Inference\" : imgs})"
   ]
  },
  {
   "cell_type": "code",
   "execution_count": null,
   "id": "da10f3fc-b673-4d5a-b13c-fb4c3281f440",
   "metadata": {},
   "outputs": [],
   "source": []
  }
 ],
 "metadata": {
  "kernelspec": {
   "display_name": "detection",
   "language": "python",
   "name": "detection"
  },
  "language_info": {
   "codemirror_mode": {
    "name": "ipython",
    "version": 3
   },
   "file_extension": ".py",
   "mimetype": "text/x-python",
   "name": "python",
   "nbconvert_exporter": "python",
   "pygments_lexer": "ipython3",
   "version": "3.7.11"
  }
 },
 "nbformat": 4,
 "nbformat_minor": 5
}
