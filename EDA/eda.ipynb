{
 "cells": [
  {
   "cell_type": "code",
   "execution_count": 1,
   "id": "c2b3c943-36b7-4c9d-acc9-60858d58d138",
   "metadata": {},
   "outputs": [],
   "source": [
    "import pandas as pd\n",
    "import numpy as np\n",
    "import json\n",
    "from pandas import json_normalize\n",
    "import matplotlib.pyplot as plt\n",
    "import seaborn as sns\n",
    "from PIL import Image\n",
    "import matplotlib.pyplot as plt\n",
    "import matplotlib.image as mpimg\n",
    "import matplotlib.patches as patches"
   ]
  },
  {
   "cell_type": "code",
   "execution_count": 2,
   "id": "1b5009a7-463e-4ae2-8d78-b50e6617529c",
   "metadata": {},
   "outputs": [],
   "source": [
    "json_file_path = './cv_train_1.json'"
   ]
  },
  {
   "cell_type": "code",
   "execution_count": 3,
   "id": "51c31d0c-ca2e-4980-9b5f-b9d77e8aadb1",
   "metadata": {},
   "outputs": [],
   "source": [
    "with open(json_file_path, 'r') as j :\n",
    "    json_data = json.load(j)"
   ]
  },
  {
   "cell_type": "code",
   "execution_count": 4,
   "id": "11acdd1b-00e0-44a7-ae2b-bfd00b71a319",
   "metadata": {},
   "outputs": [
    {
     "name": "stdout",
     "output_type": "stream",
     "text": [
      "[{'id': 0, 'name': 'General trash', 'supercategory': 'General trash'}, {'id': 1, 'name': 'Paper', 'supercategory': 'Paper'}, {'id': 2, 'name': 'Paper pack', 'supercategory': 'Paper pack'}, {'id': 3, 'name': 'Metal', 'supercategory': 'Metal'}, {'id': 4, 'name': 'Glass', 'supercategory': 'Glass'}, {'id': 5, 'name': 'Plastic', 'supercategory': 'Plastic'}, {'id': 6, 'name': 'Styrofoam', 'supercategory': 'Styrofoam'}, {'id': 7, 'name': 'Plastic bag', 'supercategory': 'Plastic bag'}, {'id': 8, 'name': 'Battery', 'supercategory': 'Battery'}, {'id': 9, 'name': 'Clothing', 'supercategory': 'Clothing'}]\n"
     ]
    }
   ],
   "source": [
    "print(json_data['categories'])"
   ]
  },
  {
   "cell_type": "code",
   "execution_count": 23,
   "id": "6fa6ac94-eff6-4e5a-b762-bfd9e2e14cc9",
   "metadata": {},
   "outputs": [],
   "source": [
    "df_annotations = json_normalize(json_data['annotations'])"
   ]
  },
  {
   "cell_type": "code",
   "execution_count": 24,
   "id": "d6580593-c64c-475b-8a50-8e4280179881",
   "metadata": {},
   "outputs": [],
   "source": [
    "df_annotations_0 = df_annotations[df_annotations['category_id'] == 0]"
   ]
  },
  {
   "cell_type": "code",
   "execution_count": 25,
   "id": "99def2ac-dad6-45c9-bc64-1d8ff4f8b222",
   "metadata": {},
   "outputs": [
    {
     "data": {
      "text/html": [
       "<div>\n",
       "<style scoped>\n",
       "    .dataframe tbody tr th:only-of-type {\n",
       "        vertical-align: middle;\n",
       "    }\n",
       "\n",
       "    .dataframe tbody tr th {\n",
       "        vertical-align: top;\n",
       "    }\n",
       "\n",
       "    .dataframe thead th {\n",
       "        text-align: right;\n",
       "    }\n",
       "</style>\n",
       "<table border=\"1\" class=\"dataframe\">\n",
       "  <thead>\n",
       "    <tr style=\"text-align: right;\">\n",
       "      <th></th>\n",
       "      <th>image_id</th>\n",
       "      <th>category_id</th>\n",
       "      <th>area</th>\n",
       "      <th>bbox</th>\n",
       "      <th>iscrowd</th>\n",
       "      <th>id</th>\n",
       "    </tr>\n",
       "  </thead>\n",
       "  <tbody>\n",
       "    <tr>\n",
       "      <th>0</th>\n",
       "      <td>0</td>\n",
       "      <td>0</td>\n",
       "      <td>257301.66</td>\n",
       "      <td>[197.6, 193.7, 547.8, 469.7]</td>\n",
       "      <td>0</td>\n",
       "      <td>0</td>\n",
       "    </tr>\n",
       "    <tr>\n",
       "      <th>6</th>\n",
       "      <td>1</td>\n",
       "      <td>0</td>\n",
       "      <td>38908.72</td>\n",
       "      <td>[425.3, 681.9, 216.4, 179.8]</td>\n",
       "      <td>0</td>\n",
       "      <td>6</td>\n",
       "    </tr>\n",
       "    <tr>\n",
       "      <th>8</th>\n",
       "      <td>1</td>\n",
       "      <td>0</td>\n",
       "      <td>6857.76</td>\n",
       "      <td>[622.4, 686.5, 72.8, 94.2]</td>\n",
       "      <td>0</td>\n",
       "      <td>8</td>\n",
       "    </tr>\n",
       "    <tr>\n",
       "      <th>13</th>\n",
       "      <td>5</td>\n",
       "      <td>0</td>\n",
       "      <td>12162.85</td>\n",
       "      <td>[320.0, 233.7, 182.9, 66.5]</td>\n",
       "      <td>0</td>\n",
       "      <td>19</td>\n",
       "    </tr>\n",
       "    <tr>\n",
       "      <th>14</th>\n",
       "      <td>5</td>\n",
       "      <td>0</td>\n",
       "      <td>10264.35</td>\n",
       "      <td>[297.7, 212.6, 166.9, 61.5]</td>\n",
       "      <td>0</td>\n",
       "      <td>20</td>\n",
       "    </tr>\n",
       "    <tr>\n",
       "      <th>...</th>\n",
       "      <td>...</td>\n",
       "      <td>...</td>\n",
       "      <td>...</td>\n",
       "      <td>...</td>\n",
       "      <td>...</td>\n",
       "      <td>...</td>\n",
       "    </tr>\n",
       "    <tr>\n",
       "      <th>18629</th>\n",
       "      <td>4875</td>\n",
       "      <td>0</td>\n",
       "      <td>9353.55</td>\n",
       "      <td>[500.1, 596.8, 147.3, 63.5]</td>\n",
       "      <td>0</td>\n",
       "      <td>23121</td>\n",
       "    </tr>\n",
       "    <tr>\n",
       "      <th>18632</th>\n",
       "      <td>4876</td>\n",
       "      <td>0</td>\n",
       "      <td>9096.78</td>\n",
       "      <td>[199.6, 552.3, 107.4, 84.7]</td>\n",
       "      <td>0</td>\n",
       "      <td>23124</td>\n",
       "    </tr>\n",
       "    <tr>\n",
       "      <th>18633</th>\n",
       "      <td>4876</td>\n",
       "      <td>0</td>\n",
       "      <td>52745.00</td>\n",
       "      <td>[290.8, 722.3, 175.0, 301.4]</td>\n",
       "      <td>0</td>\n",
       "      <td>23125</td>\n",
       "    </tr>\n",
       "    <tr>\n",
       "      <th>18637</th>\n",
       "      <td>4880</td>\n",
       "      <td>0</td>\n",
       "      <td>367397.36</td>\n",
       "      <td>[193.3, 209.2, 576.4, 637.4]</td>\n",
       "      <td>0</td>\n",
       "      <td>23134</td>\n",
       "    </tr>\n",
       "    <tr>\n",
       "      <th>18644</th>\n",
       "      <td>4882</td>\n",
       "      <td>0</td>\n",
       "      <td>1772.74</td>\n",
       "      <td>[511.3, 451.1, 58.7, 30.2]</td>\n",
       "      <td>0</td>\n",
       "      <td>23141</td>\n",
       "    </tr>\n",
       "  </tbody>\n",
       "</table>\n",
       "<p>3201 rows × 6 columns</p>\n",
       "</div>"
      ],
      "text/plain": [
       "       image_id  category_id       area                          bbox  \\\n",
       "0             0            0  257301.66  [197.6, 193.7, 547.8, 469.7]   \n",
       "6             1            0   38908.72  [425.3, 681.9, 216.4, 179.8]   \n",
       "8             1            0    6857.76    [622.4, 686.5, 72.8, 94.2]   \n",
       "13            5            0   12162.85   [320.0, 233.7, 182.9, 66.5]   \n",
       "14            5            0   10264.35   [297.7, 212.6, 166.9, 61.5]   \n",
       "...         ...          ...        ...                           ...   \n",
       "18629      4875            0    9353.55   [500.1, 596.8, 147.3, 63.5]   \n",
       "18632      4876            0    9096.78   [199.6, 552.3, 107.4, 84.7]   \n",
       "18633      4876            0   52745.00  [290.8, 722.3, 175.0, 301.4]   \n",
       "18637      4880            0  367397.36  [193.3, 209.2, 576.4, 637.4]   \n",
       "18644      4882            0    1772.74    [511.3, 451.1, 58.7, 30.2]   \n",
       "\n",
       "       iscrowd     id  \n",
       "0            0      0  \n",
       "6            0      6  \n",
       "8            0      8  \n",
       "13           0     19  \n",
       "14           0     20  \n",
       "...        ...    ...  \n",
       "18629        0  23121  \n",
       "18632        0  23124  \n",
       "18633        0  23125  \n",
       "18637        0  23134  \n",
       "18644        0  23141  \n",
       "\n",
       "[3201 rows x 6 columns]"
      ]
     },
     "execution_count": 25,
     "metadata": {},
     "output_type": "execute_result"
    }
   ],
   "source": [
    "df_annotations_0"
   ]
  },
  {
   "cell_type": "code",
   "execution_count": 26,
   "id": "0005fb44-c7b3-4a4a-a225-e6b6dd883993",
   "metadata": {},
   "outputs": [
    {
     "data": {
      "text/plain": [
       "1     1054\n",
       "2      303\n",
       "3      145\n",
       "5       53\n",
       "4       52\n",
       "6       26\n",
       "7       18\n",
       "8       11\n",
       "9        7\n",
       "10       6\n",
       "12       2\n",
       "19       1\n",
       "11       1\n",
       "13       1\n",
       "14       1\n",
       "15       1\n",
       "16       1\n",
       "28       1\n",
       "Name: image_id, dtype: int64"
      ]
     },
     "execution_count": 26,
     "metadata": {},
     "output_type": "execute_result"
    }
   ],
   "source": [
    "bbox_count_class0 = df_annotations_0['image_id'].value_counts().value_counts()\n",
    "bbox_count_class0"
   ]
  },
  {
   "cell_type": "code",
   "execution_count": 27,
   "id": "cc0a88dc-1467-4c43-ba6b-bb79d29fb7cb",
   "metadata": {},
   "outputs": [],
   "source": [
    "df_annotations_1 = df_annotations[df_annotations['category_id'] == 1]"
   ]
  },
  {
   "cell_type": "code",
   "execution_count": 28,
   "id": "38aeaaad-c795-4561-a423-f3815ebf8b41",
   "metadata": {},
   "outputs": [
    {
     "data": {
      "text/plain": [
       "1     617\n",
       "2     206\n",
       "3     121\n",
       "4      76\n",
       "5      75\n",
       "6      48\n",
       "7      43\n",
       "8      30\n",
       "9      24\n",
       "11     19\n",
       "12     18\n",
       "14     14\n",
       "10     14\n",
       "16     10\n",
       "13      9\n",
       "15      6\n",
       "23      6\n",
       "17      5\n",
       "18      5\n",
       "21      5\n",
       "25      5\n",
       "19      4\n",
       "22      3\n",
       "24      2\n",
       "34      1\n",
       "20      1\n",
       "27      1\n",
       "31      1\n",
       "33      1\n",
       "38      1\n",
       "Name: image_id, dtype: int64"
      ]
     },
     "execution_count": 28,
     "metadata": {},
     "output_type": "execute_result"
    }
   ],
   "source": [
    "bbox_count_class1 = df_annotations_1['image_id'].value_counts().value_counts()\n",
    "bbox_count_class1"
   ]
  },
  {
   "cell_type": "code",
   "execution_count": null,
   "id": "315e71b4-988c-401a-878f-18307d8d08ee",
   "metadata": {},
   "outputs": [],
   "source": []
  },
  {
   "cell_type": "code",
   "execution_count": null,
   "id": "a986722f-1cdd-4e06-ae36-774d4aace976",
   "metadata": {},
   "outputs": [],
   "source": []
  },
  {
   "cell_type": "code",
   "execution_count": 9,
   "id": "fba45929-df3a-43a8-8ed4-2cb2dd0b74f4",
   "metadata": {},
   "outputs": [
    {
     "name": "stdout",
     "output_type": "stream",
     "text": [
      "3908\n",
      "3895\n",
      "13\n"
     ]
    }
   ],
   "source": [
    "bbox_count = df_annotations['image_id'].value_counts().value_counts()\n",
    "print(bbox_count.sum())\n",
    "under40 = bbox_count[bbox_count.index < 40].sum()\n",
    "print(under40)\n",
    "over40 = bbox_count[bbox_count.index >= 40].sum()\n",
    "print(over40)"
   ]
  },
  {
   "cell_type": "code",
   "execution_count": 10,
   "id": "db48c47c-0743-40d7-adea-b7b8d06d748d",
   "metadata": {},
   "outputs": [],
   "source": [
    "train_box_count = [0] * 5\n",
    "train_box_count_under = [0] * 5\n",
    "train_box_count_over = [0] * 5\n",
    "train_cnt_under = [0] * 5\n",
    "val_box_count = [0] * 5\n",
    "val_box_count_under = [0] * 5\n",
    "val_box_count_over = [0] * 5\n",
    "val_cnt_under = [0] * 5"
   ]
  },
  {
   "cell_type": "code",
   "execution_count": 11,
   "id": "b6e95714-9fbb-4837-8639-7b60a724f12f",
   "metadata": {},
   "outputs": [],
   "source": [
    "for i in range(1,6):\n",
    "    json_file_path = f'./cv_train_{i}.json'\n",
    "    with open(json_file_path, 'r') as j :\n",
    "        json_data = json.load(j)\n",
    "    df_annotations = json_normalize(json_data['annotations'])\n",
    "    bbox_count = df_annotations['image_id'].value_counts().value_counts()\n",
    "    train_box_count[i-1] = bbox_count.sum()\n",
    "    train_box_count_under[i-1] = bbox_count[bbox_count.index < 40].sum()\n",
    "    train_box_count_over[i-1] = bbox_count[bbox_count.index >= 40].sum()\n",
    "    \n",
    "    for j in range(len(df_annotations)):\n",
    "        if df_annotations['bbox'][j][2] < 10 or df_annotations['bbox'][j][3] < 10:\n",
    "            train_cnt_under[i-1] += 1\n",
    "            \n",
    "    json_file_path = f'./cv_val_{i}.json'\n",
    "    with open(json_file_path, 'r') as j :\n",
    "        json_data = json.load(j)\n",
    "    df_annotations = json_normalize(json_data['annotations'])\n",
    "    bbox_count = df_annotations['image_id'].value_counts().value_counts()\n",
    "    val_box_count[i-1] = bbox_count.sum()\n",
    "    val_box_count_under[i-1] = bbox_count[bbox_count.index < 40].sum()\n",
    "    val_box_count_over[i-1] = bbox_count[bbox_count.index >= 40].sum()\n",
    "    \n",
    "    for j in range(len(df_annotations)):\n",
    "        if df_annotations['bbox'][j][2] < 10 or df_annotations['bbox'][j][3] < 10:\n",
    "            val_cnt_under[i-1] += 1"
   ]
  },
  {
   "cell_type": "code",
   "execution_count": 12,
   "id": "48dfcdf1-7366-44a1-b6f7-29192847a474",
   "metadata": {},
   "outputs": [
    {
     "name": "stdout",
     "output_type": "stream",
     "text": [
      "train 데이터셋\n",
      "전체 이미지 개수:  [3908, 3928, 3911, 3878, 3907]\n",
      "bbox 40개 미만 :  [3895, 3917, 3902, 3866, 3896]\n",
      "bbox 40개 이상 :  [13, 11, 9, 12, 11]\n",
      "가로든 세로든 10 미만인 박스의 갯수 :  [23, 29, 28, 29, 27]\n",
      "------------------------------\n",
      "val 데이터셋\n",
      "전체 이미지 개수:  [975, 955, 972, 1005, 976]\n",
      "bbox 40개 미만 :  [974, 952, 967, 1003, 973]\n",
      "bbox 40개 이상 :  [1, 3, 5, 2, 3]\n",
      "가로든 세로든 10 미만인 박스의 갯수 :  [11, 5, 6, 5, 7]\n"
     ]
    }
   ],
   "source": [
    "print(\"train 데이터셋\")\n",
    "print(\"전체 이미지 개수: \", train_box_count)\n",
    "print(\"bbox 40개 미만 : \", train_box_count_under)\n",
    "print(\"bbox 40개 이상 : \", train_box_count_over)\n",
    "print(\"가로든 세로든 10 미만인 박스의 갯수 : \", train_cnt_under)\n",
    "print(\"------------------------------\")\n",
    "print(\"val 데이터셋\")\n",
    "print(\"전체 이미지 개수: \", val_box_count)\n",
    "print(\"bbox 40개 미만 : \", val_box_count_under)\n",
    "print(\"bbox 40개 이상 : \", val_box_count_over)\n",
    "print(\"가로든 세로든 10 미만인 박스의 갯수 : \", val_cnt_under)"
   ]
  },
  {
   "cell_type": "code",
   "execution_count": null,
   "id": "832ad34f-de13-4937-bad7-037f1f853cc9",
   "metadata": {},
   "outputs": [],
   "source": []
  }
 ],
 "metadata": {
  "kernelspec": {
   "display_name": "detection",
   "language": "python",
   "name": "detection"
  },
  "language_info": {
   "codemirror_mode": {
    "name": "ipython",
    "version": 3
   },
   "file_extension": ".py",
   "mimetype": "text/x-python",
   "name": "python",
   "nbconvert_exporter": "python",
   "pygments_lexer": "ipython3",
   "version": "3.7.11"
  }
 },
 "nbformat": 4,
 "nbformat_minor": 5
}
