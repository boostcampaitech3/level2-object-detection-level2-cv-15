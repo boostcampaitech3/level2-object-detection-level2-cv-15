{
 "cells": [
  {
   "cell_type": "code",
   "execution_count": 16,
   "id": "a2bb713c-fe6c-4f99-b396-6570e15afe6e",
   "metadata": {},
   "outputs": [],
   "source": [
    "import pandas as pd\n",
    "import numpy as np\n",
    "import json\n",
    "from pandas import json_normalize\n",
    "import matplotlib.pyplot as plt\n",
    "import seaborn as sns\n",
    "from PIL import Image\n",
    "import matplotlib.pyplot as plt\n",
    "import matplotlib.image as mpimg\n",
    "import matplotlib.patches as patches"
   ]
  },
  {
   "cell_type": "code",
   "execution_count": 17,
   "id": "f8c218f7-b082-4636-bc6b-c95110e71850",
   "metadata": {},
   "outputs": [],
   "source": [
    "json_file_path = '../../dataset/train.json'"
   ]
  },
  {
   "cell_type": "code",
   "execution_count": 18,
   "id": "592788e5-e11d-499e-a103-26336bc0b97b",
   "metadata": {},
   "outputs": [],
   "source": [
    "with open(json_file_path, 'r') as j :\n",
    "    json_data = json.load(j)"
   ]
  },
  {
   "cell_type": "code",
   "execution_count": 19,
   "id": "266f41dc-243f-4ba2-ba7b-aa11d163b7e8",
   "metadata": {},
   "outputs": [
    {
     "name": "stdout",
     "output_type": "stream",
     "text": [
      "[{'id': 0, 'name': 'General trash', 'supercategory': 'General trash'}, {'id': 1, 'name': 'Paper', 'supercategory': 'Paper'}, {'id': 2, 'name': 'Paper pack', 'supercategory': 'Paper pack'}, {'id': 3, 'name': 'Metal', 'supercategory': 'Metal'}, {'id': 4, 'name': 'Glass', 'supercategory': 'Glass'}, {'id': 5, 'name': 'Plastic', 'supercategory': 'Plastic'}, {'id': 6, 'name': 'Styrofoam', 'supercategory': 'Styrofoam'}, {'id': 7, 'name': 'Plastic bag', 'supercategory': 'Plastic bag'}, {'id': 8, 'name': 'Battery', 'supercategory': 'Battery'}, {'id': 9, 'name': 'Clothing', 'supercategory': 'Clothing'}]\n"
     ]
    }
   ],
   "source": [
    "print(json_data['categories'])"
   ]
  },
  {
   "cell_type": "code",
   "execution_count": 20,
   "id": "40e0bbf8-d2f6-4795-9934-299c3624248e",
   "metadata": {},
   "outputs": [
    {
     "data": {
      "text/html": [
       "<div>\n",
       "<style scoped>\n",
       "    .dataframe tbody tr th:only-of-type {\n",
       "        vertical-align: middle;\n",
       "    }\n",
       "\n",
       "    .dataframe tbody tr th {\n",
       "        vertical-align: top;\n",
       "    }\n",
       "\n",
       "    .dataframe thead th {\n",
       "        text-align: right;\n",
       "    }\n",
       "</style>\n",
       "<table border=\"1\" class=\"dataframe\">\n",
       "  <thead>\n",
       "    <tr style=\"text-align: right;\">\n",
       "      <th></th>\n",
       "      <th>image_id</th>\n",
       "      <th>category_id</th>\n",
       "      <th>area</th>\n",
       "      <th>bbox</th>\n",
       "      <th>iscrowd</th>\n",
       "      <th>id</th>\n",
       "    </tr>\n",
       "  </thead>\n",
       "  <tbody>\n",
       "    <tr>\n",
       "      <th>0</th>\n",
       "      <td>0</td>\n",
       "      <td>0</td>\n",
       "      <td>257301.66</td>\n",
       "      <td>[197.6, 193.7, 547.8, 469.7]</td>\n",
       "      <td>0</td>\n",
       "      <td>0</td>\n",
       "    </tr>\n",
       "    <tr>\n",
       "      <th>1</th>\n",
       "      <td>1</td>\n",
       "      <td>3</td>\n",
       "      <td>10402.56</td>\n",
       "      <td>[0.0, 407.4, 57.6, 180.6]</td>\n",
       "      <td>0</td>\n",
       "      <td>1</td>\n",
       "    </tr>\n",
       "    <tr>\n",
       "      <th>2</th>\n",
       "      <td>1</td>\n",
       "      <td>7</td>\n",
       "      <td>26259.36</td>\n",
       "      <td>[0.0, 455.6, 144.6, 181.6]</td>\n",
       "      <td>0</td>\n",
       "      <td>2</td>\n",
       "    </tr>\n",
       "    <tr>\n",
       "      <th>3</th>\n",
       "      <td>1</td>\n",
       "      <td>4</td>\n",
       "      <td>69096.17</td>\n",
       "      <td>[722.3, 313.4, 274.3, 251.9]</td>\n",
       "      <td>0</td>\n",
       "      <td>3</td>\n",
       "    </tr>\n",
       "    <tr>\n",
       "      <th>4</th>\n",
       "      <td>1</td>\n",
       "      <td>5</td>\n",
       "      <td>24164.58</td>\n",
       "      <td>[353.2, 671.0, 233.7, 103.4]</td>\n",
       "      <td>0</td>\n",
       "      <td>4</td>\n",
       "    </tr>\n",
       "    <tr>\n",
       "      <th>...</th>\n",
       "      <td>...</td>\n",
       "      <td>...</td>\n",
       "      <td>...</td>\n",
       "      <td>...</td>\n",
       "      <td>...</td>\n",
       "      <td>...</td>\n",
       "    </tr>\n",
       "    <tr>\n",
       "      <th>23139</th>\n",
       "      <td>4882</td>\n",
       "      <td>5</td>\n",
       "      <td>768591.81</td>\n",
       "      <td>[0.0, 116.2, 944.1, 814.1]</td>\n",
       "      <td>0</td>\n",
       "      <td>23139</td>\n",
       "    </tr>\n",
       "    <tr>\n",
       "      <th>23140</th>\n",
       "      <td>4882</td>\n",
       "      <td>7</td>\n",
       "      <td>57309.72</td>\n",
       "      <td>[302.1, 439.3, 265.2, 216.1]</td>\n",
       "      <td>0</td>\n",
       "      <td>23140</td>\n",
       "    </tr>\n",
       "    <tr>\n",
       "      <th>23141</th>\n",
       "      <td>4882</td>\n",
       "      <td>0</td>\n",
       "      <td>1772.74</td>\n",
       "      <td>[511.3, 451.1, 58.7, 30.2]</td>\n",
       "      <td>0</td>\n",
       "      <td>23141</td>\n",
       "    </tr>\n",
       "    <tr>\n",
       "      <th>23142</th>\n",
       "      <td>4882</td>\n",
       "      <td>1</td>\n",
       "      <td>53008.67</td>\n",
       "      <td>[255.0, 421.4, 271.7, 195.1]</td>\n",
       "      <td>0</td>\n",
       "      <td>23142</td>\n",
       "    </tr>\n",
       "    <tr>\n",
       "      <th>23143</th>\n",
       "      <td>4882</td>\n",
       "      <td>1</td>\n",
       "      <td>149633.22</td>\n",
       "      <td>[145.4, 295.4, 420.2, 356.1]</td>\n",
       "      <td>0</td>\n",
       "      <td>23143</td>\n",
       "    </tr>\n",
       "  </tbody>\n",
       "</table>\n",
       "<p>23144 rows × 6 columns</p>\n",
       "</div>"
      ],
      "text/plain": [
       "       image_id  category_id       area                          bbox  \\\n",
       "0             0            0  257301.66  [197.6, 193.7, 547.8, 469.7]   \n",
       "1             1            3   10402.56     [0.0, 407.4, 57.6, 180.6]   \n",
       "2             1            7   26259.36    [0.0, 455.6, 144.6, 181.6]   \n",
       "3             1            4   69096.17  [722.3, 313.4, 274.3, 251.9]   \n",
       "4             1            5   24164.58  [353.2, 671.0, 233.7, 103.4]   \n",
       "...         ...          ...        ...                           ...   \n",
       "23139      4882            5  768591.81    [0.0, 116.2, 944.1, 814.1]   \n",
       "23140      4882            7   57309.72  [302.1, 439.3, 265.2, 216.1]   \n",
       "23141      4882            0    1772.74    [511.3, 451.1, 58.7, 30.2]   \n",
       "23142      4882            1   53008.67  [255.0, 421.4, 271.7, 195.1]   \n",
       "23143      4882            1  149633.22  [145.4, 295.4, 420.2, 356.1]   \n",
       "\n",
       "       iscrowd     id  \n",
       "0            0      0  \n",
       "1            0      1  \n",
       "2            0      2  \n",
       "3            0      3  \n",
       "4            0      4  \n",
       "...        ...    ...  \n",
       "23139        0  23139  \n",
       "23140        0  23140  \n",
       "23141        0  23141  \n",
       "23142        0  23142  \n",
       "23143        0  23143  \n",
       "\n",
       "[23144 rows x 6 columns]"
      ]
     },
     "execution_count": 20,
     "metadata": {},
     "output_type": "execute_result"
    }
   ],
   "source": [
    "df_annotations = json_normalize(json_data['annotations'])\n",
    "df_annotations"
   ]
  },
  {
   "cell_type": "code",
   "execution_count": 21,
   "id": "245bc336-2c44-4f5a-985a-52eec6cb6d01",
   "metadata": {},
   "outputs": [
    {
     "data": {
      "text/html": [
       "<div>\n",
       "<style scoped>\n",
       "    .dataframe tbody tr th:only-of-type {\n",
       "        vertical-align: middle;\n",
       "    }\n",
       "\n",
       "    .dataframe tbody tr th {\n",
       "        vertical-align: top;\n",
       "    }\n",
       "\n",
       "    .dataframe thead th {\n",
       "        text-align: right;\n",
       "    }\n",
       "</style>\n",
       "<table border=\"1\" class=\"dataframe\">\n",
       "  <thead>\n",
       "    <tr style=\"text-align: right;\">\n",
       "      <th></th>\n",
       "      <th>image_id</th>\n",
       "      <th>category_id</th>\n",
       "      <th>area</th>\n",
       "      <th>bbox</th>\n",
       "      <th>iscrowd</th>\n",
       "      <th>id</th>\n",
       "      <th>width</th>\n",
       "      <th>height</th>\n",
       "      <th>aspect_ratio</th>\n",
       "    </tr>\n",
       "  </thead>\n",
       "  <tbody>\n",
       "    <tr>\n",
       "      <th>0</th>\n",
       "      <td>0</td>\n",
       "      <td>0</td>\n",
       "      <td>257301.66</td>\n",
       "      <td>[197.6, 193.7, 547.8, 469.7]</td>\n",
       "      <td>0</td>\n",
       "      <td>0</td>\n",
       "      <td>547.8</td>\n",
       "      <td>469.7</td>\n",
       "      <td>1.166276</td>\n",
       "    </tr>\n",
       "    <tr>\n",
       "      <th>1</th>\n",
       "      <td>1</td>\n",
       "      <td>3</td>\n",
       "      <td>10402.56</td>\n",
       "      <td>[0.0, 407.4, 57.6, 180.6]</td>\n",
       "      <td>0</td>\n",
       "      <td>1</td>\n",
       "      <td>57.6</td>\n",
       "      <td>180.6</td>\n",
       "      <td>0.318937</td>\n",
       "    </tr>\n",
       "    <tr>\n",
       "      <th>2</th>\n",
       "      <td>1</td>\n",
       "      <td>7</td>\n",
       "      <td>26259.36</td>\n",
       "      <td>[0.0, 455.6, 144.6, 181.6]</td>\n",
       "      <td>0</td>\n",
       "      <td>2</td>\n",
       "      <td>144.6</td>\n",
       "      <td>181.6</td>\n",
       "      <td>0.796256</td>\n",
       "    </tr>\n",
       "    <tr>\n",
       "      <th>3</th>\n",
       "      <td>1</td>\n",
       "      <td>4</td>\n",
       "      <td>69096.17</td>\n",
       "      <td>[722.3, 313.4, 274.3, 251.9]</td>\n",
       "      <td>0</td>\n",
       "      <td>3</td>\n",
       "      <td>274.3</td>\n",
       "      <td>251.9</td>\n",
       "      <td>1.088924</td>\n",
       "    </tr>\n",
       "    <tr>\n",
       "      <th>4</th>\n",
       "      <td>1</td>\n",
       "      <td>5</td>\n",
       "      <td>24164.58</td>\n",
       "      <td>[353.2, 671.0, 233.7, 103.4]</td>\n",
       "      <td>0</td>\n",
       "      <td>4</td>\n",
       "      <td>233.7</td>\n",
       "      <td>103.4</td>\n",
       "      <td>2.260155</td>\n",
       "    </tr>\n",
       "    <tr>\n",
       "      <th>...</th>\n",
       "      <td>...</td>\n",
       "      <td>...</td>\n",
       "      <td>...</td>\n",
       "      <td>...</td>\n",
       "      <td>...</td>\n",
       "      <td>...</td>\n",
       "      <td>...</td>\n",
       "      <td>...</td>\n",
       "      <td>...</td>\n",
       "    </tr>\n",
       "    <tr>\n",
       "      <th>23139</th>\n",
       "      <td>4882</td>\n",
       "      <td>5</td>\n",
       "      <td>768591.81</td>\n",
       "      <td>[0.0, 116.2, 944.1, 814.1]</td>\n",
       "      <td>0</td>\n",
       "      <td>23139</td>\n",
       "      <td>944.1</td>\n",
       "      <td>814.1</td>\n",
       "      <td>1.159686</td>\n",
       "    </tr>\n",
       "    <tr>\n",
       "      <th>23140</th>\n",
       "      <td>4882</td>\n",
       "      <td>7</td>\n",
       "      <td>57309.72</td>\n",
       "      <td>[302.1, 439.3, 265.2, 216.1]</td>\n",
       "      <td>0</td>\n",
       "      <td>23140</td>\n",
       "      <td>265.2</td>\n",
       "      <td>216.1</td>\n",
       "      <td>1.227210</td>\n",
       "    </tr>\n",
       "    <tr>\n",
       "      <th>23141</th>\n",
       "      <td>4882</td>\n",
       "      <td>0</td>\n",
       "      <td>1772.74</td>\n",
       "      <td>[511.3, 451.1, 58.7, 30.2]</td>\n",
       "      <td>0</td>\n",
       "      <td>23141</td>\n",
       "      <td>58.7</td>\n",
       "      <td>30.2</td>\n",
       "      <td>1.943709</td>\n",
       "    </tr>\n",
       "    <tr>\n",
       "      <th>23142</th>\n",
       "      <td>4882</td>\n",
       "      <td>1</td>\n",
       "      <td>53008.67</td>\n",
       "      <td>[255.0, 421.4, 271.7, 195.1]</td>\n",
       "      <td>0</td>\n",
       "      <td>23142</td>\n",
       "      <td>271.7</td>\n",
       "      <td>195.1</td>\n",
       "      <td>1.392619</td>\n",
       "    </tr>\n",
       "    <tr>\n",
       "      <th>23143</th>\n",
       "      <td>4882</td>\n",
       "      <td>1</td>\n",
       "      <td>149633.22</td>\n",
       "      <td>[145.4, 295.4, 420.2, 356.1]</td>\n",
       "      <td>0</td>\n",
       "      <td>23143</td>\n",
       "      <td>420.2</td>\n",
       "      <td>356.1</td>\n",
       "      <td>1.180006</td>\n",
       "    </tr>\n",
       "  </tbody>\n",
       "</table>\n",
       "<p>23144 rows × 9 columns</p>\n",
       "</div>"
      ],
      "text/plain": [
       "       image_id  category_id       area                          bbox  \\\n",
       "0             0            0  257301.66  [197.6, 193.7, 547.8, 469.7]   \n",
       "1             1            3   10402.56     [0.0, 407.4, 57.6, 180.6]   \n",
       "2             1            7   26259.36    [0.0, 455.6, 144.6, 181.6]   \n",
       "3             1            4   69096.17  [722.3, 313.4, 274.3, 251.9]   \n",
       "4             1            5   24164.58  [353.2, 671.0, 233.7, 103.4]   \n",
       "...         ...          ...        ...                           ...   \n",
       "23139      4882            5  768591.81    [0.0, 116.2, 944.1, 814.1]   \n",
       "23140      4882            7   57309.72  [302.1, 439.3, 265.2, 216.1]   \n",
       "23141      4882            0    1772.74    [511.3, 451.1, 58.7, 30.2]   \n",
       "23142      4882            1   53008.67  [255.0, 421.4, 271.7, 195.1]   \n",
       "23143      4882            1  149633.22  [145.4, 295.4, 420.2, 356.1]   \n",
       "\n",
       "       iscrowd     id  width  height  aspect_ratio  \n",
       "0            0      0  547.8   469.7      1.166276  \n",
       "1            0      1   57.6   180.6      0.318937  \n",
       "2            0      2  144.6   181.6      0.796256  \n",
       "3            0      3  274.3   251.9      1.088924  \n",
       "4            0      4  233.7   103.4      2.260155  \n",
       "...        ...    ...    ...     ...           ...  \n",
       "23139        0  23139  944.1   814.1      1.159686  \n",
       "23140        0  23140  265.2   216.1      1.227210  \n",
       "23141        0  23141   58.7    30.2      1.943709  \n",
       "23142        0  23142  271.7   195.1      1.392619  \n",
       "23143        0  23143  420.2   356.1      1.180006  \n",
       "\n",
       "[23144 rows x 9 columns]"
      ]
     },
     "execution_count": 21,
     "metadata": {},
     "output_type": "execute_result"
    }
   ],
   "source": [
    "wh = np.array([np.array(i[2:]) for i in df_annotations['bbox']])\n",
    "wh = pd.DataFrame(wh)\n",
    "wh.columns = ['width', 'height']\n",
    "df_annotations = pd.concat([df_annotations, wh], axis = 1)\n",
    "\n",
    "aspect_ratio = [df_annotations['width'][i]/df_annotations['height'][i] for i in range(len(df_annotations))]\n",
    "aspect_ratio = pd.DataFrame(aspect_ratio)\n",
    "aspect_ratio.columns = ['aspect_ratio']\n",
    "df_annotations = pd.concat([df_annotations, aspect_ratio], axis = 1)\n",
    "df_annotations"
   ]
  },
  {
   "cell_type": "code",
   "execution_count": 22,
   "id": "c24d8473-df3c-479b-8eb2-cfb14063f699",
   "metadata": {},
   "outputs": [
    {
     "data": {
      "text/plain": [
       "<AxesSubplot:xlabel='width', ylabel='Count'>"
      ]
     },
     "execution_count": 22,
     "metadata": {},
     "output_type": "execute_result"
    },
    {
     "data": {
      "image/png": "[encoded data removed]",
      "text/plain": [
       "<Figure size 864x720 with 1 Axes>"
      ]
     },
     "metadata": {
      "needs_background": "light"
     },
     "output_type": "display_data"
    }
   ],
   "source": [
    "fig, ax = plt.subplots(figsize=(12, 10))\n",
    "\n",
    "sns.histplot(x='width', data=df_annotations)"
   ]
  },
  {
   "cell_type": "code",
   "execution_count": 23,
   "id": "daac60b6-5afc-4a66-8a44-a6e8877692bd",
   "metadata": {},
   "outputs": [
    {
     "data": {
      "text/plain": [
       "<AxesSubplot:xlabel='height', ylabel='Count'>"
      ]
     },
     "execution_count": 23,
     "metadata": {},
     "output_type": "execute_result"
    },
    {
     "data": {
      "image/png": "[encoded data removed]",
      "text/plain": [
       "<Figure size 864x720 with 1 Axes>"
      ]
     },
     "metadata": {
      "needs_background": "light"
     },
     "output_type": "display_data"
    }
   ],
   "source": [
    "fig, ax = plt.subplots(figsize=(12, 10))\n",
    "\n",
    "sns.histplot(x='height', data=df_annotations)"
   ]
  },
  {
   "cell_type": "code",
   "execution_count": 24,
   "id": "c519c123-8bc9-4793-96e2-42519ee81840",
   "metadata": {},
   "outputs": [
    {
     "data": {
      "text/plain": [
       "<AxesSubplot:xlabel='aspect_ratio', ylabel='Count'>"
      ]
     },
     "execution_count": 24,
     "metadata": {},
     "output_type": "execute_result"
    },
    {
     "data": {
      "image/png": "[encoded data removed]",
      "text/plain": [
       "<Figure size 864x720 with 1 Axes>"
      ]
     },
     "metadata": {
      "needs_background": "light"
     },
     "output_type": "display_data"
    }
   ],
   "source": [
    "fig, ax = plt.subplots(figsize=(12, 10))\n",
    "\n",
    "sns.histplot(x='aspect_ratio', data=df_annotations)"
   ]
  },
  {
   "cell_type": "code",
   "execution_count": 63,
   "id": "a8391a62-94ce-403f-84c4-03173416b98a",
   "metadata": {},
   "outputs": [
    {
     "data": {
      "text/plain": [
       "count    23144.000000\n",
       "mean       257.499170\n",
       "std        204.582362\n",
       "min          0.700000\n",
       "25%         99.750000\n",
       "50%        200.900000\n",
       "75%        357.650000\n",
       "max       1023.900000\n",
       "Name: width, dtype: float64"
      ]
     },
     "execution_count": 63,
     "metadata": {},
     "output_type": "execute_result"
    }
   ],
   "source": [
    "width_max_index = df_annotations['width'].argmax()\n",
    "width_max_id = df_annotations[\"image_id\"][width_max_index]\n",
    "width_min_index = df_annotations['width'].argmin()\n",
    "width_min_id = df_annotations[\"image_id\"][width_min_index]\n",
    "df_annotations['width'].describe()"
   ]
  },
  {
   "cell_type": "code",
   "execution_count": 64,
   "id": "034437f1-6923-4464-9405-945c77f25b8a",
   "metadata": {},
   "outputs": [
    {
     "data": {
      "text/plain": [
       "count    23144.000000\n",
       "mean       252.241518\n",
       "std        200.143898\n",
       "min          0.800000\n",
       "25%         93.500000\n",
       "50%        196.100000\n",
       "75%        359.825000\n",
       "max       1023.900000\n",
       "Name: height, dtype: float64"
      ]
     },
     "execution_count": 64,
     "metadata": {},
     "output_type": "execute_result"
    }
   ],
   "source": [
    "height_max_index = df_annotations['height'].argmax()\n",
    "height_max_id = df_annotations[\"image_id\"][height_max_index]\n",
    "height_min_index = df_annotations['height'].argmin()\n",
    "height_min_id = df_annotations[\"image_id\"][height_min_index]\n",
    "df_annotations['height'].describe()"
   ]
  },
  {
   "cell_type": "code",
   "execution_count": 65,
   "id": "2ae194a6-5171-4a52-add3-0e7b531b623a",
   "metadata": {},
   "outputs": [
    {
     "data": {
      "text/plain": [
       "count    23144.000000\n",
       "mean         1.298707\n",
       "std          1.166790\n",
       "min          0.055391\n",
       "25%          0.691147\n",
       "50%          1.047518\n",
       "75%          1.537306\n",
       "max         27.285714\n",
       "Name: aspect_ratio, dtype: float64"
      ]
     },
     "execution_count": 65,
     "metadata": {},
     "output_type": "execute_result"
    }
   ],
   "source": [
    "ar_max_index = df_annotations['aspect_ratio'].argmax()\n",
    "ar_max_id = df_annotations[\"image_id\"][ar_max_index]\n",
    "ar_min_index = df_annotations['aspect_ratio'].argmin()\n",
    "ar_min_id = df_annotations[\"image_id\"][ar_min_index]\n",
    "df_annotations['aspect_ratio'].describe()"
   ]
  },
  {
   "cell_type": "code",
   "execution_count": 54,
   "id": "86218a72-11b7-41ab-92f9-0dd92ab54442",
   "metadata": {},
   "outputs": [
    {
     "data": {
      "text/html": [
       "Finishing last run (ID:206t56nb) before initializing another..."
      ],
      "text/plain": [
       "<IPython.core.display.HTML object>"
      ]
     },
     "metadata": {},
     "output_type": "display_data"
    },
    {
     "name": "stdout",
     "output_type": "stream",
     "text": [
      "\n"
     ]
    },
    {
     "data": {
      "text/html": [
       "Waiting for W&B process to finish... <strong style=\"color:green\">(success).</strong>"
      ],
      "text/plain": [
       "<IPython.core.display.HTML object>"
      ]
     },
     "metadata": {},
     "output_type": "display_data"
    },
    {
     "data": {
      "application/vnd.jupyter.widget-view+json": {
       "model_id": "",
       "version_major": 2,
       "version_minor": 0
      },
      "text/plain": [
       "VBox(children=(Label(value='0.001 MB of 0.001 MB uploaded (0.000 MB deduped)\\r'), FloatProgress(value=1.0, max…"
      ]
     },
     "metadata": {},
     "output_type": "display_data"
    },
    {
     "data": {
      "text/html": [
       "Synced <strong style=\"color:#cdcd00\">desert-tree-7</strong>: <a href=\"https://wandb.ai/winner/visualization/runs/206t56nb\" target=\"_blank\">https://wandb.ai/winner/visualization/runs/206t56nb</a><br/>Synced 5 W&B file(s), 0 media file(s), 0 artifact file(s) and 0 other file(s)"
      ],
      "text/plain": [
       "<IPython.core.display.HTML object>"
      ]
     },
     "metadata": {},
     "output_type": "display_data"
    },
    {
     "data": {
      "text/html": [
       "Find logs at: <code>./wandb/run-20220324_004313-206t56nb/logs</code>"
      ],
      "text/plain": [
       "<IPython.core.display.HTML object>"
      ]
     },
     "metadata": {},
     "output_type": "display_data"
    },
    {
     "data": {
      "text/html": [
       "Successfully finished last run (ID:206t56nb). Initializing new run:<br/>"
      ],
      "text/plain": [
       "<IPython.core.display.HTML object>"
      ]
     },
     "metadata": {},
     "output_type": "display_data"
    },
    {
     "data": {
      "text/html": [
       "Tracking run with wandb version 0.12.11"
      ],
      "text/plain": [
       "<IPython.core.display.HTML object>"
      ]
     },
     "metadata": {},
     "output_type": "display_data"
    },
    {
     "data": {
      "text/html": [
       "Run data is saved locally in <code>/opt/ml/detection/baseline/HW/wandb/run-20220324_004351-2xvn6v7r</code>"
      ],
      "text/plain": [
       "<IPython.core.display.HTML object>"
      ]
     },
     "metadata": {},
     "output_type": "display_data"
    },
    {
     "data": {
      "text/html": [
       "Syncing run <strong><a href=\"https://wandb.ai/winner/visualization/runs/2xvn6v7r\" target=\"_blank\">young-puddle-8</a></strong> to <a href=\"https://wandb.ai/winner/visualization\" target=\"_blank\">Weights & Biases</a> (<a href=\"https://wandb.me/run\" target=\"_blank\">docs</a>)<br/>"
      ],
      "text/plain": [
       "<IPython.core.display.HTML object>"
      ]
     },
     "metadata": {},
     "output_type": "display_data"
    }
   ],
   "source": [
    "import wandb\n",
    "import random\n",
    "import os\n",
    "\n",
    "wandb.init(project=\"visualization\", entity=\"winner\")\n",
    "wandb.run.name = 'outlier'\n",
    "\n",
    "labels_file =  \"../../dataset/train.json\"\n",
    "with open(labels_file) as f:\n",
    "    labels = json.load(f)\n",
    "\n",
    "categories = {c[\"id\"]:c[\"name\"] for c in labels[\"categories\"]}\n",
    "# Get 10 images to load\n",
    "img_metadata = [\n",
    "    (labels[\"images\"][i][\"id\"], labels[\"images\"][i][\"file_name\"]) \n",
    "    for i in [width_max_id, width_min_id, height_max_id, \n",
    "              height_min_id, ar_max_id, ar_min_id]\n",
    "]\n",
    "\n",
    "data_path = \"../../dataset/\"\n",
    "imgs = []\n",
    "for img_id, img_name in img_metadata:\n",
    "    wandb_boxes = {\"predictions\": \n",
    "        {\n",
    "            \"box_data\":[], \n",
    "            \"class_labels\": categories\n",
    "        }\n",
    "    }\n",
    "    annots = [\n",
    "        a for a in labels[\"annotations\"] if a[\"image_id\"]==img_id\n",
    "    ]\n",
    "    for annot in annots:\n",
    "        tlx, tly, w, h = annot['bbox']\n",
    "        cat = annot['category_id']\n",
    "        curr_box = {}\n",
    "        curr_box[\"position\"] = {\n",
    "            \"minX\": tlx, \"maxX\": tlx+w, \n",
    "            \"minY\": tly, \"maxY\": tly+h}\n",
    "        curr_box[\"class_id\"] = cat\n",
    "        curr_box[\"box_caption\"] = categories[cat]\n",
    "        curr_box[\"domain\"] = \"pixel\"\n",
    "        curr_box[\"scores\"] = { \"score\" : random.random() }\n",
    "        wandb_boxes[\"predictions\"][\"box_data\"].append(curr_box)\n",
    "\n",
    "    img_path = os.path.join(data_path, img_name)\n",
    "    img = wandb.Image(img_path, boxes=wandb_boxes)\n",
    "    imgs.append(img)\n",
    "\n",
    "wandb.log({\"Example\": imgs})\n",
    "# Log onto the Weights & Biases website to view your images"
   ]
  },
  {
   "cell_type": "code",
   "execution_count": null,
   "id": "e92fd013-12aa-4bdd-9dc8-7fbd9b55cfe6",
   "metadata": {},
   "outputs": [],
   "source": []
  }
 ],
 "metadata": {
  "kernelspec": {
   "display_name": "Python 3 (ipykernel)",
   "language": "python",
   "name": "python3"
  },
  "language_info": {
   "codemirror_mode": {
    "name": "ipython",
    "version": 3
   },
   "file_extension": ".py",
   "mimetype": "text/x-python",
   "name": "python",
   "nbconvert_exporter": "python",
   "pygments_lexer": "ipython3",
   "version": "3.7.11"
  }
 },
 "nbformat": 4,
 "nbformat_minor": 5
}
