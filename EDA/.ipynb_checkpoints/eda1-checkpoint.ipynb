{
 "cells": [
  {
   "cell_type": "code",
   "execution_count": 1,
   "id": "c2b3c943-36b7-4c9d-acc9-60858d58d138",
   "metadata": {},
   "outputs": [],
   "source": [
    "import pandas as pd\n",
    "import numpy as np\n",
    "import json\n",
    "from pandas import json_normalize\n",
    "import matplotlib.pyplot as plt\n",
    "import seaborn as sns\n",
    "from PIL import Image\n",
    "import matplotlib.pyplot as plt\n",
    "import matplotlib.image as mpimg\n",
    "import matplotlib.patches as patches"
   ]
  },
  {
   "cell_type": "code",
   "execution_count": 2,
   "id": "db48c47c-0743-40d7-adea-b7b8d06d748d",
   "metadata": {},
   "outputs": [],
   "source": [
    "train_box_count = [0] * 5\n",
    "train_box_count_under = [0] * 5\n",
    "train_box_count_over = [0] * 5\n",
    "train_cnt_under = [0] * 5\n",
    "val_box_count = [0] * 5\n",
    "val_box_count_under = [0] * 5\n",
    "val_box_count_over = [0] * 5\n",
    "val_cnt_under = [0] * 5"
   ]
  },
  {
   "cell_type": "code",
   "execution_count": 4,
   "id": "b6e95714-9fbb-4837-8639-7b60a724f12f",
   "metadata": {},
   "outputs": [
    {
     "ename": "FileNotFoundError",
     "evalue": "[Errno 2] No such file or directory: './cv_val_1.json'",
     "output_type": "error",
     "traceback": [
      "\u001b[0;31m---------------------------------------------------------------------------\u001b[0m",
      "\u001b[0;31mFileNotFoundError\u001b[0m                         Traceback (most recent call last)",
      "\u001b[0;32m/tmp/ipykernel_7381/1359164015.py\u001b[0m in \u001b[0;36m<module>\u001b[0;34m\u001b[0m\n\u001b[1;32m     14\u001b[0m \u001b[0;34m\u001b[0m\u001b[0m\n\u001b[1;32m     15\u001b[0m     \u001b[0mjson_file_path\u001b[0m \u001b[0;34m=\u001b[0m \u001b[0;34mf'./cv_val_{i}.json'\u001b[0m\u001b[0;34m\u001b[0m\u001b[0;34m\u001b[0m\u001b[0m\n\u001b[0;32m---> 16\u001b[0;31m     \u001b[0;32mwith\u001b[0m \u001b[0mopen\u001b[0m\u001b[0;34m(\u001b[0m\u001b[0mjson_file_path\u001b[0m\u001b[0;34m,\u001b[0m \u001b[0;34m'r'\u001b[0m\u001b[0;34m)\u001b[0m \u001b[0;32mas\u001b[0m \u001b[0mj\u001b[0m \u001b[0;34m:\u001b[0m\u001b[0;34m\u001b[0m\u001b[0;34m\u001b[0m\u001b[0m\n\u001b[0m\u001b[1;32m     17\u001b[0m         \u001b[0mjson_data\u001b[0m \u001b[0;34m=\u001b[0m \u001b[0mjson\u001b[0m\u001b[0;34m.\u001b[0m\u001b[0mload\u001b[0m\u001b[0;34m(\u001b[0m\u001b[0mj\u001b[0m\u001b[0;34m)\u001b[0m\u001b[0;34m\u001b[0m\u001b[0;34m\u001b[0m\u001b[0m\n\u001b[1;32m     18\u001b[0m     \u001b[0mdf_annotations\u001b[0m \u001b[0;34m=\u001b[0m \u001b[0mjson_normalize\u001b[0m\u001b[0;34m(\u001b[0m\u001b[0mjson_data\u001b[0m\u001b[0;34m[\u001b[0m\u001b[0;34m'annotations'\u001b[0m\u001b[0;34m]\u001b[0m\u001b[0;34m)\u001b[0m\u001b[0;34m\u001b[0m\u001b[0;34m\u001b[0m\u001b[0m\n",
      "\u001b[0;31mFileNotFoundError\u001b[0m: [Errno 2] No such file or directory: './cv_val_1.json'"
     ]
    }
   ],
   "source": [
    "for i in range(1,6):\n",
    "    json_file_path = f'../../../dataset2/stratified/cv_train_{i}.json'\n",
    "    with open(json_file_path, 'r') as j :\n",
    "        json_data = json.load(j)\n",
    "    df_annotations = json_normalize(json_data['annotations'])\n",
    "    bbox_count = df_annotations['image_id'].value_counts().value_counts()\n",
    "    train_box_count[i-1] = bbox_count.sum()\n",
    "    train_box_count_under[i-1] = bbox_count[bbox_count.index < 40].sum()\n",
    "    train_box_count_over[i-1] = bbox_count[bbox_count.index >= 40].sum()\n",
    "    \n",
    "    for j in range(len(df_annotations)):\n",
    "        if df_annotations['bbox'][j][2] < 10 or df_annotations['bbox'][j][3] < 10:\n",
    "            train_cnt_under[i-1] += 1\n",
    "            \n",
    "    json_file_path = f'../../../dataset2/stratified/cv_val_{i}.json'\n",
    "    with open(json_file_path, 'r') as j :\n",
    "        json_data = json.load(j)\n",
    "    df_annotations = json_normalize(json_data['annotations'])\n",
    "    bbox_count = df_annotations['image_id'].value_counts().value_counts()\n",
    "    val_box_count[i-1] = bbox_count.sum()\n",
    "    val_box_count_under[i-1] = bbox_count[bbox_count.index < 40].sum()\n",
    "    val_box_count_over[i-1] = bbox_count[bbox_count.index >= 40].sum()\n",
    "    \n",
    "    for j in range(len(df_annotations)):\n",
    "        if df_annotations['bbox'][j][2] < 10 or df_annotations['bbox'][j][3] < 10:\n",
    "            val_cnt_under[i-1] += 1"
   ]
  },
  {
   "cell_type": "code",
   "execution_count": 12,
   "id": "48dfcdf1-7366-44a1-b6f7-29192847a474",
   "metadata": {},
   "outputs": [
    {
     "name": "stdout",
     "output_type": "stream",
     "text": [
      "train 데이터셋\n",
      "전체 이미지 개수:  [3908, 3928, 3911, 3878, 3907]\n",
      "bbox 40개 미만 :  [3895, 3917, 3902, 3866, 3896]\n",
      "bbox 40개 이상 :  [13, 11, 9, 12, 11]\n",
      "가로든 세로든 10 미만인 박스의 갯수 :  [23, 29, 28, 29, 27]\n",
      "------------------------------\n",
      "val 데이터셋\n",
      "전체 이미지 개수:  [975, 955, 972, 1005, 976]\n",
      "bbox 40개 미만 :  [974, 952, 967, 1003, 973]\n",
      "bbox 40개 이상 :  [1, 3, 5, 2, 3]\n",
      "가로든 세로든 10 미만인 박스의 갯수 :  [11, 5, 6, 5, 7]\n"
     ]
    }
   ],
   "source": [
    "print(\"train 데이터셋\")\n",
    "print(\"전체 이미지 개수: \", train_box_count)\n",
    "print(\"bbox 40개 미만 : \", train_box_count_under)\n",
    "print(\"bbox 40개 이상 : \", train_box_count_over)\n",
    "print(\"가로든 세로든 10 미만인 박스의 갯수 : \", train_cnt_under)\n",
    "print(\"------------------------------\")\n",
    "print(\"val 데이터셋\")\n",
    "print(\"전체 이미지 개수: \", val_box_count)\n",
    "print(\"bbox 40개 미만 : \", val_box_count_under)\n",
    "print(\"bbox 40개 이상 : \", val_box_count_over)\n",
    "print(\"가로든 세로든 10 미만인 박스의 갯수 : \", val_cnt_under)"
   ]
  },
  {
   "cell_type": "code",
   "execution_count": null,
   "id": "832ad34f-de13-4937-bad7-037f1f853cc9",
   "metadata": {},
   "outputs": [],
   "source": []
  }
 ],
 "metadata": {
  "kernelspec": {
   "display_name": "detection",
   "language": "python",
   "name": "detection"
  },
  "language_info": {
   "codemirror_mode": {
    "name": "ipython",
    "version": 3
   },
   "file_extension": ".py",
   "mimetype": "text/x-python",
   "name": "python",
   "nbconvert_exporter": "python",
   "pygments_lexer": "ipython3",
   "version": "3.7.11"
  }
 },
 "nbformat": 4,
 "nbformat_minor": 5
}
