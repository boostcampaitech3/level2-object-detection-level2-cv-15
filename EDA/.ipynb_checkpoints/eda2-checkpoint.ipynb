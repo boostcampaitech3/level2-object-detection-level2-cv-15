{
 "cells": [
  {
   "cell_type": "code",
   "execution_count": 2,
   "id": "a2bb713c-fe6c-4f99-b396-6570e15afe6e",
   "metadata": {},
   "outputs": [],
   "source": [
    "import pandas as pd\n",
    "import numpy as np\n",
    "import json\n",
    "from pandas import json_normalize\n",
    "import matplotlib.pyplot as plt\n",
    "import seaborn as sns\n",
    "from PIL import Image\n",
    "import matplotlib.pyplot as plt\n",
    "import matplotlib.image as mpimg\n",
    "import matplotlib.patches as patches"
   ]
  },
  {
   "cell_type": "code",
   "execution_count": 3,
   "id": "f8c218f7-b082-4636-bc6b-c95110e71850",
   "metadata": {},
   "outputs": [],
   "source": [
    "json_file_path = '../../../dataset2/train.json'\n",
    "with open(json_file_path, 'r') as j :\n",
    "    json_data = json.load(j)"
   ]
  },
  {
   "cell_type": "code",
   "execution_count": 4,
   "id": "40e0bbf8-d2f6-4795-9934-299c3624248e",
   "metadata": {},
   "outputs": [
    {
     "data": {
      "text/html": [
       "<div>\n",
       "<style scoped>\n",
       "    .dataframe tbody tr th:only-of-type {\n",
       "        vertical-align: middle;\n",
       "    }\n",
       "\n",
       "    .dataframe tbody tr th {\n",
       "        vertical-align: top;\n",
       "    }\n",
       "\n",
       "    .dataframe thead th {\n",
       "        text-align: right;\n",
       "    }\n",
       "</style>\n",
       "<table border=\"1\" class=\"dataframe\">\n",
       "  <thead>\n",
       "    <tr style=\"text-align: right;\">\n",
       "      <th></th>\n",
       "      <th>image_id</th>\n",
       "      <th>category_id</th>\n",
       "      <th>area</th>\n",
       "      <th>bbox</th>\n",
       "      <th>iscrowd</th>\n",
       "      <th>id</th>\n",
       "    </tr>\n",
       "  </thead>\n",
       "  <tbody>\n",
       "    <tr>\n",
       "      <th>0</th>\n",
       "      <td>0</td>\n",
       "      <td>0</td>\n",
       "      <td>257301.6600</td>\n",
       "      <td>[197.6, 193.7, 547.8, 469.7]</td>\n",
       "      <td>0</td>\n",
       "      <td>0</td>\n",
       "    </tr>\n",
       "    <tr>\n",
       "      <th>1</th>\n",
       "      <td>1</td>\n",
       "      <td>3</td>\n",
       "      <td>10402.5600</td>\n",
       "      <td>[0.0, 407.4, 57.6, 180.6]</td>\n",
       "      <td>0</td>\n",
       "      <td>1</td>\n",
       "    </tr>\n",
       "    <tr>\n",
       "      <th>2</th>\n",
       "      <td>1</td>\n",
       "      <td>7</td>\n",
       "      <td>26259.3600</td>\n",
       "      <td>[0.0, 455.6, 144.6, 181.6]</td>\n",
       "      <td>0</td>\n",
       "      <td>2</td>\n",
       "    </tr>\n",
       "    <tr>\n",
       "      <th>3</th>\n",
       "      <td>1</td>\n",
       "      <td>4</td>\n",
       "      <td>69096.1700</td>\n",
       "      <td>[722.3, 313.4, 274.3, 251.9]</td>\n",
       "      <td>0</td>\n",
       "      <td>3</td>\n",
       "    </tr>\n",
       "    <tr>\n",
       "      <th>4</th>\n",
       "      <td>1</td>\n",
       "      <td>5</td>\n",
       "      <td>24164.5800</td>\n",
       "      <td>[353.2, 671.0, 233.7, 103.4]</td>\n",
       "      <td>0</td>\n",
       "      <td>4</td>\n",
       "    </tr>\n",
       "    <tr>\n",
       "      <th>...</th>\n",
       "      <td>...</td>\n",
       "      <td>...</td>\n",
       "      <td>...</td>\n",
       "      <td>...</td>\n",
       "      <td>...</td>\n",
       "      <td>...</td>\n",
       "    </tr>\n",
       "    <tr>\n",
       "      <th>23149</th>\n",
       "      <td>4210</td>\n",
       "      <td>0</td>\n",
       "      <td>10153.2288</td>\n",
       "      <td>[601, 423, 122.98, 82.56]</td>\n",
       "      <td>0</td>\n",
       "      <td>23158</td>\n",
       "    </tr>\n",
       "    <tr>\n",
       "      <th>23150</th>\n",
       "      <td>4210</td>\n",
       "      <td>5</td>\n",
       "      <td>34613.4222</td>\n",
       "      <td>[68, 649, 222.18, 155.79]</td>\n",
       "      <td>0</td>\n",
       "      <td>23159</td>\n",
       "    </tr>\n",
       "    <tr>\n",
       "      <th>23151</th>\n",
       "      <td>4237</td>\n",
       "      <td>0</td>\n",
       "      <td>26646.9630</td>\n",
       "      <td>[260, 209, 374.15, 71.22]</td>\n",
       "      <td>0</td>\n",
       "      <td>23160</td>\n",
       "    </tr>\n",
       "    <tr>\n",
       "      <th>23152</th>\n",
       "      <td>4317</td>\n",
       "      <td>0</td>\n",
       "      <td>11683.6480</td>\n",
       "      <td>[864, 700, 124.4, 93.92]</td>\n",
       "      <td>0</td>\n",
       "      <td>23161</td>\n",
       "    </tr>\n",
       "    <tr>\n",
       "      <th>23153</th>\n",
       "      <td>4568</td>\n",
       "      <td>7</td>\n",
       "      <td>117048.8377</td>\n",
       "      <td>[6, 440, 348.91, 335.47]</td>\n",
       "      <td>0</td>\n",
       "      <td>23162</td>\n",
       "    </tr>\n",
       "  </tbody>\n",
       "</table>\n",
       "<p>23154 rows × 6 columns</p>\n",
       "</div>"
      ],
      "text/plain": [
       "       image_id  category_id         area                          bbox  \\\n",
       "0             0            0  257301.6600  [197.6, 193.7, 547.8, 469.7]   \n",
       "1             1            3   10402.5600     [0.0, 407.4, 57.6, 180.6]   \n",
       "2             1            7   26259.3600    [0.0, 455.6, 144.6, 181.6]   \n",
       "3             1            4   69096.1700  [722.3, 313.4, 274.3, 251.9]   \n",
       "4             1            5   24164.5800  [353.2, 671.0, 233.7, 103.4]   \n",
       "...         ...          ...          ...                           ...   \n",
       "23149      4210            0   10153.2288     [601, 423, 122.98, 82.56]   \n",
       "23150      4210            5   34613.4222     [68, 649, 222.18, 155.79]   \n",
       "23151      4237            0   26646.9630     [260, 209, 374.15, 71.22]   \n",
       "23152      4317            0   11683.6480      [864, 700, 124.4, 93.92]   \n",
       "23153      4568            7  117048.8377      [6, 440, 348.91, 335.47]   \n",
       "\n",
       "       iscrowd     id  \n",
       "0            0      0  \n",
       "1            0      1  \n",
       "2            0      2  \n",
       "3            0      3  \n",
       "4            0      4  \n",
       "...        ...    ...  \n",
       "23149        0  23158  \n",
       "23150        0  23159  \n",
       "23151        0  23160  \n",
       "23152        0  23161  \n",
       "23153        0  23162  \n",
       "\n",
       "[23154 rows x 6 columns]"
      ]
     },
     "execution_count": 4,
     "metadata": {},
     "output_type": "execute_result"
    }
   ],
   "source": [
    "df_annotations = json_normalize(json_data['annotations'])\n",
    "df_annotations"
   ]
  },
  {
   "cell_type": "code",
   "execution_count": 5,
   "id": "245bc336-2c44-4f5a-985a-52eec6cb6d01",
   "metadata": {},
   "outputs": [
    {
     "data": {
      "text/html": [
       "<div>\n",
       "<style scoped>\n",
       "    .dataframe tbody tr th:only-of-type {\n",
       "        vertical-align: middle;\n",
       "    }\n",
       "\n",
       "    .dataframe tbody tr th {\n",
       "        vertical-align: top;\n",
       "    }\n",
       "\n",
       "    .dataframe thead th {\n",
       "        text-align: right;\n",
       "    }\n",
       "</style>\n",
       "<table border=\"1\" class=\"dataframe\">\n",
       "  <thead>\n",
       "    <tr style=\"text-align: right;\">\n",
       "      <th></th>\n",
       "      <th>image_id</th>\n",
       "      <th>category_id</th>\n",
       "      <th>area</th>\n",
       "      <th>bbox</th>\n",
       "      <th>iscrowd</th>\n",
       "      <th>id</th>\n",
       "      <th>width</th>\n",
       "      <th>height</th>\n",
       "      <th>aspect_ratio</th>\n",
       "    </tr>\n",
       "  </thead>\n",
       "  <tbody>\n",
       "    <tr>\n",
       "      <th>0</th>\n",
       "      <td>0</td>\n",
       "      <td>0</td>\n",
       "      <td>257301.6600</td>\n",
       "      <td>[197.6, 193.7, 547.8, 469.7]</td>\n",
       "      <td>0</td>\n",
       "      <td>0</td>\n",
       "      <td>547.80</td>\n",
       "      <td>469.70</td>\n",
       "      <td>1.166276</td>\n",
       "    </tr>\n",
       "    <tr>\n",
       "      <th>1</th>\n",
       "      <td>1</td>\n",
       "      <td>3</td>\n",
       "      <td>10402.5600</td>\n",
       "      <td>[0.0, 407.4, 57.6, 180.6]</td>\n",
       "      <td>0</td>\n",
       "      <td>1</td>\n",
       "      <td>57.60</td>\n",
       "      <td>180.60</td>\n",
       "      <td>0.318937</td>\n",
       "    </tr>\n",
       "    <tr>\n",
       "      <th>2</th>\n",
       "      <td>1</td>\n",
       "      <td>7</td>\n",
       "      <td>26259.3600</td>\n",
       "      <td>[0.0, 455.6, 144.6, 181.6]</td>\n",
       "      <td>0</td>\n",
       "      <td>2</td>\n",
       "      <td>144.60</td>\n",
       "      <td>181.60</td>\n",
       "      <td>0.796256</td>\n",
       "    </tr>\n",
       "    <tr>\n",
       "      <th>3</th>\n",
       "      <td>1</td>\n",
       "      <td>4</td>\n",
       "      <td>69096.1700</td>\n",
       "      <td>[722.3, 313.4, 274.3, 251.9]</td>\n",
       "      <td>0</td>\n",
       "      <td>3</td>\n",
       "      <td>274.30</td>\n",
       "      <td>251.90</td>\n",
       "      <td>1.088924</td>\n",
       "    </tr>\n",
       "    <tr>\n",
       "      <th>4</th>\n",
       "      <td>1</td>\n",
       "      <td>5</td>\n",
       "      <td>24164.5800</td>\n",
       "      <td>[353.2, 671.0, 233.7, 103.4]</td>\n",
       "      <td>0</td>\n",
       "      <td>4</td>\n",
       "      <td>233.70</td>\n",
       "      <td>103.40</td>\n",
       "      <td>2.260155</td>\n",
       "    </tr>\n",
       "    <tr>\n",
       "      <th>...</th>\n",
       "      <td>...</td>\n",
       "      <td>...</td>\n",
       "      <td>...</td>\n",
       "      <td>...</td>\n",
       "      <td>...</td>\n",
       "      <td>...</td>\n",
       "      <td>...</td>\n",
       "      <td>...</td>\n",
       "      <td>...</td>\n",
       "    </tr>\n",
       "    <tr>\n",
       "      <th>23149</th>\n",
       "      <td>4210</td>\n",
       "      <td>0</td>\n",
       "      <td>10153.2288</td>\n",
       "      <td>[601, 423, 122.98, 82.56]</td>\n",
       "      <td>0</td>\n",
       "      <td>23158</td>\n",
       "      <td>122.98</td>\n",
       "      <td>82.56</td>\n",
       "      <td>1.489583</td>\n",
       "    </tr>\n",
       "    <tr>\n",
       "      <th>23150</th>\n",
       "      <td>4210</td>\n",
       "      <td>5</td>\n",
       "      <td>34613.4222</td>\n",
       "      <td>[68, 649, 222.18, 155.79]</td>\n",
       "      <td>0</td>\n",
       "      <td>23159</td>\n",
       "      <td>222.18</td>\n",
       "      <td>155.79</td>\n",
       "      <td>1.426151</td>\n",
       "    </tr>\n",
       "    <tr>\n",
       "      <th>23151</th>\n",
       "      <td>4237</td>\n",
       "      <td>0</td>\n",
       "      <td>26646.9630</td>\n",
       "      <td>[260, 209, 374.15, 71.22]</td>\n",
       "      <td>0</td>\n",
       "      <td>23160</td>\n",
       "      <td>374.15</td>\n",
       "      <td>71.22</td>\n",
       "      <td>5.253440</td>\n",
       "    </tr>\n",
       "    <tr>\n",
       "      <th>23152</th>\n",
       "      <td>4317</td>\n",
       "      <td>0</td>\n",
       "      <td>11683.6480</td>\n",
       "      <td>[864, 700, 124.4, 93.92]</td>\n",
       "      <td>0</td>\n",
       "      <td>23161</td>\n",
       "      <td>124.40</td>\n",
       "      <td>93.92</td>\n",
       "      <td>1.324532</td>\n",
       "    </tr>\n",
       "    <tr>\n",
       "      <th>23153</th>\n",
       "      <td>4568</td>\n",
       "      <td>7</td>\n",
       "      <td>117048.8377</td>\n",
       "      <td>[6, 440, 348.91, 335.47]</td>\n",
       "      <td>0</td>\n",
       "      <td>23162</td>\n",
       "      <td>348.91</td>\n",
       "      <td>335.47</td>\n",
       "      <td>1.040063</td>\n",
       "    </tr>\n",
       "  </tbody>\n",
       "</table>\n",
       "<p>23154 rows × 9 columns</p>\n",
       "</div>"
      ],
      "text/plain": [
       "       image_id  category_id         area                          bbox  \\\n",
       "0             0            0  257301.6600  [197.6, 193.7, 547.8, 469.7]   \n",
       "1             1            3   10402.5600     [0.0, 407.4, 57.6, 180.6]   \n",
       "2             1            7   26259.3600    [0.0, 455.6, 144.6, 181.6]   \n",
       "3             1            4   69096.1700  [722.3, 313.4, 274.3, 251.9]   \n",
       "4             1            5   24164.5800  [353.2, 671.0, 233.7, 103.4]   \n",
       "...         ...          ...          ...                           ...   \n",
       "23149      4210            0   10153.2288     [601, 423, 122.98, 82.56]   \n",
       "23150      4210            5   34613.4222     [68, 649, 222.18, 155.79]   \n",
       "23151      4237            0   26646.9630     [260, 209, 374.15, 71.22]   \n",
       "23152      4317            0   11683.6480      [864, 700, 124.4, 93.92]   \n",
       "23153      4568            7  117048.8377      [6, 440, 348.91, 335.47]   \n",
       "\n",
       "       iscrowd     id   width  height  aspect_ratio  \n",
       "0            0      0  547.80  469.70      1.166276  \n",
       "1            0      1   57.60  180.60      0.318937  \n",
       "2            0      2  144.60  181.60      0.796256  \n",
       "3            0      3  274.30  251.90      1.088924  \n",
       "4            0      4  233.70  103.40      2.260155  \n",
       "...        ...    ...     ...     ...           ...  \n",
       "23149        0  23158  122.98   82.56      1.489583  \n",
       "23150        0  23159  222.18  155.79      1.426151  \n",
       "23151        0  23160  374.15   71.22      5.253440  \n",
       "23152        0  23161  124.40   93.92      1.324532  \n",
       "23153        0  23162  348.91  335.47      1.040063  \n",
       "\n",
       "[23154 rows x 9 columns]"
      ]
     },
     "execution_count": 5,
     "metadata": {},
     "output_type": "execute_result"
    }
   ],
   "source": [
    "wh = np.array([np.array(i[2:]) for i in df_annotations['bbox']])\n",
    "wh = pd.DataFrame(wh)\n",
    "wh.columns = ['width', 'height']\n",
    "df_annotations = pd.concat([df_annotations, wh], axis = 1)\n",
    "\n",
    "aspect_ratio = [df_annotations['width'][i]/df_annotations['height'][i] for i in range(len(df_annotations))]\n",
    "aspect_ratio = pd.DataFrame(aspect_ratio)\n",
    "aspect_ratio.columns = ['aspect_ratio']\n",
    "df_annotations = pd.concat([df_annotations, aspect_ratio], axis = 1)\n",
    "df_annotations"
   ]
  },
  {
   "cell_type": "code",
   "execution_count": 6,
   "id": "c24d8473-df3c-479b-8eb2-cfb14063f699",
   "metadata": {},
   "outputs": [
    {
     "data": {
      "text/plain": [
       "<AxesSubplot:xlabel='width', ylabel='Count'>"
      ]
     },
     "execution_count": 6,
     "metadata": {},
     "output_type": "execute_result"
    },
    {
     "data": {
      "image/png": "[encoded data removed]",
      "text/plain": [
       "<Figure size 864x720 with 1 Axes>"
      ]
     },
     "metadata": {
      "needs_background": "light"
     },
     "output_type": "display_data"
    }
   ],
   "source": [
    "fig, ax = plt.subplots(figsize=(12, 10))\n",
    "\n",
    "sns.histplot(x='width', data=df_annotations)"
   ]
  },
  {
   "cell_type": "code",
   "execution_count": 7,
   "id": "daac60b6-5afc-4a66-8a44-a6e8877692bd",
   "metadata": {},
   "outputs": [
    {
     "data": {
      "text/plain": [
       "<AxesSubplot:xlabel='height', ylabel='Count'>"
      ]
     },
     "execution_count": 7,
     "metadata": {},
     "output_type": "execute_result"
    },
    {
     "data": {
      "image/png": "[encoded data removed]",
      "text/plain": [
       "<Figure size 864x720 with 1 Axes>"
      ]
     },
     "metadata": {
      "needs_background": "light"
     },
     "output_type": "display_data"
    }
   ],
   "source": [
    "fig, ax = plt.subplots(figsize=(12, 10))\n",
    "\n",
    "sns.histplot(x='height', data=df_annotations)"
   ]
  },
  {
   "cell_type": "code",
   "execution_count": 8,
   "id": "c519c123-8bc9-4793-96e2-42519ee81840",
   "metadata": {},
   "outputs": [
    {
     "data": {
      "text/plain": [
       "<AxesSubplot:xlabel='aspect_ratio', ylabel='Count'>"
      ]
     },
     "execution_count": 8,
     "metadata": {},
     "output_type": "execute_result"
    },
    {
     "data": {
      "image/png": "[encoded data removed]",
      "text/plain": [
       "<Figure size 864x720 with 1 Axes>"
      ]
     },
     "metadata": {
      "needs_background": "light"
     },
     "output_type": "display_data"
    }
   ],
   "source": [
    "fig, ax = plt.subplots(figsize=(12, 10))\n",
    "\n",
    "sns.histplot(x='aspect_ratio', data=df_annotations)"
   ]
  },
  {
   "cell_type": "code",
   "execution_count": 9,
   "id": "a8391a62-94ce-403f-84c4-03173416b98a",
   "metadata": {},
   "outputs": [
    {
     "data": {
      "text/plain": [
       "count    23154.000000\n",
       "mean       257.573765\n",
       "std        204.546861\n",
       "min          0.700000\n",
       "25%         99.900000\n",
       "50%        201.100000\n",
       "75%        357.875000\n",
       "max       1023.900000\n",
       "Name: width, dtype: float64"
      ]
     },
     "execution_count": 9,
     "metadata": {},
     "output_type": "execute_result"
    }
   ],
   "source": [
    "width_max_index = df_annotations['width'].argmax()\n",
    "width_max_id = df_annotations[\"image_id\"][width_max_index]\n",
    "width_min_index = df_annotations['width'].argmin()\n",
    "width_min_id = df_annotations[\"image_id\"][width_min_index]\n",
    "df_annotations['width'].describe()"
   ]
  },
  {
   "cell_type": "code",
   "execution_count": 10,
   "id": "034437f1-6923-4464-9405-945c77f25b8a",
   "metadata": {},
   "outputs": [
    {
     "data": {
      "text/plain": [
       "count    23154.000000\n",
       "mean       252.307917\n",
       "std        200.132683\n",
       "min          0.800000\n",
       "25%         93.500000\n",
       "50%        196.100000\n",
       "75%        359.900000\n",
       "max       1023.900000\n",
       "Name: height, dtype: float64"
      ]
     },
     "execution_count": 10,
     "metadata": {},
     "output_type": "execute_result"
    }
   ],
   "source": [
    "height_max_index = df_annotations['height'].argmax()\n",
    "height_max_id = df_annotations[\"image_id\"][height_max_index]\n",
    "height_min_index = df_annotations['height'].argmin()\n",
    "height_min_id = df_annotations[\"image_id\"][height_min_index]\n",
    "df_annotations['height'].describe()"
   ]
  },
  {
   "cell_type": "code",
   "execution_count": 11,
   "id": "2ae194a6-5171-4a52-add3-0e7b531b623a",
   "metadata": {},
   "outputs": [
    {
     "data": {
      "text/plain": [
       "count    23154.000000\n",
       "mean         1.298693\n",
       "std          1.166827\n",
       "min          0.055391\n",
       "25%          0.691242\n",
       "50%          1.047399\n",
       "75%          1.536948\n",
       "max         27.285714\n",
       "Name: aspect_ratio, dtype: float64"
      ]
     },
     "execution_count": 11,
     "metadata": {},
     "output_type": "execute_result"
    }
   ],
   "source": [
    "ar_max_index = df_annotations['aspect_ratio'].argmax()\n",
    "ar_max_id = df_annotations[\"image_id\"][ar_max_index]\n",
    "ar_min_index = df_annotations['aspect_ratio'].argmin()\n",
    "ar_min_id = df_annotations[\"image_id\"][ar_min_index]\n",
    "df_annotations['aspect_ratio'].describe()"
   ]
  },
  {
   "cell_type": "code",
   "execution_count": 13,
   "id": "86218a72-11b7-41ab-92f9-0dd92ab54442",
   "metadata": {},
   "outputs": [
    {
     "data": {
      "text/html": [
       "Finishing last run (ID:3pu906um) before initializing another..."
      ],
      "text/plain": [
       "<IPython.core.display.HTML object>"
      ]
     },
     "metadata": {},
     "output_type": "display_data"
    },
    {
     "name": "stdout",
     "output_type": "stream",
     "text": [
      "\n"
     ]
    },
    {
     "data": {
      "text/html": [
       "Waiting for W&B process to finish... <strong style=\"color:green\">(success).</strong>"
      ],
      "text/plain": [
       "<IPython.core.display.HTML object>"
      ]
     },
     "metadata": {},
     "output_type": "display_data"
    },
    {
     "data": {
      "application/vnd.jupyter.widget-view+json": {
       "model_id": "",
       "version_major": 2,
       "version_minor": 0
      },
      "text/plain": [
       "VBox(children=(Label(value='0.001 MB of 0.001 MB uploaded (0.000 MB deduped)\\r'), FloatProgress(value=1.0, max…"
      ]
     },
     "metadata": {},
     "output_type": "display_data"
    },
    {
     "data": {
      "text/html": [
       "Synced <strong style=\"color:#cdcd00\">peachy-firefly-111</strong>: <a href=\"https://wandb.ai/winner/visualization/runs/3pu906um\" target=\"_blank\">https://wandb.ai/winner/visualization/runs/3pu906um</a><br/>Synced 5 W&B file(s), 0 media file(s), 0 artifact file(s) and 0 other file(s)"
      ],
      "text/plain": [
       "<IPython.core.display.HTML object>"
      ]
     },
     "metadata": {},
     "output_type": "display_data"
    },
    {
     "data": {
      "text/html": [
       "Find logs at: <code>./wandb/run-20220408_020411-3pu906um/logs</code>"
      ],
      "text/plain": [
       "<IPython.core.display.HTML object>"
      ]
     },
     "metadata": {},
     "output_type": "display_data"
    },
    {
     "data": {
      "text/html": [
       "Successfully finished last run (ID:3pu906um). Initializing new run:<br/>"
      ],
      "text/plain": [
       "<IPython.core.display.HTML object>"
      ]
     },
     "metadata": {},
     "output_type": "display_data"
    },
    {
     "data": {
      "text/html": [
       "wandb version 0.12.13 is available!  To upgrade, please run:\n",
       " $ pip install wandb --upgrade"
      ],
      "text/plain": [
       "<IPython.core.display.HTML object>"
      ]
     },
     "metadata": {},
     "output_type": "display_data"
    },
    {
     "data": {
      "text/html": [
       "Tracking run with wandb version 0.12.11"
      ],
      "text/plain": [
       "<IPython.core.display.HTML object>"
      ]
     },
     "metadata": {},
     "output_type": "display_data"
    },
    {
     "data": {
      "text/html": [
       "Run data is saved locally in <code>/opt/ml/detection/baseline/mmdetection/EDA/wandb/run-20220408_020430-gjoego9a</code>"
      ],
      "text/plain": [
       "<IPython.core.display.HTML object>"
      ]
     },
     "metadata": {},
     "output_type": "display_data"
    },
    {
     "data": {
      "text/html": [
       "Syncing run <strong><a href=\"https://wandb.ai/winner/visualization/runs/gjoego9a\" target=\"_blank\">rare-universe-112</a></strong> to <a href=\"https://wandb.ai/winner/visualization\" target=\"_blank\">Weights & Biases</a> (<a href=\"https://wandb.me/run\" target=\"_blank\">docs</a>)<br/>"
      ],
      "text/plain": [
       "<IPython.core.display.HTML object>"
      ]
     },
     "metadata": {},
     "output_type": "display_data"
    },
    {
     "ename": "FileNotFoundError",
     "evalue": "[Errno 2] No such file or directory: '../../dataset/train/0945.jpg'",
     "output_type": "error",
     "traceback": [
      "\u001b[0;31m---------------------------------------------------------------------------\u001b[0m",
      "\u001b[0;31mFileNotFoundError\u001b[0m                         Traceback (most recent call last)",
      "\u001b[0;32m/tmp/ipykernel_7752/3310207089.py\u001b[0m in \u001b[0;36m<module>\u001b[0;34m\u001b[0m\n\u001b[1;32m     44\u001b[0m \u001b[0;34m\u001b[0m\u001b[0m\n\u001b[1;32m     45\u001b[0m     \u001b[0mimg_path\u001b[0m \u001b[0;34m=\u001b[0m \u001b[0mos\u001b[0m\u001b[0;34m.\u001b[0m\u001b[0mpath\u001b[0m\u001b[0;34m.\u001b[0m\u001b[0mjoin\u001b[0m\u001b[0;34m(\u001b[0m\u001b[0mdata_path\u001b[0m\u001b[0;34m,\u001b[0m \u001b[0mimg_name\u001b[0m\u001b[0;34m)\u001b[0m\u001b[0;34m\u001b[0m\u001b[0;34m\u001b[0m\u001b[0m\n\u001b[0;32m---> 46\u001b[0;31m     \u001b[0mimg\u001b[0m \u001b[0;34m=\u001b[0m \u001b[0mwandb\u001b[0m\u001b[0;34m.\u001b[0m\u001b[0mImage\u001b[0m\u001b[0;34m(\u001b[0m\u001b[0mimg_path\u001b[0m\u001b[0;34m,\u001b[0m \u001b[0mboxes\u001b[0m\u001b[0;34m=\u001b[0m\u001b[0mwandb_boxes\u001b[0m\u001b[0;34m)\u001b[0m\u001b[0;34m\u001b[0m\u001b[0;34m\u001b[0m\u001b[0m\n\u001b[0m\u001b[1;32m     47\u001b[0m     \u001b[0mimgs\u001b[0m\u001b[0;34m.\u001b[0m\u001b[0mappend\u001b[0m\u001b[0;34m(\u001b[0m\u001b[0mimg\u001b[0m\u001b[0;34m)\u001b[0m\u001b[0;34m\u001b[0m\u001b[0;34m\u001b[0m\u001b[0m\n\u001b[1;32m     48\u001b[0m \u001b[0;34m\u001b[0m\u001b[0m\n",
      "\u001b[0;32m/opt/conda/envs/detection/lib/python3.7/site-packages/wandb/sdk/data_types.py\u001b[0m in \u001b[0;36m__init__\u001b[0;34m(self, data_or_path, mode, caption, grouping, classes, boxes, masks)\u001b[0m\n\u001b[1;32m   2107\u001b[0m             \u001b[0mself\u001b[0m\u001b[0;34m.\u001b[0m\u001b[0m_initialize_from_wbimage\u001b[0m\u001b[0;34m(\u001b[0m\u001b[0mdata_or_path\u001b[0m\u001b[0;34m)\u001b[0m\u001b[0;34m\u001b[0m\u001b[0;34m\u001b[0m\u001b[0m\n\u001b[1;32m   2108\u001b[0m         \u001b[0;32melif\u001b[0m \u001b[0misinstance\u001b[0m\u001b[0;34m(\u001b[0m\u001b[0mdata_or_path\u001b[0m\u001b[0;34m,\u001b[0m \u001b[0msix\u001b[0m\u001b[0;34m.\u001b[0m\u001b[0mstring_types\u001b[0m\u001b[0;34m)\u001b[0m\u001b[0;34m:\u001b[0m\u001b[0;34m\u001b[0m\u001b[0;34m\u001b[0m\u001b[0m\n\u001b[0;32m-> 2109\u001b[0;31m             \u001b[0mself\u001b[0m\u001b[0;34m.\u001b[0m\u001b[0m_initialize_from_path\u001b[0m\u001b[0;34m(\u001b[0m\u001b[0mdata_or_path\u001b[0m\u001b[0;34m)\u001b[0m\u001b[0;34m\u001b[0m\u001b[0;34m\u001b[0m\u001b[0m\n\u001b[0m\u001b[1;32m   2110\u001b[0m         \u001b[0;32melse\u001b[0m\u001b[0;34m:\u001b[0m\u001b[0;34m\u001b[0m\u001b[0;34m\u001b[0m\u001b[0m\n\u001b[1;32m   2111\u001b[0m             \u001b[0mself\u001b[0m\u001b[0;34m.\u001b[0m\u001b[0m_initialize_from_data\u001b[0m\u001b[0;34m(\u001b[0m\u001b[0mdata_or_path\u001b[0m\u001b[0;34m,\u001b[0m \u001b[0mmode\u001b[0m\u001b[0;34m)\u001b[0m\u001b[0;34m\u001b[0m\u001b[0;34m\u001b[0m\u001b[0m\n",
      "\u001b[0;32m/opt/conda/envs/detection/lib/python3.7/site-packages/wandb/sdk/data_types.py\u001b[0m in \u001b[0;36m_initialize_from_path\u001b[0;34m(self, path)\u001b[0m\n\u001b[1;32m   2201\u001b[0m             \u001b[0mrequired\u001b[0m\u001b[0;34m=\u001b[0m\u001b[0;34m'wandb.Image needs the PIL package. To get it, run \"pip install pillow\".'\u001b[0m\u001b[0;34m,\u001b[0m\u001b[0;34m\u001b[0m\u001b[0;34m\u001b[0m\u001b[0m\n\u001b[1;32m   2202\u001b[0m         )\n\u001b[0;32m-> 2203\u001b[0;31m         \u001b[0mself\u001b[0m\u001b[0;34m.\u001b[0m\u001b[0m_set_file\u001b[0m\u001b[0;34m(\u001b[0m\u001b[0mpath\u001b[0m\u001b[0;34m,\u001b[0m \u001b[0mis_tmp\u001b[0m\u001b[0;34m=\u001b[0m\u001b[0;32mFalse\u001b[0m\u001b[0;34m)\u001b[0m\u001b[0;34m\u001b[0m\u001b[0;34m\u001b[0m\u001b[0m\n\u001b[0m\u001b[1;32m   2204\u001b[0m         \u001b[0mself\u001b[0m\u001b[0;34m.\u001b[0m\u001b[0m_image\u001b[0m \u001b[0;34m=\u001b[0m \u001b[0mpil_image\u001b[0m\u001b[0;34m.\u001b[0m\u001b[0mopen\u001b[0m\u001b[0;34m(\u001b[0m\u001b[0mpath\u001b[0m\u001b[0;34m)\u001b[0m\u001b[0;34m\u001b[0m\u001b[0;34m\u001b[0m\u001b[0m\n\u001b[1;32m   2205\u001b[0m         \u001b[0mself\u001b[0m\u001b[0;34m.\u001b[0m\u001b[0m_image\u001b[0m\u001b[0;34m.\u001b[0m\u001b[0mload\u001b[0m\u001b[0;34m(\u001b[0m\u001b[0;34m)\u001b[0m\u001b[0;34m\u001b[0m\u001b[0;34m\u001b[0m\u001b[0m\n",
      "\u001b[0;32m/opt/conda/envs/detection/lib/python3.7/site-packages/wandb/sdk/data_types.py\u001b[0m in \u001b[0;36m_set_file\u001b[0;34m(self, path, is_tmp, extension)\u001b[0m\n\u001b[1;32m    465\u001b[0m             )\n\u001b[1;32m    466\u001b[0m \u001b[0;34m\u001b[0m\u001b[0m\n\u001b[0;32m--> 467\u001b[0;31m         \u001b[0;32mwith\u001b[0m \u001b[0mopen\u001b[0m\u001b[0;34m(\u001b[0m\u001b[0mself\u001b[0m\u001b[0;34m.\u001b[0m\u001b[0m_path\u001b[0m\u001b[0;34m,\u001b[0m \u001b[0;34m\"rb\"\u001b[0m\u001b[0;34m)\u001b[0m \u001b[0;32mas\u001b[0m \u001b[0mf\u001b[0m\u001b[0;34m:\u001b[0m\u001b[0;34m\u001b[0m\u001b[0;34m\u001b[0m\u001b[0m\n\u001b[0m\u001b[1;32m    468\u001b[0m             \u001b[0mself\u001b[0m\u001b[0;34m.\u001b[0m\u001b[0m_sha256\u001b[0m \u001b[0;34m=\u001b[0m \u001b[0mhashlib\u001b[0m\u001b[0;34m.\u001b[0m\u001b[0msha256\u001b[0m\u001b[0;34m(\u001b[0m\u001b[0mf\u001b[0m\u001b[0;34m.\u001b[0m\u001b[0mread\u001b[0m\u001b[0;34m(\u001b[0m\u001b[0;34m)\u001b[0m\u001b[0;34m)\u001b[0m\u001b[0;34m.\u001b[0m\u001b[0mhexdigest\u001b[0m\u001b[0;34m(\u001b[0m\u001b[0;34m)\u001b[0m\u001b[0;34m\u001b[0m\u001b[0;34m\u001b[0m\u001b[0m\n\u001b[1;32m    469\u001b[0m         \u001b[0mself\u001b[0m\u001b[0;34m.\u001b[0m\u001b[0m_size\u001b[0m \u001b[0;34m=\u001b[0m \u001b[0mos\u001b[0m\u001b[0;34m.\u001b[0m\u001b[0mpath\u001b[0m\u001b[0;34m.\u001b[0m\u001b[0mgetsize\u001b[0m\u001b[0;34m(\u001b[0m\u001b[0mself\u001b[0m\u001b[0;34m.\u001b[0m\u001b[0m_path\u001b[0m\u001b[0;34m)\u001b[0m\u001b[0;34m\u001b[0m\u001b[0;34m\u001b[0m\u001b[0m\n",
      "\u001b[0;31mFileNotFoundError\u001b[0m: [Errno 2] No such file or directory: '../../dataset/train/0945.jpg'"
     ]
    }
   ],
   "source": [
    "import wandb\n",
    "import random\n",
    "import os\n",
    "\n",
    "wandb.init(project=\"visualization\", entity=\"winner\")\n",
    "wandb.run.name = 'outlier'\n",
    "\n",
    "labels_file =  \"../../../dataset/train.json\"\n",
    "with open(labels_file) as f:\n",
    "    labels = json.load(f)\n",
    "\n",
    "categories = {c[\"id\"]:c[\"name\"] for c in labels[\"categories\"]}\n",
    "# Get 10 images to load\n",
    "img_metadata = [\n",
    "    (labels[\"images\"][i][\"id\"], labels[\"images\"][i][\"file_name\"]) \n",
    "    for i in [width_max_id, width_min_id, height_max_id, \n",
    "              height_min_id, ar_max_id, ar_min_id]\n",
    "]\n",
    "\n",
    "data_path = \"../../../dataset/\"\n",
    "imgs = []\n",
    "for img_id, img_name in img_metadata:\n",
    "    wandb_boxes = {\"predictions\": \n",
    "        {\n",
    "            \"box_data\":[], \n",
    "            \"class_labels\": categories\n",
    "        }\n",
    "    }\n",
    "    annots = [\n",
    "        a for a in labels[\"annotations\"] if a[\"image_id\"]==img_id\n",
    "    ]\n",
    "    for annot in annots:\n",
    "        tlx, tly, w, h = annot['bbox']\n",
    "        cat = annot['category_id']\n",
    "        curr_box = {}\n",
    "        curr_box[\"position\"] = {\n",
    "            \"minX\": tlx, \"maxX\": tlx+w, \n",
    "            \"minY\": tly, \"maxY\": tly+h}\n",
    "        curr_box[\"class_id\"] = cat\n",
    "        curr_box[\"box_caption\"] = categories[cat]\n",
    "        curr_box[\"domain\"] = \"pixel\"\n",
    "        curr_box[\"scores\"] = { \"score\" : random.random() }\n",
    "        wandb_boxes[\"predictions\"][\"box_data\"].append(curr_box)\n",
    "\n",
    "    img_path = os.path.join(data_path, img_name)\n",
    "    img = wandb.Image(img_path, boxes=wandb_boxes)\n",
    "    imgs.append(img)\n",
    "\n",
    "wandb.log({\"Example\": imgs})\n",
    "# Log onto the Weights & Biases website to view your images"
   ]
  },
  {
   "cell_type": "code",
   "execution_count": null,
   "id": "e92fd013-12aa-4bdd-9dc8-7fbd9b55cfe6",
   "metadata": {},
   "outputs": [],
   "source": []
  }
 ],
 "metadata": {
  "kernelspec": {
   "display_name": "Python 3 (ipykernel)",
   "language": "python",
   "name": "python3"
  },
  "language_info": {
   "codemirror_mode": {
    "name": "ipython",
    "version": 3
   },
   "file_extension": ".py",
   "mimetype": "text/x-python",
   "name": "python",
   "nbconvert_exporter": "python",
   "pygments_lexer": "ipython3",
   "version": "3.7.11"
  }
 },
 "nbformat": 4,
 "nbformat_minor": 5
}
