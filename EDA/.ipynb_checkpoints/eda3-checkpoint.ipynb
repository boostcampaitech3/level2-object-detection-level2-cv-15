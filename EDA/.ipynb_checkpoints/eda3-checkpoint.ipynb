{
 "cells": [
  {
   "cell_type": "code",
   "execution_count": 10,
   "id": "1f904744-f3ef-443f-9751-66cceb3f4522",
   "metadata": {},
   "outputs": [],
   "source": [
    "import pandas as pd\n",
    "import numpy as np\n",
    "import json\n",
    "from pandas import json_normalize\n",
    "import matplotlib.pyplot as plt\n",
    "import seaborn as sns\n",
    "from PIL import Image\n",
    "import matplotlib.pyplot as plt\n",
    "import matplotlib.image as mpimg\n",
    "import matplotlib.patches as patches"
   ]
  },
  {
   "cell_type": "code",
   "execution_count": 11,
   "id": "007c30a9-7e9a-445e-b903-c565f229e8bb",
   "metadata": {},
   "outputs": [
    {
     "name": "stdout",
     "output_type": "stream",
     "text": [
      "/opt/ml/detection/dataset2\n"
     ]
    }
   ],
   "source": [
    "!pwd"
   ]
  },
  {
   "cell_type": "code",
   "execution_count": 12,
   "id": "74b97088-4b64-4915-b2cc-2b6c97381f1f",
   "metadata": {},
   "outputs": [],
   "source": [
    "json_file_path = './cv2_train_2.json'"
   ]
  },
  {
   "cell_type": "code",
   "execution_count": 13,
   "id": "ce372aef-5423-43f2-b56f-e66c63d55a73",
   "metadata": {},
   "outputs": [],
   "source": [
    "with open(json_file_path, 'r') as f:\n",
    "    train_json = json.loads(f.read())\n",
    "    images = train_json['images']\n",
    "    categories = train_json['categories']\n",
    "    annotations = train_json['annotations']\n",
    "annotations_df = pd.DataFrame.from_dict(annotations)"
   ]
  },
  {
   "cell_type": "code",
   "execution_count": 14,
   "id": "94e5fb17-6470-4c1f-bbfb-fe3a2ef241c7",
   "metadata": {},
   "outputs": [
    {
     "data": {
      "text/html": [
       "<div>\n",
       "<style scoped>\n",
       "    .dataframe tbody tr th:only-of-type {\n",
       "        vertical-align: middle;\n",
       "    }\n",
       "\n",
       "    .dataframe tbody tr th {\n",
       "        vertical-align: top;\n",
       "    }\n",
       "\n",
       "    .dataframe thead th {\n",
       "        text-align: right;\n",
       "    }\n",
       "</style>\n",
       "<table border=\"1\" class=\"dataframe\">\n",
       "  <thead>\n",
       "    <tr style=\"text-align: right;\">\n",
       "      <th></th>\n",
       "      <th>image_id</th>\n",
       "      <th>category_id</th>\n",
       "      <th>area</th>\n",
       "      <th>bbox</th>\n",
       "      <th>iscrowd</th>\n",
       "      <th>id</th>\n",
       "    </tr>\n",
       "  </thead>\n",
       "  <tbody>\n",
       "    <tr>\n",
       "      <th>0</th>\n",
       "      <td>2</td>\n",
       "      <td>3</td>\n",
       "      <td>324010.8000</td>\n",
       "      <td>[267.9, 165.2, 631.6, 513.0]</td>\n",
       "      <td>0</td>\n",
       "      <td>9</td>\n",
       "    </tr>\n",
       "    <tr>\n",
       "      <th>1</th>\n",
       "      <td>3</td>\n",
       "      <td>2</td>\n",
       "      <td>59550.9400</td>\n",
       "      <td>[462.2, 369.4, 233.9, 254.6]</td>\n",
       "      <td>0</td>\n",
       "      <td>10</td>\n",
       "    </tr>\n",
       "    <tr>\n",
       "      <th>2</th>\n",
       "      <td>3</td>\n",
       "      <td>6</td>\n",
       "      <td>80710.5600</td>\n",
       "      <td>[773.3, 3.0, 188.4, 428.4]</td>\n",
       "      <td>0</td>\n",
       "      <td>11</td>\n",
       "    </tr>\n",
       "    <tr>\n",
       "      <th>3</th>\n",
       "      <td>4</td>\n",
       "      <td>1</td>\n",
       "      <td>14768.8800</td>\n",
       "      <td>[567.5, 462.2, 165.2, 89.4]</td>\n",
       "      <td>0</td>\n",
       "      <td>12</td>\n",
       "    </tr>\n",
       "    <tr>\n",
       "      <th>4</th>\n",
       "      <td>4</td>\n",
       "      <td>1</td>\n",
       "      <td>32987.7800</td>\n",
       "      <td>[859.4, 411.7, 164.2, 200.9]</td>\n",
       "      <td>0</td>\n",
       "      <td>13</td>\n",
       "    </tr>\n",
       "    <tr>\n",
       "      <th>...</th>\n",
       "      <td>...</td>\n",
       "      <td>...</td>\n",
       "      <td>...</td>\n",
       "      <td>...</td>\n",
       "      <td>...</td>\n",
       "      <td>...</td>\n",
       "    </tr>\n",
       "    <tr>\n",
       "      <th>18538</th>\n",
       "      <td>4210</td>\n",
       "      <td>0</td>\n",
       "      <td>10153.2288</td>\n",
       "      <td>[601, 423, 122.98, 82.56]</td>\n",
       "      <td>0</td>\n",
       "      <td>23158</td>\n",
       "    </tr>\n",
       "    <tr>\n",
       "      <th>18539</th>\n",
       "      <td>4210</td>\n",
       "      <td>5</td>\n",
       "      <td>34613.4222</td>\n",
       "      <td>[68, 649, 222.18, 155.79]</td>\n",
       "      <td>0</td>\n",
       "      <td>23159</td>\n",
       "    </tr>\n",
       "    <tr>\n",
       "      <th>18540</th>\n",
       "      <td>4237</td>\n",
       "      <td>0</td>\n",
       "      <td>26646.9630</td>\n",
       "      <td>[260, 209, 374.15, 71.22]</td>\n",
       "      <td>0</td>\n",
       "      <td>23160</td>\n",
       "    </tr>\n",
       "    <tr>\n",
       "      <th>18541</th>\n",
       "      <td>4317</td>\n",
       "      <td>0</td>\n",
       "      <td>11683.6480</td>\n",
       "      <td>[864, 700, 124.4, 93.92]</td>\n",
       "      <td>0</td>\n",
       "      <td>23161</td>\n",
       "    </tr>\n",
       "    <tr>\n",
       "      <th>18542</th>\n",
       "      <td>4568</td>\n",
       "      <td>7</td>\n",
       "      <td>117048.8377</td>\n",
       "      <td>[6, 440, 348.91, 335.47]</td>\n",
       "      <td>0</td>\n",
       "      <td>23162</td>\n",
       "    </tr>\n",
       "  </tbody>\n",
       "</table>\n",
       "<p>18543 rows × 6 columns</p>\n",
       "</div>"
      ],
      "text/plain": [
       "       image_id  category_id         area                          bbox  \\\n",
       "0             2            3  324010.8000  [267.9, 165.2, 631.6, 513.0]   \n",
       "1             3            2   59550.9400  [462.2, 369.4, 233.9, 254.6]   \n",
       "2             3            6   80710.5600    [773.3, 3.0, 188.4, 428.4]   \n",
       "3             4            1   14768.8800   [567.5, 462.2, 165.2, 89.4]   \n",
       "4             4            1   32987.7800  [859.4, 411.7, 164.2, 200.9]   \n",
       "...         ...          ...          ...                           ...   \n",
       "18538      4210            0   10153.2288     [601, 423, 122.98, 82.56]   \n",
       "18539      4210            5   34613.4222     [68, 649, 222.18, 155.79]   \n",
       "18540      4237            0   26646.9630     [260, 209, 374.15, 71.22]   \n",
       "18541      4317            0   11683.6480      [864, 700, 124.4, 93.92]   \n",
       "18542      4568            7  117048.8377      [6, 440, 348.91, 335.47]   \n",
       "\n",
       "       iscrowd     id  \n",
       "0            0      9  \n",
       "1            0     10  \n",
       "2            0     11  \n",
       "3            0     12  \n",
       "4            0     13  \n",
       "...        ...    ...  \n",
       "18538        0  23158  \n",
       "18539        0  23159  \n",
       "18540        0  23160  \n",
       "18541        0  23161  \n",
       "18542        0  23162  \n",
       "\n",
       "[18543 rows x 6 columns]"
      ]
     },
     "execution_count": 14,
     "metadata": {},
     "output_type": "execute_result"
    }
   ],
   "source": [
    "annotations_df"
   ]
  },
  {
   "cell_type": "code",
   "execution_count": 15,
   "id": "02dec6ba-ecc7-41bc-bf19-8135320d68ac",
   "metadata": {},
   "outputs": [
    {
     "name": "stdout",
     "output_type": "stream",
     "text": [
      "2\n",
      "3\n"
     ]
    }
   ],
   "source": [
    "img_class = [[0] * 10 for _ in range(max(list(annotations_df['image_id']))+1)]\n",
    "print(annotations[0]['image_id'])\n",
    "print(annotations[0]['category_id'])\n",
    "for i, annot in enumerate(annotations):\n",
    "    img_class[annot['image_id']][annot['category_id']] += 1"
   ]
  },
  {
   "cell_type": "code",
   "execution_count": 16,
   "id": "1c0582f7-caea-4fca-a3da-197b0fa629ef",
   "metadata": {},
   "outputs": [
    {
     "data": {
      "text/plain": [
       "[[0, 0, 0, 0, 0, 0, 0, 0, 0, 0],\n",
       " [0, 0, 0, 0, 0, 0, 0, 0, 0, 0],\n",
       " [0, 0, 0, 1, 0, 0, 0, 0, 0, 0],\n",
       " [0, 0, 1, 0, 0, 0, 1, 0, 0, 0],\n",
       " [1, 5, 0, 0, 0, 0, 0, 0, 0, 0]]"
      ]
     },
     "execution_count": 16,
     "metadata": {},
     "output_type": "execute_result"
    }
   ],
   "source": [
    "img_class[:5]"
   ]
  },
  {
   "cell_type": "code",
   "execution_count": 17,
   "id": "286fd474-c768-4ae3-b14a-a4a551e964ae",
   "metadata": {},
   "outputs": [
    {
     "name": "stdout",
     "output_type": "stream",
     "text": [
      "688\n"
     ]
    }
   ],
   "source": [
    "train_index = []\n",
    "for i, classes in enumerate(img_class):\n",
    "    if classes[0] and classes[1]:\n",
    "        train_index.append(i)\n",
    "print(len(train_index))"
   ]
  },
  {
   "cell_type": "code",
   "execution_count": 20,
   "id": "08cb69b3-f052-4316-a77c-15d293c15950",
   "metadata": {
    "tags": []
   },
   "outputs": [],
   "source": [
    "import os\n",
    "\n",
    "with open('./train.json', 'r') as f:\n",
    "    train_json_origin = json.loads(f.read())\n",
    "    images_origin = train_json_origin['images']\n",
    "    categories_origin = train_json_origin['categories']\n",
    "    annotations_origin = train_json_origin['annotations']\n",
    "annotations_origin_df = pd.DataFrame.from_dict(annotations_origin)\n",
    "train_dict = dict()\n",
    "for j in ['info', 'licenses', 'categories']:\n",
    "    train_dict[j] = train_json_origin[j]\n",
    "train_dict['images'] = np.array(images_origin)[train_index].tolist()\n",
    "train_dict['annotations'] = annotations_origin_df[annotations_origin_df['image_id'].isin(train_index)].to_dict('records')\n",
    "\n",
    "train_dir = os.path.join('./', f'cv2_train_{2}_oversample.json')\n",
    "\n",
    "with open(train_dir, 'w') as train_file:\n",
    "    json.dump(train_dict, train_file)"
   ]
  },
  {
   "cell_type": "code",
   "execution_count": null,
   "id": "4758ea1c-867c-42a7-a5e3-ece773af9b31",
   "metadata": {},
   "outputs": [],
   "source": [
    "import os\n",
    "data_path = './'\n",
    "annotations_train = os.path.join(data_path, f'cv2_train_{1}.json')\n",
    "with open(annotations_train, 'r') as f:\n",
    "    train_json = json.loads(f.read())\n",
    "    train_images = train_json['images']\n",
    "train_index = []\n",
    "for img in train_images:\n",
    "    train_index.append(img['id'])\n",
    "print(train_index)"
   ]
  },
  {
   "cell_type": "code",
   "execution_count": null,
   "id": "d0de1dd8-28cd-4acc-b76a-9b4dcb889e07",
   "metadata": {},
   "outputs": [],
   "source": []
  },
  {
   "cell_type": "code",
   "execution_count": null,
   "id": "8a7848c7-2ee7-4f55-ac80-503f8367c1b8",
   "metadata": {},
   "outputs": [],
   "source": []
  }
 ],
 "metadata": {
  "kernelspec": {
   "display_name": "detection",
   "language": "python",
   "name": "detection"
  },
  "language_info": {
   "codemirror_mode": {
    "name": "ipython",
    "version": 3
   },
   "file_extension": ".py",
   "mimetype": "text/x-python",
   "name": "python",
   "nbconvert_exporter": "python",
   "pygments_lexer": "ipython3",
   "version": "3.7.11"
  }
 },
 "nbformat": 4,
 "nbformat_minor": 5
}
